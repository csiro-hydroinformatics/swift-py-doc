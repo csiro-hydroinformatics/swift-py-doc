{
 "cells": [
  {
   "cell_type": "markdown",
   "id": "0",
   "metadata": {},
   "source": [
    "# Sample code for log-likelihood calibration\n"
   ]
  },
  {
   "cell_type": "markdown",
   "id": "1",
   "metadata": {
    "lines_to_next_cell": 0
   },
   "source": [
    "## About this document\n"
   ]
  },
  {
   "cell_type": "code",
   "execution_count": null,
   "id": "2",
   "metadata": {
    "tags": []
   },
   "outputs": [],
   "source": [
    "from swift2.doc_helper import pkg_versions_info\n",
    "\n",
    "print(pkg_versions_info(\"This document was generated from a jupyter notebook\"))"
   ]
  },
  {
   "cell_type": "markdown",
   "id": "3",
   "metadata": {},
   "source": [
    "## Setting up a calibration on daily data\n",
    "\n",
    "We will use some sample data from (MMH) included in the package"
   ]
  },
  {
   "cell_type": "code",
   "execution_count": null,
   "id": "4",
   "metadata": {},
   "outputs": [],
   "source": [
    "import numpy as np\n",
    "import pandas as pd\n",
    "import xarray as xr"
   ]
  },
  {
   "cell_type": "code",
   "execution_count": null,
   "id": "5",
   "metadata": {},
   "outputs": [],
   "source": [
    "from cinterop.timeseries import as_timestamp\n",
    "from swift2.doc_helper import get_free_params, sample_series, set_loglik_param_keys\n",
    "from swift2.parameteriser import (\n",
    "    concatenate_parameterisers,\n",
    "    create_parameter_sampler,\n",
    "    create_parameteriser,\n",
    "    create_sce_termination_wila,\n",
    "    extract_optimisation_log,\n",
    "    get_default_sce_parameters,\n",
    "    parameteriser_as_dataframe,\n",
    "    sort_by_score,\n",
    ")\n",
    "from swift2.simulation import create_subarea\n",
    "from swift2.utils import c, mk_full_data_id, paste0\n",
    "from swift2.vis import OptimisationPlots\n",
    "\n",
    "s = as_timestamp('1990-01-01')\n",
    "e = as_timestamp('2005-12-31')\n",
    "\n",
    "rain = sample_series('MMH', 'rain')[slice(s, e)]\n",
    "evap = sample_series('MMH', 'evap')[slice(s, e)]\n",
    "flow = sample_series('MMH', 'flow')[slice(s, e)]"
   ]
  },
  {
   "cell_type": "code",
   "execution_count": null,
   "id": "6",
   "metadata": {},
   "outputs": [],
   "source": [
    "rain.describe()"
   ]
  },
  {
   "cell_type": "code",
   "execution_count": null,
   "id": "7",
   "metadata": {},
   "outputs": [],
   "source": [
    "flow.describe()"
   ]
  },
  {
   "cell_type": "markdown",
   "id": "8",
   "metadata": {},
   "source": [
    "We need to adjust the observed flow, as the SWIFTv1 legacy missing value code is `-99`. "
   ]
  },
  {
   "cell_type": "code",
   "execution_count": null,
   "id": "9",
   "metadata": {},
   "outputs": [],
   "source": [
    "flow[flow < 0] = np.nan"
   ]
  },
  {
   "cell_type": "code",
   "execution_count": null,
   "id": "10",
   "metadata": {},
   "outputs": [],
   "source": [
    "flow"
   ]
  },
  {
   "cell_type": "markdown",
   "id": "11",
   "metadata": {},
   "source": [
    "## Catchment setup\n",
    "\n",
    "Let's create a single catchment setup, using daily data. We need to specify the simulation time step to be consistent with the daily input data."
   ]
  },
  {
   "cell_type": "code",
   "execution_count": null,
   "id": "12",
   "metadata": {},
   "outputs": [],
   "source": [
    "ms = create_subarea('GR4J', 1.0)\n",
    "from cinterop.timeseries import xr_ts_end, xr_ts_start\n",
    "\n",
    "s = xr_ts_start(rain)\n",
    "e = xr_ts_end(rain)\n",
    "ms.set_simulation_span(s, e)\n",
    "ms.set_simulation_time_step('daily')"
   ]
  },
  {
   "cell_type": "markdown",
   "id": "13",
   "metadata": {},
   "source": [
    "Assign input time series"
   ]
  },
  {
   "cell_type": "code",
   "execution_count": null,
   "id": "14",
   "metadata": {},
   "outputs": [],
   "source": [
    "sa_name = ms.get_subarea_names()[0]\n",
    "ms.play_subarea_input(rain, sa_name, \"P\")\n",
    "ms.play_subarea_input(evap, sa_name, \"E\")"
   ]
  },
  {
   "cell_type": "markdown",
   "id": "15",
   "metadata": {},
   "source": [
    "Model variables identifiers are hierarchical, with separators '.' and '|' supported. The \"dot\" notation should now be preferred, as some R functions producing data frames may change the variable names and replace some characters with '.'."
   ]
  },
  {
   "cell_type": "code",
   "execution_count": null,
   "id": "16",
   "metadata": {},
   "outputs": [],
   "source": [
    "sa_id = paste0(\"subarea.\", sa_name)\n",
    "root_id = paste0(sa_id, \".\")\n",
    "print(ms.get_variable_ids(sa_id))"
   ]
  },
  {
   "cell_type": "code",
   "execution_count": null,
   "id": "17",
   "metadata": {},
   "outputs": [],
   "source": [
    "gr4_state_names = paste0(root_id, c('runoff', 'S', 'R', 'Perc'))\n",
    "for name in gr4_state_names: \n",
    "    ms.record_state(name)"
   ]
  },
  {
   "cell_type": "markdown",
   "id": "18",
   "metadata": {},
   "source": [
    "Let's check that one simulation runs fine, before we build a calibration definition."
   ]
  },
  {
   "cell_type": "code",
   "execution_count": null,
   "id": "19",
   "metadata": {},
   "outputs": [],
   "source": [
    "ms.exec_simulation()\n",
    "sState = ms.get_recorded(gr4_state_names[2])"
   ]
  },
  {
   "cell_type": "code",
   "execution_count": null,
   "id": "20",
   "metadata": {},
   "outputs": [],
   "source": [
    "sState.plot(figsize=(10,4))"
   ]
  },
  {
   "cell_type": "markdown",
   "id": "21",
   "metadata": {},
   "source": [
    "Let's build the objective calculator that will guide the calibration process:"
   ]
  },
  {
   "cell_type": "code",
   "execution_count": null,
   "id": "22",
   "metadata": {},
   "outputs": [],
   "source": [
    "w = pd.Timestamp(\"1992-01-01\")"
   ]
  },
  {
   "cell_type": "code",
   "execution_count": null,
   "id": "23",
   "metadata": {},
   "outputs": [],
   "source": [
    "runoff_depth_varname = 'subarea.Subarea.runoff'\n",
    "mod_runoff = ms.get_recorded(runoff_depth_varname)\n",
    "# zoo::index(flow) = zoo::index(mod_runoff)\n",
    "objective = ms.create_objective(runoff_depth_varname, flow, 'log-likelihood', w, e)"
   ]
  },
  {
   "cell_type": "code",
   "execution_count": null,
   "id": "24",
   "metadata": {},
   "outputs": [],
   "source": [
    "mod_runoff.plot()"
   ]
  },
  {
   "cell_type": "markdown",
   "id": "25",
   "metadata": {},
   "source": [
    "## Parameterisation\n",
    "\n",
    "Define the feasible parameter space, using a generic parameter set for the model parameters. This is 'wrapped' by a log-likelihood parameter set with the extra parameters used in the log likelihood calculation, but which exposes all the parameters as 8 independent degrees of freedom to the optimiser."
   ]
  },
  {
   "cell_type": "code",
   "execution_count": null,
   "id": "26",
   "metadata": {},
   "outputs": [],
   "source": [
    "pspec_gr4j = get_free_params('GR4J')\n",
    "pspec_gr4j.Value = c(542.1981111, -0.4127542, 7.7403390, 1.2388548)\n",
    "pspec_gr4j.Min = c(1,-30, 1,1)\n",
    "pspec_gr4j.Max = c(3000, 30, 1000, 240)\n",
    "pspec_gr4j.Name = paste0(root_id, pspec_gr4j.Name)\n",
    "\n",
    "\n",
    "maxobs = np.max(flow)\n",
    "p = create_parameteriser(type='Generic', specs=pspec_gr4j)\n",
    "set_loglik_param_keys(a='a', b='b', m='m', s='s', ct=\"ct\", censopt='censopt')\n",
    "censor_threshold = maxobs / 100 # TBC\n",
    "censopt = 0.0\n",
    "\n",
    "loglik = create_parameteriser(type='no apply')\n",
    "loglik.add_to_hypercube( \n",
    "          pd.DataFrame({ \n",
    "          \"Name\": c('b','m','s','a','maxobs','ct', 'censopt'),\n",
    "          \"Min\": c(-30, 0, -10,    -20, maxobs, censor_threshold, censopt),\n",
    "          \"Max\":  c(5,   0, 10, 0, maxobs, censor_threshold, censopt),\n",
    "          \"Value\": c(-7,  0, 0,  -10, maxobs, censor_threshold, censopt),\n",
    "          }\n",
    "          ) )\n",
    "p = concatenate_parameterisers(p, loglik)\n",
    "p.as_dataframe()"
   ]
  },
  {
   "cell_type": "markdown",
   "id": "27",
   "metadata": {},
   "source": [
    "Check that the objective calculator works, at least with the default values in the feasible parameter space:"
   ]
  },
  {
   "cell_type": "code",
   "execution_count": null,
   "id": "28",
   "metadata": {},
   "outputs": [],
   "source": [
    "score = objective.get_score(p)\n",
    "print(score)"
   ]
  },
  {
   "cell_type": "code",
   "execution_count": null,
   "id": "29",
   "metadata": {},
   "outputs": [],
   "source": [
    "mod_runoff = ms.get_recorded(runoff_depth_varname)"
   ]
  },
  {
   "cell_type": "code",
   "execution_count": null,
   "id": "30",
   "metadata": {},
   "outputs": [],
   "source": [
    "from swift2.vis import plot_two_series"
   ]
  },
  {
   "cell_type": "code",
   "execution_count": null,
   "id": "31",
   "metadata": {},
   "outputs": [],
   "source": [
    "plot_two_series(flow, mod_runoff, ylab=\"obs/mod runoff\", start_time = \"2000-01-01\", end_time = \"2002-12-31\", names=['observed','modelled'])"
   ]
  },
  {
   "cell_type": "markdown",
   "id": "32",
   "metadata": {},
   "source": [
    "## Calibration\n",
    "\n",
    "Build the optimiser definition, instrument with a logger."
   ]
  },
  {
   "cell_type": "code",
   "execution_count": null,
   "id": "33",
   "metadata": {},
   "outputs": [],
   "source": [
    "# term = getMaxRuntimeTermination(max_hours = 0.3/60)  # ~20 second appears enough with SWIFT binaries in Release mode\n",
    "# term = getMarginalTermination(tolerance = 1e-06, cutoff_no_improvement = 10, max_hours = 0.3/60) \n",
    "term = create_sce_termination_wila('relative standard deviation', c('0.005',str(1/60)))\n",
    "\n",
    "sce_params = get_default_sce_parameters()\n",
    "urs = create_parameter_sampler(0, p, 'urs')\n",
    "optimiser = objective.create_sce_optim_swift(term, sce_params, urs)\n",
    "calib_logger = optimiser.set_calibration_logger('')"
   ]
  },
  {
   "cell_type": "code",
   "execution_count": null,
   "id": "34",
   "metadata": {},
   "outputs": [],
   "source": [
    "%%time \n",
    "calib_results = optimiser.execute_optimisation()"
   ]
  },
  {
   "cell_type": "code",
   "execution_count": null,
   "id": "35",
   "metadata": {
    "lines_to_next_cell": 2
   },
   "outputs": [],
   "source": [
    "opt_log = extract_optimisation_log(optimiser, fitness_name = 'Log-likelihood')\n",
    "geom_ops = opt_log.subset_by_message(pattern= 'Initial.*|Reflec.*|Contrac.*|Add.*') "
   ]
  },
  {
   "cell_type": "code",
   "execution_count": null,
   "id": "36",
   "metadata": {},
   "outputs": [],
   "source": [
    "import matplotlib.pyplot as plt"
   ]
  },
  {
   "cell_type": "code",
   "execution_count": null,
   "id": "37",
   "metadata": {},
   "outputs": [],
   "source": [
    "ll_max = max(geom_ops._data['Log-likelihood'].values)\n",
    "ll_min = np.median(geom_ops._data['Log-likelihood'].values)"
   ]
  },
  {
   "cell_type": "markdown",
   "id": "38",
   "metadata": {},
   "source": [
    "## Parameter plots"
   ]
  },
  {
   "cell_type": "code",
   "execution_count": null,
   "id": "39",
   "metadata": {},
   "outputs": [],
   "source": [
    "p_var_ids = p.as_dataframe().Name.values\n",
    "v = OptimisationPlots(geom_ops)\n",
    "for pVar in p_var_ids:\n",
    "    g = v.parameter_evolution(pVar, obj_lims=[ll_min, ll_max])\n",
    "    plt.gcf().set_size_inches(10,8)"
   ]
  },
  {
   "cell_type": "markdown",
   "id": "40",
   "metadata": {},
   "source": [
    "Finally, get a visual of the runoff time series with the best known parameter set (the penultimate entry in the data frame with the log of the calibration process)."
   ]
  },
  {
   "cell_type": "code",
   "execution_count": null,
   "id": "41",
   "metadata": {
    "lines_to_next_cell": 0
   },
   "outputs": [],
   "source": [
    "sortedResults = sort_by_score(calib_results, 'Log-likelihood')\n",
    "sortedResults.as_dataframe().head().T"
   ]
  },
  {
   "cell_type": "code",
   "execution_count": null,
   "id": "42",
   "metadata": {
    "lines_to_next_cell": 0
   },
   "outputs": [],
   "source": [
    "best_pset = calib_results.get_best_score('Log-likelihood').parameteriser\n",
    "best_pset.apply_sys_config(ms)\n",
    "ms.exec_simulation()\n",
    "mod_runoff = ms.get_recorded(runoff_depth_varname)\n",
    "# joki::plot_two_series(flow, mod_runoff, ylab=\"obs/mod runoff\", startTime = start(flow), endTime = end(flow))"
   ]
  },
  {
   "cell_type": "code",
   "execution_count": null,
   "id": "43",
   "metadata": {},
   "outputs": [],
   "source": [
    "mod_runoff"
   ]
  },
  {
   "cell_type": "code",
   "execution_count": null,
   "id": "44",
   "metadata": {},
   "outputs": [],
   "source": [
    "mod_runoff.squeeze(drop=True).sel(time=slice(e - pd.offsets.DateOffset(years=1), e)).plot(figsize=(16,9))"
   ]
  },
  {
   "cell_type": "code",
   "execution_count": null,
   "id": "45",
   "metadata": {},
   "outputs": [],
   "source": [
    "plot_two_series(flow, mod_runoff, ylab=\"obs/mod runoff\", start_time = \"2000-01-01\", end_time = \"2002-12-31\", names=['observed','modelled'])"
   ]
  },
  {
   "cell_type": "markdown",
   "id": "46",
   "metadata": {},
   "source": [
    "\n",
    "\n"
   ]
  }
 ],
 "metadata": {
  "jupytext": {
   "cell_metadata_filter": "tags,name,-all",
   "formats": "ipynb,py:percent",
   "main_language": "R"
  },
  "kernelspec": {
   "display_name": "hydrofc",
   "language": "python",
   "name": "hydrofc"
  },
  "language_info": {
   "codemirror_mode": {
    "name": "ipython",
    "version": 3
   },
   "file_extension": ".py",
   "mimetype": "text/x-python",
   "name": "python",
   "nbconvert_exporter": "python",
   "pygments_lexer": "ipython3",
   "version": "3.11.11"
  }
 },
 "nbformat": 4,
 "nbformat_minor": 5
}
