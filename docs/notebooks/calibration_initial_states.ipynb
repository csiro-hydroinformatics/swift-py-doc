{
 "cells": [
  {
   "cell_type": "markdown",
   "id": "0",
   "metadata": {},
   "source": [
    "# Calibration with initial model memory states as parameters\n"
   ]
  },
  {
   "cell_type": "markdown",
   "id": "1",
   "metadata": {
    "lines_to_next_cell": 0
   },
   "source": [
    "## About this document\n"
   ]
  },
  {
   "cell_type": "code",
   "execution_count": null,
   "id": "2",
   "metadata": {
    "lines_to_next_cell": 0,
    "tags": []
   },
   "outputs": [],
   "source": [
    "from swift2.doc_helper import pkg_versions_info\n",
    "\n",
    "print(pkg_versions_info(\"This document was generated from a jupyter notebook\"))"
   ]
  },
  {
   "cell_type": "markdown",
   "id": "3",
   "metadata": {},
   "source": [
    "\n",
    "This vignette will illustrate how to define two _meta-parameters_, _S0_ and _R0_, controlling the initial level of stores in the GR4J model, as fraction of the store capacities.\n",
    "\n",
    "We'll load a simple catchment with one subarea only; the feature applies equally to catchment with multiple sub-areas\n",
    "\n",
    "## Imports"
   ]
  },
  {
   "cell_type": "code",
   "execution_count": null,
   "id": "4",
   "metadata": {
    "tags": []
   },
   "outputs": [],
   "source": [
    "import numpy as np\n",
    "import pandas as pd\n",
    "import swift2.doc_helper as std\n",
    "import swift2.parameteriser as sp\n",
    "import swift2.system as ssy"
   ]
  },
  {
   "cell_type": "code",
   "execution_count": null,
   "id": "5",
   "metadata": {
    "tags": []
   },
   "outputs": [],
   "source": [
    "from cinterop.timeseries import xr_ts_end, xr_ts_start\n",
    "from swift2.classes import CompositeParameteriser"
   ]
  },
  {
   "cell_type": "code",
   "execution_count": null,
   "id": "6",
   "metadata": {
    "lines_to_next_cell": 2
   },
   "outputs": [],
   "source": [
    "from swift2.utils import as_xarray_series, mk_full_data_id\n",
    "from swift2.vis import plot_two_series\n",
    "import matplotlib.pyplot as plt"
   ]
  },
  {
   "cell_type": "code",
   "execution_count": null,
   "id": "7",
   "metadata": {},
   "outputs": [],
   "source": [
    "%matplotlib inline"
   ]
  },
  {
   "cell_type": "markdown",
   "id": "8",
   "metadata": {},
   "source": [
    "## Model building\n",
    "\n",
    "We will use sample daily data for the Ovens Catchment at Bright (VIC), sourced from [Victoria's Water Measurement Information System](https://data.water.vic.gov.au/WMIS) and [SILO patch point data](https://www.longpaddock.qld.gov.au/silo/point-data/). While very convenient for a tutorial, remember you should source your own data for your modelling needs."
   ]
  },
  {
   "cell_type": "code",
   "execution_count": null,
   "id": "9",
   "metadata": {},
   "outputs": [],
   "source": [
    "model_id = \"GR4J\"\n",
    "simul_start = pd.Timestamp(\n",
    "    \"2016-10-01\"\n",
    ")  # we pick a time where usually catchments are wetter in VIC and there is higher streamflow typically\n",
    "simul_end = pd.Timestamp(\"2018-12-31\")\n",
    "ms = std.create_subarea_simulation(\n",
    "    data_id=\"Ovens-Bright\",\n",
    "    simul_start=simul_start,\n",
    "    simul_end=simul_end,\n",
    "    model_id=model_id,\n",
    "    tstep=\"daily\",\n",
    "    varname_rain=\"P\",\n",
    "    varname_pet=\"E\",\n",
    "    data_rain_id=\"rain\",\n",
    "    data_evap_id=\"pet\",\n",
    ")"
   ]
  },
  {
   "cell_type": "markdown",
   "id": "10",
   "metadata": {},
   "source": [
    "We devise a few model states of interest to illustrate the role of initial conditions, and we set some them to be recorded to time series in upcoming model simulations"
   ]
  },
  {
   "cell_type": "code",
   "execution_count": null,
   "id": "11",
   "metadata": {},
   "outputs": [],
   "source": [
    "gr4jModelVars = ssy.runoff_model_var_ids(model_id)\n",
    "print(gr4jModelVars)"
   ]
  },
  {
   "cell_type": "code",
   "execution_count": null,
   "id": "12",
   "metadata": {},
   "outputs": [],
   "source": [
    "def mk_varid(short_id):\n",
    "    element_id = \"subarea.Subarea\"\n",
    "    return mk_full_data_id(element_id, short_id)\n",
    "\n",
    "\n",
    "runoff_id = mk_varid(\"runoff\")\n",
    "s_store_id = mk_varid(\"S\")\n",
    "r_store_id = mk_varid(\"R\")\n",
    "ms.record_state([runoff_id, s_store_id, r_store_id])"
   ]
  },
  {
   "cell_type": "markdown",
   "id": "13",
   "metadata": {},
   "source": [
    "We set up a relatively short runtime span of barely two years, with a significant starting observed streamflow as we'll see."
   ]
  },
  {
   "cell_type": "code",
   "execution_count": null,
   "id": "14",
   "metadata": {},
   "outputs": [],
   "source": [
    "obs_streamflow_mld = std.sample_series(\"Ovens-Bright\", \"streamflow\")\n",
    "obs_streamflow_mld[obs_streamflow_mld < -1] = np.nan\n",
    "area_km2 = 495\n",
    "obs_runoff = obs_streamflow_mld / area_km2  # ML/day to mm/"
   ]
  },
  {
   "cell_type": "code",
   "execution_count": null,
   "id": "15",
   "metadata": {},
   "outputs": [],
   "source": [
    "s = simul_start\n",
    "w = s # i.e. no warmup! too short a simulation span to afford a warmup\n",
    "# e = s + pd.DateOffset(days=90)\n",
    "e = simul_end\n",
    "obs_runoff = obs_runoff[slice(s, e)]\n",
    "obs_runoff.plot()\n",
    "plt.title(\"Observed runoff depth at Bright, VIC\")\n",
    "plt.ylabel(\"runoff, mm/day\");"
   ]
  },
  {
   "cell_type": "code",
   "execution_count": null,
   "id": "16",
   "metadata": {},
   "outputs": [],
   "source": [
    "ms.set_simulation_span(s, e)"
   ]
  },
  {
   "attachments": {},
   "cell_type": "markdown",
   "id": "17",
   "metadata": {},
   "source": [
    "Looking at the observed streamflow time series above, we definitely have a wet start to the period of interest above. Let's apply some default model parameters to the model, and see the default output runoff."
   ]
  },
  {
   "cell_type": "code",
   "execution_count": null,
   "id": "18",
   "metadata": {
    "lines_to_next_cell": 0
   },
   "outputs": [],
   "source": [
    "pspec_gr4j = std.get_free_params(model_id)\n",
    "# replace the short param names x1 etc. with subarea identifiers\n",
    "pspec_gr4j[\"Name\"] = mk_varid(pspec_gr4j[\"Name\"])\n",
    "p = sp.create_parameteriser(\"Generic\", pspec_gr4j)\n",
    "p"
   ]
  },
  {
   "cell_type": "markdown",
   "id": "19",
   "metadata": {},
   "source": [
    "We are using the daily time step, so for `GR4J` we need to adjust two things to make some settings consistent"
   ]
  },
  {
   "cell_type": "code",
   "execution_count": null,
   "id": "20",
   "metadata": {},
   "outputs": [],
   "source": [
    "from swift2.doc_helper import configure_daily_gr4j\n",
    "configure_daily_gr4j(ms)  # probably the default anyway, but safety first"
   ]
  },
  {
   "cell_type": "code",
   "execution_count": null,
   "id": "21",
   "metadata": {},
   "outputs": [],
   "source": [
    "p.set_max_parameter_value(\"subarea.Subarea.x4\", 10)\n",
    "p.set_parameter_value(\"subarea.Subarea.x4\", 3)\n",
    "p"
   ]
  },
  {
   "cell_type": "code",
   "execution_count": null,
   "id": "22",
   "metadata": {},
   "outputs": [],
   "source": [
    "p.apply_sys_config(ms)"
   ]
  },
  {
   "cell_type": "markdown",
   "id": "23",
   "metadata": {},
   "source": [
    "We get a time series of the store _S_ if we run it at this point; the starting value is zero."
   ]
  },
  {
   "cell_type": "code",
   "execution_count": null,
   "id": "24",
   "metadata": {
    "lines_to_next_cell": 0
   },
   "outputs": [],
   "source": [
    "\n",
    "ms.exec_simulation()\n",
    "tts = ms.get_recorded(s_store_id)\n",
    "tts = tts.squeeze(drop=True)\n",
    "g = tts.plot.line(add_legend=True, figsize=(10, 5))\n",
    "plt.title(\"GR4J S store. No state initializer\");"
   ]
  },
  {
   "cell_type": "code",
   "execution_count": null,
   "id": "25",
   "metadata": {
    "lines_to_next_cell": 2
   },
   "outputs": [],
   "source": [
    "calc_runoff = ms.get_recorded(runoff_id).squeeze(drop=True)"
   ]
  },
  {
   "cell_type": "markdown",
   "id": "26",
   "metadata": {
    "lines_to_next_cell": 2
   },
   "source": [
    "We will show the same type of plot a few times, so let'd define a shorthand function:"
   ]
  },
  {
   "cell_type": "code",
   "execution_count": null,
   "id": "27",
   "metadata": {},
   "outputs": [],
   "source": [
    "def ts_runoff_mod_calc(obs_runoff, calc_runoff):\n",
    "    plot_two_series(\n",
    "        obs_runoff,\n",
    "        calc_runoff,\n",
    "        start_time=xr_ts_start(calc_runoff),\n",
    "        end_time=xr_ts_end(calc_runoff),\n",
    "        names=[\"observed\", \"modelled\"],\n",
    "        xlab=\"time\",\n",
    "        ylab=\"runoff (mm)\",\n",
    "        figsize=(10, 5),\n",
    "    )\n",
    "\n",
    "\n",
    "ts_runoff_mod_calc(obs_runoff, calc_runoff)"
   ]
  },
  {
   "cell_type": "markdown",
   "id": "28",
   "metadata": {},
   "source": [
    "Let's define _S0_ and _R0_ parameters such that for each GR4J model instance (only one in this case), _S = S0 * x1_ and _R = R0 * x3_"
   ]
  },
  {
   "cell_type": "code",
   "execution_count": null,
   "id": "29",
   "metadata": {},
   "outputs": [],
   "source": [
    "p_states = sp.linear_parameteriser(\n",
    "    [\"S0\", \"R0\"],\n",
    "    [\"S\", \"R\"],\n",
    "    [\"x1\", \"x3\"],\n",
    "    [0.04, 0.04],\n",
    "    [0.98, 0.98],\n",
    "    [0.4, 0.4],\n",
    "    \"each subarea\",\n",
    ")"
   ]
  },
  {
   "cell_type": "markdown",
   "id": "30",
   "metadata": {},
   "source": [
    "If one applies this parameteriser _p_states_ to the system, the the _S_ store is set to the expected value relative to the model state _x1_."
   ]
  },
  {
   "cell_type": "code",
   "execution_count": null,
   "id": "31",
   "metadata": {},
   "outputs": [],
   "source": [
    "ms.get_state_value(s_store_id)"
   ]
  },
  {
   "cell_type": "markdown",
   "id": "32",
   "metadata": {},
   "source": [
    "We first **clone** the model simulation, to keep a clean baseline `ms`. This may seem superfluous, but we encourage this practice in exploratory model analysis to avoid unwanted \"dregs\" of model configurations. In particular it is easy to not realise (or forget) that a model simulation has a state initialiser set."
   ]
  },
  {
   "cell_type": "code",
   "execution_count": null,
   "id": "33",
   "metadata": {},
   "outputs": [],
   "source": [
    "ms_tmp = ms.clone()"
   ]
  },
  {
   "cell_type": "code",
   "execution_count": null,
   "id": "34",
   "metadata": {},
   "outputs": [],
   "source": [
    "p_states.apply_sys_config(ms_tmp)\n",
    "ms_tmp.get_state_value([s_store_id, mk_varid(\"x1\")])"
   ]
  },
  {
   "cell_type": "markdown",
   "id": "35",
   "metadata": {},
   "source": [
    "**However** this is a one off operation. If executing the simulation, the time series of _S_ still starts at zero, because the resetting the model overrides the state _S_:"
   ]
  },
  {
   "cell_type": "code",
   "execution_count": null,
   "id": "36",
   "metadata": {
    "lines_to_next_cell": 0
   },
   "outputs": [],
   "source": [
    "ms_tmp.exec_simulation()\n",
    "tts = ms_tmp.get_recorded(s_store_id)\n",
    "tts = tts.squeeze(drop=True)\n",
    "g = tts.plot.line(add_legend=True, figsize=(10, 5))\n",
    "plt.title(\"GR4J S store; incomplete store initialization\");"
   ]
  },
  {
   "cell_type": "markdown",
   "id": "37",
   "metadata": {},
   "source": [
    "To be able to calibrate initial states as parameters, _p_states_ needs to be wrapped into a parameteriser that overrides the \"reset\" step of any model simulation that happens (by default anyway) ad every model simulation.\n",
    "\n",
    "### Creating a state initialisation parameteriser\n",
    "\n",
    "You need to define a new parameteriser, that makes sure that the model is reset to the expected initial value. This is done by calling the method **make_state_init_parameteriser**."
   ]
  },
  {
   "cell_type": "code",
   "execution_count": null,
   "id": "38",
   "metadata": {},
   "outputs": [],
   "source": [
    "init_parameteriser = p_states.make_state_init_parameteriser()\n",
    "# clone again, new clean slate...\n",
    "ms_statinitparams = ms.clone()\n",
    "init_parameteriser.apply_sys_config(ms_statinitparams)"
   ]
  },
  {
   "cell_type": "markdown",
   "id": "39",
   "metadata": {},
   "source": [
    "If this parameteriser is applied to the simulation (as would be by an optimiser) then the subsequent model simulation will be with an initialised model state."
   ]
  },
  {
   "cell_type": "code",
   "execution_count": null,
   "id": "40",
   "metadata": {
    "lines_to_next_cell": 0
   },
   "outputs": [],
   "source": [
    "ms_statinitparams.exec_simulation()\n",
    "tts = ms_statinitparams.get_recorded(s_store_id)\n",
    "tts = tts.squeeze(drop=True)\n",
    "g = tts.plot.line(add_legend=True, figsize=(10, 5))\n",
    "plt.title(\"GR4J S store, with a proper state initializer\");"
   ]
  },
  {
   "cell_type": "code",
   "execution_count": null,
   "id": "41",
   "metadata": {},
   "outputs": [],
   "source": [
    "calc_runoff = ms_statinitparams.get_recorded(runoff_id).squeeze(drop=True)\n",
    "ts_runoff_mod_calc(obs_runoff, calc_runoff)"
   ]
  },
  {
   "cell_type": "markdown",
   "id": "42",
   "metadata": {},
   "source": [
    "We do notice that the calculated runoff gets off \"zero\" earlier than before, but still not reflecting well the observations. Let's create a calibration such that these initial states become parameters that can be fitted.\n",
    "\n",
    "There is logic in keeping the two previous steps in defining a parameteriser as separate, hence this present vignette emphasizes the importance of these two steps."
   ]
  },
  {
   "cell_type": "markdown",
   "id": "43",
   "metadata": {},
   "source": [
    "## Calibration\n",
    "\n",
    "Once you have defined this state initialisation parameteriser using `make_state_init_parameteriser` above, you can define a calibration objective the usual way. This vignette does not get into a detailed explanation of setting up a calibration; please refer to other vignettes (getting started).\n",
    "\n",
    "Calibrating initial states alone may make some sense in some contexts, but in this case we create a parameteriser with 6 parameters, aggregate of the two state initialisers and 4 usual parameter for GR4J:"
   ]
  },
  {
   "cell_type": "code",
   "execution_count": null,
   "id": "44",
   "metadata": {},
   "outputs": [],
   "source": [
    "p_composite = CompositeParameteriser.concatenate(p, init_parameteriser)\n",
    "print(p_composite)"
   ]
  },
  {
   "cell_type": "markdown",
   "id": "45",
   "metadata": {},
   "source": [
    "We get back to using our baseline simulation `ms` to build a calibration objective."
   ]
  },
  {
   "cell_type": "code",
   "execution_count": null,
   "id": "46",
   "metadata": {},
   "outputs": [],
   "source": [
    "ms.describe()"
   ]
  },
  {
   "cell_type": "code",
   "execution_count": null,
   "id": "47",
   "metadata": {},
   "outputs": [],
   "source": [
    "objective = ms.create_objective(runoff_id, obs_runoff, \"NSE\", w, e)"
   ]
  },
  {
   "cell_type": "code",
   "execution_count": null,
   "id": "48",
   "metadata": {},
   "outputs": [],
   "source": [
    "objective.get_score(p_composite)"
   ]
  },
  {
   "cell_type": "code",
   "execution_count": null,
   "id": "49",
   "metadata": {},
   "outputs": [],
   "source": [
    "calc_runoff = ms.get_recorded(runoff_id).squeeze(drop=True)\n",
    "ts_runoff_mod_calc(obs_runoff, calc_runoff)"
   ]
  },
  {
   "cell_type": "markdown",
   "id": "50",
   "metadata": {},
   "source": [
    "### Calibration without initial states as parameters"
   ]
  },
  {
   "cell_type": "markdown",
   "id": "51",
   "metadata": {},
   "source": [
    "We have defined the composite parameteriser with 6 parameters. To illustrate the difference in model performance and goodness of fit, let us first do a vanilla calibration with only the usual 4 parameters. "
   ]
  },
  {
   "cell_type": "code",
   "execution_count": null,
   "id": "52",
   "metadata": {},
   "outputs": [],
   "source": [
    "optim_noinit = objective.create_sce_optim_swift(population_initialiser=p)\n",
    "optim_noinit.set_calibration_logger('')"
   ]
  },
  {
   "cell_type": "code",
   "execution_count": null,
   "id": "53",
   "metadata": {},
   "outputs": [],
   "source": [
    "%%time\n",
    "results = optim_noinit.execute_optimisation()"
   ]
  },
  {
   "cell_type": "markdown",
   "id": "54",
   "metadata": {},
   "source": [
    "We define a shorthand function to plot the calibration process, which we will do twice:"
   ]
  },
  {
   "cell_type": "code",
   "execution_count": null,
   "id": "55",
   "metadata": {},
   "outputs": [],
   "source": [
    "def plot_calib_evolution(optimiser):\n",
    "    opt_log = optimiser.extract_optimisation_log(fitness_name = \"NSE\")\n",
    "    geom_ops = opt_log.subset_by_message(pattern= 'Initial.*|Reflec.*|Contrac.*|Add.*') # same as default argument, but to be explicit\n",
    "    p_var_ids = ['x1','x2','x3','x4']\n",
    "    remap = {f'subarea.Subarea.{name}': name for name in p_var_ids}\n",
    "    geom_ops.rename_columns(remap)\n",
    "    from swift2.vis import OptimisationPlots\n",
    "    \n",
    "    v = OptimisationPlots(geom_ops)\n",
    "    g = v.parameter_evolution(p_var_ids[0], obj_lims=[0,1])\n",
    "    plt.gcf().set_size_inches(10,8);\n",
    "\n",
    "plot_calib_evolution(optim_noinit)"
   ]
  },
  {
   "cell_type": "code",
   "execution_count": null,
   "id": "56",
   "metadata": {},
   "outputs": [],
   "source": [
    "s = results.get_best_score(\"NSE\")\n",
    "s"
   ]
  },
  {
   "cell_type": "code",
   "execution_count": null,
   "id": "57",
   "metadata": {},
   "outputs": [],
   "source": [
    "ms_tmp = ms.clone() # keep the baseline clean\n",
    "ms_tmp.remove_state_initialisers()\n",
    "s.apply_sys_config(ms_tmp)\n",
    "ms_tmp.exec_simulation()"
   ]
  },
  {
   "cell_type": "markdown",
   "id": "58",
   "metadata": {},
   "source": [
    "We notice above that the store capacity model parameter _x1_ is low; the optimiser is trying to \"lift\" the calculated runoff time series by lowering the first store capacity, illustrating the impact of initial conditions when calibrating on short periods"
   ]
  },
  {
   "cell_type": "code",
   "execution_count": null,
   "id": "59",
   "metadata": {},
   "outputs": [],
   "source": [
    "calc_runoff = ms_tmp.get_recorded(runoff_id).squeeze(drop=True)\n",
    "ts_runoff_mod_calc(obs_runoff, calc_runoff)"
   ]
  },
  {
   "cell_type": "markdown",
   "id": "60",
   "metadata": {},
   "source": [
    "0.20 NSE seems a bit low, visually, but if we cross check independendly indeed this mismatch in initial condition lowers the score that much. "
   ]
  },
  {
   "cell_type": "code",
   "execution_count": null,
   "id": "61",
   "metadata": {},
   "outputs": [],
   "source": [
    "import numpy as np\n",
    "import pandas as pd\n",
    "\n",
    "\n",
    "def nash_sutcliffe_efficiency(observed: pd.Series, modelled: pd.Series) -> float:\n",
    "    \"\"\"\n",
    "    Calculates the Nash-Sutcliffe Efficiency (NSE) between two pandas Series.\n",
    "\n",
    "    Args:\n",
    "        observed (pd.Series): The observed values.\n",
    "        modelled (pd.Series): The modelled values.\n",
    "\n",
    "    Returns:\n",
    "        float: The Nash-Sutcliffe Efficiency.\n",
    "    \"\"\"\n",
    "    if len(observed) != len(modelled):\n",
    "        raise ValueError(\"Observed and modelled series must have the same length.\")\n",
    "\n",
    "    observed_mean = observed.mean()\n",
    "    numerator = np.sum((observed - modelled)**2)\n",
    "    denominator = np.sum((observed - observed_mean)**2)\n",
    "\n",
    "    if denominator == 0:\n",
    "        return np.nan  # or np.inf if you want to return infinity\n",
    "\n",
    "    nse = 1 - (numerator / denominator)\n",
    "    return nse"
   ]
  },
  {
   "cell_type": "code",
   "execution_count": null,
   "id": "62",
   "metadata": {},
   "outputs": [],
   "source": [
    "nash_sutcliffe_efficiency(obs_runoff, calc_runoff)"
   ]
  },
  {
   "cell_type": "markdown",
   "id": "63",
   "metadata": {},
   "source": [
    "### Calibration with initial states as parameters"
   ]
  },
  {
   "cell_type": "code",
   "execution_count": null,
   "id": "64",
   "metadata": {},
   "outputs": [],
   "source": [
    "score = objective.get_score(p_composite)\n",
    "score"
   ]
  },
  {
   "cell_type": "code",
   "execution_count": null,
   "id": "65",
   "metadata": {},
   "outputs": [],
   "source": [
    "optim_with_init = objective.create_sce_optim_swift(population_initialiser=p_composite)"
   ]
  },
  {
   "cell_type": "code",
   "execution_count": null,
   "id": "66",
   "metadata": {},
   "outputs": [],
   "source": [
    "%%time\n",
    "results = optim_with_init.execute_optimisation()"
   ]
  },
  {
   "cell_type": "code",
   "execution_count": null,
   "id": "67",
   "metadata": {},
   "outputs": [],
   "source": [
    "results.get_best_score(\"NSE\", convert_to_py=True)"
   ]
  },
  {
   "cell_type": "code",
   "execution_count": null,
   "id": "68",
   "metadata": {},
   "outputs": [],
   "source": [
    "s = results.get_best_score(\"NSE\")"
   ]
  },
  {
   "cell_type": "code",
   "execution_count": null,
   "id": "69",
   "metadata": {},
   "outputs": [],
   "source": [
    "ms_allparams = ms.clone()\n",
    "s.apply_sys_config(ms_allparams)\n",
    "ms_allparams.exec_simulation()"
   ]
  },
  {
   "cell_type": "code",
   "execution_count": null,
   "id": "70",
   "metadata": {
    "tags": []
   },
   "outputs": [],
   "source": [
    "calc_runoff = ms_allparams.get_recorded(runoff_id).squeeze(drop=True)\n",
    "\n",
    "ts_runoff_mod_calc(obs_runoff, calc_runoff)"
   ]
  },
  {
   "cell_type": "code",
   "execution_count": null,
   "id": "71",
   "metadata": {},
   "outputs": [],
   "source": [
    "nash_sutcliffe_efficiency(obs_runoff, calc_runoff)"
   ]
  }
 ],
 "metadata": {
  "jupytext": {
   "cell_metadata_filter": "tags,eval,name,-all",
   "formats": "ipynb,py:percent",
   "main_language": "R"
  },
  "kernelspec": {
   "display_name": "hydrofc",
   "language": "python",
   "name": "hydrofc"
  },
  "language_info": {
   "codemirror_mode": {
    "name": "ipython",
    "version": 3
   },
   "file_extension": ".py",
   "mimetype": "text/x-python",
   "name": "python",
   "nbconvert_exporter": "python",
   "pygments_lexer": "ipython3",
   "version": "3.11.11"
  }
 },
 "nbformat": 4,
 "nbformat_minor": 5
}
