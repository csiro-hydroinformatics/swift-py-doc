{
 "cells": [
  {
   "cell_type": "markdown",
   "id": "0",
   "metadata": {
    "lines_to_next_cell": 0,
    "tags": []
   },
   "source": [
    "# Calibration of a catchment using multisite multiobjective composition\n"
   ]
  },
  {
   "cell_type": "markdown",
   "id": "1",
   "metadata": {
    "lines_to_next_cell": 0
   },
   "source": [
    "## About this document\n"
   ]
  },
  {
   "cell_type": "code",
   "execution_count": 1,
   "id": "2",
   "metadata": {
    "execution": {
     "iopub.execute_input": "2025-05-16T04:15:12.789076Z",
     "iopub.status.busy": "2025-05-16T04:15:12.788790Z",
     "iopub.status.idle": "2025-05-16T04:15:13.509172Z",
     "shell.execute_reply": "2025-05-16T04:15:13.508642Z"
    },
    "tags": []
   },
   "outputs": [
    {
     "name": "stdout",
     "output_type": "stream",
     "text": [
      "This document was generated from a jupyter notebook on 2025-05-16 14:15:13.507046\n",
      "    swift2 2.5.1\n",
      "    uchronia 2.6.2\n"
     ]
    }
   ],
   "source": [
    "from swift2.doc_helper import pkg_versions_info\n",
    "\n",
    "print(pkg_versions_info(\"This document was generated from a jupyter notebook\"))"
   ]
  },
  {
   "cell_type": "markdown",
   "id": "3",
   "metadata": {},
   "source": [
    "## Use case\n",
    "\n",
    "This vignette demonstrates how one can calibrate a catchment using multiple gauging points available within this catchment. This only covers the definition of the calibration, **not the execution**. The sample data in the package is a small subset of hourly data to keep things (data size, execution time) small.\n",
    "\n",
    "This is a joint calibration weighing multiple objectives, possibly sourced from different modelling objects in the semi-distributed structure, thus a whole-of-catchment calibration technique. A staged, cascading calibration is supported and described in another vignette."
   ]
  },
  {
   "cell_type": "code",
   "execution_count": 2,
   "id": "4",
   "metadata": {
    "execution": {
     "iopub.execute_input": "2025-05-16T04:15:13.511443Z",
     "iopub.status.busy": "2025-05-16T04:15:13.510931Z",
     "iopub.status.idle": "2025-05-16T04:15:13.513810Z",
     "shell.execute_reply": "2025-05-16T04:15:13.513482Z"
    },
    "lines_to_next_cell": 2
   },
   "outputs": [],
   "source": [
    "from swift2.utils import mk_full_data_id\n",
    "from swift2.classes import CompositeParameteriser, HypercubeParameteriser, Simulation\n",
    "# from swift2.wrap.ffi_interop import debug_msd\n",
    "import xarray as xr\n",
    "import pandas as pd\n",
    "import numpy as np\n",
    "import xarray as xr"
   ]
  },
  {
   "cell_type": "code",
   "execution_count": null,
   "id": "5",
   "metadata": {},
   "outputs": [],
   "source": []
  },
  {
   "cell_type": "code",
   "execution_count": 3,
   "id": "6",
   "metadata": {
    "execution": {
     "iopub.execute_input": "2025-05-16T04:15:13.515333Z",
     "iopub.status.busy": "2025-05-16T04:15:13.514997Z",
     "iopub.status.idle": "2025-05-16T04:15:13.517166Z",
     "shell.execute_reply": "2025-05-16T04:15:13.516868Z"
    }
   },
   "outputs": [],
   "source": [
    "import swift2.doc_helper as std"
   ]
  },
  {
   "cell_type": "code",
   "execution_count": 4,
   "id": "7",
   "metadata": {
    "execution": {
     "iopub.execute_input": "2025-05-16T04:15:13.518428Z",
     "iopub.status.busy": "2025-05-16T04:15:13.518247Z",
     "iopub.status.idle": "2025-05-16T04:15:14.355944Z",
     "shell.execute_reply": "2025-05-16T04:15:14.355415Z"
    }
   },
   "outputs": [],
   "source": [
    "import seaborn as sns\n",
    "import matplotlib.pyplot as plt"
   ]
  },
  {
   "cell_type": "code",
   "execution_count": 5,
   "id": "8",
   "metadata": {
    "execution": {
     "iopub.execute_input": "2025-05-16T04:15:14.357523Z",
     "iopub.status.busy": "2025-05-16T04:15:14.357346Z",
     "iopub.status.idle": "2025-05-16T04:15:14.360216Z",
     "shell.execute_reply": "2025-05-16T04:15:14.359797Z"
    }
   },
   "outputs": [],
   "source": [
    "from cinterop.timeseries import TIME_DIMNAME, slice_xr_time_series, pd_series_to_xr_series, slice_xr_time_series, pd_series_to_xr_series"
   ]
  },
  {
   "cell_type": "code",
   "execution_count": 6,
   "id": "9",
   "metadata": {
    "execution": {
     "iopub.execute_input": "2025-05-16T04:15:14.361577Z",
     "iopub.status.busy": "2025-05-16T04:15:14.361423Z",
     "iopub.status.idle": "2025-05-16T04:15:14.363500Z",
     "shell.execute_reply": "2025-05-16T04:15:14.363225Z"
    }
   },
   "outputs": [],
   "source": [
    "from cinterop.timeseries import xr_ts_start, xr_ts_end\n",
    "import datetime as dt"
   ]
  },
  {
   "cell_type": "code",
   "execution_count": 7,
   "id": "10",
   "metadata": {
    "execution": {
     "iopub.execute_input": "2025-05-16T04:15:14.364792Z",
     "iopub.status.busy": "2025-05-16T04:15:14.364489Z",
     "iopub.status.idle": "2025-05-16T04:15:14.371631Z",
     "shell.execute_reply": "2025-05-16T04:15:14.371251Z"
    }
   },
   "outputs": [],
   "source": [
    "%matplotlib inline"
   ]
  },
  {
   "cell_type": "markdown",
   "id": "11",
   "metadata": {},
   "source": [
    "## Data\n",
    "\n",
    "The sample data that comes with the package contains a model definition for the South Esk catchment, including a short subset of the climate and flow record data.\n",
    "\n",
    "<img src=\"south_esk.png\" alt=\"drawing\" width=\"600\"/>\n",
    "\n",
    "<!-- ![](./south_esk.png)\n",
    " -->"
   ]
  },
  {
   "cell_type": "code",
   "execution_count": 8,
   "id": "12",
   "metadata": {
    "execution": {
     "iopub.execute_input": "2025-05-16T04:15:14.372952Z",
     "iopub.status.busy": "2025-05-16T04:15:14.372836Z",
     "iopub.status.idle": "2025-05-16T04:15:14.374807Z",
     "shell.execute_reply": "2025-05-16T04:15:14.374526Z"
    }
   },
   "outputs": [],
   "source": [
    "model_id = 'GR4J'\n",
    "site_id = 'South_Esk'"
   ]
  },
  {
   "cell_type": "code",
   "execution_count": 9,
   "id": "13",
   "metadata": {
    "execution": {
     "iopub.execute_input": "2025-05-16T04:15:14.376126Z",
     "iopub.status.busy": "2025-05-16T04:15:14.375956Z",
     "iopub.status.idle": "2025-05-16T04:15:14.528724Z",
     "shell.execute_reply": "2025-05-16T04:15:14.528202Z"
    }
   },
   "outputs": [],
   "source": [
    "se_climate = std.sample_series(site_id=site_id, var_name='climate')\n",
    "se_flows = std.sample_series(site_id=site_id, var_name='flow')"
   ]
  },
  {
   "cell_type": "code",
   "execution_count": 10,
   "id": "14",
   "metadata": {
    "execution": {
     "iopub.execute_input": "2025-05-16T04:15:14.530772Z",
     "iopub.status.busy": "2025-05-16T04:15:14.530587Z",
     "iopub.status.idle": "2025-05-16T04:15:14.552536Z",
     "shell.execute_reply": "2025-05-16T04:15:14.552153Z"
    }
   },
   "outputs": [
    {
     "data": {
      "text/html": [
       "<div>\n",
       "<style scoped>\n",
       "    .dataframe tbody tr th:only-of-type {\n",
       "        vertical-align: middle;\n",
       "    }\n",
       "\n",
       "    .dataframe tbody tr th {\n",
       "        vertical-align: top;\n",
       "    }\n",
       "\n",
       "    .dataframe thead th {\n",
       "        text-align: right;\n",
       "    }\n",
       "</style>\n",
       "<table border=\"1\" class=\"dataframe\">\n",
       "  <thead>\n",
       "    <tr style=\"text-align: right;\">\n",
       "      <th></th>\n",
       "      <th>subcatchment.1.E</th>\n",
       "      <th>subcatchment.1.P</th>\n",
       "      <th>subcatchment.10.E</th>\n",
       "      <th>subcatchment.10.P</th>\n",
       "      <th>subcatchment.11.E</th>\n",
       "      <th>subcatchment.11.P</th>\n",
       "      <th>subcatchment.12.E</th>\n",
       "      <th>subcatchment.12.P</th>\n",
       "      <th>subcatchment.13.E</th>\n",
       "      <th>subcatchment.13.P</th>\n",
       "      <th>...</th>\n",
       "      <th>subcatchment.5.E</th>\n",
       "      <th>subcatchment.5.P</th>\n",
       "      <th>subcatchment.6.E</th>\n",
       "      <th>subcatchment.6.P</th>\n",
       "      <th>subcatchment.7.E</th>\n",
       "      <th>subcatchment.7.P</th>\n",
       "      <th>subcatchment.8.E</th>\n",
       "      <th>subcatchment.8.P</th>\n",
       "      <th>subcatchment.9.E</th>\n",
       "      <th>subcatchment.9.P</th>\n",
       "    </tr>\n",
       "  </thead>\n",
       "  <tbody>\n",
       "    <tr>\n",
       "      <th>2010-11-01 00:00:00</th>\n",
       "      <td>0.3918</td>\n",
       "      <td>0.0</td>\n",
       "      <td>0.4020</td>\n",
       "      <td>0.0000</td>\n",
       "      <td>0.3978</td>\n",
       "      <td>0.0000</td>\n",
       "      <td>0.4266</td>\n",
       "      <td>0.0000</td>\n",
       "      <td>0.3936</td>\n",
       "      <td>0.0000</td>\n",
       "      <td>...</td>\n",
       "      <td>0.4325</td>\n",
       "      <td>0.0</td>\n",
       "      <td>0.4110</td>\n",
       "      <td>0.0322</td>\n",
       "      <td>0.4247</td>\n",
       "      <td>0.0</td>\n",
       "      <td>0.4377</td>\n",
       "      <td>0.0</td>\n",
       "      <td>0.4337</td>\n",
       "      <td>0.0</td>\n",
       "    </tr>\n",
       "    <tr>\n",
       "      <th>2010-11-01 01:00:00</th>\n",
       "      <td>0.4385</td>\n",
       "      <td>0.0</td>\n",
       "      <td>0.4493</td>\n",
       "      <td>0.0207</td>\n",
       "      <td>0.4446</td>\n",
       "      <td>0.0433</td>\n",
       "      <td>0.4763</td>\n",
       "      <td>0.0179</td>\n",
       "      <td>0.4397</td>\n",
       "      <td>0.0555</td>\n",
       "      <td>...</td>\n",
       "      <td>0.4823</td>\n",
       "      <td>0.0</td>\n",
       "      <td>0.4593</td>\n",
       "      <td>0.0000</td>\n",
       "      <td>0.4746</td>\n",
       "      <td>0.0</td>\n",
       "      <td>0.4892</td>\n",
       "      <td>0.0</td>\n",
       "      <td>0.4841</td>\n",
       "      <td>0.0</td>\n",
       "    </tr>\n",
       "    <tr>\n",
       "      <th>2010-11-01 02:00:00</th>\n",
       "      <td>0.4614</td>\n",
       "      <td>0.0</td>\n",
       "      <td>0.4723</td>\n",
       "      <td>0.0000</td>\n",
       "      <td>0.4671</td>\n",
       "      <td>0.0000</td>\n",
       "      <td>0.5002</td>\n",
       "      <td>0.0000</td>\n",
       "      <td>0.4619</td>\n",
       "      <td>0.0000</td>\n",
       "      <td>...</td>\n",
       "      <td>0.5060</td>\n",
       "      <td>0.0</td>\n",
       "      <td>0.4827</td>\n",
       "      <td>0.0000</td>\n",
       "      <td>0.4987</td>\n",
       "      <td>0.0</td>\n",
       "      <td>0.5143</td>\n",
       "      <td>0.0</td>\n",
       "      <td>0.5084</td>\n",
       "      <td>0.0</td>\n",
       "    </tr>\n",
       "  </tbody>\n",
       "</table>\n",
       "<p>3 rows × 84 columns</p>\n",
       "</div>"
      ],
      "text/plain": [
       "                     subcatchment.1.E  subcatchment.1.P  subcatchment.10.E  \\\n",
       "2010-11-01 00:00:00            0.3918               0.0             0.4020   \n",
       "2010-11-01 01:00:00            0.4385               0.0             0.4493   \n",
       "2010-11-01 02:00:00            0.4614               0.0             0.4723   \n",
       "\n",
       "                     subcatchment.10.P  subcatchment.11.E  subcatchment.11.P  \\\n",
       "2010-11-01 00:00:00             0.0000             0.3978             0.0000   \n",
       "2010-11-01 01:00:00             0.0207             0.4446             0.0433   \n",
       "2010-11-01 02:00:00             0.0000             0.4671             0.0000   \n",
       "\n",
       "                     subcatchment.12.E  subcatchment.12.P  subcatchment.13.E  \\\n",
       "2010-11-01 00:00:00             0.4266             0.0000             0.3936   \n",
       "2010-11-01 01:00:00             0.4763             0.0179             0.4397   \n",
       "2010-11-01 02:00:00             0.5002             0.0000             0.4619   \n",
       "\n",
       "                     subcatchment.13.P  ...  subcatchment.5.E  \\\n",
       "2010-11-01 00:00:00             0.0000  ...            0.4325   \n",
       "2010-11-01 01:00:00             0.0555  ...            0.4823   \n",
       "2010-11-01 02:00:00             0.0000  ...            0.5060   \n",
       "\n",
       "                     subcatchment.5.P  subcatchment.6.E  subcatchment.6.P  \\\n",
       "2010-11-01 00:00:00               0.0            0.4110            0.0322   \n",
       "2010-11-01 01:00:00               0.0            0.4593            0.0000   \n",
       "2010-11-01 02:00:00               0.0            0.4827            0.0000   \n",
       "\n",
       "                     subcatchment.7.E  subcatchment.7.P  subcatchment.8.E  \\\n",
       "2010-11-01 00:00:00            0.4247               0.0            0.4377   \n",
       "2010-11-01 01:00:00            0.4746               0.0            0.4892   \n",
       "2010-11-01 02:00:00            0.4987               0.0            0.5143   \n",
       "\n",
       "                     subcatchment.8.P  subcatchment.9.E  subcatchment.9.P  \n",
       "2010-11-01 00:00:00               0.0            0.4337               0.0  \n",
       "2010-11-01 01:00:00               0.0            0.4841               0.0  \n",
       "2010-11-01 02:00:00               0.0            0.5084               0.0  \n",
       "\n",
       "[3 rows x 84 columns]"
      ]
     },
     "execution_count": 10,
     "metadata": {},
     "output_type": "execute_result"
    }
   ],
   "source": [
    "se_climate.head(3)"
   ]
  },
  {
   "cell_type": "code",
   "execution_count": 11,
   "id": "15",
   "metadata": {
    "execution": {
     "iopub.execute_input": "2025-05-16T04:15:14.553756Z",
     "iopub.status.busy": "2025-05-16T04:15:14.553650Z",
     "iopub.status.idle": "2025-05-16T04:15:14.564085Z",
     "shell.execute_reply": "2025-05-16T04:15:14.563823Z"
    }
   },
   "outputs": [
    {
     "data": {
      "text/html": [
       "<div>\n",
       "<style scoped>\n",
       "    .dataframe tbody tr th:only-of-type {\n",
       "        vertical-align: middle;\n",
       "    }\n",
       "\n",
       "    .dataframe tbody tr th {\n",
       "        vertical-align: top;\n",
       "    }\n",
       "\n",
       "    .dataframe thead th {\n",
       "        text-align: right;\n",
       "    }\n",
       "</style>\n",
       "<table border=\"1\" class=\"dataframe\">\n",
       "  <thead>\n",
       "    <tr style=\"text-align: right;\">\n",
       "      <th></th>\n",
       "      <th>subcatchment.1.E</th>\n",
       "      <th>subcatchment.1.P</th>\n",
       "      <th>subcatchment.10.E</th>\n",
       "      <th>subcatchment.10.P</th>\n",
       "      <th>subcatchment.11.E</th>\n",
       "      <th>subcatchment.11.P</th>\n",
       "      <th>subcatchment.12.E</th>\n",
       "      <th>subcatchment.12.P</th>\n",
       "      <th>subcatchment.13.E</th>\n",
       "      <th>subcatchment.13.P</th>\n",
       "      <th>...</th>\n",
       "      <th>subcatchment.5.E</th>\n",
       "      <th>subcatchment.5.P</th>\n",
       "      <th>subcatchment.6.E</th>\n",
       "      <th>subcatchment.6.P</th>\n",
       "      <th>subcatchment.7.E</th>\n",
       "      <th>subcatchment.7.P</th>\n",
       "      <th>subcatchment.8.E</th>\n",
       "      <th>subcatchment.8.P</th>\n",
       "      <th>subcatchment.9.E</th>\n",
       "      <th>subcatchment.9.P</th>\n",
       "    </tr>\n",
       "  </thead>\n",
       "  <tbody>\n",
       "    <tr>\n",
       "      <th>2010-11-20 21:00:00</th>\n",
       "      <td>0.1832</td>\n",
       "      <td>0.0</td>\n",
       "      <td>0.1885</td>\n",
       "      <td>0.0000</td>\n",
       "      <td>0.1865</td>\n",
       "      <td>0.0000</td>\n",
       "      <td>0.2004</td>\n",
       "      <td>0.0</td>\n",
       "      <td>0.1844</td>\n",
       "      <td>0.0</td>\n",
       "      <td>...</td>\n",
       "      <td>0.2047</td>\n",
       "      <td>0.0</td>\n",
       "      <td>0.1940</td>\n",
       "      <td>0.0</td>\n",
       "      <td>0.1988</td>\n",
       "      <td>0.0</td>\n",
       "      <td>0.2035</td>\n",
       "      <td>0.0</td>\n",
       "      <td>0.2040</td>\n",
       "      <td>0.0</td>\n",
       "    </tr>\n",
       "    <tr>\n",
       "      <th>2010-11-20 22:00:00</th>\n",
       "      <td>0.2809</td>\n",
       "      <td>0.0</td>\n",
       "      <td>0.2877</td>\n",
       "      <td>0.1014</td>\n",
       "      <td>0.2849</td>\n",
       "      <td>0.0289</td>\n",
       "      <td>0.3054</td>\n",
       "      <td>0.0</td>\n",
       "      <td>0.2814</td>\n",
       "      <td>0.0</td>\n",
       "      <td>...</td>\n",
       "      <td>0.3104</td>\n",
       "      <td>0.0</td>\n",
       "      <td>0.2961</td>\n",
       "      <td>0.0</td>\n",
       "      <td>0.3035</td>\n",
       "      <td>0.0</td>\n",
       "      <td>0.3105</td>\n",
       "      <td>0.0</td>\n",
       "      <td>0.3098</td>\n",
       "      <td>0.0</td>\n",
       "    </tr>\n",
       "    <tr>\n",
       "      <th>2010-11-20 23:00:00</th>\n",
       "      <td>0.3683</td>\n",
       "      <td>0.0</td>\n",
       "      <td>0.3762</td>\n",
       "      <td>0.2028</td>\n",
       "      <td>0.3727</td>\n",
       "      <td>0.0577</td>\n",
       "      <td>0.3990</td>\n",
       "      <td>0.0</td>\n",
       "      <td>0.3678</td>\n",
       "      <td>0.0</td>\n",
       "      <td>...</td>\n",
       "      <td>0.4044</td>\n",
       "      <td>0.0</td>\n",
       "      <td>0.3872</td>\n",
       "      <td>0.0</td>\n",
       "      <td>0.3968</td>\n",
       "      <td>0.0</td>\n",
       "      <td>0.4061</td>\n",
       "      <td>0.0</td>\n",
       "      <td>0.4041</td>\n",
       "      <td>0.0</td>\n",
       "    </tr>\n",
       "  </tbody>\n",
       "</table>\n",
       "<p>3 rows × 84 columns</p>\n",
       "</div>"
      ],
      "text/plain": [
       "                     subcatchment.1.E  subcatchment.1.P  subcatchment.10.E  \\\n",
       "2010-11-20 21:00:00            0.1832               0.0             0.1885   \n",
       "2010-11-20 22:00:00            0.2809               0.0             0.2877   \n",
       "2010-11-20 23:00:00            0.3683               0.0             0.3762   \n",
       "\n",
       "                     subcatchment.10.P  subcatchment.11.E  subcatchment.11.P  \\\n",
       "2010-11-20 21:00:00             0.0000             0.1865             0.0000   \n",
       "2010-11-20 22:00:00             0.1014             0.2849             0.0289   \n",
       "2010-11-20 23:00:00             0.2028             0.3727             0.0577   \n",
       "\n",
       "                     subcatchment.12.E  subcatchment.12.P  subcatchment.13.E  \\\n",
       "2010-11-20 21:00:00             0.2004                0.0             0.1844   \n",
       "2010-11-20 22:00:00             0.3054                0.0             0.2814   \n",
       "2010-11-20 23:00:00             0.3990                0.0             0.3678   \n",
       "\n",
       "                     subcatchment.13.P  ...  subcatchment.5.E  \\\n",
       "2010-11-20 21:00:00                0.0  ...            0.2047   \n",
       "2010-11-20 22:00:00                0.0  ...            0.3104   \n",
       "2010-11-20 23:00:00                0.0  ...            0.4044   \n",
       "\n",
       "                     subcatchment.5.P  subcatchment.6.E  subcatchment.6.P  \\\n",
       "2010-11-20 21:00:00               0.0            0.1940               0.0   \n",
       "2010-11-20 22:00:00               0.0            0.2961               0.0   \n",
       "2010-11-20 23:00:00               0.0            0.3872               0.0   \n",
       "\n",
       "                     subcatchment.7.E  subcatchment.7.P  subcatchment.8.E  \\\n",
       "2010-11-20 21:00:00            0.1988               0.0            0.2035   \n",
       "2010-11-20 22:00:00            0.3035               0.0            0.3105   \n",
       "2010-11-20 23:00:00            0.3968               0.0            0.4061   \n",
       "\n",
       "                     subcatchment.8.P  subcatchment.9.E  subcatchment.9.P  \n",
       "2010-11-20 21:00:00               0.0            0.2040               0.0  \n",
       "2010-11-20 22:00:00               0.0            0.3098               0.0  \n",
       "2010-11-20 23:00:00               0.0            0.4041               0.0  \n",
       "\n",
       "[3 rows x 84 columns]"
      ]
     },
     "execution_count": 11,
     "metadata": {},
     "output_type": "execute_result"
    }
   ],
   "source": [
    "se_climate.tail(3)"
   ]
  },
  {
   "cell_type": "markdown",
   "id": "16",
   "metadata": {},
   "source": [
    "## Base model creation "
   ]
  },
  {
   "cell_type": "code",
   "execution_count": 12,
   "id": "17",
   "metadata": {
    "execution": {
     "iopub.execute_input": "2025-05-16T04:15:14.565398Z",
     "iopub.status.busy": "2025-05-16T04:15:14.565287Z",
     "iopub.status.idle": "2025-05-16T04:15:14.581326Z",
     "shell.execute_reply": "2025-05-16T04:15:14.580983Z"
    }
   },
   "outputs": [],
   "source": [
    "simulation = std.sample_catchment_model(site_id=site_id, config_id='catchment')\n",
    "# simulation = swap_model(simulation, 'MuskingumNonLinear', 'channel_routing')\n",
    "simulation = simulation.swap_model('LagAndRoute', 'channel_routing')"
   ]
  },
  {
   "cell_type": "markdown",
   "id": "18",
   "metadata": {},
   "source": [
    "The names of the climate series is already set to the climate input identifiers of the model simulation, so setting them as inputs is easy:"
   ]
  },
  {
   "cell_type": "code",
   "execution_count": 13,
   "id": "19",
   "metadata": {
    "execution": {
     "iopub.execute_input": "2025-05-16T04:15:14.582714Z",
     "iopub.status.busy": "2025-05-16T04:15:14.582604Z",
     "iopub.status.idle": "2025-05-16T04:15:14.593695Z",
     "shell.execute_reply": "2025-05-16T04:15:14.593302Z"
    }
   },
   "outputs": [],
   "source": [
    "simulation.play_input(se_climate)\n",
    "simulation.set_simulation_span(xr_ts_start(se_climate), xr_ts_end(se_climate))\n",
    "simulation.set_simulation_time_step('hourly')"
   ]
  },
  {
   "cell_type": "markdown",
   "id": "20",
   "metadata": {},
   "source": [
    "Moving on to define the parameters, free or fixed. We will use (for now - may change) the package calibragem, companion to SWIFT."
   ]
  },
  {
   "cell_type": "code",
   "execution_count": 14,
   "id": "21",
   "metadata": {
    "execution": {
     "iopub.execute_input": "2025-05-16T04:15:14.594887Z",
     "iopub.status.busy": "2025-05-16T04:15:14.594778Z",
     "iopub.status.idle": "2025-05-16T04:15:14.597565Z",
     "shell.execute_reply": "2025-05-16T04:15:14.597275Z"
    },
    "lines_to_next_cell": 2
   },
   "outputs": [],
   "source": [
    "std.configure_hourly_gr4j(simulation)"
   ]
  },
  {
   "cell_type": "markdown",
   "id": "22",
   "metadata": {},
   "source": [
    "## Parameterisation\n",
    "\n",
    "We define a function creating a realistic feasible parameter space. The parameteriser is relatively sophisticated, but this is not the main purpose of this vignette, so we do not describe the process about defining and creating parameterisers in gread details. "
   ]
  },
  {
   "cell_type": "code",
   "execution_count": 15,
   "id": "23",
   "metadata": {
    "execution": {
     "iopub.execute_input": "2025-05-16T04:15:14.598793Z",
     "iopub.status.busy": "2025-05-16T04:15:14.598685Z",
     "iopub.status.idle": "2025-05-16T04:15:14.602593Z",
     "shell.execute_reply": "2025-05-16T04:15:14.602151Z"
    }
   },
   "outputs": [],
   "source": [
    "from swift2.utils import c, paste0, rep\n",
    "import swift2.parameteriser as sp\n",
    "import swift2.helpers as hlp\n",
    "\n",
    "\n",
    "def create_meta_parameteriser(simulation:Simulation, ref_area=250, time_span=3600):  \n",
    "    time_span = int(time_span)\n",
    "    parameteriser = std.define_gr4j_scaled_parameter(ref_area, time_span)\n",
    "  \n",
    "    # Let's define _S0_ and _R0_ parameters such that for each GR4J model instance, _S = S0 * x1_ and _R = R0 * x3_\n",
    "    p_states = sp.linear_parameteriser(\n",
    "                      param_name=c(\"S0\",\"R0\"), \n",
    "                      state_name=c(\"S\",\"R\"), \n",
    "                      scaling_var_name=c(\"x1\",\"x3\"),\n",
    "                      min_p_val=c(0.0,0.0), \n",
    "                      max_p_val=c(1.0,1.0), \n",
    "                      value=c(0.9,0.9), \n",
    "                      selector_type='each subarea')\n",
    "  \n",
    "    init_parameteriser = p_states.make_state_init_parameteriser()\n",
    "    parameteriser = sp.concatenate_parameterisers(parameteriser, init_parameteriser)\n",
    "    \n",
    "    hlp.lag_and_route_linear_storage_type(simulation)\n",
    "    hlp.set_reach_lengths_lag_n_route(simulation)\n",
    "\n",
    "    lnrp = hlp.parameteriser_lag_and_route()\n",
    "    parameteriser = CompositeParameteriser.concatenate(parameteriser, lnrp, strategy='')\n",
    "    return parameteriser\n",
    "\n"
   ]
  },
  {
   "cell_type": "code",
   "execution_count": 16,
   "id": "24",
   "metadata": {
    "execution": {
     "iopub.execute_input": "2025-05-16T04:15:14.603885Z",
     "iopub.status.busy": "2025-05-16T04:15:14.603715Z",
     "iopub.status.idle": "2025-05-16T04:15:14.613192Z",
     "shell.execute_reply": "2025-05-16T04:15:14.612665Z"
    }
   },
   "outputs": [],
   "source": [
    "parameteriser = create_meta_parameteriser(simulation)"
   ]
  },
  {
   "cell_type": "markdown",
   "id": "25",
   "metadata": {},
   "source": [
    "We have built a parameteriser for jointly parameterising:\n",
    "\n",
    "* GR4J parameters in transformed spaces ($log$ and $asinh$)\n",
    "* GR4J initial soil moisture store conditions ($S_0$ and $R_0$)\n",
    "* A \"lag and route\" streamflow routing scheme in transform space.\n",
    "\n",
    "There is even more happening there, because on top of GR4J parameter transformation we scale some in proportion to catchment area and time step length. But this is besides the point of this vignette: refer for instance to the vignette about tied parameters to know more about parameter transformation and composition of parameterisers. \n"
   ]
  },
  {
   "cell_type": "code",
   "execution_count": 17,
   "id": "26",
   "metadata": {
    "execution": {
     "iopub.execute_input": "2025-05-16T04:15:14.614549Z",
     "iopub.status.busy": "2025-05-16T04:15:14.614399Z",
     "iopub.status.idle": "2025-05-16T04:15:14.619133Z",
     "shell.execute_reply": "2025-05-16T04:15:14.618871Z"
    }
   },
   "outputs": [
    {
     "data": {
      "text/plain": [
       "               Name     Value       Min         Max\n",
       "0            log_x4  0.305422  0.000000    2.380211\n",
       "1            log_x1  0.506690  0.000000    3.778151\n",
       "2            log_x3  0.315425  0.000000    3.000000\n",
       "3          asinh_x2  2.637752 -3.989327    3.989327\n",
       "4                R0  0.900000  0.000000    1.000000\n",
       "5                S0  0.900000  0.000000    1.000000\n",
       "6             alpha  1.000000  0.001000  100.000000\n",
       "7  inverse_velocity  1.000000  0.001000  100.000000"
      ]
     },
     "execution_count": 17,
     "metadata": {},
     "output_type": "execute_result"
    }
   ],
   "source": [
    "parameteriser"
   ]
  },
  {
   "cell_type": "markdown",
   "id": "27",
   "metadata": {},
   "source": [
    "Let us check that we can apply the parameteriser and use its methods."
   ]
  },
  {
   "cell_type": "code",
   "execution_count": 18,
   "id": "28",
   "metadata": {
    "execution": {
     "iopub.execute_input": "2025-05-16T04:15:14.620406Z",
     "iopub.status.busy": "2025-05-16T04:15:14.620234Z",
     "iopub.status.idle": "2025-05-16T04:15:14.638473Z",
     "shell.execute_reply": "2025-05-16T04:15:14.637022Z"
    }
   },
   "outputs": [],
   "source": [
    "parameteriser.set_parameter_value('asinh_x2', 0)\n",
    "parameteriser.apply_sys_config(simulation)\n",
    "simulation.exec_simulation()"
   ]
  },
  {
   "cell_type": "markdown",
   "id": "29",
   "metadata": {},
   "source": [
    "We are now ready to enter the main topic of this vignette, i.e. setting up a weighted multi-objective for calibration purposes.\n",
    "\n",
    "## Defining weighting multi-objectives\n",
    "\n",
    "The sample gauge data flow contains gauge identifiers as column headers"
   ]
  },
  {
   "cell_type": "code",
   "execution_count": 19,
   "id": "30",
   "metadata": {
    "execution": {
     "iopub.execute_input": "2025-05-16T04:15:14.640849Z",
     "iopub.status.busy": "2025-05-16T04:15:14.640588Z",
     "iopub.status.idle": "2025-05-16T04:15:14.647915Z",
     "shell.execute_reply": "2025-05-16T04:15:14.647645Z"
    }
   },
   "outputs": [
    {
     "data": {
      "text/html": [
       "<div>\n",
       "<style scoped>\n",
       "    .dataframe tbody tr th:only-of-type {\n",
       "        vertical-align: middle;\n",
       "    }\n",
       "\n",
       "    .dataframe tbody tr th {\n",
       "        vertical-align: top;\n",
       "    }\n",
       "\n",
       "    .dataframe thead th {\n",
       "        text-align: right;\n",
       "    }\n",
       "</style>\n",
       "<table border=\"1\" class=\"dataframe\">\n",
       "  <thead>\n",
       "    <tr style=\"text-align: right;\">\n",
       "      <th></th>\n",
       "      <th>3364</th>\n",
       "      <th>18311</th>\n",
       "      <th>25</th>\n",
       "      <th>181</th>\n",
       "      <th>93044</th>\n",
       "      <th>592002</th>\n",
       "      <th>92020</th>\n",
       "      <th>92091</th>\n",
       "      <th>92106</th>\n",
       "    </tr>\n",
       "  </thead>\n",
       "  <tbody>\n",
       "    <tr>\n",
       "      <th>2010-11-01 00:00:00</th>\n",
       "      <td>1.753</td>\n",
       "      <td>0.755</td>\n",
       "      <td>1.229</td>\n",
       "      <td>11.705</td>\n",
       "      <td>10.65</td>\n",
       "      <td>0.897</td>\n",
       "      <td>0.8</td>\n",
       "      <td>8.51</td>\n",
       "      <td>9.2</td>\n",
       "    </tr>\n",
       "    <tr>\n",
       "      <th>2010-11-01 01:00:00</th>\n",
       "      <td>1.755</td>\n",
       "      <td>0.753</td>\n",
       "      <td>1.259</td>\n",
       "      <td>11.656</td>\n",
       "      <td>10.59</td>\n",
       "      <td>0.897</td>\n",
       "      <td>0.8</td>\n",
       "      <td>8.34</td>\n",
       "      <td>9.2</td>\n",
       "    </tr>\n",
       "    <tr>\n",
       "      <th>2010-11-01 02:00:00</th>\n",
       "      <td>1.746</td>\n",
       "      <td>0.743</td>\n",
       "      <td>1.280</td>\n",
       "      <td>11.606</td>\n",
       "      <td>10.56</td>\n",
       "      <td>0.897</td>\n",
       "      <td>0.8</td>\n",
       "      <td>8.00</td>\n",
       "      <td>9.2</td>\n",
       "    </tr>\n",
       "    <tr>\n",
       "      <th>2010-11-01 03:00:00</th>\n",
       "      <td>1.748</td>\n",
       "      <td>0.752</td>\n",
       "      <td>1.291</td>\n",
       "      <td>11.570</td>\n",
       "      <td>10.44</td>\n",
       "      <td>0.897</td>\n",
       "      <td>0.8</td>\n",
       "      <td>7.96</td>\n",
       "      <td>9.2</td>\n",
       "    </tr>\n",
       "    <tr>\n",
       "      <th>2010-11-01 04:00:00</th>\n",
       "      <td>1.735</td>\n",
       "      <td>0.737</td>\n",
       "      <td>1.296</td>\n",
       "      <td>11.528</td>\n",
       "      <td>10.35</td>\n",
       "      <td>0.897</td>\n",
       "      <td>0.8</td>\n",
       "      <td>7.96</td>\n",
       "      <td>9.2</td>\n",
       "    </tr>\n",
       "  </tbody>\n",
       "</table>\n",
       "</div>"
      ],
      "text/plain": [
       "                      3364  18311     25     181  93044  592002  92020  92091  \\\n",
       "2010-11-01 00:00:00  1.753  0.755  1.229  11.705  10.65   0.897    0.8   8.51   \n",
       "2010-11-01 01:00:00  1.755  0.753  1.259  11.656  10.59   0.897    0.8   8.34   \n",
       "2010-11-01 02:00:00  1.746  0.743  1.280  11.606  10.56   0.897    0.8   8.00   \n",
       "2010-11-01 03:00:00  1.748  0.752  1.291  11.570  10.44   0.897    0.8   7.96   \n",
       "2010-11-01 04:00:00  1.735  0.737  1.296  11.528  10.35   0.897    0.8   7.96   \n",
       "\n",
       "                     92106  \n",
       "2010-11-01 00:00:00    9.2  \n",
       "2010-11-01 01:00:00    9.2  \n",
       "2010-11-01 02:00:00    9.2  \n",
       "2010-11-01 03:00:00    9.2  \n",
       "2010-11-01 04:00:00    9.2  "
      ]
     },
     "execution_count": 19,
     "metadata": {},
     "output_type": "execute_result"
    }
   ],
   "source": [
    "se_flows.head()"
   ]
  },
  {
   "cell_type": "markdown",
   "id": "31",
   "metadata": {},
   "source": [
    "The network of nodes of the simulation is arbitrarily identified with nodes '1' to '43'"
   ]
  },
  {
   "cell_type": "code",
   "execution_count": 20,
   "id": "32",
   "metadata": {
    "execution": {
     "iopub.execute_input": "2025-05-16T04:15:14.649329Z",
     "iopub.status.busy": "2025-05-16T04:15:14.649104Z",
     "iopub.status.idle": "2025-05-16T04:15:14.652416Z",
     "shell.execute_reply": "2025-05-16T04:15:14.652141Z"
    }
   },
   "outputs": [
    {
     "data": {
      "text/plain": [
       "dict_keys(['1', '2', '3', '4', '5', '6', '7', '8', '9', '10', '11', '12', '13', '14', '15', '16', '17', '18', '19', '20', '21', '22', '23', '24', '25', '26', '27', '28', '29', '30', '31', '32', '33', '34', '35', '36', '37', '38', '39', '40', '41', '42', '43'])"
      ]
     },
     "execution_count": 20,
     "metadata": {},
     "output_type": "execute_result"
    }
   ],
   "source": [
    "simulation.describe()[\"nodes\"].keys()"
   ]
  },
  {
   "cell_type": "markdown",
   "id": "33",
   "metadata": {},
   "source": [
    "We \"know\" that we can associate the node identifiers 'node.{i}' with gauge identifiers (note to doc maintainers: manually extracted from legacy swiftv1 NodeLink files)"
   ]
  },
  {
   "cell_type": "code",
   "execution_count": 21,
   "id": "34",
   "metadata": {
    "execution": {
     "iopub.execute_input": "2025-05-16T04:15:14.653633Z",
     "iopub.status.busy": "2025-05-16T04:15:14.653506Z",
     "iopub.status.idle": "2025-05-16T04:15:14.655702Z",
     "shell.execute_reply": "2025-05-16T04:15:14.655416Z"
    }
   },
   "outputs": [],
   "source": [
    "gauges = c( '92106', '592002', '18311', '93044',    '25',   '181')\n",
    "node_ids = paste0('node.', c('7',   '12',   '25',   '30',   '40',   '43'))   \n",
    "# names(gauges) = node_ids"
   ]
  },
  {
   "cell_type": "markdown",
   "id": "35",
   "metadata": {},
   "source": [
    "First, let us try the Nash Sutcliffe efficiency, for simplicity (no additional parameters needed). We will set up NSE calculations at two points (nodes) in the catchments. Any model state from a link, node or subarea could be a point for statistics calculation.\n",
    "\n",
    "The function `multi_statistic_definition` in the module `swift2.statistics` is used to create multisite multiobjective definitions."
   ]
  },
  {
   "cell_type": "code",
   "execution_count": 22,
   "id": "36",
   "metadata": {
    "execution": {
     "iopub.execute_input": "2025-05-16T04:15:14.656917Z",
     "iopub.status.busy": "2025-05-16T04:15:14.656811Z",
     "iopub.status.idle": "2025-05-16T04:15:14.658673Z",
     "shell.execute_reply": "2025-05-16T04:15:14.658385Z"
    }
   },
   "outputs": [],
   "source": [
    "import swift2.statistics as ssf"
   ]
  },
  {
   "cell_type": "code",
   "execution_count": 23,
   "id": "37",
   "metadata": {
    "execution": {
     "iopub.execute_input": "2025-05-16T04:15:14.659989Z",
     "iopub.status.busy": "2025-05-16T04:15:14.659780Z",
     "iopub.status.idle": "2025-05-16T04:15:14.689521Z",
     "shell.execute_reply": "2025-05-16T04:15:14.689131Z"
    }
   },
   "outputs": [],
   "source": [
    "ssf.multi_statistic_definition?"
   ]
  },
  {
   "cell_type": "code",
   "execution_count": 24,
   "id": "38",
   "metadata": {
    "execution": {
     "iopub.execute_input": "2025-05-16T04:15:14.690865Z",
     "iopub.status.busy": "2025-05-16T04:15:14.690740Z",
     "iopub.status.idle": "2025-05-16T04:15:14.693512Z",
     "shell.execute_reply": "2025-05-16T04:15:14.693240Z"
    }
   },
   "outputs": [
    {
     "data": {
      "text/plain": [
       "{'start': datetime.datetime(2010, 11, 1, 0, 0),\n",
       " 'end': datetime.datetime(2010, 11, 20, 23, 0),\n",
       " 'time step': 'hourly'}"
      ]
     },
     "execution_count": 24,
     "metadata": {},
     "output_type": "execute_result"
    }
   ],
   "source": [
    "span = simulation.get_simulation_span()\n",
    "span"
   ]
  },
  {
   "cell_type": "code",
   "execution_count": 25,
   "id": "39",
   "metadata": {
    "execution": {
     "iopub.execute_input": "2025-05-16T04:15:14.694805Z",
     "iopub.status.busy": "2025-05-16T04:15:14.694696Z",
     "iopub.status.idle": "2025-05-16T04:15:14.696615Z",
     "shell.execute_reply": "2025-05-16T04:15:14.696348Z"
    }
   },
   "outputs": [],
   "source": [
    "s = span['start']\n",
    "e = span['end']"
   ]
  },
  {
   "cell_type": "code",
   "execution_count": 26,
   "id": "40",
   "metadata": {
    "execution": {
     "iopub.execute_input": "2025-05-16T04:15:14.697922Z",
     "iopub.status.busy": "2025-05-16T04:15:14.697815Z",
     "iopub.status.idle": "2025-05-16T04:15:14.700593Z",
     "shell.execute_reply": "2025-05-16T04:15:14.700293Z"
    }
   },
   "outputs": [
    {
     "data": {
      "text/plain": [
       "['node.7.OutflowRate', 'node.12.OutflowRate']"
      ]
     },
     "execution_count": 26,
     "metadata": {},
     "output_type": "execute_result"
    }
   ],
   "source": [
    "calibration_points = node_ids[:2]\n",
    "mvids = mk_full_data_id(calibration_points, 'OutflowRate')\n",
    "mvids"
   ]
  },
  {
   "cell_type": "code",
   "execution_count": 27,
   "id": "41",
   "metadata": {
    "execution": {
     "iopub.execute_input": "2025-05-16T04:15:14.701895Z",
     "iopub.status.busy": "2025-05-16T04:15:14.701731Z",
     "iopub.status.idle": "2025-05-16T04:15:14.707890Z",
     "shell.execute_reply": "2025-05-16T04:15:14.707611Z"
    }
   },
   "outputs": [],
   "source": [
    "statspec = ssf.multi_statistic_definition( \n",
    "  model_var_ids = mvids, \n",
    "  statistic_ids = rep('nse', 2), \n",
    "  objective_ids = calibration_points, \n",
    "  objective_names = paste0(\"NSE-\", calibration_points), \n",
    "  starts = [s, s + pd.DateOffset(hours=3)],\n",
    "  ends =  [e + pd.DateOffset(hours=-4), e + pd.DateOffset(hours=-2)])"
   ]
  },
  {
   "cell_type": "markdown",
   "id": "42",
   "metadata": {},
   "source": [
    "We now have our set of statistics defined:"
   ]
  },
  {
   "cell_type": "code",
   "execution_count": 28,
   "id": "43",
   "metadata": {
    "execution": {
     "iopub.execute_input": "2025-05-16T04:15:14.709089Z",
     "iopub.status.busy": "2025-05-16T04:15:14.708979Z",
     "iopub.status.idle": "2025-05-16T04:15:14.713973Z",
     "shell.execute_reply": "2025-05-16T04:15:14.713700Z"
    }
   },
   "outputs": [
    {
     "data": {
      "text/html": [
       "<div>\n",
       "<style scoped>\n",
       "    .dataframe tbody tr th:only-of-type {\n",
       "        vertical-align: middle;\n",
       "    }\n",
       "\n",
       "    .dataframe tbody tr th {\n",
       "        vertical-align: top;\n",
       "    }\n",
       "\n",
       "    .dataframe thead th {\n",
       "        text-align: right;\n",
       "    }\n",
       "</style>\n",
       "<table border=\"1\" class=\"dataframe\">\n",
       "  <thead>\n",
       "    <tr style=\"text-align: right;\">\n",
       "      <th></th>\n",
       "      <th>ModelVarId</th>\n",
       "      <th>StatisticId</th>\n",
       "      <th>ObjectiveId</th>\n",
       "      <th>ObjectiveName</th>\n",
       "      <th>Start</th>\n",
       "      <th>End</th>\n",
       "    </tr>\n",
       "  </thead>\n",
       "  <tbody>\n",
       "    <tr>\n",
       "      <th>0</th>\n",
       "      <td>node.7.OutflowRate</td>\n",
       "      <td>nse</td>\n",
       "      <td>node.7</td>\n",
       "      <td>NSE-node.7</td>\n",
       "      <td>2010-11-01 00:00:00</td>\n",
       "      <td>2010-11-20 19:00:00</td>\n",
       "    </tr>\n",
       "    <tr>\n",
       "      <th>1</th>\n",
       "      <td>node.12.OutflowRate</td>\n",
       "      <td>nse</td>\n",
       "      <td>node.12</td>\n",
       "      <td>NSE-node.12</td>\n",
       "      <td>2010-11-01 03:00:00</td>\n",
       "      <td>2010-11-20 21:00:00</td>\n",
       "    </tr>\n",
       "  </tbody>\n",
       "</table>\n",
       "</div>"
      ],
      "text/plain": [
       "            ModelVarId StatisticId ObjectiveId ObjectiveName  \\\n",
       "0   node.7.OutflowRate         nse      node.7    NSE-node.7   \n",
       "1  node.12.OutflowRate         nse     node.12   NSE-node.12   \n",
       "\n",
       "                Start                 End  \n",
       "0 2010-11-01 00:00:00 2010-11-20 19:00:00  \n",
       "1 2010-11-01 03:00:00 2010-11-20 21:00:00  "
      ]
     },
     "execution_count": 28,
     "metadata": {},
     "output_type": "execute_result"
    }
   ],
   "source": [
    "statspec"
   ]
  },
  {
   "cell_type": "markdown",
   "id": "44",
   "metadata": {},
   "source": [
    "To create a multisite objective evaluator we need to use the `create_multisite_objective` method of the `simulation` object. We have out statistics defined. The method requires observations and weights to give to combine statistics to a single objective."
   ]
  },
  {
   "cell_type": "code",
   "execution_count": 29,
   "id": "45",
   "metadata": {
    "execution": {
     "iopub.execute_input": "2025-05-16T04:15:14.715163Z",
     "iopub.status.busy": "2025-05-16T04:15:14.715051Z",
     "iopub.status.idle": "2025-05-16T04:15:14.718654Z",
     "shell.execute_reply": "2025-05-16T04:15:14.718351Z"
    }
   },
   "outputs": [],
   "source": [
    "simulation.create_multisite_objective?"
   ]
  },
  {
   "cell_type": "code",
   "execution_count": 30,
   "id": "46",
   "metadata": {
    "execution": {
     "iopub.execute_input": "2025-05-16T04:15:14.719944Z",
     "iopub.status.busy": "2025-05-16T04:15:14.719734Z",
     "iopub.status.idle": "2025-05-16T04:15:14.721765Z",
     "shell.execute_reply": "2025-05-16T04:15:14.721491Z"
    }
   },
   "outputs": [],
   "source": [
    "observations = [\n",
    "  se_flows[gauges[0]],\n",
    "  se_flows[gauges[1]]\n",
    "]"
   ]
  },
  {
   "cell_type": "code",
   "execution_count": 31,
   "id": "47",
   "metadata": {
    "execution": {
     "iopub.execute_input": "2025-05-16T04:15:14.723036Z",
     "iopub.status.busy": "2025-05-16T04:15:14.722785Z",
     "iopub.status.idle": "2025-05-16T04:15:14.725348Z",
     "shell.execute_reply": "2025-05-16T04:15:14.725089Z"
    }
   },
   "outputs": [
    {
     "data": {
      "text/plain": [
       "{'node.7': 1.0, 'node.12': 2.0}"
      ]
     },
     "execution_count": 31,
     "metadata": {},
     "output_type": "execute_result"
    }
   ],
   "source": [
    "w = {calibration_points[0]: 1.0, calibration_points[1]: 2.0} # weights (internally normalised to a total of 1.0)\n",
    "w"
   ]
  },
  {
   "cell_type": "code",
   "execution_count": 32,
   "id": "48",
   "metadata": {
    "execution": {
     "iopub.execute_input": "2025-05-16T04:15:14.726585Z",
     "iopub.status.busy": "2025-05-16T04:15:14.726334Z",
     "iopub.status.idle": "2025-05-16T04:15:14.766352Z",
     "shell.execute_reply": "2025-05-16T04:15:14.765957Z"
    }
   },
   "outputs": [
    {
     "data": {
      "text/plain": [
       "{'scores': {'MultisiteObjectives': 290.33738106858823},\n",
       " 'sysconfig':                Name     Value       Min         Max\n",
       " 0            log_x4  0.305422  0.000000    2.380211\n",
       " 1            log_x1  0.506690  0.000000    3.778151\n",
       " 2            log_x3  0.315425  0.000000    3.000000\n",
       " 3          asinh_x2  0.000000 -3.989327    3.989327\n",
       " 4                R0  0.900000  0.000000    1.000000\n",
       " 5                S0  0.900000  0.000000    1.000000\n",
       " 6             alpha  1.000000  0.001000  100.000000\n",
       " 7  inverse_velocity  1.000000  0.001000  100.000000}"
      ]
     },
     "execution_count": 32,
     "metadata": {},
     "output_type": "execute_result"
    }
   ],
   "source": [
    "moe = simulation.create_multisite_objective(statspec, observations, w)\n",
    "moe.get_score(parameteriser)"
   ]
  },
  {
   "cell_type": "markdown",
   "id": "49",
   "metadata": {},
   "source": [
    "We can get the value of each objective. The two NSE scores below are negative. Note above that the composite objective is positive, i.e. the opposite of the weighted average. This is because the composite objective is always minimisable (as of writing anyway this is a design choice.)"
   ]
  },
  {
   "cell_type": "code",
   "execution_count": 33,
   "id": "50",
   "metadata": {
    "execution": {
     "iopub.execute_input": "2025-05-16T04:15:14.767676Z",
     "iopub.status.busy": "2025-05-16T04:15:14.767534Z",
     "iopub.status.idle": "2025-05-16T04:15:14.784326Z",
     "shell.execute_reply": "2025-05-16T04:15:14.784065Z"
    }
   },
   "outputs": [
    {
     "data": {
      "text/plain": [
       "{'node.12': np.float64(-347.3329926657439),\n",
       " 'node.7': np.float64(-176.3461578742768)}"
      ]
     },
     "execution_count": 33,
     "metadata": {},
     "output_type": "execute_result"
    }
   ],
   "source": [
    "moe.get_scores(parameteriser)"
   ]
  },
  {
   "cell_type": "markdown",
   "id": "51",
   "metadata": {},
   "source": [
    "## log-likelihood multiple objective\n",
    "\n",
    "Now, let's move on to use log-likelihood instead of NSE. This adds one level of complexity compared to the above. Besides calibrating the hydrologic parameters of GR4J and flow routing, with the Log-Likelihood we introduce a set of parameters $(a, b, m, s, ...)$ for each calibration point. The statistic definition is similar and still straightforward"
   ]
  },
  {
   "cell_type": "code",
   "execution_count": 34,
   "id": "52",
   "metadata": {
    "execution": {
     "iopub.execute_input": "2025-05-16T04:15:14.785655Z",
     "iopub.status.busy": "2025-05-16T04:15:14.785453Z",
     "iopub.status.idle": "2025-05-16T04:15:14.791855Z",
     "shell.execute_reply": "2025-05-16T04:15:14.791562Z"
    }
   },
   "outputs": [
    {
     "data": {
      "text/html": [
       "<div>\n",
       "<style scoped>\n",
       "    .dataframe tbody tr th:only-of-type {\n",
       "        vertical-align: middle;\n",
       "    }\n",
       "\n",
       "    .dataframe tbody tr th {\n",
       "        vertical-align: top;\n",
       "    }\n",
       "\n",
       "    .dataframe thead th {\n",
       "        text-align: right;\n",
       "    }\n",
       "</style>\n",
       "<table border=\"1\" class=\"dataframe\">\n",
       "  <thead>\n",
       "    <tr style=\"text-align: right;\">\n",
       "      <th></th>\n",
       "      <th>ModelVarId</th>\n",
       "      <th>StatisticId</th>\n",
       "      <th>ObjectiveId</th>\n",
       "      <th>ObjectiveName</th>\n",
       "      <th>Start</th>\n",
       "      <th>End</th>\n",
       "    </tr>\n",
       "  </thead>\n",
       "  <tbody>\n",
       "    <tr>\n",
       "      <th>0</th>\n",
       "      <td>node.7.OutflowRate</td>\n",
       "      <td>log-likelihood</td>\n",
       "      <td>node.7</td>\n",
       "      <td>LL-node.7</td>\n",
       "      <td>2010-11-01</td>\n",
       "      <td>2010-11-20 23:00:00</td>\n",
       "    </tr>\n",
       "    <tr>\n",
       "      <th>1</th>\n",
       "      <td>node.12.OutflowRate</td>\n",
       "      <td>log-likelihood</td>\n",
       "      <td>node.12</td>\n",
       "      <td>LL-node.12</td>\n",
       "      <td>2010-11-01</td>\n",
       "      <td>2010-11-20 23:00:00</td>\n",
       "    </tr>\n",
       "  </tbody>\n",
       "</table>\n",
       "</div>"
      ],
      "text/plain": [
       "            ModelVarId     StatisticId ObjectiveId ObjectiveName      Start  \\\n",
       "0   node.7.OutflowRate  log-likelihood      node.7     LL-node.7 2010-11-01   \n",
       "1  node.12.OutflowRate  log-likelihood     node.12    LL-node.12 2010-11-01   \n",
       "\n",
       "                  End  \n",
       "0 2010-11-20 23:00:00  \n",
       "1 2010-11-20 23:00:00  "
      ]
     },
     "execution_count": 34,
     "metadata": {},
     "output_type": "execute_result"
    }
   ],
   "source": [
    "statspec = ssf.multi_statistic_definition(  \n",
    "  model_var_ids = mvids, \n",
    "  statistic_ids = rep('log-likelihood', 2), \n",
    "  objective_ids=calibration_points, \n",
    "  objective_names = paste0(\"LL-\", calibration_points), \n",
    "  starts = rep(span['start'], 2), \n",
    "  ends = rep(span['end'], 2) )\n",
    "\n",
    "statspec"
   ]
  },
  {
   "cell_type": "markdown",
   "id": "53",
   "metadata": {},
   "source": [
    "But while we can create the calculator, we cannot evaluate it against the sole hydrologic parameters defined in the previous section"
   ]
  },
  {
   "cell_type": "code",
   "execution_count": 35,
   "id": "54",
   "metadata": {
    "execution": {
     "iopub.execute_input": "2025-05-16T04:15:14.793111Z",
     "iopub.status.busy": "2025-05-16T04:15:14.792940Z",
     "iopub.status.idle": "2025-05-16T04:15:14.802063Z",
     "shell.execute_reply": "2025-05-16T04:15:14.801558Z"
    }
   },
   "outputs": [],
   "source": [
    "obj = simulation.create_multisite_objective(statspec, observations, w)\n",
    "### This cannot work if the statistic is the log-likelihood:\n",
    "# obj.get_scores(fp)"
   ]
  },
  {
   "cell_type": "markdown",
   "id": "55",
   "metadata": {},
   "source": [
    "If we try to do the above we would end up with an error message 'Mandatory key expected in the dictionary but not found: b'"
   ]
  },
  {
   "cell_type": "markdown",
   "id": "56",
   "metadata": {},
   "source": [
    "For this to work we need to include parameters "
   ]
  },
  {
   "cell_type": "code",
   "execution_count": 36,
   "id": "57",
   "metadata": {
    "execution": {
     "iopub.execute_input": "2025-05-16T04:15:14.803395Z",
     "iopub.status.busy": "2025-05-16T04:15:14.803286Z",
     "iopub.status.idle": "2025-05-16T04:15:14.811619Z",
     "shell.execute_reply": "2025-05-16T04:15:14.811210Z"
    }
   },
   "outputs": [
    {
     "data": {
      "text/html": [
       "<div>\n",
       "<style scoped>\n",
       "    .dataframe tbody tr th:only-of-type {\n",
       "        vertical-align: middle;\n",
       "    }\n",
       "\n",
       "    .dataframe tbody tr th {\n",
       "        vertical-align: top;\n",
       "    }\n",
       "\n",
       "    .dataframe thead th {\n",
       "        text-align: right;\n",
       "    }\n",
       "</style>\n",
       "<table border=\"1\" class=\"dataframe\">\n",
       "  <thead>\n",
       "    <tr style=\"text-align: right;\">\n",
       "      <th></th>\n",
       "      <th>Name</th>\n",
       "      <th>Value</th>\n",
       "      <th>Min</th>\n",
       "      <th>Max</th>\n",
       "    </tr>\n",
       "  </thead>\n",
       "  <tbody>\n",
       "    <tr>\n",
       "      <th>0</th>\n",
       "      <td>b</td>\n",
       "      <td>-7.00</td>\n",
       "      <td>-30.00</td>\n",
       "      <td>0.00</td>\n",
       "    </tr>\n",
       "    <tr>\n",
       "      <th>1</th>\n",
       "      <td>m</td>\n",
       "      <td>0.00</td>\n",
       "      <td>0.00</td>\n",
       "      <td>0.00</td>\n",
       "    </tr>\n",
       "    <tr>\n",
       "      <th>2</th>\n",
       "      <td>s</td>\n",
       "      <td>100.00</td>\n",
       "      <td>1.00</td>\n",
       "      <td>1000.00</td>\n",
       "    </tr>\n",
       "    <tr>\n",
       "      <th>3</th>\n",
       "      <td>a</td>\n",
       "      <td>-10.00</td>\n",
       "      <td>-30.00</td>\n",
       "      <td>1.00</td>\n",
       "    </tr>\n",
       "    <tr>\n",
       "      <th>4</th>\n",
       "      <td>maxobs</td>\n",
       "      <td>22.00</td>\n",
       "      <td>22.00</td>\n",
       "      <td>22.00</td>\n",
       "    </tr>\n",
       "    <tr>\n",
       "      <th>5</th>\n",
       "      <td>ct</td>\n",
       "      <td>0.01</td>\n",
       "      <td>0.01</td>\n",
       "      <td>0.01</td>\n",
       "    </tr>\n",
       "    <tr>\n",
       "      <th>6</th>\n",
       "      <td>censopt</td>\n",
       "      <td>0.00</td>\n",
       "      <td>0.00</td>\n",
       "      <td>0.00</td>\n",
       "    </tr>\n",
       "    <tr>\n",
       "      <th>7</th>\n",
       "      <td>calc_mod_m_s</td>\n",
       "      <td>1.00</td>\n",
       "      <td>1.00</td>\n",
       "      <td>1.00</td>\n",
       "    </tr>\n",
       "  </tbody>\n",
       "</table>\n",
       "</div>"
      ],
      "text/plain": [
       "           Name   Value    Min      Max\n",
       "0             b   -7.00 -30.00     0.00\n",
       "1             m    0.00   0.00     0.00\n",
       "2             s  100.00   1.00  1000.00\n",
       "3             a  -10.00 -30.00     1.00\n",
       "4        maxobs   22.00  22.00    22.00\n",
       "5            ct    0.01   0.01     0.01\n",
       "6       censopt    0.00   0.00     0.00\n",
       "7  calc_mod_m_s    1.00   1.00     1.00"
      ]
     },
     "execution_count": 36,
     "metadata": {},
     "output_type": "execute_result"
    }
   ],
   "source": [
    "maxobs = np.max(observations[0].values) # NOTE: np.nan??\n",
    "censor_threshold = 0.01\n",
    "censopt = 0.0\n",
    "calc_m_and_s = 1.0 # i.e. TRUE\n",
    "\n",
    "#\t\tconst string LogLikelihoodKeys::KeyAugmentSimulation = \"augment_simulation\";\n",
    "#\t\tconst string LogLikelihoodKeys::KeyExcludeAtTMinusOne = \"exclude_t_min_one\";\n",
    "#\t\tconst string LogLikelihoodKeys::KeyCalculateModelledMAndS = \"calc_mod_m_s\";\n",
    "#\t\tconst string LogLikelihoodKeys::KeyMParMod = \"m_par_mod\";\n",
    "#\t\tconst string LogLikelihoodKeys::KeySParMod = \"s_par_mod\";\n",
    "\n",
    "p = sp.create_parameteriser('no apply')\n",
    "# Note: exampleParameterizer is also available\n",
    "p.add_to_hypercube( \n",
    "          pd.DataFrame.from_dict( dict(Name=c('b','m','s','a','maxobs','ct', 'censopt', 'calc_mod_m_s'),\n",
    "          Min   = c(-30, 0, 1,    -30, maxobs, censor_threshold, censopt, calc_m_and_s),\n",
    "          Max   = c(0,   0, 1000, 1, maxobs, censor_threshold, censopt, calc_m_and_s),\n",
    "          Value = c(-7,  0, 100,  -10, maxobs, censor_threshold, censopt, calc_m_and_s)) ))\n",
    "\n",
    "p.as_dataframe()"
   ]
  },
  {
   "cell_type": "code",
   "execution_count": 37,
   "id": "58",
   "metadata": {
    "execution": {
     "iopub.execute_input": "2025-05-16T04:15:14.812847Z",
     "iopub.status.busy": "2025-05-16T04:15:14.812691Z",
     "iopub.status.idle": "2025-05-16T04:15:14.820885Z",
     "shell.execute_reply": "2025-05-16T04:15:14.820563Z"
    }
   },
   "outputs": [
    {
     "data": {
      "text/html": [
       "<div>\n",
       "<style scoped>\n",
       "    .dataframe tbody tr th:only-of-type {\n",
       "        vertical-align: middle;\n",
       "    }\n",
       "\n",
       "    .dataframe tbody tr th {\n",
       "        vertical-align: top;\n",
       "    }\n",
       "\n",
       "    .dataframe thead th {\n",
       "        text-align: right;\n",
       "    }\n",
       "</style>\n",
       "<table border=\"1\" class=\"dataframe\">\n",
       "  <thead>\n",
       "    <tr style=\"text-align: right;\">\n",
       "      <th></th>\n",
       "      <th>Name</th>\n",
       "      <th>Value</th>\n",
       "      <th>Min</th>\n",
       "      <th>Max</th>\n",
       "    </tr>\n",
       "  </thead>\n",
       "  <tbody>\n",
       "    <tr>\n",
       "      <th>0</th>\n",
       "      <td>log_x4</td>\n",
       "      <td>0.305422</td>\n",
       "      <td>0.000000</td>\n",
       "      <td>2.380211</td>\n",
       "    </tr>\n",
       "    <tr>\n",
       "      <th>1</th>\n",
       "      <td>log_x1</td>\n",
       "      <td>0.506690</td>\n",
       "      <td>0.000000</td>\n",
       "      <td>3.778151</td>\n",
       "    </tr>\n",
       "    <tr>\n",
       "      <th>2</th>\n",
       "      <td>log_x3</td>\n",
       "      <td>0.315425</td>\n",
       "      <td>0.000000</td>\n",
       "      <td>3.000000</td>\n",
       "    </tr>\n",
       "    <tr>\n",
       "      <th>3</th>\n",
       "      <td>asinh_x2</td>\n",
       "      <td>0.000000</td>\n",
       "      <td>-3.989327</td>\n",
       "      <td>3.989327</td>\n",
       "    </tr>\n",
       "    <tr>\n",
       "      <th>4</th>\n",
       "      <td>R0</td>\n",
       "      <td>0.900000</td>\n",
       "      <td>0.000000</td>\n",
       "      <td>1.000000</td>\n",
       "    </tr>\n",
       "    <tr>\n",
       "      <th>5</th>\n",
       "      <td>S0</td>\n",
       "      <td>0.900000</td>\n",
       "      <td>0.000000</td>\n",
       "      <td>1.000000</td>\n",
       "    </tr>\n",
       "    <tr>\n",
       "      <th>6</th>\n",
       "      <td>alpha</td>\n",
       "      <td>1.000000</td>\n",
       "      <td>0.001000</td>\n",
       "      <td>100.000000</td>\n",
       "    </tr>\n",
       "    <tr>\n",
       "      <th>7</th>\n",
       "      <td>inverse_velocity</td>\n",
       "      <td>1.000000</td>\n",
       "      <td>0.001000</td>\n",
       "      <td>100.000000</td>\n",
       "    </tr>\n",
       "    <tr>\n",
       "      <th>8</th>\n",
       "      <td>node.7.b</td>\n",
       "      <td>-7.000000</td>\n",
       "      <td>-30.000000</td>\n",
       "      <td>0.000000</td>\n",
       "    </tr>\n",
       "    <tr>\n",
       "      <th>9</th>\n",
       "      <td>node.7.m</td>\n",
       "      <td>0.000000</td>\n",
       "      <td>0.000000</td>\n",
       "      <td>0.000000</td>\n",
       "    </tr>\n",
       "    <tr>\n",
       "      <th>10</th>\n",
       "      <td>node.7.s</td>\n",
       "      <td>100.000000</td>\n",
       "      <td>1.000000</td>\n",
       "      <td>1000.000000</td>\n",
       "    </tr>\n",
       "    <tr>\n",
       "      <th>11</th>\n",
       "      <td>node.7.a</td>\n",
       "      <td>-10.000000</td>\n",
       "      <td>-30.000000</td>\n",
       "      <td>1.000000</td>\n",
       "    </tr>\n",
       "    <tr>\n",
       "      <th>12</th>\n",
       "      <td>node.7.maxobs</td>\n",
       "      <td>22.000000</td>\n",
       "      <td>22.000000</td>\n",
       "      <td>22.000000</td>\n",
       "    </tr>\n",
       "    <tr>\n",
       "      <th>13</th>\n",
       "      <td>node.7.ct</td>\n",
       "      <td>0.010000</td>\n",
       "      <td>0.010000</td>\n",
       "      <td>0.010000</td>\n",
       "    </tr>\n",
       "    <tr>\n",
       "      <th>14</th>\n",
       "      <td>node.7.censopt</td>\n",
       "      <td>0.000000</td>\n",
       "      <td>0.000000</td>\n",
       "      <td>0.000000</td>\n",
       "    </tr>\n",
       "    <tr>\n",
       "      <th>15</th>\n",
       "      <td>node.7.calc_mod_m_s</td>\n",
       "      <td>1.000000</td>\n",
       "      <td>1.000000</td>\n",
       "      <td>1.000000</td>\n",
       "    </tr>\n",
       "    <tr>\n",
       "      <th>16</th>\n",
       "      <td>node.12.b</td>\n",
       "      <td>-7.000000</td>\n",
       "      <td>-30.000000</td>\n",
       "      <td>0.000000</td>\n",
       "    </tr>\n",
       "    <tr>\n",
       "      <th>17</th>\n",
       "      <td>node.12.m</td>\n",
       "      <td>0.000000</td>\n",
       "      <td>0.000000</td>\n",
       "      <td>0.000000</td>\n",
       "    </tr>\n",
       "    <tr>\n",
       "      <th>18</th>\n",
       "      <td>node.12.s</td>\n",
       "      <td>100.000000</td>\n",
       "      <td>1.000000</td>\n",
       "      <td>1000.000000</td>\n",
       "    </tr>\n",
       "    <tr>\n",
       "      <th>19</th>\n",
       "      <td>node.12.a</td>\n",
       "      <td>-10.000000</td>\n",
       "      <td>-30.000000</td>\n",
       "      <td>1.000000</td>\n",
       "    </tr>\n",
       "    <tr>\n",
       "      <th>20</th>\n",
       "      <td>node.12.maxobs</td>\n",
       "      <td>22.000000</td>\n",
       "      <td>22.000000</td>\n",
       "      <td>22.000000</td>\n",
       "    </tr>\n",
       "    <tr>\n",
       "      <th>21</th>\n",
       "      <td>node.12.ct</td>\n",
       "      <td>0.010000</td>\n",
       "      <td>0.010000</td>\n",
       "      <td>0.010000</td>\n",
       "    </tr>\n",
       "    <tr>\n",
       "      <th>22</th>\n",
       "      <td>node.12.censopt</td>\n",
       "      <td>0.000000</td>\n",
       "      <td>0.000000</td>\n",
       "      <td>0.000000</td>\n",
       "    </tr>\n",
       "    <tr>\n",
       "      <th>23</th>\n",
       "      <td>node.12.calc_mod_m_s</td>\n",
       "      <td>1.000000</td>\n",
       "      <td>1.000000</td>\n",
       "      <td>1.000000</td>\n",
       "    </tr>\n",
       "  </tbody>\n",
       "</table>\n",
       "</div>"
      ],
      "text/plain": [
       "                    Name       Value        Min          Max\n",
       "0                 log_x4    0.305422   0.000000     2.380211\n",
       "1                 log_x1    0.506690   0.000000     3.778151\n",
       "2                 log_x3    0.315425   0.000000     3.000000\n",
       "3               asinh_x2    0.000000  -3.989327     3.989327\n",
       "4                     R0    0.900000   0.000000     1.000000\n",
       "5                     S0    0.900000   0.000000     1.000000\n",
       "6                  alpha    1.000000   0.001000   100.000000\n",
       "7       inverse_velocity    1.000000   0.001000   100.000000\n",
       "8               node.7.b   -7.000000 -30.000000     0.000000\n",
       "9               node.7.m    0.000000   0.000000     0.000000\n",
       "10              node.7.s  100.000000   1.000000  1000.000000\n",
       "11              node.7.a  -10.000000 -30.000000     1.000000\n",
       "12         node.7.maxobs   22.000000  22.000000    22.000000\n",
       "13             node.7.ct    0.010000   0.010000     0.010000\n",
       "14        node.7.censopt    0.000000   0.000000     0.000000\n",
       "15   node.7.calc_mod_m_s    1.000000   1.000000     1.000000\n",
       "16             node.12.b   -7.000000 -30.000000     0.000000\n",
       "17             node.12.m    0.000000   0.000000     0.000000\n",
       "18             node.12.s  100.000000   1.000000  1000.000000\n",
       "19             node.12.a  -10.000000 -30.000000     1.000000\n",
       "20        node.12.maxobs   22.000000  22.000000    22.000000\n",
       "21            node.12.ct    0.010000   0.010000     0.010000\n",
       "22       node.12.censopt    0.000000   0.000000     0.000000\n",
       "23  node.12.calc_mod_m_s    1.000000   1.000000     1.000000"
      ]
     },
     "execution_count": 37,
     "metadata": {},
     "output_type": "execute_result"
    }
   ],
   "source": [
    "func_parameterisers = [p, p.clone()] # for the two calib points, NSE has no param here\n",
    "catchment_pzer = parameteriser\n",
    "fp = sp.create_multisite_obj_parameteriser(func_parameterisers, calibration_points, prefixes=paste0(calibration_points, '.'), mix_func_parameteriser=None, hydro_parameteriser=catchment_pzer)\n",
    "fp.as_dataframe()"
   ]
  },
  {
   "cell_type": "code",
   "execution_count": 38,
   "id": "59",
   "metadata": {
    "execution": {
     "iopub.execute_input": "2025-05-16T04:15:14.822085Z",
     "iopub.status.busy": "2025-05-16T04:15:14.821954Z",
     "iopub.status.idle": "2025-05-16T04:15:14.824015Z",
     "shell.execute_reply": "2025-05-16T04:15:14.823735Z"
    }
   },
   "outputs": [],
   "source": [
    "moe = obj"
   ]
  },
  {
   "cell_type": "markdown",
   "id": "60",
   "metadata": {},
   "source": [
    "To get the overall weighted multiobjective score (for which lower is better)"
   ]
  },
  {
   "cell_type": "code",
   "execution_count": 39,
   "id": "61",
   "metadata": {
    "execution": {
     "iopub.execute_input": "2025-05-16T04:15:14.825410Z",
     "iopub.status.busy": "2025-05-16T04:15:14.825189Z",
     "iopub.status.idle": "2025-05-16T04:15:14.845584Z",
     "shell.execute_reply": "2025-05-16T04:15:14.845209Z"
    }
   },
   "outputs": [
    {
     "data": {
      "text/plain": [
       "{'scores': {'MultisiteObjectives': 45093.298747974426},\n",
       " 'sysconfig':                     Name       Value        Min          Max\n",
       " 0                 log_x4    0.305422   0.000000     2.380211\n",
       " 1                 log_x1    0.506690   0.000000     3.778151\n",
       " 2                 log_x3    0.315425   0.000000     3.000000\n",
       " 3               asinh_x2    0.000000  -3.989327     3.989327\n",
       " 4                     R0    0.900000   0.000000     1.000000\n",
       " 5                     S0    0.900000   0.000000     1.000000\n",
       " 6                  alpha    1.000000   0.001000   100.000000\n",
       " 7       inverse_velocity    1.000000   0.001000   100.000000\n",
       " 8               node.7.b   -7.000000 -30.000000     0.000000\n",
       " 9               node.7.m    0.000000   0.000000     0.000000\n",
       " 10              node.7.s  100.000000   1.000000  1000.000000\n",
       " 11              node.7.a  -10.000000 -30.000000     1.000000\n",
       " 12         node.7.maxobs   22.000000  22.000000    22.000000\n",
       " 13             node.7.ct    0.010000   0.010000     0.010000\n",
       " 14        node.7.censopt    0.000000   0.000000     0.000000\n",
       " 15   node.7.calc_mod_m_s    1.000000   1.000000     1.000000\n",
       " 16             node.12.b   -7.000000 -30.000000     0.000000\n",
       " 17             node.12.m    0.000000   0.000000     0.000000\n",
       " 18             node.12.s  100.000000   1.000000  1000.000000\n",
       " 19             node.12.a  -10.000000 -30.000000     1.000000\n",
       " 20        node.12.maxobs   22.000000  22.000000    22.000000\n",
       " 21            node.12.ct    0.010000   0.010000     0.010000\n",
       " 22       node.12.censopt    0.000000   0.000000     0.000000\n",
       " 23  node.12.calc_mod_m_s    1.000000   1.000000     1.000000}"
      ]
     },
     "execution_count": 39,
     "metadata": {},
     "output_type": "execute_result"
    }
   ],
   "source": [
    "moe.get_score(fp)"
   ]
  },
  {
   "cell_type": "markdown",
   "id": "62",
   "metadata": {},
   "source": [
    "To get each individual log-likelihood scores for each gauge:"
   ]
  },
  {
   "cell_type": "code",
   "execution_count": 40,
   "id": "63",
   "metadata": {
    "execution": {
     "iopub.execute_input": "2025-05-16T04:15:14.846839Z",
     "iopub.status.busy": "2025-05-16T04:15:14.846698Z",
     "iopub.status.idle": "2025-05-16T04:15:14.863623Z",
     "shell.execute_reply": "2025-05-16T04:15:14.863337Z"
    }
   },
   "outputs": [
    {
     "data": {
      "text/plain": [
       "{'node.12': np.float64(-44776.75651455558),\n",
       " 'node.7': np.float64(-45726.383214812144)}"
      ]
     },
     "execution_count": 40,
     "metadata": {},
     "output_type": "execute_result"
    }
   ],
   "source": [
    "moe.get_scores(fp)"
   ]
  },
  {
   "cell_type": "code",
   "execution_count": null,
   "id": "64",
   "metadata": {},
   "outputs": [],
   "source": []
  }
 ],
 "metadata": {
  "jupytext": {
   "cell_metadata_filter": "tags,eval,name,-all",
   "formats": "ipynb,py:percent",
   "main_language": "R"
  },
  "kernelspec": {
   "display_name": "hydrofc",
   "language": "python",
   "name": "hydrofc"
  },
  "language_info": {
   "codemirror_mode": {
    "name": "ipython",
    "version": 3
   },
   "file_extension": ".py",
   "mimetype": "text/x-python",
   "name": "python",
   "nbconvert_exporter": "python",
   "pygments_lexer": "ipython3",
   "version": "3.11.11"
  }
 },
 "nbformat": 4,
 "nbformat_minor": 5
}
