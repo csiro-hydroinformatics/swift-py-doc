{
 "cells": [
  {
   "cell_type": "markdown",
   "id": "f736878d-04f3-4fa8-9944-ae275b0e82fb",
   "metadata": {
    "tags": []
   },
   "source": [
    "# Calibration of a catchment using multisite multiobjective composition\n",
    "\n",
    "## Use case\n",
    "\n",
    "This vignette demonstrates how one can calibrate a catchment using multiple gauging points available within this catchment. \n",
    "\n",
    "This is a joint calibration weighing multiple objectives, possibly sourced at different modelling elements, thus a whole-of-catchment calibration technique. Staged, cascading calibration is supported and described in another vignette."
   ]
  },
  {
   "cell_type": "code",
   "execution_count": 1,
   "id": "unsigned-threshold",
   "metadata": {
    "execution": {
     "iopub.execute_input": "2023-01-05T06:57:13.201401Z",
     "iopub.status.busy": "2023-01-05T06:57:13.201214Z",
     "iopub.status.idle": "2023-01-05T06:57:13.596079Z",
     "shell.execute_reply": "2023-01-05T06:57:13.595491Z"
    },
    "lines_to_next_cell": 2
   },
   "outputs": [],
   "source": [
    "from swift2.utils import mk_full_data_id\n",
    "from swift2.classes import CompositeParameteriser, HypercubeParameteriser, Simulation\n",
    "# from swift2.wrap.ffi_interop import debug_msd\n",
    "import xarray as xr\n",
    "import pandas as pd\n",
    "import numpy as np\n",
    "import xarray as xr"
   ]
  },
  {
   "cell_type": "code",
   "execution_count": null,
   "id": "consecutive-brush",
   "metadata": {},
   "outputs": [],
   "source": []
  },
  {
   "cell_type": "code",
   "execution_count": 2,
   "id": "romantic-mississippi",
   "metadata": {
    "execution": {
     "iopub.execute_input": "2023-01-05T06:57:13.598173Z",
     "iopub.status.busy": "2023-01-05T06:57:13.597990Z",
     "iopub.status.idle": "2023-01-05T06:57:13.604416Z",
     "shell.execute_reply": "2023-01-05T06:57:13.604041Z"
    }
   },
   "outputs": [],
   "source": [
    "import swift2.doc_helper as std"
   ]
  },
  {
   "cell_type": "code",
   "execution_count": 3,
   "id": "contained-tragedy",
   "metadata": {
    "execution": {
     "iopub.execute_input": "2023-01-05T06:57:13.605955Z",
     "iopub.status.busy": "2023-01-05T06:57:13.605826Z",
     "iopub.status.idle": "2023-01-05T06:57:14.174636Z",
     "shell.execute_reply": "2023-01-05T06:57:14.174022Z"
    }
   },
   "outputs": [],
   "source": [
    "import seaborn as sns\n",
    "import matplotlib.pyplot as plt"
   ]
  },
  {
   "cell_type": "code",
   "execution_count": 4,
   "id": "educated-purse",
   "metadata": {
    "execution": {
     "iopub.execute_input": "2023-01-05T06:57:14.176582Z",
     "iopub.status.busy": "2023-01-05T06:57:14.176380Z",
     "iopub.status.idle": "2023-01-05T06:57:14.179336Z",
     "shell.execute_reply": "2023-01-05T06:57:14.178971Z"
    }
   },
   "outputs": [],
   "source": [
    "from cinterop.timeseries import TIME_DIMNAME, slice_xr_time_series, pd_series_to_xr_series, slice_xr_time_series, pd_series_to_xr_series"
   ]
  },
  {
   "cell_type": "code",
   "execution_count": 5,
   "id": "integrated-african",
   "metadata": {
    "execution": {
     "iopub.execute_input": "2023-01-05T06:57:14.181193Z",
     "iopub.status.busy": "2023-01-05T06:57:14.180793Z",
     "iopub.status.idle": "2023-01-05T06:57:14.182967Z",
     "shell.execute_reply": "2023-01-05T06:57:14.182642Z"
    }
   },
   "outputs": [],
   "source": [
    "from cinterop.timeseries import xr_ts_start, xr_ts_end\n",
    "import datetime as dt"
   ]
  },
  {
   "cell_type": "code",
   "execution_count": 6,
   "id": "organized-somewhere",
   "metadata": {
    "execution": {
     "iopub.execute_input": "2023-01-05T06:57:14.184488Z",
     "iopub.status.busy": "2023-01-05T06:57:14.184337Z",
     "iopub.status.idle": "2023-01-05T06:57:14.191546Z",
     "shell.execute_reply": "2023-01-05T06:57:14.191241Z"
    }
   },
   "outputs": [],
   "source": [
    "%matplotlib inline"
   ]
  },
  {
   "cell_type": "markdown",
   "id": "e1e06f00-7ff5-448c-901d-22940484795a",
   "metadata": {},
   "source": [
    "## Data\n",
    "\n",
    "The sample data that comes with the package contains a model definition for the South Esk catchment, including a short subset of the climate and flow record data."
   ]
  },
  {
   "cell_type": "code",
   "execution_count": 7,
   "id": "724408c9-30b7-4daf-8c68-8cbd12f9a372",
   "metadata": {
    "execution": {
     "iopub.execute_input": "2023-01-05T06:57:14.193445Z",
     "iopub.status.busy": "2023-01-05T06:57:14.193281Z",
     "iopub.status.idle": "2023-01-05T06:57:14.195689Z",
     "shell.execute_reply": "2023-01-05T06:57:14.195355Z"
    }
   },
   "outputs": [],
   "source": [
    "model_id = 'GR4J'\n",
    "site_id = 'South_Esk'"
   ]
  },
  {
   "cell_type": "code",
   "execution_count": 8,
   "id": "competent-transaction",
   "metadata": {
    "execution": {
     "iopub.execute_input": "2023-01-05T06:57:14.197350Z",
     "iopub.status.busy": "2023-01-05T06:57:14.197058Z",
     "iopub.status.idle": "2023-01-05T06:57:14.819945Z",
     "shell.execute_reply": "2023-01-05T06:57:14.819371Z"
    }
   },
   "outputs": [],
   "source": [
    "se_climate = std.sample_series(site_id=site_id, var_name='climate')\n",
    "se_flows = std.sample_series(site_id=site_id, var_name='flow')"
   ]
  },
  {
   "cell_type": "code",
   "execution_count": 9,
   "id": "56da26fa-12c1-4258-b6af-7fcc046ecd39",
   "metadata": {
    "execution": {
     "iopub.execute_input": "2023-01-05T06:57:14.821766Z",
     "iopub.status.busy": "2023-01-05T06:57:14.821624Z",
     "iopub.status.idle": "2023-01-05T06:57:14.838059Z",
     "shell.execute_reply": "2023-01-05T06:57:14.837610Z"
    }
   },
   "outputs": [
    {
     "data": {
      "text/html": [
       "<div>\n",
       "<style scoped>\n",
       "    .dataframe tbody tr th:only-of-type {\n",
       "        vertical-align: middle;\n",
       "    }\n",
       "\n",
       "    .dataframe tbody tr th {\n",
       "        vertical-align: top;\n",
       "    }\n",
       "\n",
       "    .dataframe thead th {\n",
       "        text-align: right;\n",
       "    }\n",
       "</style>\n",
       "<table border=\"1\" class=\"dataframe\">\n",
       "  <thead>\n",
       "    <tr style=\"text-align: right;\">\n",
       "      <th></th>\n",
       "      <th>subcatchment.1.E</th>\n",
       "      <th>subcatchment.1.P</th>\n",
       "      <th>subcatchment.10.E</th>\n",
       "      <th>subcatchment.10.P</th>\n",
       "      <th>subcatchment.11.E</th>\n",
       "      <th>subcatchment.11.P</th>\n",
       "      <th>subcatchment.12.E</th>\n",
       "      <th>subcatchment.12.P</th>\n",
       "      <th>subcatchment.13.E</th>\n",
       "      <th>subcatchment.13.P</th>\n",
       "      <th>...</th>\n",
       "      <th>subcatchment.5.E</th>\n",
       "      <th>subcatchment.5.P</th>\n",
       "      <th>subcatchment.6.E</th>\n",
       "      <th>subcatchment.6.P</th>\n",
       "      <th>subcatchment.7.E</th>\n",
       "      <th>subcatchment.7.P</th>\n",
       "      <th>subcatchment.8.E</th>\n",
       "      <th>subcatchment.8.P</th>\n",
       "      <th>subcatchment.9.E</th>\n",
       "      <th>subcatchment.9.P</th>\n",
       "    </tr>\n",
       "  </thead>\n",
       "  <tbody>\n",
       "    <tr>\n",
       "      <th>2010-11-01 00:00:00</th>\n",
       "      <td>0.3918</td>\n",
       "      <td>0.0</td>\n",
       "      <td>0.4020</td>\n",
       "      <td>0.0000</td>\n",
       "      <td>0.3978</td>\n",
       "      <td>0.0000</td>\n",
       "      <td>0.4266</td>\n",
       "      <td>0.0000</td>\n",
       "      <td>0.3936</td>\n",
       "      <td>0.0000</td>\n",
       "      <td>...</td>\n",
       "      <td>0.4325</td>\n",
       "      <td>0.0</td>\n",
       "      <td>0.4110</td>\n",
       "      <td>0.0322</td>\n",
       "      <td>0.4247</td>\n",
       "      <td>0.0</td>\n",
       "      <td>0.4377</td>\n",
       "      <td>0.0</td>\n",
       "      <td>0.4337</td>\n",
       "      <td>0.0</td>\n",
       "    </tr>\n",
       "    <tr>\n",
       "      <th>2010-11-01 01:00:00</th>\n",
       "      <td>0.4385</td>\n",
       "      <td>0.0</td>\n",
       "      <td>0.4493</td>\n",
       "      <td>0.0207</td>\n",
       "      <td>0.4446</td>\n",
       "      <td>0.0433</td>\n",
       "      <td>0.4763</td>\n",
       "      <td>0.0179</td>\n",
       "      <td>0.4397</td>\n",
       "      <td>0.0555</td>\n",
       "      <td>...</td>\n",
       "      <td>0.4823</td>\n",
       "      <td>0.0</td>\n",
       "      <td>0.4593</td>\n",
       "      <td>0.0000</td>\n",
       "      <td>0.4746</td>\n",
       "      <td>0.0</td>\n",
       "      <td>0.4892</td>\n",
       "      <td>0.0</td>\n",
       "      <td>0.4841</td>\n",
       "      <td>0.0</td>\n",
       "    </tr>\n",
       "    <tr>\n",
       "      <th>2010-11-01 02:00:00</th>\n",
       "      <td>0.4614</td>\n",
       "      <td>0.0</td>\n",
       "      <td>0.4723</td>\n",
       "      <td>0.0000</td>\n",
       "      <td>0.4671</td>\n",
       "      <td>0.0000</td>\n",
       "      <td>0.5002</td>\n",
       "      <td>0.0000</td>\n",
       "      <td>0.4619</td>\n",
       "      <td>0.0000</td>\n",
       "      <td>...</td>\n",
       "      <td>0.5060</td>\n",
       "      <td>0.0</td>\n",
       "      <td>0.4827</td>\n",
       "      <td>0.0000</td>\n",
       "      <td>0.4987</td>\n",
       "      <td>0.0</td>\n",
       "      <td>0.5143</td>\n",
       "      <td>0.0</td>\n",
       "      <td>0.5084</td>\n",
       "      <td>0.0</td>\n",
       "    </tr>\n",
       "  </tbody>\n",
       "</table>\n",
       "<p>3 rows × 84 columns</p>\n",
       "</div>"
      ],
      "text/plain": [
       "                     subcatchment.1.E  subcatchment.1.P  subcatchment.10.E  \\\n",
       "2010-11-01 00:00:00            0.3918               0.0             0.4020   \n",
       "2010-11-01 01:00:00            0.4385               0.0             0.4493   \n",
       "2010-11-01 02:00:00            0.4614               0.0             0.4723   \n",
       "\n",
       "                     subcatchment.10.P  subcatchment.11.E  subcatchment.11.P  \\\n",
       "2010-11-01 00:00:00             0.0000             0.3978             0.0000   \n",
       "2010-11-01 01:00:00             0.0207             0.4446             0.0433   \n",
       "2010-11-01 02:00:00             0.0000             0.4671             0.0000   \n",
       "\n",
       "                     subcatchment.12.E  subcatchment.12.P  subcatchment.13.E  \\\n",
       "2010-11-01 00:00:00             0.4266             0.0000             0.3936   \n",
       "2010-11-01 01:00:00             0.4763             0.0179             0.4397   \n",
       "2010-11-01 02:00:00             0.5002             0.0000             0.4619   \n",
       "\n",
       "                     subcatchment.13.P  ...  subcatchment.5.E  \\\n",
       "2010-11-01 00:00:00             0.0000  ...            0.4325   \n",
       "2010-11-01 01:00:00             0.0555  ...            0.4823   \n",
       "2010-11-01 02:00:00             0.0000  ...            0.5060   \n",
       "\n",
       "                     subcatchment.5.P  subcatchment.6.E  subcatchment.6.P  \\\n",
       "2010-11-01 00:00:00               0.0            0.4110            0.0322   \n",
       "2010-11-01 01:00:00               0.0            0.4593            0.0000   \n",
       "2010-11-01 02:00:00               0.0            0.4827            0.0000   \n",
       "\n",
       "                     subcatchment.7.E  subcatchment.7.P  subcatchment.8.E  \\\n",
       "2010-11-01 00:00:00            0.4247               0.0            0.4377   \n",
       "2010-11-01 01:00:00            0.4746               0.0            0.4892   \n",
       "2010-11-01 02:00:00            0.4987               0.0            0.5143   \n",
       "\n",
       "                     subcatchment.8.P  subcatchment.9.E  subcatchment.9.P  \n",
       "2010-11-01 00:00:00               0.0            0.4337               0.0  \n",
       "2010-11-01 01:00:00               0.0            0.4841               0.0  \n",
       "2010-11-01 02:00:00               0.0            0.5084               0.0  \n",
       "\n",
       "[3 rows x 84 columns]"
      ]
     },
     "execution_count": 9,
     "metadata": {},
     "output_type": "execute_result"
    }
   ],
   "source": [
    "se_climate.head(3)"
   ]
  },
  {
   "cell_type": "markdown",
   "id": "5d3658c5-20ec-46f1-ab92-7e093642628e",
   "metadata": {},
   "source": [
    "## Base model creation "
   ]
  },
  {
   "cell_type": "code",
   "execution_count": 10,
   "id": "e1aaa3b1-9682-4357-a097-ce6ae0296eeb",
   "metadata": {
    "execution": {
     "iopub.execute_input": "2023-01-05T06:57:14.839735Z",
     "iopub.status.busy": "2023-01-05T06:57:14.839593Z",
     "iopub.status.idle": "2023-01-05T06:57:14.856577Z",
     "shell.execute_reply": "2023-01-05T06:57:14.856161Z"
    }
   },
   "outputs": [],
   "source": [
    "simulation = std.sample_catchment_model(site_id=site_id, config_id='catchment')\n",
    "# simulation = swap_model(simulation, 'MuskingumNonLinear', 'channel_routing')\n",
    "simulation = simulation.swap_model('LagAndRoute', 'channel_routing')"
   ]
  },
  {
   "cell_type": "markdown",
   "id": "literary-round",
   "metadata": {},
   "source": [
    "The names of the climate series is already set to the climate input identifiers of the model simulation, so setting them as inputs is easy:"
   ]
  },
  {
   "cell_type": "code",
   "execution_count": 11,
   "id": "revised-diagram",
   "metadata": {
    "execution": {
     "iopub.execute_input": "2023-01-05T06:57:14.858318Z",
     "iopub.status.busy": "2023-01-05T06:57:14.858153Z",
     "iopub.status.idle": "2023-01-05T06:57:14.869252Z",
     "shell.execute_reply": "2023-01-05T06:57:14.868689Z"
    }
   },
   "outputs": [],
   "source": [
    "simulation.play_input(se_climate)\n",
    "simulation.set_simulation_span(xr_ts_start(se_climate), xr_ts_end(se_climate))\n",
    "simulation.set_simulation_time_step('hourly')"
   ]
  },
  {
   "cell_type": "markdown",
   "id": "biblical-edition",
   "metadata": {},
   "source": [
    "Moving on to define the parameters, free or fixed. We will use (for now - may change) the package calibragem, companion to SWIFT."
   ]
  },
  {
   "cell_type": "code",
   "execution_count": 12,
   "id": "painted-vacation",
   "metadata": {
    "execution": {
     "iopub.execute_input": "2023-01-05T06:57:14.870903Z",
     "iopub.status.busy": "2023-01-05T06:57:14.870747Z",
     "iopub.status.idle": "2023-01-05T06:57:14.873737Z",
     "shell.execute_reply": "2023-01-05T06:57:14.873437Z"
    },
    "lines_to_next_cell": 2
   },
   "outputs": [],
   "source": [
    "std.configure_hourly_gr4j(simulation)"
   ]
  },
  {
   "cell_type": "markdown",
   "id": "driven-finger",
   "metadata": {},
   "source": [
    "## Parameterisation\n",
    "\n",
    "We define a function creating a realistic feasible parameter space. This is not the main object of this vignette, so we do not describe in details. "
   ]
  },
  {
   "cell_type": "code",
   "execution_count": 13,
   "id": "eleven-selection",
   "metadata": {
    "execution": {
     "iopub.execute_input": "2023-01-05T06:57:14.875375Z",
     "iopub.status.busy": "2023-01-05T06:57:14.875222Z",
     "iopub.status.idle": "2023-01-05T06:57:14.879406Z",
     "shell.execute_reply": "2023-01-05T06:57:14.879099Z"
    }
   },
   "outputs": [],
   "source": [
    "from swift2.utils import c, paste0, rep\n",
    "import swift2.parameteriser as sp\n",
    "import swift2.helpers as hlp\n",
    "\n",
    "\n",
    "def create_meta_parameteriser(simulation:Simulation, ref_area=250, time_span=3600):  \n",
    "    time_span = int(time_span)\n",
    "    parameteriser = std.define_gr4j_scaled_parameter(ref_area, time_span)\n",
    "  \n",
    "    # Let's define _S0_ and _R0_ parameters such that for each GR4J model instance, _S = S0 * x1_ and _R = R0 * x3_\n",
    "    p_states = sp.linear_parameteriser(\n",
    "                      param_name=c(\"S0\",\"R0\"), \n",
    "                      state_name=c(\"S\",\"R\"), \n",
    "                      scaling_var_name=c(\"x1\",\"x3\"),\n",
    "                      min_p_val=c(0.0,0.0), \n",
    "                      max_p_val=c(1.0,1.0), \n",
    "                      value=c(0.9,0.9), \n",
    "                      selector_type='each subarea')\n",
    "  \n",
    "    init_parameteriser = p_states.make_state_init_parameteriser()\n",
    "    parameteriser = sp.concatenate_parameterisers(parameteriser, init_parameteriser)\n",
    "    \n",
    "    hlp.lag_and_route_linear_storage_type(simulation)\n",
    "    hlp.set_reach_lengths_lag_n_route(simulation)\n",
    "\n",
    "    lnrp = hlp.parameteriser_lag_and_route()\n",
    "    parameteriser = CompositeParameteriser.concatenate(parameteriser, lnrp, strategy='')\n",
    "    return parameteriser\n",
    "\n"
   ]
  },
  {
   "cell_type": "code",
   "execution_count": 14,
   "id": "7a739363-13e7-4a29-ad1e-dc978cf9d8f6",
   "metadata": {
    "execution": {
     "iopub.execute_input": "2023-01-05T06:57:14.881044Z",
     "iopub.status.busy": "2023-01-05T06:57:14.880891Z",
     "iopub.status.idle": "2023-01-05T06:57:14.891063Z",
     "shell.execute_reply": "2023-01-05T06:57:14.890750Z"
    }
   },
   "outputs": [],
   "source": [
    "parameteriser = create_meta_parameteriser(simulation)"
   ]
  },
  {
   "cell_type": "code",
   "execution_count": 15,
   "id": "f72b1e8f-778a-4774-8987-1af671b5ac0f",
   "metadata": {
    "execution": {
     "iopub.execute_input": "2023-01-05T06:57:14.892762Z",
     "iopub.status.busy": "2023-01-05T06:57:14.892603Z",
     "iopub.status.idle": "2023-01-05T06:57:14.897255Z",
     "shell.execute_reply": "2023-01-05T06:57:14.896958Z"
    }
   },
   "outputs": [
    {
     "data": {
      "text/plain": [
       "               Name     Value       Min         Max\n",
       "0            log_x4  0.305422  0.000000    2.380211\n",
       "1            log_x1  0.506690  0.000000    3.778151\n",
       "2            log_x3  0.315425  0.000000    3.000000\n",
       "3          asinh_x2  2.637752 -3.989327    3.989327\n",
       "4                R0  0.900000  0.000000    1.000000\n",
       "5                S0  0.900000  0.000000    1.000000\n",
       "6             alpha  1.000000  0.001000  100.000000\n",
       "7  inverse_velocity  1.000000  0.001000  100.000000"
      ]
     },
     "execution_count": 15,
     "metadata": {},
     "output_type": "execute_result"
    }
   ],
   "source": [
    "parameteriser"
   ]
  },
  {
   "cell_type": "code",
   "execution_count": 16,
   "id": "f02e7dd2-9e7a-4a40-8ed3-491ad9b39d88",
   "metadata": {
    "execution": {
     "iopub.execute_input": "2023-01-05T06:57:14.898923Z",
     "iopub.status.busy": "2023-01-05T06:57:14.898660Z",
     "iopub.status.idle": "2023-01-05T06:57:14.915514Z",
     "shell.execute_reply": "2023-01-05T06:57:14.915210Z"
    }
   },
   "outputs": [],
   "source": [
    "parameteriser.set_parameter_value('asinh_x2', 0)\n",
    "parameteriser.apply_sys_config(simulation)\n",
    "simulation.exec_simulation()"
   ]
  },
  {
   "cell_type": "markdown",
   "id": "generous-vector",
   "metadata": {},
   "source": [
    "We are now ready to enter the main topic of this vignette, setting up a weighted multi-objective for calibration purposes.\n",
    "\n",
    "## Defining weighting multi-objectives\n",
    "\n",
    "The sample gauge data flow contains identifiers that are of course distinct from the network node identifiers. We create a map between them (note - this information used to be in the NodeLink file in swiftv1)."
   ]
  },
  {
   "cell_type": "code",
   "execution_count": 17,
   "id": "prime-value",
   "metadata": {
    "execution": {
     "iopub.execute_input": "2023-01-05T06:57:14.917296Z",
     "iopub.status.busy": "2023-01-05T06:57:14.917142Z",
     "iopub.status.idle": "2023-01-05T06:57:14.919402Z",
     "shell.execute_reply": "2023-01-05T06:57:14.919093Z"
    }
   },
   "outputs": [],
   "source": [
    "gauges = c( '92106', '592002', '18311', '93044',    '25',   '181')\n",
    "node_ids = paste0('node.', c('7',   '12',   '25',   '30',   '40',   '43'))   \n",
    "# names(gauges) = node_ids"
   ]
  },
  {
   "cell_type": "markdown",
   "id": "dependent-elder",
   "metadata": {},
   "source": [
    "First, let us try the Nash Sutcliffe efficiency, for simplicity (no additional parameters needed). We will set up NSE calculations at two points (nodes) in the catchments. Any model state from a link, node or subarea could be a point for statistics calculation."
   ]
  },
  {
   "cell_type": "code",
   "execution_count": 18,
   "id": "reported-center",
   "metadata": {
    "execution": {
     "iopub.execute_input": "2023-01-05T06:57:14.921260Z",
     "iopub.status.busy": "2023-01-05T06:57:14.921084Z",
     "iopub.status.idle": "2023-01-05T06:57:14.924980Z",
     "shell.execute_reply": "2023-01-05T06:57:14.924682Z"
    }
   },
   "outputs": [],
   "source": [
    "s = simulation.get_simulation_span()\n",
    "\n",
    "calibration_points = node_ids[:2]\n",
    "mvids = mk_full_data_id(calibration_points, 'OutflowRate')\n",
    "\n",
    "w = {mvids[0]: 1.0, mvids[1]: 2.0} # weights (internally normalised to a total of 1.0)\n",
    "# names(w) = mvids\n",
    "\n",
    "import swift2.statistics as ssf\n",
    "\n",
    "statspec = ssf.multi_statistic_definition( \n",
    "  model_var_ids = mvids, \n",
    "  statistic_ids = rep('nse', 2), \n",
    "  objective_ids = calibration_points, \n",
    "  objective_names = paste0(\"NSE-\", calibration_points), \n",
    "  starts = rep(s['start'], 2), \n",
    "  ends = rep(s['end'], 2) )\n",
    "\n",
    "observations = [\n",
    "  se_flows[gauges[0]],\n",
    "  se_flows[gauges[1]]\n",
    "]"
   ]
  },
  {
   "cell_type": "code",
   "execution_count": 19,
   "id": "danish-subject",
   "metadata": {
    "execution": {
     "iopub.execute_input": "2023-01-05T06:57:14.926511Z",
     "iopub.status.busy": "2023-01-05T06:57:14.926309Z",
     "iopub.status.idle": "2023-01-05T06:57:14.931557Z",
     "shell.execute_reply": "2023-01-05T06:57:14.931252Z"
    }
   },
   "outputs": [
    {
     "data": {
      "text/html": [
       "<div>\n",
       "<style scoped>\n",
       "    .dataframe tbody tr th:only-of-type {\n",
       "        vertical-align: middle;\n",
       "    }\n",
       "\n",
       "    .dataframe tbody tr th {\n",
       "        vertical-align: top;\n",
       "    }\n",
       "\n",
       "    .dataframe thead th {\n",
       "        text-align: right;\n",
       "    }\n",
       "</style>\n",
       "<table border=\"1\" class=\"dataframe\">\n",
       "  <thead>\n",
       "    <tr style=\"text-align: right;\">\n",
       "      <th></th>\n",
       "      <th>ModelVarId</th>\n",
       "      <th>StatisticId</th>\n",
       "      <th>ObjectiveId</th>\n",
       "      <th>ObjectiveName</th>\n",
       "      <th>Start</th>\n",
       "      <th>End</th>\n",
       "    </tr>\n",
       "  </thead>\n",
       "  <tbody>\n",
       "    <tr>\n",
       "      <th>0</th>\n",
       "      <td>node.7.OutflowRate</td>\n",
       "      <td>nse</td>\n",
       "      <td>node.7</td>\n",
       "      <td>NSE-node.7</td>\n",
       "      <td>2010-11-01</td>\n",
       "      <td>2010-11-20 23:00:00</td>\n",
       "    </tr>\n",
       "    <tr>\n",
       "      <th>1</th>\n",
       "      <td>node.12.OutflowRate</td>\n",
       "      <td>nse</td>\n",
       "      <td>node.12</td>\n",
       "      <td>NSE-node.12</td>\n",
       "      <td>2010-11-01</td>\n",
       "      <td>2010-11-20 23:00:00</td>\n",
       "    </tr>\n",
       "  </tbody>\n",
       "</table>\n",
       "</div>"
      ],
      "text/plain": [
       "            ModelVarId StatisticId ObjectiveId ObjectiveName      Start  \\\n",
       "0   node.7.OutflowRate         nse      node.7    NSE-node.7 2010-11-01   \n",
       "1  node.12.OutflowRate         nse     node.12   NSE-node.12 2010-11-01   \n",
       "\n",
       "                  End  \n",
       "0 2010-11-20 23:00:00  \n",
       "1 2010-11-20 23:00:00  "
      ]
     },
     "execution_count": 19,
     "metadata": {},
     "output_type": "execute_result"
    }
   ],
   "source": [
    "statspec"
   ]
  },
  {
   "cell_type": "code",
   "execution_count": 20,
   "id": "3102ca1f-8ad1-424c-8587-086c382ac842",
   "metadata": {
    "execution": {
     "iopub.execute_input": "2023-01-05T06:57:14.933111Z",
     "iopub.status.busy": "2023-01-05T06:57:14.932958Z",
     "iopub.status.idle": "2023-01-05T06:57:14.934890Z",
     "shell.execute_reply": "2023-01-05T06:57:14.934593Z"
    }
   },
   "outputs": [],
   "source": [
    "# from swift2.wrap.ffi_interop import marshal, to_multi_statistic_definition\n",
    "# interop_obs = [marshal.as_native_time_series(x) for x in observations]\n",
    "# defn = {\n",
    "#     'Length' : len(statspec),\n",
    "#     'Statistics' : statspec,\n",
    "#     'Observations' : interop_obs\n",
    "# }\n",
    "# msd = to_multi_statistic_definition(defn)\n",
    "# print(\"after return:\")\n",
    "# debug_msd(msd)"
   ]
  },
  {
   "cell_type": "code",
   "execution_count": 21,
   "id": "71de3f04-9317-4779-bb6c-15aa15eafe38",
   "metadata": {
    "execution": {
     "iopub.execute_input": "2023-01-05T06:57:14.936613Z",
     "iopub.status.busy": "2023-01-05T06:57:14.936459Z",
     "iopub.status.idle": "2023-01-05T06:57:14.939282Z",
     "shell.execute_reply": "2023-01-05T06:57:14.938989Z"
    }
   },
   "outputs": [
    {
     "data": {
      "text/plain": [
       "{'node.7.OutflowRate': 1.0, 'node.12.OutflowRate': 2.0}"
      ]
     },
     "execution_count": 21,
     "metadata": {},
     "output_type": "execute_result"
    }
   ],
   "source": [
    "w"
   ]
  },
  {
   "cell_type": "code",
   "execution_count": 22,
   "id": "08f0ccc1-2b09-446a-8300-80b009814a65",
   "metadata": {
    "execution": {
     "iopub.execute_input": "2023-01-05T06:57:14.940989Z",
     "iopub.status.busy": "2023-01-05T06:57:14.940721Z",
     "iopub.status.idle": "2023-01-05T06:57:14.964736Z",
     "shell.execute_reply": "2023-01-05T06:57:14.964394Z"
    }
   },
   "outputs": [],
   "source": [
    "moe = simulation.create_multisite_objective(statspec, observations, w)"
   ]
  },
  {
   "cell_type": "code",
   "execution_count": 23,
   "id": "cardiovascular-image",
   "metadata": {
    "execution": {
     "iopub.execute_input": "2023-01-05T06:57:14.966442Z",
     "iopub.status.busy": "2023-01-05T06:57:14.966276Z",
     "iopub.status.idle": "2023-01-05T06:57:14.985415Z",
     "shell.execute_reply": "2023-01-05T06:57:14.985109Z"
    }
   },
   "outputs": [
    {
     "data": {
      "text/plain": [
       "{'scores': {'MultisiteObjectives': 291.19427697085365},\n",
       " 'sysconfig':                Name     Value       Min         Max\n",
       " 0            log_x4  0.305422  0.000000    2.380211\n",
       " 1            log_x1  0.506690  0.000000    3.778151\n",
       " 2            log_x3  0.315425  0.000000    3.000000\n",
       " 3          asinh_x2  0.000000 -3.989327    3.989327\n",
       " 4                R0  0.900000  0.000000    1.000000\n",
       " 5                S0  0.900000  0.000000    1.000000\n",
       " 6             alpha  1.000000  0.001000  100.000000\n",
       " 7  inverse_velocity  1.000000  0.001000  100.000000}"
      ]
     },
     "execution_count": 23,
     "metadata": {},
     "output_type": "execute_result"
    }
   ],
   "source": [
    "moe.get_score(parameteriser)"
   ]
  },
  {
   "cell_type": "markdown",
   "id": "senior-interstate",
   "metadata": {},
   "source": [
    "We now build a parameteriser that is suited to multisite objective functions. Note that for now there is no effect changing the result - just scaffloding and structural test."
   ]
  },
  {
   "cell_type": "code",
   "execution_count": 24,
   "id": "damaged-recruitment",
   "metadata": {
    "execution": {
     "iopub.execute_input": "2023-01-05T06:57:14.987073Z",
     "iopub.status.busy": "2023-01-05T06:57:14.986914Z",
     "iopub.status.idle": "2023-01-05T06:57:14.994305Z",
     "shell.execute_reply": "2023-01-05T06:57:14.993952Z"
    }
   },
   "outputs": [
    {
     "data": {
      "text/html": [
       "<div>\n",
       "<style scoped>\n",
       "    .dataframe tbody tr th:only-of-type {\n",
       "        vertical-align: middle;\n",
       "    }\n",
       "\n",
       "    .dataframe tbody tr th {\n",
       "        vertical-align: top;\n",
       "    }\n",
       "\n",
       "    .dataframe thead th {\n",
       "        text-align: right;\n",
       "    }\n",
       "</style>\n",
       "<table border=\"1\" class=\"dataframe\">\n",
       "  <thead>\n",
       "    <tr style=\"text-align: right;\">\n",
       "      <th></th>\n",
       "      <th>Name</th>\n",
       "      <th>Value</th>\n",
       "      <th>Min</th>\n",
       "      <th>Max</th>\n",
       "    </tr>\n",
       "  </thead>\n",
       "  <tbody>\n",
       "    <tr>\n",
       "      <th>0</th>\n",
       "      <td>log_x4</td>\n",
       "      <td>0.305422</td>\n",
       "      <td>0.000000</td>\n",
       "      <td>2.380211</td>\n",
       "    </tr>\n",
       "    <tr>\n",
       "      <th>1</th>\n",
       "      <td>log_x1</td>\n",
       "      <td>0.506690</td>\n",
       "      <td>0.000000</td>\n",
       "      <td>3.778151</td>\n",
       "    </tr>\n",
       "    <tr>\n",
       "      <th>2</th>\n",
       "      <td>log_x3</td>\n",
       "      <td>0.315425</td>\n",
       "      <td>0.000000</td>\n",
       "      <td>3.000000</td>\n",
       "    </tr>\n",
       "    <tr>\n",
       "      <th>3</th>\n",
       "      <td>asinh_x2</td>\n",
       "      <td>0.000000</td>\n",
       "      <td>-3.989327</td>\n",
       "      <td>3.989327</td>\n",
       "    </tr>\n",
       "    <tr>\n",
       "      <th>4</th>\n",
       "      <td>R0</td>\n",
       "      <td>0.900000</td>\n",
       "      <td>0.000000</td>\n",
       "      <td>1.000000</td>\n",
       "    </tr>\n",
       "    <tr>\n",
       "      <th>5</th>\n",
       "      <td>S0</td>\n",
       "      <td>0.900000</td>\n",
       "      <td>0.000000</td>\n",
       "      <td>1.000000</td>\n",
       "    </tr>\n",
       "    <tr>\n",
       "      <th>6</th>\n",
       "      <td>alpha</td>\n",
       "      <td>1.000000</td>\n",
       "      <td>0.001000</td>\n",
       "      <td>100.000000</td>\n",
       "    </tr>\n",
       "    <tr>\n",
       "      <th>7</th>\n",
       "      <td>inverse_velocity</td>\n",
       "      <td>1.000000</td>\n",
       "      <td>0.001000</td>\n",
       "      <td>100.000000</td>\n",
       "    </tr>\n",
       "  </tbody>\n",
       "</table>\n",
       "</div>"
      ],
      "text/plain": [
       "               Name     Value       Min         Max\n",
       "0            log_x4  0.305422  0.000000    2.380211\n",
       "1            log_x1  0.506690  0.000000    3.778151\n",
       "2            log_x3  0.315425  0.000000    3.000000\n",
       "3          asinh_x2  0.000000 -3.989327    3.989327\n",
       "4                R0  0.900000  0.000000    1.000000\n",
       "5                S0  0.900000  0.000000    1.000000\n",
       "6             alpha  1.000000  0.001000  100.000000\n",
       "7  inverse_velocity  1.000000  0.001000  100.000000"
      ]
     },
     "execution_count": 24,
     "metadata": {},
     "output_type": "execute_result"
    }
   ],
   "source": [
    "\n",
    "p = sp.create_parameteriser('no apply')\n",
    "func_parameterisers = [p, p.clone()] # for the two calib points, NSE has no param here\n",
    "catchment_pzer = parameteriser\n",
    "fp = sp.create_multisite_obj_parameteriser(func_parameterisers, calibration_points, prefixes=paste0(calibration_points, '.'), mix_func_parameteriser=None, hydro_parameteriser=catchment_pzer)\n",
    "fp.as_dataframe()"
   ]
  },
  {
   "cell_type": "code",
   "execution_count": 25,
   "id": "veterinary-substance",
   "metadata": {
    "execution": {
     "iopub.execute_input": "2023-01-05T06:57:14.996344Z",
     "iopub.status.busy": "2023-01-05T06:57:14.996071Z",
     "iopub.status.idle": "2023-01-05T06:57:15.015384Z",
     "shell.execute_reply": "2023-01-05T06:57:15.015072Z"
    },
    "tags": []
   },
   "outputs": [
    {
     "data": {
      "text/plain": [
       "{'scores': {'MultisiteObjectives': 291.19427697085365},\n",
       " 'sysconfig':                Name     Value       Min         Max\n",
       " 0            log_x4  0.305422  0.000000    2.380211\n",
       " 1            log_x1  0.506690  0.000000    3.778151\n",
       " 2            log_x3  0.315425  0.000000    3.000000\n",
       " 3          asinh_x2  0.000000 -3.989327    3.989327\n",
       " 4                R0  0.900000  0.000000    1.000000\n",
       " 5                S0  0.900000  0.000000    1.000000\n",
       " 6             alpha  1.000000  0.001000  100.000000\n",
       " 7  inverse_velocity  1.000000  0.001000  100.000000}"
      ]
     },
     "execution_count": 25,
     "metadata": {},
     "output_type": "execute_result"
    }
   ],
   "source": [
    "moe.get_score(fp)"
   ]
  },
  {
   "cell_type": "markdown",
   "id": "reverse-pollution",
   "metadata": {},
   "source": [
    "We can get the value of each objective. The two NSE scores below are negative. Note above that the composite objective is positive, i.e. the opposite of the weighted average. This is because the composite objective is always minimisable (as of writing anyway this is a design choice.)"
   ]
  },
  {
   "cell_type": "code",
   "execution_count": 26,
   "id": "0fd8cb4b",
   "metadata": {
    "execution": {
     "iopub.execute_input": "2023-01-05T06:57:15.017144Z",
     "iopub.status.busy": "2023-01-05T06:57:15.016980Z",
     "iopub.status.idle": "2023-01-05T06:57:15.018898Z",
     "shell.execute_reply": "2023-01-05T06:57:15.018596Z"
    }
   },
   "outputs": [],
   "source": [
    "# moe.EvaluateScoresForParametersWila_py(moe, fp)"
   ]
  },
  {
   "cell_type": "markdown",
   "id": "delayed-builder",
   "metadata": {},
   "source": [
    "## log-likelihood multiple objective\n",
    "\n",
    "Now, let's move on to use log-likelihood instead of NSE."
   ]
  },
  {
   "cell_type": "code",
   "execution_count": 27,
   "id": "consistent-master",
   "metadata": {
    "execution": {
     "iopub.execute_input": "2023-01-05T06:57:15.020517Z",
     "iopub.status.busy": "2023-01-05T06:57:15.020366Z",
     "iopub.status.idle": "2023-01-05T06:57:15.029833Z",
     "shell.execute_reply": "2023-01-05T06:57:15.029466Z"
    }
   },
   "outputs": [],
   "source": [
    "statspec = ssf.multi_statistic_definition(  \n",
    "  model_var_ids = mvids, \n",
    "  statistic_ids = rep('log-likelihood', 2), \n",
    "  objective_ids=calibration_points, \n",
    "  objective_names = paste0(\"LL-\", calibration_points), \n",
    "  starts = rep(s['start'], 2), \n",
    "  ends = rep(s['end'], 2) )\n",
    "\n",
    "obj = simulation.create_multisite_objective(statspec, observations, w)"
   ]
  },
  {
   "cell_type": "markdown",
   "id": "every-clothing",
   "metadata": {},
   "source": [
    "For this to work we need to include parameters "
   ]
  },
  {
   "cell_type": "code",
   "execution_count": 28,
   "id": "1227f0a2-4734-40ff-919d-5c4db77082f5",
   "metadata": {
    "execution": {
     "iopub.execute_input": "2023-01-05T06:57:15.031542Z",
     "iopub.status.busy": "2023-01-05T06:57:15.031384Z",
     "iopub.status.idle": "2023-01-05T06:57:15.034192Z",
     "shell.execute_reply": "2023-01-05T06:57:15.033903Z"
    }
   },
   "outputs": [
    {
     "data": {
      "text/plain": [
       "22.0"
      ]
     },
     "execution_count": 28,
     "metadata": {},
     "output_type": "execute_result"
    }
   ],
   "source": [
    "np.max(observations[0].values)"
   ]
  },
  {
   "cell_type": "code",
   "execution_count": 29,
   "id": "floppy-cincinnati",
   "metadata": {
    "execution": {
     "iopub.execute_input": "2023-01-05T06:57:15.036004Z",
     "iopub.status.busy": "2023-01-05T06:57:15.035656Z",
     "iopub.status.idle": "2023-01-05T06:57:15.043759Z",
     "shell.execute_reply": "2023-01-05T06:57:15.043443Z"
    }
   },
   "outputs": [
    {
     "data": {
      "text/html": [
       "<div>\n",
       "<style scoped>\n",
       "    .dataframe tbody tr th:only-of-type {\n",
       "        vertical-align: middle;\n",
       "    }\n",
       "\n",
       "    .dataframe tbody tr th {\n",
       "        vertical-align: top;\n",
       "    }\n",
       "\n",
       "    .dataframe thead th {\n",
       "        text-align: right;\n",
       "    }\n",
       "</style>\n",
       "<table border=\"1\" class=\"dataframe\">\n",
       "  <thead>\n",
       "    <tr style=\"text-align: right;\">\n",
       "      <th></th>\n",
       "      <th>Name</th>\n",
       "      <th>Value</th>\n",
       "      <th>Min</th>\n",
       "      <th>Max</th>\n",
       "    </tr>\n",
       "  </thead>\n",
       "  <tbody>\n",
       "    <tr>\n",
       "      <th>0</th>\n",
       "      <td>b</td>\n",
       "      <td>-7.00</td>\n",
       "      <td>-30.00</td>\n",
       "      <td>0.00</td>\n",
       "    </tr>\n",
       "    <tr>\n",
       "      <th>1</th>\n",
       "      <td>m</td>\n",
       "      <td>0.00</td>\n",
       "      <td>0.00</td>\n",
       "      <td>0.00</td>\n",
       "    </tr>\n",
       "    <tr>\n",
       "      <th>2</th>\n",
       "      <td>s</td>\n",
       "      <td>100.00</td>\n",
       "      <td>1.00</td>\n",
       "      <td>1000.00</td>\n",
       "    </tr>\n",
       "    <tr>\n",
       "      <th>3</th>\n",
       "      <td>a</td>\n",
       "      <td>-10.00</td>\n",
       "      <td>-30.00</td>\n",
       "      <td>1.00</td>\n",
       "    </tr>\n",
       "    <tr>\n",
       "      <th>4</th>\n",
       "      <td>maxobs</td>\n",
       "      <td>22.00</td>\n",
       "      <td>22.00</td>\n",
       "      <td>22.00</td>\n",
       "    </tr>\n",
       "    <tr>\n",
       "      <th>5</th>\n",
       "      <td>ct</td>\n",
       "      <td>0.01</td>\n",
       "      <td>0.01</td>\n",
       "      <td>0.01</td>\n",
       "    </tr>\n",
       "    <tr>\n",
       "      <th>6</th>\n",
       "      <td>censopt</td>\n",
       "      <td>0.00</td>\n",
       "      <td>0.00</td>\n",
       "      <td>0.00</td>\n",
       "    </tr>\n",
       "    <tr>\n",
       "      <th>7</th>\n",
       "      <td>calc_mod_m_s</td>\n",
       "      <td>1.00</td>\n",
       "      <td>1.00</td>\n",
       "      <td>1.00</td>\n",
       "    </tr>\n",
       "  </tbody>\n",
       "</table>\n",
       "</div>"
      ],
      "text/plain": [
       "           Name   Value    Min      Max\n",
       "0             b   -7.00 -30.00     0.00\n",
       "1             m    0.00   0.00     0.00\n",
       "2             s  100.00   1.00  1000.00\n",
       "3             a  -10.00 -30.00     1.00\n",
       "4        maxobs   22.00  22.00    22.00\n",
       "5            ct    0.01   0.01     0.01\n",
       "6       censopt    0.00   0.00     0.00\n",
       "7  calc_mod_m_s    1.00   1.00     1.00"
      ]
     },
     "execution_count": 29,
     "metadata": {},
     "output_type": "execute_result"
    }
   ],
   "source": [
    "maxobs = np.max(observations[0].values) # NOTE: np.nan??\n",
    "censor_threshold = 0.01\n",
    "censopt = 0.0\n",
    "calc_m_and_s = 1.0 # i.e. TRUE\n",
    "\n",
    "#\t\tconst string LogLikelihoodKeys::KeyAugmentSimulation = \"augment_simulation\";\n",
    "#\t\tconst string LogLikelihoodKeys::KeyExcludeAtTMinusOne = \"exclude_t_min_one\";\n",
    "#\t\tconst string LogLikelihoodKeys::KeyCalculateModelledMAndS = \"calc_mod_m_s\";\n",
    "#\t\tconst string LogLikelihoodKeys::KeyMParMod = \"m_par_mod\";\n",
    "#\t\tconst string LogLikelihoodKeys::KeySParMod = \"s_par_mod\";\n",
    "\n",
    "p = sp.create_parameteriser('no apply')\n",
    "# Note: exampleParameterizer is also available\n",
    "p.add_to_hypercube( \n",
    "          pd.DataFrame.from_dict( dict(Name=c('b','m','s','a','maxobs','ct', 'censopt', 'calc_mod_m_s'),\n",
    "          Min   = c(-30, 0, 1,    -30, maxobs, censor_threshold, censopt, calc_m_and_s),\n",
    "          Max   = c(0,   0, 1000, 1, maxobs, censor_threshold, censopt, calc_m_and_s),\n",
    "          Value = c(-7,  0, 100,  -10, maxobs, censor_threshold, censopt, calc_m_and_s)) ))\n",
    "\n",
    "p.as_dataframe()"
   ]
  },
  {
   "cell_type": "code",
   "execution_count": 30,
   "id": "crazy-princess",
   "metadata": {
    "execution": {
     "iopub.execute_input": "2023-01-05T06:57:15.045414Z",
     "iopub.status.busy": "2023-01-05T06:57:15.045249Z",
     "iopub.status.idle": "2023-01-05T06:57:15.054753Z",
     "shell.execute_reply": "2023-01-05T06:57:15.054230Z"
    }
   },
   "outputs": [
    {
     "data": {
      "text/html": [
       "<div>\n",
       "<style scoped>\n",
       "    .dataframe tbody tr th:only-of-type {\n",
       "        vertical-align: middle;\n",
       "    }\n",
       "\n",
       "    .dataframe tbody tr th {\n",
       "        vertical-align: top;\n",
       "    }\n",
       "\n",
       "    .dataframe thead th {\n",
       "        text-align: right;\n",
       "    }\n",
       "</style>\n",
       "<table border=\"1\" class=\"dataframe\">\n",
       "  <thead>\n",
       "    <tr style=\"text-align: right;\">\n",
       "      <th></th>\n",
       "      <th>Name</th>\n",
       "      <th>Value</th>\n",
       "      <th>Min</th>\n",
       "      <th>Max</th>\n",
       "    </tr>\n",
       "  </thead>\n",
       "  <tbody>\n",
       "    <tr>\n",
       "      <th>0</th>\n",
       "      <td>log_x4</td>\n",
       "      <td>0.305422</td>\n",
       "      <td>0.000000</td>\n",
       "      <td>2.380211</td>\n",
       "    </tr>\n",
       "    <tr>\n",
       "      <th>1</th>\n",
       "      <td>log_x1</td>\n",
       "      <td>0.506690</td>\n",
       "      <td>0.000000</td>\n",
       "      <td>3.778151</td>\n",
       "    </tr>\n",
       "    <tr>\n",
       "      <th>2</th>\n",
       "      <td>log_x3</td>\n",
       "      <td>0.315425</td>\n",
       "      <td>0.000000</td>\n",
       "      <td>3.000000</td>\n",
       "    </tr>\n",
       "    <tr>\n",
       "      <th>3</th>\n",
       "      <td>asinh_x2</td>\n",
       "      <td>0.000000</td>\n",
       "      <td>-3.989327</td>\n",
       "      <td>3.989327</td>\n",
       "    </tr>\n",
       "    <tr>\n",
       "      <th>4</th>\n",
       "      <td>R0</td>\n",
       "      <td>0.900000</td>\n",
       "      <td>0.000000</td>\n",
       "      <td>1.000000</td>\n",
       "    </tr>\n",
       "    <tr>\n",
       "      <th>5</th>\n",
       "      <td>S0</td>\n",
       "      <td>0.900000</td>\n",
       "      <td>0.000000</td>\n",
       "      <td>1.000000</td>\n",
       "    </tr>\n",
       "    <tr>\n",
       "      <th>6</th>\n",
       "      <td>alpha</td>\n",
       "      <td>1.000000</td>\n",
       "      <td>0.001000</td>\n",
       "      <td>100.000000</td>\n",
       "    </tr>\n",
       "    <tr>\n",
       "      <th>7</th>\n",
       "      <td>inverse_velocity</td>\n",
       "      <td>1.000000</td>\n",
       "      <td>0.001000</td>\n",
       "      <td>100.000000</td>\n",
       "    </tr>\n",
       "    <tr>\n",
       "      <th>8</th>\n",
       "      <td>node.7.b</td>\n",
       "      <td>-7.000000</td>\n",
       "      <td>-30.000000</td>\n",
       "      <td>0.000000</td>\n",
       "    </tr>\n",
       "    <tr>\n",
       "      <th>9</th>\n",
       "      <td>node.7.m</td>\n",
       "      <td>0.000000</td>\n",
       "      <td>0.000000</td>\n",
       "      <td>0.000000</td>\n",
       "    </tr>\n",
       "    <tr>\n",
       "      <th>10</th>\n",
       "      <td>node.7.s</td>\n",
       "      <td>100.000000</td>\n",
       "      <td>1.000000</td>\n",
       "      <td>1000.000000</td>\n",
       "    </tr>\n",
       "    <tr>\n",
       "      <th>11</th>\n",
       "      <td>node.7.a</td>\n",
       "      <td>-10.000000</td>\n",
       "      <td>-30.000000</td>\n",
       "      <td>1.000000</td>\n",
       "    </tr>\n",
       "    <tr>\n",
       "      <th>12</th>\n",
       "      <td>node.7.maxobs</td>\n",
       "      <td>22.000000</td>\n",
       "      <td>22.000000</td>\n",
       "      <td>22.000000</td>\n",
       "    </tr>\n",
       "    <tr>\n",
       "      <th>13</th>\n",
       "      <td>node.7.ct</td>\n",
       "      <td>0.010000</td>\n",
       "      <td>0.010000</td>\n",
       "      <td>0.010000</td>\n",
       "    </tr>\n",
       "    <tr>\n",
       "      <th>14</th>\n",
       "      <td>node.7.censopt</td>\n",
       "      <td>0.000000</td>\n",
       "      <td>0.000000</td>\n",
       "      <td>0.000000</td>\n",
       "    </tr>\n",
       "    <tr>\n",
       "      <th>15</th>\n",
       "      <td>node.7.calc_mod_m_s</td>\n",
       "      <td>1.000000</td>\n",
       "      <td>1.000000</td>\n",
       "      <td>1.000000</td>\n",
       "    </tr>\n",
       "    <tr>\n",
       "      <th>16</th>\n",
       "      <td>node.12.b</td>\n",
       "      <td>-7.000000</td>\n",
       "      <td>-30.000000</td>\n",
       "      <td>0.000000</td>\n",
       "    </tr>\n",
       "    <tr>\n",
       "      <th>17</th>\n",
       "      <td>node.12.m</td>\n",
       "      <td>0.000000</td>\n",
       "      <td>0.000000</td>\n",
       "      <td>0.000000</td>\n",
       "    </tr>\n",
       "    <tr>\n",
       "      <th>18</th>\n",
       "      <td>node.12.s</td>\n",
       "      <td>100.000000</td>\n",
       "      <td>1.000000</td>\n",
       "      <td>1000.000000</td>\n",
       "    </tr>\n",
       "    <tr>\n",
       "      <th>19</th>\n",
       "      <td>node.12.a</td>\n",
       "      <td>-10.000000</td>\n",
       "      <td>-30.000000</td>\n",
       "      <td>1.000000</td>\n",
       "    </tr>\n",
       "    <tr>\n",
       "      <th>20</th>\n",
       "      <td>node.12.maxobs</td>\n",
       "      <td>22.000000</td>\n",
       "      <td>22.000000</td>\n",
       "      <td>22.000000</td>\n",
       "    </tr>\n",
       "    <tr>\n",
       "      <th>21</th>\n",
       "      <td>node.12.ct</td>\n",
       "      <td>0.010000</td>\n",
       "      <td>0.010000</td>\n",
       "      <td>0.010000</td>\n",
       "    </tr>\n",
       "    <tr>\n",
       "      <th>22</th>\n",
       "      <td>node.12.censopt</td>\n",
       "      <td>0.000000</td>\n",
       "      <td>0.000000</td>\n",
       "      <td>0.000000</td>\n",
       "    </tr>\n",
       "    <tr>\n",
       "      <th>23</th>\n",
       "      <td>node.12.calc_mod_m_s</td>\n",
       "      <td>1.000000</td>\n",
       "      <td>1.000000</td>\n",
       "      <td>1.000000</td>\n",
       "    </tr>\n",
       "  </tbody>\n",
       "</table>\n",
       "</div>"
      ],
      "text/plain": [
       "                    Name       Value        Min          Max\n",
       "0                 log_x4    0.305422   0.000000     2.380211\n",
       "1                 log_x1    0.506690   0.000000     3.778151\n",
       "2                 log_x3    0.315425   0.000000     3.000000\n",
       "3               asinh_x2    0.000000  -3.989327     3.989327\n",
       "4                     R0    0.900000   0.000000     1.000000\n",
       "5                     S0    0.900000   0.000000     1.000000\n",
       "6                  alpha    1.000000   0.001000   100.000000\n",
       "7       inverse_velocity    1.000000   0.001000   100.000000\n",
       "8               node.7.b   -7.000000 -30.000000     0.000000\n",
       "9               node.7.m    0.000000   0.000000     0.000000\n",
       "10              node.7.s  100.000000   1.000000  1000.000000\n",
       "11              node.7.a  -10.000000 -30.000000     1.000000\n",
       "12         node.7.maxobs   22.000000  22.000000    22.000000\n",
       "13             node.7.ct    0.010000   0.010000     0.010000\n",
       "14        node.7.censopt    0.000000   0.000000     0.000000\n",
       "15   node.7.calc_mod_m_s    1.000000   1.000000     1.000000\n",
       "16             node.12.b   -7.000000 -30.000000     0.000000\n",
       "17             node.12.m    0.000000   0.000000     0.000000\n",
       "18             node.12.s  100.000000   1.000000  1000.000000\n",
       "19             node.12.a  -10.000000 -30.000000     1.000000\n",
       "20        node.12.maxobs   22.000000  22.000000    22.000000\n",
       "21            node.12.ct    0.010000   0.010000     0.010000\n",
       "22       node.12.censopt    0.000000   0.000000     0.000000\n",
       "23  node.12.calc_mod_m_s    1.000000   1.000000     1.000000"
      ]
     },
     "execution_count": 30,
     "metadata": {},
     "output_type": "execute_result"
    }
   ],
   "source": [
    "func_parameterisers = [p, p.clone()] # for the two calib points, NSE has no param here\n",
    "catchment_pzer = parameteriser\n",
    "fp = sp.create_multisite_obj_parameteriser(func_parameterisers, calibration_points, prefixes=paste0(calibration_points, '.'), mix_func_parameteriser=None, hydro_parameteriser=catchment_pzer)\n",
    "fp.as_dataframe()"
   ]
  },
  {
   "cell_type": "code",
   "execution_count": 31,
   "id": "imposed-error",
   "metadata": {
    "execution": {
     "iopub.execute_input": "2023-01-05T06:57:15.056392Z",
     "iopub.status.busy": "2023-01-05T06:57:15.056187Z",
     "iopub.status.idle": "2023-01-05T06:57:15.058275Z",
     "shell.execute_reply": "2023-01-05T06:57:15.057978Z"
    }
   },
   "outputs": [],
   "source": [
    "moe = obj"
   ]
  },
  {
   "cell_type": "markdown",
   "id": "f458c132-94d4-439f-91a3-4b1e6f73daa5",
   "metadata": {},
   "source": [
    "To get the overall weighted multiobjective score (for which lower is better)"
   ]
  },
  {
   "cell_type": "code",
   "execution_count": 32,
   "id": "4b181658",
   "metadata": {
    "execution": {
     "iopub.execute_input": "2023-01-05T06:57:15.059825Z",
     "iopub.status.busy": "2023-01-05T06:57:15.059673Z",
     "iopub.status.idle": "2023-01-05T06:57:15.079639Z",
     "shell.execute_reply": "2023-01-05T06:57:15.079327Z"
    }
   },
   "outputs": [
    {
     "data": {
      "text/plain": [
       "{'scores': {'MultisiteObjectives': 45093.298747974426},\n",
       " 'sysconfig':                     Name       Value        Min          Max\n",
       " 0                 log_x4    0.305422   0.000000     2.380211\n",
       " 1                 log_x1    0.506690   0.000000     3.778151\n",
       " 2                 log_x3    0.315425   0.000000     3.000000\n",
       " 3               asinh_x2    0.000000  -3.989327     3.989327\n",
       " 4                     R0    0.900000   0.000000     1.000000\n",
       " 5                     S0    0.900000   0.000000     1.000000\n",
       " 6                  alpha    1.000000   0.001000   100.000000\n",
       " 7       inverse_velocity    1.000000   0.001000   100.000000\n",
       " 8               node.7.b   -7.000000 -30.000000     0.000000\n",
       " 9               node.7.m    0.000000   0.000000     0.000000\n",
       " 10              node.7.s  100.000000   1.000000  1000.000000\n",
       " 11              node.7.a  -10.000000 -30.000000     1.000000\n",
       " 12         node.7.maxobs   22.000000  22.000000    22.000000\n",
       " 13             node.7.ct    0.010000   0.010000     0.010000\n",
       " 14        node.7.censopt    0.000000   0.000000     0.000000\n",
       " 15   node.7.calc_mod_m_s    1.000000   1.000000     1.000000\n",
       " 16             node.12.b   -7.000000 -30.000000     0.000000\n",
       " 17             node.12.m    0.000000   0.000000     0.000000\n",
       " 18             node.12.s  100.000000   1.000000  1000.000000\n",
       " 19             node.12.a  -10.000000 -30.000000     1.000000\n",
       " 20        node.12.maxobs   22.000000  22.000000    22.000000\n",
       " 21            node.12.ct    0.010000   0.010000     0.010000\n",
       " 22       node.12.censopt    0.000000   0.000000     0.000000\n",
       " 23  node.12.calc_mod_m_s    1.000000   1.000000     1.000000}"
      ]
     },
     "execution_count": 32,
     "metadata": {},
     "output_type": "execute_result"
    }
   ],
   "source": [
    "moe.get_score(fp)"
   ]
  },
  {
   "cell_type": "markdown",
   "id": "ba1c8fa6-5b15-43b5-9bcf-57ccc93d72b9",
   "metadata": {},
   "source": [
    "To get each individual log-likelihood scores for each gauge:"
   ]
  },
  {
   "cell_type": "code",
   "execution_count": 33,
   "id": "96823441-c47f-4f2a-abb0-a31b73757bb6",
   "metadata": {
    "execution": {
     "iopub.execute_input": "2023-01-05T06:57:15.081399Z",
     "iopub.status.busy": "2023-01-05T06:57:15.081199Z",
     "iopub.status.idle": "2023-01-05T06:57:15.098054Z",
     "shell.execute_reply": "2023-01-05T06:57:15.097719Z"
    }
   },
   "outputs": [
    {
     "data": {
      "text/plain": [
       "{'node.12': -44776.75651455558, 'node.7': -45726.383214812144}"
      ]
     },
     "execution_count": 33,
     "metadata": {},
     "output_type": "execute_result"
    }
   ],
   "source": [
    "moe.get_scores(fp)"
   ]
  }
 ],
 "metadata": {
  "jupytext": {
   "cell_metadata_filter": "tags,eval,name,-all",
   "formats": "ipynb,py:percent",
   "main_language": "R"
  },
  "kernelspec": {
   "display_name": "HFC",
   "language": "python",
   "name": "hydrofc"
  },
  "language_info": {
   "codemirror_mode": {
    "name": "ipython",
    "version": 3
   },
   "file_extension": ".py",
   "mimetype": "text/x-python",
   "name": "python",
   "nbconvert_exporter": "python",
   "pygments_lexer": "ipython3",
   "version": "3.9.13"
  }
 },
 "nbformat": 4,
 "nbformat_minor": 5
}
