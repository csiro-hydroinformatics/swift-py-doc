{
 "cells": [
  {
   "cell_type": "markdown",
   "id": "0",
   "metadata": {},
   "source": [
    "# Reservoir geometry"
   ]
  },
  {
   "cell_type": "markdown",
   "id": "1",
   "metadata": {
    "lines_to_next_cell": 0
   },
   "source": [
    "## About this document\n"
   ]
  },
  {
   "cell_type": "code",
   "execution_count": null,
   "id": "2",
   "metadata": {
    "tags": []
   },
   "outputs": [],
   "source": [
    "from swift2.doc_helper import pkg_versions_info\n",
    "\n",
    "print(pkg_versions_info(\"This document was generated from a jupyter notebook\"))"
   ]
  },
  {
   "cell_type": "code",
   "execution_count": null,
   "id": "3",
   "metadata": {
    "name": "setup",
    "tags": [
     "remove_cell"
    ]
   },
   "outputs": [],
   "source": [
    "from cinterop.timeseries import xr_ts_end, xr_ts_start\n",
    "from swift2.doc_helper import (\n",
    "    configure_hourly_gr4j,\n",
    "    define_parameteriser_gr4j_muskingum,\n",
    "    sample_catchment_model,\n",
    "    sample_series,\n",
    ")\n",
    "from swift2.simulation import swap_model\n",
    "from swift2.utils import mk_full_data_id\n",
    "from swift2.vis import plot_two_series"
   ]
  },
  {
   "cell_type": "markdown",
   "id": "4",
   "metadata": {},
   "source": [
    "## Model structure\n",
    "\n",
    "**Note**: Setting up this model prior to adding a reservoir node is not the primary purpose of this vignette, so you may skip this section."
   ]
  },
  {
   "cell_type": "code",
   "execution_count": null,
   "id": "5",
   "metadata": {},
   "outputs": [],
   "source": [
    "catchmentStructure = sample_catchment_model(site_id = \"Adelaide\", config_id = \"catchment\")\n",
    "\n",
    "hydromodel = \"GR4J\"\n",
    "channel_routing = 'MuskingumNonLinear'\n",
    "hydroModelRainfallId = 'P'\n",
    "hydroModelEvapId = 'E'\n",
    "\n",
    "# set models\n",
    "insimulation = swap_model(catchmentStructure, model_id = hydromodel ,what = \"runoff\")\n",
    "simulation = swap_model(insimulation, model_id = channel_routing ,what = \"channel_routing\")\n",
    "\n",
    "saId = simulation.get_subarea_ids()\n",
    "assert len(saId) == 1\n",
    "\n",
    "precipTs = sample_series(site_id = \"Adelaide\", var_name = \"rain\")\n",
    "evapTs = sample_series(site_id = \"Adelaide\", var_name = \"evap\")\n",
    "flowRateTs = sample_series(site_id = \"Adelaide\", var_name = \"flow\")"
   ]
  },
  {
   "cell_type": "code",
   "execution_count": null,
   "id": "6",
   "metadata": {},
   "outputs": [],
   "source": [
    "mk_full_data_id('subarea', saId, hydroModelRainfallId)"
   ]
  },
  {
   "cell_type": "code",
   "execution_count": null,
   "id": "7",
   "metadata": {
    "lines_to_next_cell": 1
   },
   "outputs": [],
   "source": [
    "simulation.play_input(precipTs, mk_full_data_id('subarea', saId, hydroModelRainfallId))\n",
    "simulation.play_input(evapTs, mk_full_data_id('subarea', saId, hydroModelEvapId))\n",
    "configure_hourly_gr4j(simulation)\n",
    "simulation.set_simulation_time_step('hourly')\n",
    "\n",
    "# Small time interval only, to reduce runtimes in this vignette\n",
    "\n",
    "from uchronia.time_series import mk_date\n",
    "\n",
    "simstart = mk_date(2010,9,1)  \n",
    "simend = mk_date(2012,6,30,23)  \n",
    "simwarmup = simstart\n",
    "simulation.set_simulation_span(simstart, simend)"
   ]
  },
  {
   "cell_type": "code",
   "execution_count": null,
   "id": "8",
   "metadata": {},
   "outputs": [],
   "source": []
  },
  {
   "cell_type": "code",
   "execution_count": null,
   "id": "9",
   "metadata": {
    "lines_to_next_cell": 2
   },
   "outputs": [],
   "source": [
    "def templateHydroParameterizer(simulation):\n",
    "    return define_parameteriser_gr4j_muskingum(ref_area=250.0,\n",
    "        time_span=3600,\n",
    "        simulation=simulation,\n",
    "        objfun=\"NSE\",\n",
    "        delta_t=1.0,\n",
    "        param_name_k='Alpha')\n",
    "\n",
    "\n",
    "nodeId = 'node.2'\n",
    "flowId = mk_full_data_id(nodeId, 'OutflowRate')\n",
    "\n",
    "simulation.record_state(flowId)"
   ]
  },
  {
   "cell_type": "markdown",
   "id": "10",
   "metadata": {},
   "source": [
    "We use pre-calibrated hydrologic parameters "
   ]
  },
  {
   "cell_type": "code",
   "execution_count": null,
   "id": "11",
   "metadata": {},
   "outputs": [],
   "source": [
    "p = templateHydroParameterizer(simulation)\n",
    "p.set_min_parameter_value('R0', 0.0)\n",
    "p.set_max_parameter_value('R0', 1.0)\n",
    "p.set_min_parameter_value('S0', 0.0)\n",
    "p.set_max_parameter_value('S0', 1.0)\n",
    "p.set_parameter_value('log_x4', 1.017730e+00)\n",
    "p.set_parameter_value('log_x1', 2.071974e+00\t)\n",
    "p.set_parameter_value('log_x3', 1.797909e+00\t)\n",
    "p.set_parameter_value('asinh_x2', -1.653842e+00)\t\n",
    "p.set_parameter_value('R0', 2.201930e-11\t)\n",
    "p.set_parameter_value('S0', 3.104968e-11\t)\n",
    "p.set_parameter_value('X', 6.595537e-03\t) # Gotcha: needs to be set before alpha is changed.\n",
    "p.set_parameter_value('Alpha', 6.670534e-01\t)\n",
    "p"
   ]
  },
  {
   "cell_type": "markdown",
   "id": "12",
   "metadata": {},
   "source": [
    "We get a visual on the output of the catchment simulation."
   ]
  },
  {
   "cell_type": "code",
   "execution_count": null,
   "id": "13",
   "metadata": {},
   "outputs": [],
   "source": [
    "sViz = mk_date(2010,12,1)\n",
    "eViz = mk_date(2011,4,30,23)\n",
    "\n",
    "def subsetPlot(tts):\n",
    "    from cinterop.timeseries import ts_window\n",
    "    return ts_window(tts, from_date=sViz, to_date=eViz) \n",
    "\n",
    "def plot_obs_vs_calc(obs, calc, names= None, ylab=\"flow (m3/s)\"):\n",
    "    obs = subsetPlot(obs)\n",
    "    calc = subsetPlot(calc)\n",
    "    return plot_two_series(obs, calc, ylab=ylab, names=names, start_time = xr_ts_start(calc), end_time = xr_ts_end(calc))\n",
    "\n",
    "p.apply_sys_config(simulation)"
   ]
  },
  {
   "cell_type": "markdown",
   "id": "14",
   "metadata": {},
   "source": [
    "## A look at the model simulation prior to setting up a reservoir"
   ]
  },
  {
   "cell_type": "code",
   "execution_count": null,
   "id": "15",
   "metadata": {},
   "outputs": [],
   "source": [
    "simulation.exec_simulation()\n",
    "catchmentOutflowNoReservoir = simulation.get_recorded(flowId)\n",
    "plot_obs_vs_calc(flowRateTs, catchmentOutflowNoReservoir, names=[\"observed\", \"modelled - no reservoir\"])"
   ]
  },
  {
   "cell_type": "markdown",
   "id": "16",
   "metadata": {},
   "source": [
    "From here on we will only work with modelled time series, as the reservoir set up will be synthetic and there is no real observations to \"match\".\n",
    "\n",
    "## Set up the reservoir model\n",
    "\n",
    "The catchment is simple, with node 2 being the outlet of the catchment so this is where we will add the reservoir"
   ]
  },
  {
   "cell_type": "code",
   "execution_count": null,
   "id": "17",
   "metadata": {},
   "outputs": [],
   "source": [
    "simulation.describe()"
   ]
  },
  {
   "cell_type": "code",
   "execution_count": null,
   "id": "18",
   "metadata": {},
   "outputs": [],
   "source": [
    "simulation.get_node_ids(), simulation.get_node_names()"
   ]
  },
  {
   "cell_type": "markdown",
   "id": "19",
   "metadata": {},
   "source": [
    "We create a synthetic, simple reservoir geometry (level-volume-area) for this vignette."
   ]
  },
  {
   "cell_type": "code",
   "execution_count": null,
   "id": "20",
   "metadata": {},
   "outputs": [],
   "source": [
    "simulation.set_reservoir_model('LevelVolumeAreaReservoir', nodeId)"
   ]
  },
  {
   "cell_type": "code",
   "execution_count": null,
   "id": "21",
   "metadata": {},
   "outputs": [],
   "source": [
    "import numpy as np\n",
    "def seq(start, stop, by):\n",
    "    import math\n",
    "    assert by > 0\n",
    "    n = int(math.floor( (stop - start + 1) / by ))\n",
    "    return np.linspace(start=start, stop=(start+n*by-1), num=n)"
   ]
  },
  {
   "cell_type": "code",
   "execution_count": null,
   "id": "22",
   "metadata": {},
   "outputs": [],
   "source": [
    "seq(1, 6, 1)"
   ]
  },
  {
   "cell_type": "code",
   "execution_count": null,
   "id": "23",
   "metadata": {},
   "outputs": [],
   "source": [
    "seq(1, 6-0.1, 1)"
   ]
  },
  {
   "cell_type": "code",
   "execution_count": null,
   "id": "24",
   "metadata": {},
   "outputs": [],
   "source": [
    "import numpy as np\n",
    "\n",
    "levels = seq(start=10.0, stop=30, by=0.1)\n",
    "volumes = (levels - 10) ** 3.1 * 17000\n",
    "area = volumes * 0.0"
   ]
  },
  {
   "cell_type": "code",
   "execution_count": null,
   "id": "25",
   "metadata": {},
   "outputs": [],
   "source": [
    "fsv_height = 27.0\n",
    "levels >= fsv_height"
   ]
  },
  {
   "cell_type": "code",
   "execution_count": null,
   "id": "26",
   "metadata": {},
   "outputs": [],
   "source": [
    "fsv_index = np.where(levels >= fsv_height)[0][0]"
   ]
  },
  {
   "cell_type": "code",
   "execution_count": null,
   "id": "27",
   "metadata": {},
   "outputs": [],
   "source": [
    "fsv = volumes[fsv_index]\n",
    "fsv"
   ]
  },
  {
   "cell_type": "markdown",
   "id": "28",
   "metadata": {},
   "source": [
    "Our synthetic dam can hold 111 millon cubic metres at full supply volume."
   ]
  },
  {
   "cell_type": "code",
   "execution_count": null,
   "id": "29",
   "metadata": {
    "lines_to_next_cell": 2
   },
   "outputs": [],
   "source": [
    "import matplotlib.pyplot as plt\n",
    "plt.plot(levels, volumes)\n",
    "plt.xlabel(\"level\")\n",
    "plt.ylabel(\"volume (m3)\")\n",
    "# Add a horizontal line at y = fsv\n",
    "plt.axhline(y=fsv, color='r', linestyle='-');"
   ]
  },
  {
   "cell_type": "code",
   "execution_count": null,
   "id": "30",
   "metadata": {},
   "outputs": [],
   "source": [
    "simulation.set_reservoir_geometry(nodeId, levels, volumes, area)"
   ]
  },
  {
   "cell_type": "markdown",
   "id": "31",
   "metadata": {},
   "source": [
    "### level-discharge relationships"
   ]
  },
  {
   "cell_type": "markdown",
   "id": "32",
   "metadata": {},
   "source": [
    "We also create synthetic level-discharge relationships. These define the minimum and maximum outflow rates for a reservoir, given its current level. This is a generic way to capture the behavior of many reservoirs; the minimum discharge curve is typically capture the uncontrolled overspill. The maximum discharge curve is for the outflow rate with all outlets and spillway gates open. Specialisations of this reservoir (for instance as inheriting C++ classes) can then refine the behavior with additional rules on the controlled releases.  \n",
    "\n",
    "In this example for the sake of simplicity we set up identical minimal and maximal curves. Let's say the reservoir spills above 27 metres, and between 20 and 27 the outflow rate is a linear function of the level above 20 metres datum."
   ]
  },
  {
   "cell_type": "code",
   "execution_count": null,
   "id": "33",
   "metadata": {
    "lines_to_next_cell": 2
   },
   "outputs": [],
   "source": [
    "min_d_levels = seq(start=20, stop=fsv_height-0.01, by=0.1)\n",
    "max_outlet_rate = 20 # outlet cumecs at or near full supply volume \n",
    "discharge = np.linspace( 1, len(min_d_levels), num=len(min_d_levels)) / len(min_d_levels) * max_outlet_rate\n",
    "min_d_levels_spill = seq(start=fsv_height, stop=30, by=0.1)\n",
    "# we define a spillover discharge function that is purely synthetic; basically made up to \"work\" with the sample data.  \n",
    "discharge_spill = (min_d_levels_spill - fsv_height) ** 3.5 * 40 + max_outlet_rate\n",
    "min_d_levels = np.concatenate([min_d_levels, min_d_levels_spill])\n",
    "discharge = np.concatenate([discharge, discharge_spill])"
   ]
  },
  {
   "cell_type": "code",
   "execution_count": null,
   "id": "34",
   "metadata": {},
   "outputs": [],
   "source": [
    "plt.plot(min_d_levels, discharge)\n",
    "plt.xlabel(\"reservoir level\")\n",
    "plt.ylabel(\"discharge (m3/s)\");"
   ]
  },
  {
   "cell_type": "code",
   "execution_count": null,
   "id": "35",
   "metadata": {},
   "outputs": [],
   "source": [
    "plt.plot(min_d_levels, discharge)\n",
    "plt.xlabel(\"reservoir level\")\n",
    "plt.yscale(\"log\")  # Set the y-axis to a logarithmic scale\n",
    "plt.ylabel(\"discharge (m3/s)\");"
   ]
  },
  {
   "cell_type": "code",
   "execution_count": null,
   "id": "36",
   "metadata": {},
   "outputs": [],
   "source": [
    "simulation.set_reservoir_min_discharge(nodeId, min_d_levels, discharge)\n",
    "simulation.set_reservoir_max_discharge(nodeId, min_d_levels, discharge)"
   ]
  },
  {
   "cell_type": "markdown",
   "id": "37",
   "metadata": {},
   "source": [
    "Let's see the resulting behavior of this storage"
   ]
  },
  {
   "cell_type": "code",
   "execution_count": null,
   "id": "38",
   "metadata": {},
   "outputs": [],
   "source": [
    "simulation.get_variable_ids(mk_full_data_id(nodeId))"
   ]
  },
  {
   "cell_type": "markdown",
   "id": "39",
   "metadata": {},
   "source": [
    "The reservoir model has several states to influence the mass balance. For simplicity in this vignette we will leave these at zero, but it is possible to \"play\" time series."
   ]
  },
  {
   "cell_type": "code",
   "execution_count": null,
   "id": "40",
   "metadata": {},
   "outputs": [],
   "source": [
    "simulation.record_state(mk_full_data_id(nodeId, 'reservoir.Storage'))\n",
    "simulation.record_state(mk_full_data_id(nodeId, 'reservoir.OutflowRate'))\n",
    "simulation.record_state(mk_full_data_id(nodeId, 'reservoir.InflowRate'))\n",
    "\n",
    "simulation.exec_simulation()\n",
    "\n",
    "st = simulation.get_recorded(mk_full_data_id(nodeId, 'reservoir.Storage'))\n",
    "st_gl = st / 1e6 # m3 to GL\n",
    "hline = st_gl.copy()\n",
    "hline[:] = fsv / 1e6"
   ]
  },
  {
   "cell_type": "code",
   "execution_count": null,
   "id": "41",
   "metadata": {},
   "outputs": [],
   "source": [
    "from swift2.vis import plot_series"
   ]
  },
  {
   "cell_type": "code",
   "execution_count": null,
   "id": "42",
   "metadata": {
    "lines_to_next_cell": 2
   },
   "outputs": [],
   "source": [
    "plot_two_series(st_gl, hline, names=['storage','FSV'], ylab='gigalitres', title=f\"Reservoir levels at node {nodeId}\")"
   ]
  },
  {
   "cell_type": "markdown",
   "id": "43",
   "metadata": {},
   "source": [
    "### Effect of the reservoir; changed catchment outflow"
   ]
  },
  {
   "cell_type": "code",
   "execution_count": null,
   "id": "44",
   "metadata": {},
   "outputs": [],
   "source": [
    "catchmentOutflowWithReservoir = simulation.get_recorded(flowId)"
   ]
  },
  {
   "cell_type": "code",
   "execution_count": null,
   "id": "45",
   "metadata": {
    "lines_to_next_cell": 2
   },
   "outputs": [],
   "source": [
    "plot_two_series(catchmentOutflowNoReservoir, catchmentOutflowWithReservoir, \n",
    "                names=[\"No reservoir\", \"With reservoir\"], \n",
    "                ylab='m3/s', \n",
    "                title=f\"Outflow rate at {nodeId}\")"
   ]
  },
  {
   "cell_type": "code",
   "execution_count": null,
   "id": "46",
   "metadata": {},
   "outputs": [],
   "source": [
    "catchmentOutflowWithReservoir"
   ]
  },
  {
   "cell_type": "code",
   "execution_count": null,
   "id": "47",
   "metadata": {},
   "outputs": [],
   "source": [
    "simulation.exec_simulation()"
   ]
  },
  {
   "cell_type": "code",
   "execution_count": null,
   "id": "48",
   "metadata": {
    "lines_to_next_cell": 2
   },
   "outputs": [],
   "source": [
    "simulation.get_recorded(mk_full_data_id(nodeId, 'reservoir.Storage'))\n",
    "orate = simulation.get_recorded(mk_full_data_id(nodeId, 'reservoir.OutflowRate'))\n",
    "irate = simulation.get_recorded(mk_full_data_id(nodeId, 'reservoir.InflowRate'))"
   ]
  },
  {
   "cell_type": "code",
   "execution_count": null,
   "id": "49",
   "metadata": {
    "lines_to_next_cell": 2
   },
   "outputs": [],
   "source": [
    "plot_two_series(irate, orate, \n",
    "                names=[\"inflow rate\", \"outflow rate\"], \n",
    "                ylab='m3/s', \n",
    "                title=f\"Inflow and Outflow rate at {nodeId}\")"
   ]
  },
  {
   "cell_type": "code",
   "execution_count": null,
   "id": "50",
   "metadata": {},
   "outputs": [],
   "source": []
  }
 ],
 "metadata": {
  "jupytext": {
   "cell_metadata_filter": "tags,eval,name,-all",
   "formats": "ipynb,py:percent",
   "main_language": "R"
  },
  "kernelspec": {
   "display_name": "hydrofc",
   "language": "python",
   "name": "hydrofc"
  },
  "language_info": {
   "codemirror_mode": {
    "name": "ipython",
    "version": 3
   },
   "file_extension": ".py",
   "mimetype": "text/x-python",
   "name": "python",
   "nbconvert_exporter": "python",
   "pygments_lexer": "ipython3",
   "version": "3.11.11"
  }
 },
 "nbformat": 4,
 "nbformat_minor": 5
}
