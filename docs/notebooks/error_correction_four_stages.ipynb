{
 "cells": [
  {
   "cell_type": "markdown",
   "id": "0",
   "metadata": {},
   "source": [
    "# Error correction models - ERRIS"
   ]
  },
  {
   "cell_type": "markdown",
   "id": "1",
   "metadata": {
    "lines_to_next_cell": 0
   },
   "source": [
    "## About this document\n"
   ]
  },
  {
   "cell_type": "code",
   "execution_count": null,
   "id": "2",
   "metadata": {
    "tags": []
   },
   "outputs": [],
   "source": [
    "from swift2.doc_helper import pkg_versions_info\n",
    "\n",
    "print(pkg_versions_info(\"This document was generated from a jupyter notebook\"))"
   ]
  },
  {
   "cell_type": "markdown",
   "id": "3",
   "metadata": {},
   "source": [
    "[Li, Ming; Wang, QJ; Bennett, James; Robertson, David. Error reduction and representation in stages (ERRIS) in hydrological modelling for ensemble streamflow forecasting. Hydrology and Earth System Sciences. 2016; 20:3561-3579. https://doi.org/10.5194/hess-20-3561-2016 ](https://doi.org/10.5194/hess-20-3561-2016)\n",
    "\n",
    "## Calibrating ERRIS\n",
    "\n",
    "### Model structure\n",
    "\n",
    "We use sample hourly data from the Adelaide catchment [this catchment in the Northern Territory, TBC](https://en.wikipedia.org/wiki/Adelaide_River). The catchment model set up is not the key point of this vignette so we do not comment on that section: "
   ]
  },
  {
   "cell_type": "code",
   "execution_count": null,
   "id": "4",
   "metadata": {},
   "outputs": [],
   "source": [
    "import datetime as dt\n",
    "\n",
    "import matplotlib.pyplot as plt\n",
    "import numpy as np\n",
    "import pandas as pd"
   ]
  },
  {
   "cell_type": "code",
   "execution_count": null,
   "id": "5",
   "metadata": {},
   "outputs": [],
   "source": [
    "import seaborn as sns"
   ]
  },
  {
   "cell_type": "code",
   "execution_count": null,
   "id": "6",
   "metadata": {},
   "outputs": [],
   "source": [
    "import swift2\n",
    "import swift2.wrap.swift_wrap_custom as swc"
   ]
  },
  {
   "cell_type": "code",
   "execution_count": null,
   "id": "7",
   "metadata": {},
   "outputs": [],
   "source": [
    "# Only temporary, under construction...\n",
    "import swift2.wrap.swift_wrap_generated as swg\n",
    "import xarray as xr"
   ]
  },
  {
   "cell_type": "code",
   "execution_count": null,
   "id": "8",
   "metadata": {
    "lines_to_next_cell": 0
   },
   "outputs": [],
   "source": []
  },
  {
   "cell_type": "code",
   "execution_count": null,
   "id": "9",
   "metadata": {},
   "outputs": [],
   "source": [
    "from cinterop.timeseries import (\n",
    "    TIME_DIMNAME,\n",
    "    pd_series_to_xr_series,\n",
    "    slice_xr_time_series,\n",
    "    xr_ts_end,\n",
    "    xr_ts_start,\n",
    ")"
   ]
  },
  {
   "cell_type": "code",
   "execution_count": null,
   "id": "10",
   "metadata": {},
   "outputs": [],
   "source": [
    "from swift2.doc_helper import *\n",
    "\n",
    "# from swift2.prototypes import extractOptimizationLog\n",
    "from swift2.model_definitions import *\n",
    "from swift2.parameteriser import *\n",
    "from swift2.play_record import *\n",
    "from swift2.simulation import *\n",
    "from swift2.statistics import *\n",
    "from swift2.system import *\n",
    "from swift2.utils import *\n",
    "from swift2.vis import OptimisationPlots\n",
    "from uchronia.time_series import get_item, mk_date"
   ]
  },
  {
   "cell_type": "code",
   "execution_count": null,
   "id": "11",
   "metadata": {},
   "outputs": [],
   "source": [
    "%matplotlib inline"
   ]
  },
  {
   "cell_type": "code",
   "execution_count": null,
   "id": "12",
   "metadata": {
    "eval": true
   },
   "outputs": [],
   "source": [
    "catchmentStructure = sample_catchment_model(site_id= \"Adelaide\", config_id=\"catchment\")\n",
    "\n",
    "hydromodel = \"GR4J\";\n",
    "channel_routing = 'MuskingumNonLinear';\n",
    "hydroModelRainfallId = 'P'\n",
    "hydroModelEvapId = 'E'\n",
    "\n",
    "from swift2.classes import HypercubeParameteriser, Parameteriser, Simulation"
   ]
  },
  {
   "cell_type": "code",
   "execution_count": null,
   "id": "13",
   "metadata": {
    "eval": true,
    "lines_to_next_cell": 2
   },
   "outputs": [],
   "source": [
    "# set models\n",
    "insimulation = swap_model(catchmentStructure, model_id= hydromodel ,what = \"runoff\")\n",
    "simulation:Simulation = swap_model(insimulation, model_id = channel_routing ,what = \"channel_routing\")\n",
    "\n",
    "saId = get_subarea_ids(simulation)"
   ]
  },
  {
   "cell_type": "code",
   "execution_count": null,
   "id": "14",
   "metadata": {
    "eval": true,
    "lines_to_next_cell": 2
   },
   "outputs": [],
   "source": [
    "saId = saId[0] # HACK: need to test robustness to different time series passed to player functions\n",
    "\n",
    "precipTs = sample_series(site_id = \"Adelaide\", var_name= \"rain\")\n",
    "evapTs = sample_series(site_id = \"Adelaide\", var_name = \"evap\")\n",
    "flowRateTs = sample_series(site_id = \"Adelaide\", var_name = \"flow\")\n",
    "\n",
    "play_input(simulation, precipTs, mk_full_data_id('subarea', saId, hydroModelRainfallId))\n",
    "play_input(simulation, evapTs, mk_full_data_id('subarea', saId, hydroModelEvapId))\n",
    "configure_hourly_gr4j(simulation)\n",
    "set_simulation_time_step(simulation, 'hourly')\n",
    "\n",
    "# Small time interval only, to reduce runtimes in this vignette\n",
    "simstart = mk_date(2010,12,1)  \n",
    "simend = mk_date(2011,6,30,23)  \n",
    "simwarmup = simstart\n",
    "\n",
    "set_simulation_span(simulation, simstart, simend)"
   ]
  },
  {
   "cell_type": "code",
   "execution_count": null,
   "id": "15",
   "metadata": {},
   "outputs": [],
   "source": [
    "flowRateTs"
   ]
  },
  {
   "cell_type": "code",
   "execution_count": null,
   "id": "16",
   "metadata": {},
   "outputs": [],
   "source": [
    "get_state_value(simulation, \"subarea.1.areaKm2\")\n",
    "# getCatchmentStructure(simulation)"
   ]
  },
  {
   "cell_type": "code",
   "execution_count": null,
   "id": "17",
   "metadata": {
    "lines_to_next_cell": 1
   },
   "outputs": [],
   "source": [
    "get_state_value(catchmentStructure, \"subarea.1.areaKm2\")"
   ]
  },
  {
   "cell_type": "code",
   "execution_count": null,
   "id": "18",
   "metadata": {
    "eval": true,
    "lines_to_next_cell": 2
   },
   "outputs": [],
   "source": [
    "def templateHydroParameterizer(simulation):\n",
    "    return define_parameteriser_gr4j_muskingum(ref_area=250.0,\n",
    "        time_span=3600,\n",
    "        simulation=simulation,\n",
    "        objfun=\"NSE\",\n",
    "        delta_t=1.0,\n",
    "        param_name_k='Alpha')\n",
    "\n",
    "nodeId = 'node.2'\n",
    "flowId = mk_full_data_id(nodeId, 'OutflowRate')\n",
    "\n",
    "record_state(simulation, flowId)"
   ]
  },
  {
   "cell_type": "markdown",
   "id": "19",
   "metadata": {},
   "source": [
    "We use pre-calibrated hydrologic parameters (reproducible with doc/error_correction_doc_preparation.r in this package structure) "
   ]
  },
  {
   "cell_type": "code",
   "execution_count": null,
   "id": "20",
   "metadata": {
    "eval": true
   },
   "outputs": [],
   "source": [
    "p = templateHydroParameterizer(simulation)\n",
    "set_min_parameter_value(p, 'R0', 0.0)\n",
    "set_max_parameter_value(p, 'R0', 1.0)\n",
    "set_min_parameter_value(p, 'S0', 0.0)\n",
    "set_max_parameter_value(p, 'S0', 1.0)\n",
    "set_parameter_value( p, 'log_x4', 1.017730e+00)\n",
    "set_parameter_value( p, 'log_x1', 2.071974e+00\t)\n",
    "set_parameter_value( p, 'log_x3', 1.797909e+00\t)\n",
    "set_parameter_value( p, 'asinh_x2', -1.653842e+00)\t\n",
    "set_parameter_value( p, 'R0', 2.201930e-11\t)\n",
    "set_parameter_value( p, 'S0', 3.104968e-11\t)\n",
    "set_parameter_value( p, 'X', 6.595537e-03\t) # Gotcha: needs to be set before alpha is changed.\n",
    "set_parameter_value( p, 'Alpha', 6.670534e-01\t)\n",
    "p.as_dataframe()\n",
    "\n",
    "    \n",
    "sViz = mk_date(2010,12,1)\n",
    "eViz = mk_date(2011,4,30,23)\n",
    "\n",
    "def one_wet_season(tts):\n",
    "    from cinterop.timeseries import ts_window\n",
    "    return ts_window(tts, from_date=sViz, to_date=eViz) \n",
    "\n",
    "def plot_obs_vs_calc(obs, calc, ylab=\"flow (m3/s)\"):\n",
    "    from swift2.vis import plot_two_series\n",
    "    obs = as_xarray_series(one_wet_season(obs))\n",
    "    calc = one_wet_season(calc)\n",
    "    plot_two_series(obs, calc, start_time= xr_ts_start(obs), end_time= xr_ts_end(obs))"
   ]
  },
  {
   "cell_type": "code",
   "execution_count": null,
   "id": "21",
   "metadata": {
    "eval": true
   },
   "outputs": [],
   "source": [
    "p.apply_sys_config(simulation)"
   ]
  },
  {
   "cell_type": "code",
   "execution_count": null,
   "id": "22",
   "metadata": {
    "eval": true
   },
   "outputs": [],
   "source": [
    "simulation.exec_simulation()"
   ]
  },
  {
   "cell_type": "code",
   "execution_count": null,
   "id": "23",
   "metadata": {
    "eval": true
   },
   "outputs": [],
   "source": [
    "plot_obs_vs_calc(flowRateTs, simulation.get_recorded(flowId))"
   ]
  },
  {
   "cell_type": "code",
   "execution_count": null,
   "id": "24",
   "metadata": {},
   "outputs": [],
   "source": [
    "flowRateTs"
   ]
  },
  {
   "cell_type": "markdown",
   "id": "25",
   "metadata": {},
   "source": [
    "### Set up the error correction model"
   ]
  },
  {
   "cell_type": "code",
   "execution_count": null,
   "id": "26",
   "metadata": {
    "eval": true
   },
   "outputs": [],
   "source": [
    "simulation.get_node_ids(), simulation.get_node_names()"
   ]
  },
  {
   "cell_type": "code",
   "execution_count": null,
   "id": "27",
   "metadata": {
    "eval": true
   },
   "outputs": [],
   "source": [
    "errorModelElementId = 'node.2';\n",
    "simulation.set_error_correction_model('ERRIS', errorModelElementId, length=-1, seed=0)\n",
    "\n",
    "flowRateTsGapped = flowRateTs"
   ]
  },
  {
   "cell_type": "code",
   "execution_count": null,
   "id": "28",
   "metadata": {
    "eval": true
   },
   "outputs": [],
   "source": [
    "flowRateTsGapped['2011-02'] = np.nan\n",
    "\n",
    "# plot(flowRateTsGapped)\n",
    "\n",
    "play_input(simulation,flowRateTsGapped,var_ids=mk_full_data_id(errorModelElementId,\"ec\",\"Observation\"))"
   ]
  },
  {
   "cell_type": "markdown",
   "id": "29",
   "metadata": {},
   "source": [
    "Now, prepare a model with error correction, and set up for generation"
   ]
  },
  {
   "cell_type": "code",
   "execution_count": null,
   "id": "30",
   "metadata": {
    "eval": true
   },
   "outputs": [],
   "source": [
    "from swift2.prototypes import *\n",
    "\n",
    "ecs = simulation.clone()\n",
    "\n",
    "ecs.set_state_value(mk_full_data_id(nodeId,\"ec\",\"Generating\"),False)\n",
    "updatedFlowVarID = mk_full_data_id(nodeId,\"ec\",\"Updated\")\n",
    "inputFlowVarID = mk_full_data_id(nodeId,\"ec\",\"Input\")\n",
    "ecs.record_state(var_ids=c(updatedFlowVarID, inputFlowVarID))"
   ]
  },
  {
   "cell_type": "markdown",
   "id": "31",
   "metadata": {},
   "source": [
    "### ERRIS calibration in stages"
   ]
  },
  {
   "cell_type": "code",
   "execution_count": null,
   "id": "32",
   "metadata": {
    "eval": true
   },
   "outputs": [],
   "source": [
    "#termination = getMaxRuntimeTermination(0.005)\n",
    "termination = create_sce_termination_wila('relative standard deviation', c('0.05','0.0167'))"
   ]
  },
  {
   "cell_type": "markdown",
   "id": "33",
   "metadata": {},
   "source": [
    "We could set up a four-stages estimation in one go, but we will instead work in each stages for didactic purposes."
   ]
  },
  {
   "cell_type": "code",
   "execution_count": null,
   "id": "34",
   "metadata": {
    "eval": true
   },
   "outputs": [],
   "source": [
    "%%time \n",
    "censOpt = 0.0\n",
    "estimator = create_erris_parameter_estimator (simulation, flowRateTs, errorModelElementId,\n",
    "                                            estimation_start = simstart, estimation_end=simend, cens_thr=0.0, cens_opt=censOpt,\n",
    "                                            termination_condition=termination, restriction_on=True, weighted_least_square=False)\n",
    "\n",
    "stageOnePset = swg.CalibrateERRISStageOne_py(estimator)\n",
    "print(stageOnePset.as_dataframe())"
   ]
  },
  {
   "cell_type": "markdown",
   "id": "35",
   "metadata": {},
   "source": [
    "#### Stage 2\n",
    "\n",
    "Stage two can be logged:"
   ]
  },
  {
   "cell_type": "code",
   "execution_count": null,
   "id": "36",
   "metadata": {
    "eval": true
   },
   "outputs": [],
   "source": [
    "%%time \n",
    "swg.SetERRISVerboseCalibration_py(estimator, True)\n",
    "stageTwoPset = swg.CalibrateERRISStageTwo_py(estimator, stageOnePset)\n",
    "print(stageTwoPset.as_dataframe())"
   ]
  },
  {
   "cell_type": "code",
   "execution_count": null,
   "id": "37",
   "metadata": {},
   "outputs": [],
   "source": [
    "def mkEcIds(p:HypercubeParameteriser) -> HypercubeParameteriser:\n",
    "    df = p.as_dataframe()\n",
    "    df.Name = mk_full_data_id(nodeId, 'ec', df.Name)\n",
    "    return create_parameteriser('Generic',df)\n",
    "\n",
    "mkEcIds(stageTwoPset).apply_sys_config(ecs)\n",
    "ecs.exec_simulation()\n",
    "plot_obs_vs_calc(flowRateTsGapped, ecs.get_recorded(updatedFlowVarID))"
   ]
  },
  {
   "cell_type": "markdown",
   "id": "38",
   "metadata": {},
   "source": [
    "A helper function to process the calibration log:"
   ]
  },
  {
   "cell_type": "code",
   "execution_count": null,
   "id": "39",
   "metadata": {
    "eval": true,
    "lines_to_next_cell": 2
   },
   "outputs": [],
   "source": [
    "# def prepOptimLog(estimator, fitness_name = \"Log.likelihood\"):\n",
    "#     optimLog = getLoggerContent(estimator)\n",
    "#     # head(optimLog)\n",
    "#     # optimLog$PointNumber = 1:nrow(optimLog)   \n",
    "#     logMh = mkOptimLog(optimLog, fitness = fitness_name, messages = \"Message\", categories = \"Category\") \n",
    "#     geom_ops = mhplot::subset_by_message(logMh)\n",
    "#     d = list(data=logMh, geom_ops=geom_ops)\n",
    "# }"
   ]
  },
  {
   "cell_type": "code",
   "execution_count": null,
   "id": "40",
   "metadata": {
    "eval": true,
    "lines_to_next_cell": 2
   },
   "outputs": [],
   "source": [
    "type(estimator), str(estimator)"
   ]
  },
  {
   "cell_type": "code",
   "execution_count": null,
   "id": "41",
   "metadata": {
    "eval": true,
    "lines_to_next_cell": 2
   },
   "outputs": [],
   "source": [
    "opt_log = estimator.extract_optimisation_log(fitness_name = \"Log-likelihood\")"
   ]
  },
  {
   "cell_type": "code",
   "execution_count": null,
   "id": "42",
   "metadata": {
    "eval": true
   },
   "outputs": [],
   "source": [
    "geom_ops = opt_log.subset_by_message(pattern= 'Initial.*|Reflec.*|Contrac.*|Add.*') "
   ]
  },
  {
   "cell_type": "code",
   "execution_count": null,
   "id": "43",
   "metadata": {
    "eval": true
   },
   "outputs": [],
   "source": [
    "def get_max_ll(): return np.max(geom_ops._data[\"Log-likelihood\"])"
   ]
  },
  {
   "cell_type": "code",
   "execution_count": null,
   "id": "44",
   "metadata": {
    "eval": true
   },
   "outputs": [],
   "source": [
    "v = OptimisationPlots(geom_ops)\n",
    "g = v.parameter_evolution('Sigma1_Rising', c(0, get_max_ll()))\n",
    "plt.gcf().set_size_inches(10,8)"
   ]
  },
  {
   "cell_type": "markdown",
   "id": "45",
   "metadata": {},
   "source": [
    "#### Stage 3"
   ]
  },
  {
   "cell_type": "code",
   "execution_count": null,
   "id": "46",
   "metadata": {
    "eval": true
   },
   "outputs": [],
   "source": [
    "%%time\n",
    "stageThreePset = swg.CalibrateERRISStageThree_py(estimator, stageTwoPset)\n",
    "print(stageThreePset.as_dataframe())"
   ]
  },
  {
   "cell_type": "code",
   "execution_count": null,
   "id": "47",
   "metadata": {
    "eval": true,
    "lines_to_next_cell": 2
   },
   "outputs": [],
   "source": [
    "opt_log = estimator.extract_optimisation_log(fitness_name = \"Log-likelihood\")"
   ]
  },
  {
   "cell_type": "code",
   "execution_count": null,
   "id": "48",
   "metadata": {
    "eval": true
   },
   "outputs": [],
   "source": [
    "geom_ops = opt_log.subset_by_message(pattern= 'Initial.*|Reflec.*|Contrac.*|Add.*') "
   ]
  },
  {
   "cell_type": "code",
   "execution_count": null,
   "id": "49",
   "metadata": {
    "eval": true
   },
   "outputs": [],
   "source": [
    "v = OptimisationPlots(geom_ops)\n",
    "g = v.parameter_evolution('Rho', c(0, get_max_ll()))\n",
    "plt.gcf().set_size_inches(10,8)"
   ]
  },
  {
   "cell_type": "markdown",
   "id": "50",
   "metadata": {},
   "source": [
    "#### Stage 3a, generating and fitting M and S if free"
   ]
  },
  {
   "cell_type": "code",
   "execution_count": null,
   "id": "51",
   "metadata": {
    "eval": true,
    "lines_to_next_cell": 2
   },
   "outputs": [],
   "source": [
    "%%time\n",
    "stageThreePsetMS = swg.CalibrateERRISStageThreeMS_py(estimator, stageThreePset)\n",
    "print(stageThreePsetMS.as_dataframe())"
   ]
  },
  {
   "cell_type": "code",
   "execution_count": null,
   "id": "52",
   "metadata": {},
   "outputs": [],
   "source": [
    "mkEcIds(stageThreePsetMS).apply_sys_config(ecs)\n",
    "ecs.exec_simulation()\n",
    "plot_obs_vs_calc(flowRateTsGapped, ecs.get_recorded(updatedFlowVarID))"
   ]
  },
  {
   "cell_type": "markdown",
   "id": "53",
   "metadata": {},
   "source": [
    "#### Stage 4, rising limb "
   ]
  },
  {
   "cell_type": "code",
   "execution_count": null,
   "id": "54",
   "metadata": {
    "eval": true
   },
   "outputs": [],
   "source": [
    "%%time\n",
    "stageFourPsetRising = swg.CalibrateERRISStageFour_py(estimator, stageThreePsetMS, useRising = True)\n",
    "print(stageFourPsetRising.as_dataframe())"
   ]
  },
  {
   "cell_type": "code",
   "execution_count": null,
   "id": "55",
   "metadata": {
    "eval": true,
    "lines_to_next_cell": 2
   },
   "outputs": [],
   "source": [
    "opt_log = estimator.extract_optimisation_log(fitness_name = \"Log-likelihood\")"
   ]
  },
  {
   "cell_type": "code",
   "execution_count": null,
   "id": "56",
   "metadata": {
    "eval": true
   },
   "outputs": [],
   "source": [
    "geom_ops = opt_log.subset_by_message(pattern= 'Initial.*|Reflec.*|Contrac.*|Add.*') "
   ]
  },
  {
   "cell_type": "code",
   "execution_count": null,
   "id": "57",
   "metadata": {
    "eval": true
   },
   "outputs": [],
   "source": [
    "v = OptimisationPlots(geom_ops)\n",
    "g = v.parameter_evolution('Weight_Rising', c(0, get_max_ll()))\n",
    "plt.gcf().set_size_inches(10,8)"
   ]
  },
  {
   "cell_type": "code",
   "execution_count": null,
   "id": "58",
   "metadata": {},
   "outputs": [],
   "source": [
    "mkEcIds(stageFourPsetRising).apply_sys_config(ecs)\n",
    "ecs.exec_simulation()\n",
    "plot_obs_vs_calc(flowRateTsGapped, ecs.get_recorded(updatedFlowVarID))"
   ]
  },
  {
   "cell_type": "markdown",
   "id": "59",
   "metadata": {},
   "source": [
    "#### Stage 4, falling limbs"
   ]
  },
  {
   "cell_type": "code",
   "execution_count": null,
   "id": "60",
   "metadata": {
    "eval": true
   },
   "outputs": [],
   "source": [
    "%%time\n",
    "stageFourPsetFalling = swg.CalibrateERRISStageFour_py(estimator, stageThreePsetMS, useRising = False)\n",
    "print(stageFourPsetFalling.as_dataframe())"
   ]
  },
  {
   "cell_type": "code",
   "execution_count": null,
   "id": "61",
   "metadata": {},
   "outputs": [],
   "source": []
  },
  {
   "cell_type": "code",
   "execution_count": null,
   "id": "62",
   "metadata": {
    "eval": true,
    "lines_to_next_cell": 2
   },
   "outputs": [],
   "source": [
    "opt_log = estimator.extract_optimisation_log(fitness_name = \"Log-likelihood\")"
   ]
  },
  {
   "cell_type": "code",
   "execution_count": null,
   "id": "63",
   "metadata": {
    "eval": true
   },
   "outputs": [],
   "source": [
    "geom_ops = opt_log.subset_by_message(pattern= 'Initial.*|Reflec.*|Contrac.*|Add.*') "
   ]
  },
  {
   "cell_type": "code",
   "execution_count": null,
   "id": "64",
   "metadata": {
    "eval": true
   },
   "outputs": [],
   "source": [
    "v = OptimisationPlots(geom_ops)\n",
    "g = v.parameter_evolution('Weight_Rising', c(0, get_max_ll()))\n",
    "plt.gcf().set_size_inches(10,8)"
   ]
  },
  {
   "cell_type": "markdown",
   "id": "65",
   "metadata": {},
   "source": [
    "#### Final consolidated parameter set"
   ]
  },
  {
   "cell_type": "code",
   "execution_count": null,
   "id": "66",
   "metadata": {
    "eval": true,
    "lines_to_next_cell": 2
   },
   "outputs": [],
   "source": [
    "finalPset = swg.ConcatenateERRISStagesParameters_py(estimator, hydroParams = create_parameteriser(), stage1_result =  stageOnePset, stage2_result = stageTwoPset, \n",
    "                                   stage3_result = stageThreePsetMS, stage4a_result = stageFourPsetRising, stage4b_result = stageFourPsetFalling, toLongParameterName = False)\n",
    "\n",
    "print(finalPset.as_dataframe())"
   ]
  },
  {
   "cell_type": "markdown",
   "id": "67",
   "metadata": {},
   "source": [
    "### Legacy call\n",
    "\n",
    "Check that the previous \"one stop shop\" call gives the same results."
   ]
  },
  {
   "cell_type": "code",
   "execution_count": null,
   "id": "68",
   "metadata": {
    "eval": true
   },
   "outputs": [],
   "source": [
    "%%time\n",
    "\n",
    "censOpt = 0.0\n",
    "termination = create_sce_termination_wila('relative standard deviation', c('0.05','0.0167'))\n",
    "\n",
    "dummyDate = simstart\n",
    "\n",
    "from swift2.prototypes import estimate_erris_parameters\n",
    "\n",
    "psetFullEstimate = estimate_erris_parameters(simulation, flowRateTs, errorModelElementId,\n",
    "  warmup_start=dummyDate, warmup_end=dummyDate, warmup=False, estimation_start = simstart, estimation_end=simend, cens_thr=0.0,\n",
    " cens_opt = censOpt, exclusion_start=dummyDate, exclusion_end=dummyDate, exclusion=False, termination_condition = termination,\n",
    "  hydro_params = None, erris_params = None, restriction_on = True,\n",
    "  weighted_least_square = False)\n",
    "\n",
    "print(psetFullEstimate.as_dataframe())"
   ]
  },
  {
   "cell_type": "markdown",
   "id": "69",
   "metadata": {},
   "source": [
    "\n",
    "\n"
   ]
  },
  {
   "cell_type": "code",
   "execution_count": null,
   "id": "70",
   "metadata": {},
   "outputs": [],
   "source": []
  }
 ],
 "metadata": {
  "jupytext": {
   "cell_metadata_filter": "tags,eval,name,-all",
   "formats": "ipynb,py:percent",
   "main_language": "R"
  },
  "kernelspec": {
   "display_name": "hydrofc",
   "language": "python",
   "name": "hydrofc"
  },
  "language_info": {
   "codemirror_mode": {
    "name": "ipython",
    "version": 3
   },
   "file_extension": ".py",
   "mimetype": "text/x-python",
   "name": "python",
   "nbconvert_exporter": "python",
   "pygments_lexer": "ipython3",
   "version": "3.11.11"
  }
 },
 "nbformat": 4,
 "nbformat_minor": 5
}
