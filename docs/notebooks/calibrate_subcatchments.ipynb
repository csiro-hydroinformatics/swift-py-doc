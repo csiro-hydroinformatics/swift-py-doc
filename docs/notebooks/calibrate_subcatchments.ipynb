{
 "cells": [
  {
   "cell_type": "markdown",
   "id": "naughty-missile",
   "metadata": {},
   "source": [
    "# Cascaded calibration of subcatchments defined by multiple gauges"
   ]
  },
  {
   "cell_type": "markdown",
   "id": "504f29c4-40f4-4339-b3ee-4613aa86e50c",
   "metadata": {
    "tags": []
   },
   "source": [
    "## Use case\n",
    "\n",
    "**2021-01: this vignette works structurally, but is confined to overly short (and possibly difficult) data to keep runtime low**\n",
    "\n",
    "This vignette demonstrates how one can calibrate a catchment using multiple gauging points available within this catchment. Instead of setting up a whole-of-catchment calibration definition, it makes sense, at least in a system where subareas above a gauge points do not have a behavior dependent on other catchment processes (meaning mostly, no managed reservoirs). SWIFT offers capabilities to calibrate such subcatchments sequentially, feeding the input flow of upstream and already calibrated subcatchments to other subcatchments, thus cutting down on the complexity and runtime of the overall catchment calibration. "
   ]
  },
  {
   "cell_type": "code",
   "execution_count": 1,
   "id": "87f2931c-d5e2-48b7-86ec-a621488ec7c1",
   "metadata": {
    "execution": {
     "iopub.execute_input": "2023-01-05T06:57:17.034451Z",
     "iopub.status.busy": "2023-01-05T06:57:17.034247Z",
     "iopub.status.idle": "2023-01-05T06:57:18.079063Z",
     "shell.execute_reply": "2023-01-05T06:57:18.078474Z"
    }
   },
   "outputs": [],
   "source": [
    "from collections import OrderedDict\n",
    "from swift2.classes import CompositeParameteriser, ObjectiveEvaluator, Simulation\n",
    "from swift2.const import CATCHMENT_FLOWRATE_VARID\n",
    "from swift2.vis import plot_two_series\n",
    "import numpy as np"
   ]
  },
  {
   "cell_type": "code",
   "execution_count": 2,
   "id": "4c186746-0a9f-4386-ad3a-88a4c9c63e61",
   "metadata": {
    "execution": {
     "iopub.execute_input": "2023-01-05T06:57:18.081384Z",
     "iopub.status.busy": "2023-01-05T06:57:18.081135Z",
     "iopub.status.idle": "2023-01-05T06:57:18.088887Z",
     "shell.execute_reply": "2023-01-05T06:57:18.088575Z"
    }
   },
   "outputs": [],
   "source": [
    "import swift2.doc_helper as std\n",
    "import swift2.parameteriser as sp"
   ]
  },
  {
   "cell_type": "code",
   "execution_count": 3,
   "id": "7c8b3891-868f-4f74-8c25-a0f9a7b08a71",
   "metadata": {
    "execution": {
     "iopub.execute_input": "2023-01-05T06:57:18.090688Z",
     "iopub.status.busy": "2023-01-05T06:57:18.090516Z",
     "iopub.status.idle": "2023-01-05T06:57:18.092969Z",
     "shell.execute_reply": "2023-01-05T06:57:18.092636Z"
    }
   },
   "outputs": [],
   "source": [
    "from cinterop.timeseries import xr_ts_start, xr_ts_end\n",
    "import datetime as dt"
   ]
  },
  {
   "cell_type": "code",
   "execution_count": 4,
   "id": "7a3a7aa7-d13a-4c79-a94e-93fdd34d5284",
   "metadata": {
    "execution": {
     "iopub.execute_input": "2023-01-05T06:57:18.094940Z",
     "iopub.status.busy": "2023-01-05T06:57:18.094544Z",
     "iopub.status.idle": "2023-01-05T06:57:18.102231Z",
     "shell.execute_reply": "2023-01-05T06:57:18.101718Z"
    }
   },
   "outputs": [],
   "source": [
    "%matplotlib inline"
   ]
  },
  {
   "cell_type": "markdown",
   "id": "4dc2547b-4194-44ac-abfa-1d66df9ceab0",
   "metadata": {
    "tags": []
   },
   "source": [
    "## Data\n",
    "\n",
    "The sample data that comes with the package contains a model definition for the South Esk catchment, including a short subset of the climate and flow record data."
   ]
  },
  {
   "cell_type": "code",
   "execution_count": 5,
   "id": "unnecessary-genius",
   "metadata": {
    "execution": {
     "iopub.execute_input": "2023-01-05T06:57:18.104509Z",
     "iopub.status.busy": "2023-01-05T06:57:18.104331Z",
     "iopub.status.idle": "2023-01-05T06:57:18.768099Z",
     "shell.execute_reply": "2023-01-05T06:57:18.767661Z"
    }
   },
   "outputs": [],
   "source": [
    "model_id = 'GR4J'\n",
    "site_id = 'South_Esk'\n",
    "simulation = std.sample_catchment_model(site_id=site_id, config_id='catchment')\n",
    "simulation = simulation.swap_model('LagAndRoute', 'channel_routing')"
   ]
  },
  {
   "cell_type": "markdown",
   "id": "limiting-habitat",
   "metadata": {},
   "source": [
    "A visual of the catchment structure (note: may not render yet through GitHub)"
   ]
  },
  {
   "cell_type": "code",
   "execution_count": 6,
   "id": "imported-phase",
   "metadata": {
    "execution": {
     "iopub.execute_input": "2023-01-05T06:57:18.770345Z",
     "iopub.status.busy": "2023-01-05T06:57:18.770187Z",
     "iopub.status.idle": "2023-01-05T06:57:18.772638Z",
     "shell.execute_reply": "2023-01-05T06:57:18.772203Z"
    }
   },
   "outputs": [],
   "source": [
    "# DiagrammeR(getCatchmentDotGraph(simulation))\n",
    "# TODO...\n",
    "# https://towardsdatascience.com/visualizing-networks-in-python-d70f4cbeb259\n",
    "# https://medium.com/@ludvig.hult/drawing-graphs-with-python-in-2019-bdd42bf9d5db"
   ]
  },
  {
   "cell_type": "code",
   "execution_count": 7,
   "id": "numerous-capital",
   "metadata": {
    "execution": {
     "iopub.execute_input": "2023-01-05T06:57:18.774352Z",
     "iopub.status.busy": "2023-01-05T06:57:18.774128Z",
     "iopub.status.idle": "2023-01-05T06:57:18.783561Z",
     "shell.execute_reply": "2023-01-05T06:57:18.783138Z"
    }
   },
   "outputs": [],
   "source": [
    "se_climate = std.sample_series(site_id=site_id, var_name='climate')\n",
    "se_flows = std.sample_series(site_id=site_id, var_name='flow')"
   ]
  },
  {
   "cell_type": "markdown",
   "id": "laden-impossible",
   "metadata": {},
   "source": [
    "The names of the climate series is already set to the climate input identifiers of the model simulation, so setting them as inputs is easy:"
   ]
  },
  {
   "cell_type": "code",
   "execution_count": 8,
   "id": "dcb7ee4b-9130-4697-8208-864a82a65fd4",
   "metadata": {
    "execution": {
     "iopub.execute_input": "2023-01-05T06:57:18.785640Z",
     "iopub.status.busy": "2023-01-05T06:57:18.785465Z",
     "iopub.status.idle": "2023-01-05T06:57:18.801435Z",
     "shell.execute_reply": "2023-01-05T06:57:18.801034Z"
    }
   },
   "outputs": [
    {
     "data": {
      "text/html": [
       "<div>\n",
       "<style scoped>\n",
       "    .dataframe tbody tr th:only-of-type {\n",
       "        vertical-align: middle;\n",
       "    }\n",
       "\n",
       "    .dataframe tbody tr th {\n",
       "        vertical-align: top;\n",
       "    }\n",
       "\n",
       "    .dataframe thead th {\n",
       "        text-align: right;\n",
       "    }\n",
       "</style>\n",
       "<table border=\"1\" class=\"dataframe\">\n",
       "  <thead>\n",
       "    <tr style=\"text-align: right;\">\n",
       "      <th></th>\n",
       "      <th>subcatchment.1.E</th>\n",
       "      <th>subcatchment.1.P</th>\n",
       "      <th>subcatchment.10.E</th>\n",
       "      <th>subcatchment.10.P</th>\n",
       "      <th>subcatchment.11.E</th>\n",
       "      <th>subcatchment.11.P</th>\n",
       "      <th>subcatchment.12.E</th>\n",
       "      <th>subcatchment.12.P</th>\n",
       "      <th>subcatchment.13.E</th>\n",
       "      <th>subcatchment.13.P</th>\n",
       "      <th>...</th>\n",
       "      <th>subcatchment.5.E</th>\n",
       "      <th>subcatchment.5.P</th>\n",
       "      <th>subcatchment.6.E</th>\n",
       "      <th>subcatchment.6.P</th>\n",
       "      <th>subcatchment.7.E</th>\n",
       "      <th>subcatchment.7.P</th>\n",
       "      <th>subcatchment.8.E</th>\n",
       "      <th>subcatchment.8.P</th>\n",
       "      <th>subcatchment.9.E</th>\n",
       "      <th>subcatchment.9.P</th>\n",
       "    </tr>\n",
       "  </thead>\n",
       "  <tbody>\n",
       "    <tr>\n",
       "      <th>2010-11-01 00:00:00</th>\n",
       "      <td>0.3918</td>\n",
       "      <td>0.0</td>\n",
       "      <td>0.4020</td>\n",
       "      <td>0.0000</td>\n",
       "      <td>0.3978</td>\n",
       "      <td>0.0000</td>\n",
       "      <td>0.4266</td>\n",
       "      <td>0.0000</td>\n",
       "      <td>0.3936</td>\n",
       "      <td>0.0000</td>\n",
       "      <td>...</td>\n",
       "      <td>0.4325</td>\n",
       "      <td>0.0</td>\n",
       "      <td>0.4110</td>\n",
       "      <td>0.0322</td>\n",
       "      <td>0.4247</td>\n",
       "      <td>0.0</td>\n",
       "      <td>0.4377</td>\n",
       "      <td>0.0</td>\n",
       "      <td>0.4337</td>\n",
       "      <td>0.0</td>\n",
       "    </tr>\n",
       "    <tr>\n",
       "      <th>2010-11-01 01:00:00</th>\n",
       "      <td>0.4385</td>\n",
       "      <td>0.0</td>\n",
       "      <td>0.4493</td>\n",
       "      <td>0.0207</td>\n",
       "      <td>0.4446</td>\n",
       "      <td>0.0433</td>\n",
       "      <td>0.4763</td>\n",
       "      <td>0.0179</td>\n",
       "      <td>0.4397</td>\n",
       "      <td>0.0555</td>\n",
       "      <td>...</td>\n",
       "      <td>0.4823</td>\n",
       "      <td>0.0</td>\n",
       "      <td>0.4593</td>\n",
       "      <td>0.0000</td>\n",
       "      <td>0.4746</td>\n",
       "      <td>0.0</td>\n",
       "      <td>0.4892</td>\n",
       "      <td>0.0</td>\n",
       "      <td>0.4841</td>\n",
       "      <td>0.0</td>\n",
       "    </tr>\n",
       "    <tr>\n",
       "      <th>2010-11-01 02:00:00</th>\n",
       "      <td>0.4614</td>\n",
       "      <td>0.0</td>\n",
       "      <td>0.4723</td>\n",
       "      <td>0.0000</td>\n",
       "      <td>0.4671</td>\n",
       "      <td>0.0000</td>\n",
       "      <td>0.5002</td>\n",
       "      <td>0.0000</td>\n",
       "      <td>0.4619</td>\n",
       "      <td>0.0000</td>\n",
       "      <td>...</td>\n",
       "      <td>0.5060</td>\n",
       "      <td>0.0</td>\n",
       "      <td>0.4827</td>\n",
       "      <td>0.0000</td>\n",
       "      <td>0.4987</td>\n",
       "      <td>0.0</td>\n",
       "      <td>0.5143</td>\n",
       "      <td>0.0</td>\n",
       "      <td>0.5084</td>\n",
       "      <td>0.0</td>\n",
       "    </tr>\n",
       "  </tbody>\n",
       "</table>\n",
       "<p>3 rows × 84 columns</p>\n",
       "</div>"
      ],
      "text/plain": [
       "                     subcatchment.1.E  subcatchment.1.P  subcatchment.10.E  \\\n",
       "2010-11-01 00:00:00            0.3918               0.0             0.4020   \n",
       "2010-11-01 01:00:00            0.4385               0.0             0.4493   \n",
       "2010-11-01 02:00:00            0.4614               0.0             0.4723   \n",
       "\n",
       "                     subcatchment.10.P  subcatchment.11.E  subcatchment.11.P  \\\n",
       "2010-11-01 00:00:00             0.0000             0.3978             0.0000   \n",
       "2010-11-01 01:00:00             0.0207             0.4446             0.0433   \n",
       "2010-11-01 02:00:00             0.0000             0.4671             0.0000   \n",
       "\n",
       "                     subcatchment.12.E  subcatchment.12.P  subcatchment.13.E  \\\n",
       "2010-11-01 00:00:00             0.4266             0.0000             0.3936   \n",
       "2010-11-01 01:00:00             0.4763             0.0179             0.4397   \n",
       "2010-11-01 02:00:00             0.5002             0.0000             0.4619   \n",
       "\n",
       "                     subcatchment.13.P  ...  subcatchment.5.E  \\\n",
       "2010-11-01 00:00:00             0.0000  ...            0.4325   \n",
       "2010-11-01 01:00:00             0.0555  ...            0.4823   \n",
       "2010-11-01 02:00:00             0.0000  ...            0.5060   \n",
       "\n",
       "                     subcatchment.5.P  subcatchment.6.E  subcatchment.6.P  \\\n",
       "2010-11-01 00:00:00               0.0            0.4110            0.0322   \n",
       "2010-11-01 01:00:00               0.0            0.4593            0.0000   \n",
       "2010-11-01 02:00:00               0.0            0.4827            0.0000   \n",
       "\n",
       "                     subcatchment.7.E  subcatchment.7.P  subcatchment.8.E  \\\n",
       "2010-11-01 00:00:00            0.4247               0.0            0.4377   \n",
       "2010-11-01 01:00:00            0.4746               0.0            0.4892   \n",
       "2010-11-01 02:00:00            0.4987               0.0            0.5143   \n",
       "\n",
       "                     subcatchment.8.P  subcatchment.9.E  subcatchment.9.P  \n",
       "2010-11-01 00:00:00               0.0            0.4337               0.0  \n",
       "2010-11-01 01:00:00               0.0            0.4841               0.0  \n",
       "2010-11-01 02:00:00               0.0            0.5084               0.0  \n",
       "\n",
       "[3 rows x 84 columns]"
      ]
     },
     "execution_count": 8,
     "metadata": {},
     "output_type": "execute_result"
    }
   ],
   "source": [
    "se_climate.head(3)"
   ]
  },
  {
   "cell_type": "code",
   "execution_count": 9,
   "id": "lightweight-cuisine",
   "metadata": {
    "execution": {
     "iopub.execute_input": "2023-01-05T06:57:18.803235Z",
     "iopub.status.busy": "2023-01-05T06:57:18.803043Z",
     "iopub.status.idle": "2023-01-05T06:57:18.815009Z",
     "shell.execute_reply": "2023-01-05T06:57:18.814606Z"
    }
   },
   "outputs": [],
   "source": [
    "simulation.play_input(se_climate)\n",
    "simulation.set_simulation_span(xr_ts_start(se_climate), xr_ts_end(se_climate))\n",
    "simulation.set_simulation_time_step('hourly')"
   ]
  },
  {
   "cell_type": "markdown",
   "id": "sealed-reaction",
   "metadata": {},
   "source": [
    "Moving on to define the parameters, free or fixed. We will use (for now - may change) the package calibragem, companion to SWIFT."
   ]
  },
  {
   "cell_type": "code",
   "execution_count": 10,
   "id": "rational-herald",
   "metadata": {
    "execution": {
     "iopub.execute_input": "2023-01-05T06:57:18.817158Z",
     "iopub.status.busy": "2023-01-05T06:57:18.816971Z",
     "iopub.status.idle": "2023-01-05T06:57:18.820484Z",
     "shell.execute_reply": "2023-01-05T06:57:18.820006Z"
    },
    "lines_to_next_cell": 2
   },
   "outputs": [],
   "source": [
    "std.configure_hourly_gr4j(simulation)"
   ]
  },
  {
   "cell_type": "markdown",
   "id": "64319f95-fcd9-4bf7-abd7-3929a949073e",
   "metadata": {},
   "source": [
    "## Parameterisation\n",
    "\n",
    "We define a function creating a realistic feasible parameter space. This is not the main object of this vignette, so we do not describe in details. "
   ]
  },
  {
   "cell_type": "code",
   "execution_count": 11,
   "id": "experienced-aircraft",
   "metadata": {
    "execution": {
     "iopub.execute_input": "2023-01-05T06:57:18.822463Z",
     "iopub.status.busy": "2023-01-05T06:57:18.822287Z",
     "iopub.status.idle": "2023-01-05T06:57:18.826795Z",
     "shell.execute_reply": "2023-01-05T06:57:18.826407Z"
    }
   },
   "outputs": [],
   "source": [
    "\n",
    "from swift2.utils import as_xarray_series, c, paste0, rep\n",
    "import swift2.parameteriser as sp\n",
    "import swift2.helpers as hlp\n",
    "\n",
    "\n",
    "def create_meta_parameteriser(simulation:Simulation, ref_area=250, time_span=3600):  \n",
    "    time_span = int(time_span)\n",
    "    parameteriser = std.define_gr4j_scaled_parameter(ref_area, time_span)\n",
    "  \n",
    "    # Let's define _S0_ and _R0_ parameters such that for each GR4J model instance, _S = S0 * x1_ and _R = R0 * x3_\n",
    "    p_states = sp.linear_parameteriser(\n",
    "                      param_name=c(\"S0\",\"R0\"), \n",
    "                      state_name=c(\"S\",\"R\"), \n",
    "                      scaling_var_name=c(\"x1\",\"x3\"),\n",
    "                      min_p_val=c(0.0,0.0), \n",
    "                      max_p_val=c(1.0,1.0), \n",
    "                      value=c(0.9,0.9), \n",
    "                      selector_type='each subarea')\n",
    "  \n",
    "    init_parameteriser = p_states.make_state_init_parameteriser()\n",
    "    parameteriser = sp.concatenate_parameterisers(parameteriser, init_parameteriser)\n",
    "    \n",
    "    hlp.lag_and_route_linear_storage_type(simulation)\n",
    "    hlp.set_reach_lengths_lag_n_route(simulation)\n",
    "\n",
    "    lnrp = hlp.parameteriser_lag_and_route()\n",
    "    parameteriser = CompositeParameteriser.concatenate(parameteriser, lnrp, strategy='')\n",
    "    return parameteriser"
   ]
  },
  {
   "cell_type": "code",
   "execution_count": 12,
   "id": "immediate-heaven",
   "metadata": {
    "execution": {
     "iopub.execute_input": "2023-01-05T06:57:18.828687Z",
     "iopub.status.busy": "2023-01-05T06:57:18.828420Z",
     "iopub.status.idle": "2023-01-05T06:57:18.843448Z",
     "shell.execute_reply": "2023-01-05T06:57:18.843046Z"
    }
   },
   "outputs": [
    {
     "data": {
      "text/html": [
       "<div>\n",
       "<style scoped>\n",
       "    .dataframe tbody tr th:only-of-type {\n",
       "        vertical-align: middle;\n",
       "    }\n",
       "\n",
       "    .dataframe tbody tr th {\n",
       "        vertical-align: top;\n",
       "    }\n",
       "\n",
       "    .dataframe thead th {\n",
       "        text-align: right;\n",
       "    }\n",
       "</style>\n",
       "<table border=\"1\" class=\"dataframe\">\n",
       "  <thead>\n",
       "    <tr style=\"text-align: right;\">\n",
       "      <th></th>\n",
       "      <th>Name</th>\n",
       "      <th>Value</th>\n",
       "      <th>Min</th>\n",
       "      <th>Max</th>\n",
       "    </tr>\n",
       "  </thead>\n",
       "  <tbody>\n",
       "    <tr>\n",
       "      <th>0</th>\n",
       "      <td>log_x4</td>\n",
       "      <td>0.305422</td>\n",
       "      <td>0.000000</td>\n",
       "      <td>2.380211</td>\n",
       "    </tr>\n",
       "    <tr>\n",
       "      <th>1</th>\n",
       "      <td>log_x1</td>\n",
       "      <td>0.506690</td>\n",
       "      <td>0.000000</td>\n",
       "      <td>3.778151</td>\n",
       "    </tr>\n",
       "    <tr>\n",
       "      <th>2</th>\n",
       "      <td>log_x3</td>\n",
       "      <td>0.315425</td>\n",
       "      <td>0.000000</td>\n",
       "      <td>3.000000</td>\n",
       "    </tr>\n",
       "    <tr>\n",
       "      <th>3</th>\n",
       "      <td>asinh_x2</td>\n",
       "      <td>2.637752</td>\n",
       "      <td>-3.989327</td>\n",
       "      <td>3.989327</td>\n",
       "    </tr>\n",
       "    <tr>\n",
       "      <th>4</th>\n",
       "      <td>R0</td>\n",
       "      <td>0.900000</td>\n",
       "      <td>0.000000</td>\n",
       "      <td>1.000000</td>\n",
       "    </tr>\n",
       "    <tr>\n",
       "      <th>5</th>\n",
       "      <td>S0</td>\n",
       "      <td>0.900000</td>\n",
       "      <td>0.000000</td>\n",
       "      <td>1.000000</td>\n",
       "    </tr>\n",
       "    <tr>\n",
       "      <th>6</th>\n",
       "      <td>alpha</td>\n",
       "      <td>1.000000</td>\n",
       "      <td>0.001000</td>\n",
       "      <td>100.000000</td>\n",
       "    </tr>\n",
       "    <tr>\n",
       "      <th>7</th>\n",
       "      <td>inverse_velocity</td>\n",
       "      <td>1.000000</td>\n",
       "      <td>0.001000</td>\n",
       "      <td>100.000000</td>\n",
       "    </tr>\n",
       "  </tbody>\n",
       "</table>\n",
       "</div>"
      ],
      "text/plain": [
       "               Name     Value       Min         Max\n",
       "0            log_x4  0.305422  0.000000    2.380211\n",
       "1            log_x1  0.506690  0.000000    3.778151\n",
       "2            log_x3  0.315425  0.000000    3.000000\n",
       "3          asinh_x2  2.637752 -3.989327    3.989327\n",
       "4                R0  0.900000  0.000000    1.000000\n",
       "5                S0  0.900000  0.000000    1.000000\n",
       "6             alpha  1.000000  0.001000  100.000000\n",
       "7  inverse_velocity  1.000000  0.001000  100.000000"
      ]
     },
     "execution_count": 12,
     "metadata": {},
     "output_type": "execute_result"
    }
   ],
   "source": [
    "parameteriser = create_meta_parameteriser(simulation)\n",
    "parameteriser.as_dataframe()"
   ]
  },
  {
   "cell_type": "markdown",
   "id": "judicial-concern",
   "metadata": {},
   "source": [
    "Now, checking that a default parameter set works structurally on the simulation:"
   ]
  },
  {
   "cell_type": "code",
   "execution_count": 13,
   "id": "wicked-disabled",
   "metadata": {
    "execution": {
     "iopub.execute_input": "2023-01-05T06:57:18.845478Z",
     "iopub.status.busy": "2023-01-05T06:57:18.845330Z",
     "iopub.status.idle": "2023-01-05T06:57:18.863591Z",
     "shell.execute_reply": "2023-01-05T06:57:18.863194Z"
    }
   },
   "outputs": [],
   "source": [
    "parameteriser.set_parameter_value('asinh_x2', 0)\n",
    "parameteriser.apply_sys_config(simulation)\n",
    "simulation.exec_simulation()"
   ]
  },
  {
   "cell_type": "markdown",
   "id": "searching-papua",
   "metadata": {},
   "source": [
    "We are now ready to enter the main topic of this vignette, subsetting the catchment into subcatchments for calibration purposes.\n",
    "\n",
    "## Splitting the catchment in subcatchments\n",
    "\n",
    "The sample gauge data flow contains identifiers that are of course distinct from the network node identifiers. We create a map between them (note - this information used to be in the NodeLink file in swiftv1), and we use these node as splitting points to derive subcatchments"
   ]
  },
  {
   "cell_type": "code",
   "execution_count": 14,
   "id": "ddec22e4-71e1-47f1-80f1-6fca9c498f6c",
   "metadata": {
    "execution": {
     "iopub.execute_input": "2023-01-05T06:57:18.865613Z",
     "iopub.status.busy": "2023-01-05T06:57:18.865461Z",
     "iopub.status.idle": "2023-01-05T06:57:18.868476Z",
     "shell.execute_reply": "2023-01-05T06:57:18.868043Z"
    }
   },
   "outputs": [],
   "source": [
    "gauges = c( '92106', '592002', '18311', '93044',    '25',   '181')\n",
    "node_ids = paste0('node.', c('7',   '12',   '25',   '30',   '40',   '43'))\n",
    "node_gauges = OrderedDict([(node_ids[i], gauges[i]) for i in range(len(gauges))])\n",
    "# names(gauges) = node_ids"
   ]
  },
  {
   "cell_type": "code",
   "execution_count": 15,
   "id": "c13f4b6b-5436-4584-8df3-440cc89a3ab2",
   "metadata": {
    "execution": {
     "iopub.execute_input": "2023-01-05T06:57:18.870411Z",
     "iopub.status.busy": "2023-01-05T06:57:18.870140Z",
     "iopub.status.idle": "2023-01-05T06:57:18.891072Z",
     "shell.execute_reply": "2023-01-05T06:57:18.890650Z"
    }
   },
   "outputs": [
    {
     "data": {
      "text/plain": [
       "OrderedDict([('node.40',\n",
       "              Simulation wrapper for a CFFI pointer handle to a native pointer of type id \"MODEL_SIMULATION_PTR\"),\n",
       "             ('node.25',\n",
       "              Simulation wrapper for a CFFI pointer handle to a native pointer of type id \"MODEL_SIMULATION_PTR\"),\n",
       "             ('node.12',\n",
       "              Simulation wrapper for a CFFI pointer handle to a native pointer of type id \"MODEL_SIMULATION_PTR\"),\n",
       "             ('node.7',\n",
       "              Simulation wrapper for a CFFI pointer handle to a native pointer of type id \"MODEL_SIMULATION_PTR\"),\n",
       "             ('node.30',\n",
       "              Simulation wrapper for a CFFI pointer handle to a native pointer of type id \"MODEL_SIMULATION_PTR\"),\n",
       "             ('node.43',\n",
       "              Simulation wrapper for a CFFI pointer handle to a native pointer of type id \"MODEL_SIMULATION_PTR\")])"
      ]
     },
     "execution_count": 15,
     "metadata": {},
     "output_type": "execute_result"
    }
   ],
   "source": [
    "split_element_ids = node_ids\n",
    "sub_cats = simulation.split_to_subcatchments(split_element_ids)\n",
    "sub_cats"
   ]
  },
  {
   "cell_type": "markdown",
   "id": "endangered-scientist",
   "metadata": {},
   "source": [
    "The resulting list of subcatchment simulations is already ordered in an upstream to downstream order by SWIFT.\n",
    "\n",
    "If we are to set up the first step of the sequential calibration:"
   ]
  },
  {
   "cell_type": "code",
   "execution_count": 16,
   "id": "e894180f-0c68-4cc3-9202-d96c248771db",
   "metadata": {
    "execution": {
     "iopub.execute_input": "2023-01-05T06:57:18.893060Z",
     "iopub.status.busy": "2023-01-05T06:57:18.892880Z",
     "iopub.status.idle": "2023-01-05T06:57:18.900836Z",
     "shell.execute_reply": "2023-01-05T06:57:18.900410Z"
    }
   },
   "outputs": [
    {
     "data": {
      "text/plain": [
       "{'subareas': {'37': 'Subarea_37', '38': 'Subarea_38', '39': 'Subarea_39'},\n",
       " 'nodes': {'40': 'Node_40', '39': 'Node_39', '38': 'Node_38', '37': 'Node_37'},\n",
       " 'links': {'39': 'Subarea_39', '38': 'Subarea_38', '37': 'Subarea_37'}}"
      ]
     },
     "execution_count": 16,
     "metadata": {},
     "output_type": "execute_result"
    }
   ],
   "source": [
    "sub_cats['node.40'].describe()"
   ]
  },
  {
   "cell_type": "code",
   "execution_count": 17,
   "id": "9c7158c8-ad8c-4c1f-ac4a-0e361c4673e6",
   "metadata": {
    "execution": {
     "iopub.execute_input": "2023-01-05T06:57:18.902939Z",
     "iopub.status.busy": "2023-01-05T06:57:18.902748Z",
     "iopub.status.idle": "2023-01-05T06:57:18.905233Z",
     "shell.execute_reply": "2023-01-05T06:57:18.904858Z"
    },
    "tags": []
   },
   "outputs": [],
   "source": [
    "def first(d:OrderedDict):\n",
    "    return list(sub_cats.items())[0]  "
   ]
  },
  {
   "cell_type": "code",
   "execution_count": 18,
   "id": "750cb03b-abed-4ecc-9ac1-421ebf8eb01c",
   "metadata": {
    "execution": {
     "iopub.execute_input": "2023-01-05T06:57:18.907021Z",
     "iopub.status.busy": "2023-01-05T06:57:18.906853Z",
     "iopub.status.idle": "2023-01-05T06:57:18.909858Z",
     "shell.execute_reply": "2023-01-05T06:57:18.909413Z"
    }
   },
   "outputs": [
    {
     "data": {
      "text/plain": [
       "'node.40'"
      ]
     },
     "execution_count": 18,
     "metadata": {},
     "output_type": "execute_result"
    }
   ],
   "source": [
    "element_id = first(sub_cats)[0]\n",
    "element_id"
   ]
  },
  {
   "cell_type": "code",
   "execution_count": 19,
   "id": "57f18572-cd3b-4c24-8843-58014c5d547c",
   "metadata": {
    "execution": {
     "iopub.execute_input": "2023-01-05T06:57:18.911588Z",
     "iopub.status.busy": "2023-01-05T06:57:18.911386Z",
     "iopub.status.idle": "2023-01-05T06:57:18.914277Z",
     "shell.execute_reply": "2023-01-05T06:57:18.913907Z"
    },
    "lines_to_next_cell": 2
   },
   "outputs": [
    {
     "data": {
      "text/plain": [
       "'25'"
      ]
     },
     "execution_count": 19,
     "metadata": {},
     "output_type": "execute_result"
    }
   ],
   "source": [
    "gaugeId = node_gauges[element_id]\n",
    "gaugeId"
   ]
  },
  {
   "cell_type": "code",
   "execution_count": 20,
   "id": "7ecdfa47-0748-4d37-aac4-c73c72d2222a",
   "metadata": {
    "execution": {
     "iopub.execute_input": "2023-01-05T06:57:18.915994Z",
     "iopub.status.busy": "2023-01-05T06:57:18.915827Z",
     "iopub.status.idle": "2023-01-05T06:57:18.921012Z",
     "shell.execute_reply": "2023-01-05T06:57:18.920587Z"
    },
    "lines_to_next_cell": 2
   },
   "outputs": [
    {
     "data": {
      "text/html": [
       "<div>\n",
       "<style scoped>\n",
       "    .dataframe tbody tr th:only-of-type {\n",
       "        vertical-align: middle;\n",
       "    }\n",
       "\n",
       "    .dataframe tbody tr th {\n",
       "        vertical-align: top;\n",
       "    }\n",
       "\n",
       "    .dataframe thead th {\n",
       "        text-align: right;\n",
       "    }\n",
       "</style>\n",
       "<table border=\"1\" class=\"dataframe\">\n",
       "  <thead>\n",
       "    <tr style=\"text-align: right;\">\n",
       "      <th></th>\n",
       "      <th>25</th>\n",
       "    </tr>\n",
       "  </thead>\n",
       "  <tbody>\n",
       "    <tr>\n",
       "      <th>2010-11-01 00:00:00</th>\n",
       "      <td>1.229</td>\n",
       "    </tr>\n",
       "    <tr>\n",
       "      <th>2010-11-01 01:00:00</th>\n",
       "      <td>1.259</td>\n",
       "    </tr>\n",
       "    <tr>\n",
       "      <th>2010-11-01 02:00:00</th>\n",
       "      <td>1.280</td>\n",
       "    </tr>\n",
       "    <tr>\n",
       "      <th>2010-11-01 03:00:00</th>\n",
       "      <td>1.291</td>\n",
       "    </tr>\n",
       "    <tr>\n",
       "      <th>2010-11-01 04:00:00</th>\n",
       "      <td>1.296</td>\n",
       "    </tr>\n",
       "  </tbody>\n",
       "</table>\n",
       "</div>"
      ],
      "text/plain": [
       "                        25\n",
       "2010-11-01 00:00:00  1.229\n",
       "2010-11-01 01:00:00  1.259\n",
       "2010-11-01 02:00:00  1.280\n",
       "2010-11-01 03:00:00  1.291\n",
       "2010-11-01 04:00:00  1.296"
      ]
     },
     "execution_count": 20,
     "metadata": {},
     "output_type": "execute_result"
    }
   ],
   "source": [
    "gauge_flow = se_flows[[gaugeId]]\n",
    "gauge_flow.head()"
   ]
  },
  {
   "cell_type": "code",
   "execution_count": 21,
   "id": "d666a469-ce19-4b18-b9ff-fa2d3c65ad36",
   "metadata": {
    "execution": {
     "iopub.execute_input": "2023-01-05T06:57:18.922722Z",
     "iopub.status.busy": "2023-01-05T06:57:18.922575Z",
     "iopub.status.idle": "2023-01-05T06:57:18.925635Z",
     "shell.execute_reply": "2023-01-05T06:57:18.925257Z"
    },
    "lines_to_next_cell": 2
   },
   "outputs": [
    {
     "data": {
      "text/plain": [
       "Simulation wrapper for a CFFI pointer handle to a native pointer of type id \"MODEL_SIMULATION_PTR\""
      ]
     },
     "execution_count": 21,
     "metadata": {},
     "output_type": "execute_result"
    }
   ],
   "source": [
    "sc = sub_cats[element_id]\n",
    "sc"
   ]
  },
  {
   "cell_type": "code",
   "execution_count": 22,
   "id": "17067b35-a022-4347-8c37-c31d260b4241",
   "metadata": {
    "execution": {
     "iopub.execute_input": "2023-01-05T06:57:18.927511Z",
     "iopub.status.busy": "2023-01-05T06:57:18.927301Z",
     "iopub.status.idle": "2023-01-05T06:57:18.930030Z",
     "shell.execute_reply": "2023-01-05T06:57:18.929618Z"
    },
    "lines_to_next_cell": 2
   },
   "outputs": [],
   "source": [
    "parameteriser.apply_sys_config(sc)\n",
    "var_id = CATCHMENT_FLOWRATE_VARID\n",
    "sc.record_state(var_id)"
   ]
  },
  {
   "cell_type": "code",
   "execution_count": 23,
   "id": "patient-pledge",
   "metadata": {
    "execution": {
     "iopub.execute_input": "2023-01-05T06:57:18.931686Z",
     "iopub.status.busy": "2023-01-05T06:57:18.931525Z",
     "iopub.status.idle": "2023-01-05T06:57:18.933690Z",
     "shell.execute_reply": "2023-01-05T06:57:18.933294Z"
    }
   },
   "outputs": [],
   "source": [
    "# DiagrammeR(getCatchmentDotGraph(sc))"
   ]
  },
  {
   "cell_type": "markdown",
   "id": "incorporate-inquiry",
   "metadata": {
    "lines_to_next_cell": 2
   },
   "source": [
    "Let's view the default, uncalibrated output "
   ]
  },
  {
   "cell_type": "code",
   "execution_count": 24,
   "id": "8774ce76-aa7a-44fa-bb7e-ab4714e61639",
   "metadata": {
    "execution": {
     "iopub.execute_input": "2023-01-05T06:57:18.935558Z",
     "iopub.status.busy": "2023-01-05T06:57:18.935371Z",
     "iopub.status.idle": "2023-01-05T06:57:18.938745Z",
     "shell.execute_reply": "2023-01-05T06:57:18.938311Z"
    }
   },
   "outputs": [
    {
     "data": {
      "text/plain": [
       "{'start': datetime.datetime(2010, 11, 1, 0, 0),\n",
       " 'end': datetime.datetime(2010, 11, 20, 23, 0),\n",
       " 'time step': 'hourly'}"
      ]
     },
     "execution_count": 24,
     "metadata": {},
     "output_type": "execute_result"
    }
   ],
   "source": [
    "simulation.get_simulation_span()"
   ]
  },
  {
   "cell_type": "code",
   "execution_count": 25,
   "id": "8b65135d-102a-4c3d-8c5f-0fd90a9379e6",
   "metadata": {
    "execution": {
     "iopub.execute_input": "2023-01-05T06:57:18.940460Z",
     "iopub.status.busy": "2023-01-05T06:57:18.940259Z",
     "iopub.status.idle": "2023-01-05T06:57:18.943043Z",
     "shell.execute_reply": "2023-01-05T06:57:18.942621Z"
    }
   },
   "outputs": [],
   "source": [
    "def plot_obs_vs_calc(obs, calc, ylab=\"streamflow (m3/s)\"):\n",
    "\tplot_two_series(obs, calc, start_time = xr_ts_start(obs), end_time = xr_ts_end(obs))"
   ]
  },
  {
   "cell_type": "code",
   "execution_count": 26,
   "id": "e0f15021-6ab7-4490-8407-1238ec607ade",
   "metadata": {
    "execution": {
     "iopub.execute_input": "2023-01-05T06:57:18.944865Z",
     "iopub.status.busy": "2023-01-05T06:57:18.944541Z",
     "iopub.status.idle": "2023-01-05T06:57:18.947164Z",
     "shell.execute_reply": "2023-01-05T06:57:18.946798Z"
    }
   },
   "outputs": [],
   "source": [
    "gauge_flow = as_xarray_series(gauge_flow)"
   ]
  },
  {
   "cell_type": "code",
   "execution_count": 27,
   "id": "74790e3c-41bd-4b94-9fa1-125824b7a997",
   "metadata": {
    "execution": {
     "iopub.execute_input": "2023-01-05T06:57:18.948972Z",
     "iopub.status.busy": "2023-01-05T06:57:18.948788Z",
     "iopub.status.idle": "2023-01-05T06:57:19.072390Z",
     "shell.execute_reply": "2023-01-05T06:57:19.071960Z"
    }
   },
   "outputs": [
    {
     "data": {
      "image/png": "[encoded data removed]",
      "text/plain": [
       "<Figure size 1152x648 with 1 Axes>"
      ]
     },
     "metadata": {
      "needs_background": "light"
     },
     "output_type": "display_data"
    }
   ],
   "source": [
    "sc.exec_simulation()\n",
    "plot_obs_vs_calc(gauge_flow, sc.get_recorded(var_id))"
   ]
  },
  {
   "cell_type": "markdown",
   "id": "based-future",
   "metadata": {},
   "source": [
    "Now, setting up an objective (NSE) and optimiser:"
   ]
  },
  {
   "cell_type": "code",
   "execution_count": 28,
   "id": "efficient-reflection",
   "metadata": {
    "execution": {
     "iopub.execute_input": "2023-01-05T06:57:19.074450Z",
     "iopub.status.busy": "2023-01-05T06:57:19.074291Z",
     "iopub.status.idle": "2023-01-05T06:57:19.080985Z",
     "shell.execute_reply": "2023-01-05T06:57:19.080574Z"
    }
   },
   "outputs": [],
   "source": [
    "objectiveId = 'NSE'\n",
    "objective = sc.create_objective(var_id, gauge_flow, objectiveId, xr_ts_start(se_flows), xr_ts_end(se_flows))\n",
    "score = objective.get_score(parameteriser)  "
   ]
  },
  {
   "cell_type": "code",
   "execution_count": 29,
   "id": "7049df9b-3ad5-4f88-a150-4cef84dd2e86",
   "metadata": {
    "execution": {
     "iopub.execute_input": "2023-01-05T06:57:19.082858Z",
     "iopub.status.busy": "2023-01-05T06:57:19.082666Z",
     "iopub.status.idle": "2023-01-05T06:57:19.088362Z",
     "shell.execute_reply": "2023-01-05T06:57:19.087936Z"
    }
   },
   "outputs": [],
   "source": [
    "# termination = getMarginalTermination( tolerance = 1e-04, cutoff_no_improvement = 30, max_hours = 2/60) \n",
    "termination = sp.create_sce_termination_wila('relative standard deviation', c('0.05','0.0167'))\n",
    "sce_params = sp.get_default_sce_parameters()\n",
    "params = parameteriser.as_dataframe()"
   ]
  },
  {
   "cell_type": "code",
   "execution_count": 30,
   "id": "480d26df-522b-4f6a-8a0f-8fba513e0e28",
   "metadata": {
    "execution": {
     "iopub.execute_input": "2023-01-05T06:57:19.090708Z",
     "iopub.status.busy": "2023-01-05T06:57:19.090501Z",
     "iopub.status.idle": "2023-01-05T06:57:19.095208Z",
     "shell.execute_reply": "2023-01-05T06:57:19.094789Z"
    }
   },
   "outputs": [
    {
     "data": {
      "text/plain": [
       "8"
      ]
     },
     "execution_count": 30,
     "metadata": {},
     "output_type": "execute_result"
    }
   ],
   "source": [
    "np.count_nonzero(abs(params.Max-params.Min)>0)"
   ]
  },
  {
   "cell_type": "code",
   "execution_count": 31,
   "id": "0023fa30-0106-4a9c-9a82-e406876bc670",
   "metadata": {
    "execution": {
     "iopub.execute_input": "2023-01-05T06:57:19.097018Z",
     "iopub.status.busy": "2023-01-05T06:57:19.096828Z",
     "iopub.status.idle": "2023-01-05T06:57:19.103784Z",
     "shell.execute_reply": "2023-01-05T06:57:19.103158Z"
    }
   },
   "outputs": [],
   "source": [
    "npars = np.count_nonzero(abs(params.Max-params.Min)>0)\n",
    "sce_params = std.sce_parameter(npars)\n",
    "optimiser = objective.create_sce_optim_swift(termination_criterion = termination, population_initialiser = parameteriser,sce_params = sce_params)\n",
    "calib_logger = optimiser.set_calibration_logger(\"dummy\")"
   ]
  },
  {
   "cell_type": "code",
   "execution_count": 32,
   "id": "e89d2f82-2bce-44bc-83bc-ed9ea33b2448",
   "metadata": {
    "execution": {
     "iopub.execute_input": "2023-01-05T06:57:19.106243Z",
     "iopub.status.busy": "2023-01-05T06:57:19.106007Z",
     "iopub.status.idle": "2023-01-05T06:57:53.436201Z",
     "shell.execute_reply": "2023-01-05T06:57:53.435847Z"
    }
   },
   "outputs": [
    {
     "name": "stdout",
     "output_type": "stream",
     "text": [
      "CPU times: user 3min 54s, sys: 231 ms, total: 3min 54s\n",
      "Wall time: 34.3 s\n"
     ]
    }
   ],
   "source": [
    "%%time\n",
    "calib_results = optimiser.execute_optimisation()"
   ]
  },
  {
   "cell_type": "markdown",
   "id": "mechanical-denmark",
   "metadata": {},
   "source": [
    "And the resulting hydrograph follows. The NSE score is decent, but the magnitude of the peak is not well represented. We used a uniform value for the routing parameters; having a scaling based on link properties may be a line of enquiry."
   ]
  },
  {
   "cell_type": "code",
   "execution_count": 33,
   "id": "2783f5b8-5573-45ed-88d0-f9e0d8426da2",
   "metadata": {
    "execution": {
     "iopub.execute_input": "2023-01-05T06:57:53.438465Z",
     "iopub.status.busy": "2023-01-05T06:57:53.438295Z",
     "iopub.status.idle": "2023-01-05T06:57:53.532680Z",
     "shell.execute_reply": "2023-01-05T06:57:53.532120Z"
    }
   },
   "outputs": [
    {
     "data": {
      "text/html": [
       "<div>\n",
       "<style scoped>\n",
       "    .dataframe tbody tr th:only-of-type {\n",
       "        vertical-align: middle;\n",
       "    }\n",
       "\n",
       "    .dataframe tbody tr th {\n",
       "        vertical-align: top;\n",
       "    }\n",
       "\n",
       "    .dataframe thead th {\n",
       "        text-align: right;\n",
       "    }\n",
       "</style>\n",
       "<table border=\"1\" class=\"dataframe\">\n",
       "  <thead>\n",
       "    <tr style=\"text-align: right;\">\n",
       "      <th></th>\n",
       "      <th>NSE</th>\n",
       "      <th>log_x4</th>\n",
       "      <th>log_x1</th>\n",
       "      <th>log_x3</th>\n",
       "      <th>asinh_x2</th>\n",
       "      <th>R0</th>\n",
       "      <th>S0</th>\n",
       "      <th>alpha</th>\n",
       "      <th>inverse_velocity</th>\n",
       "    </tr>\n",
       "  </thead>\n",
       "  <tbody>\n",
       "    <tr>\n",
       "      <th>0</th>\n",
       "      <td>0.494486</td>\n",
       "      <td>2.083412</td>\n",
       "      <td>0.817456</td>\n",
       "      <td>0.543006</td>\n",
       "      <td>0.201668</td>\n",
       "      <td>0.486912</td>\n",
       "      <td>0.566229</td>\n",
       "      <td>52.931056</td>\n",
       "      <td>57.135610</td>\n",
       "    </tr>\n",
       "    <tr>\n",
       "      <th>1</th>\n",
       "      <td>0.494270</td>\n",
       "      <td>2.088946</td>\n",
       "      <td>0.877532</td>\n",
       "      <td>0.480031</td>\n",
       "      <td>0.212400</td>\n",
       "      <td>0.436573</td>\n",
       "      <td>0.525331</td>\n",
       "      <td>53.521435</td>\n",
       "      <td>53.435698</td>\n",
       "    </tr>\n",
       "    <tr>\n",
       "      <th>2</th>\n",
       "      <td>0.494118</td>\n",
       "      <td>2.078820</td>\n",
       "      <td>0.853538</td>\n",
       "      <td>0.527632</td>\n",
       "      <td>0.234605</td>\n",
       "      <td>0.474694</td>\n",
       "      <td>0.510408</td>\n",
       "      <td>48.404811</td>\n",
       "      <td>55.239899</td>\n",
       "    </tr>\n",
       "    <tr>\n",
       "      <th>3</th>\n",
       "      <td>0.493718</td>\n",
       "      <td>2.084039</td>\n",
       "      <td>0.874168</td>\n",
       "      <td>0.521461</td>\n",
       "      <td>0.239327</td>\n",
       "      <td>0.483183</td>\n",
       "      <td>0.534643</td>\n",
       "      <td>52.075063</td>\n",
       "      <td>50.367980</td>\n",
       "    </tr>\n",
       "    <tr>\n",
       "      <th>4</th>\n",
       "      <td>0.493551</td>\n",
       "      <td>2.093115</td>\n",
       "      <td>0.853368</td>\n",
       "      <td>0.481468</td>\n",
       "      <td>0.214864</td>\n",
       "      <td>0.509028</td>\n",
       "      <td>0.536058</td>\n",
       "      <td>53.395207</td>\n",
       "      <td>55.080122</td>\n",
       "    </tr>\n",
       "  </tbody>\n",
       "</table>\n",
       "</div>"
      ],
      "text/plain": [
       "        NSE    log_x4    log_x1    log_x3  asinh_x2        R0        S0  \\\n",
       "0  0.494486  2.083412  0.817456  0.543006  0.201668  0.486912  0.566229   \n",
       "1  0.494270  2.088946  0.877532  0.480031  0.212400  0.436573  0.525331   \n",
       "2  0.494118  2.078820  0.853538  0.527632  0.234605  0.474694  0.510408   \n",
       "3  0.493718  2.084039  0.874168  0.521461  0.239327  0.483183  0.534643   \n",
       "4  0.493551  2.093115  0.853368  0.481468  0.214864  0.509028  0.536058   \n",
       "\n",
       "       alpha  inverse_velocity  \n",
       "0  52.931056         57.135610  \n",
       "1  53.521435         53.435698  \n",
       "2  48.404811         55.239899  \n",
       "3  52.075063         50.367980  \n",
       "4  53.395207         55.080122  "
      ]
     },
     "execution_count": 33,
     "metadata": {},
     "output_type": "execute_result"
    }
   ],
   "source": [
    "sorted_results = calib_results.sort_by_score('NSE')\n",
    "d = sorted_results.as_dataframe()\n",
    "d.head()"
   ]
  },
  {
   "cell_type": "code",
   "execution_count": 34,
   "id": "d3669873-b21d-4a8a-a510-de7e5269e810",
   "metadata": {
    "execution": {
     "iopub.execute_input": "2023-01-05T06:57:53.534800Z",
     "iopub.status.busy": "2023-01-05T06:57:53.534624Z",
     "iopub.status.idle": "2023-01-05T06:57:53.542596Z",
     "shell.execute_reply": "2023-01-05T06:57:53.542169Z"
    }
   },
   "outputs": [
    {
     "data": {
      "text/html": [
       "<div>\n",
       "<style scoped>\n",
       "    .dataframe tbody tr th:only-of-type {\n",
       "        vertical-align: middle;\n",
       "    }\n",
       "\n",
       "    .dataframe tbody tr th {\n",
       "        vertical-align: top;\n",
       "    }\n",
       "\n",
       "    .dataframe thead th {\n",
       "        text-align: right;\n",
       "    }\n",
       "</style>\n",
       "<table border=\"1\" class=\"dataframe\">\n",
       "  <thead>\n",
       "    <tr style=\"text-align: right;\">\n",
       "      <th></th>\n",
       "      <th>NSE</th>\n",
       "      <th>log_x4</th>\n",
       "      <th>log_x1</th>\n",
       "      <th>log_x3</th>\n",
       "      <th>asinh_x2</th>\n",
       "      <th>R0</th>\n",
       "      <th>S0</th>\n",
       "      <th>alpha</th>\n",
       "      <th>inverse_velocity</th>\n",
       "    </tr>\n",
       "  </thead>\n",
       "  <tbody>\n",
       "    <tr>\n",
       "      <th>165</th>\n",
       "      <td>0.482992</td>\n",
       "      <td>2.079494</td>\n",
       "      <td>0.812588</td>\n",
       "      <td>0.494737</td>\n",
       "      <td>0.140989</td>\n",
       "      <td>0.497908</td>\n",
       "      <td>0.522849</td>\n",
       "      <td>46.473800</td>\n",
       "      <td>54.568243</td>\n",
       "    </tr>\n",
       "    <tr>\n",
       "      <th>166</th>\n",
       "      <td>0.482560</td>\n",
       "      <td>2.062943</td>\n",
       "      <td>0.781697</td>\n",
       "      <td>0.596623</td>\n",
       "      <td>0.220231</td>\n",
       "      <td>0.527801</td>\n",
       "      <td>0.552285</td>\n",
       "      <td>54.745652</td>\n",
       "      <td>67.971298</td>\n",
       "    </tr>\n",
       "    <tr>\n",
       "      <th>167</th>\n",
       "      <td>0.482497</td>\n",
       "      <td>2.106522</td>\n",
       "      <td>0.829144</td>\n",
       "      <td>0.412829</td>\n",
       "      <td>0.138130</td>\n",
       "      <td>0.530156</td>\n",
       "      <td>0.593584</td>\n",
       "      <td>52.202333</td>\n",
       "      <td>60.017567</td>\n",
       "    </tr>\n",
       "    <tr>\n",
       "      <th>168</th>\n",
       "      <td>0.482294</td>\n",
       "      <td>2.081617</td>\n",
       "      <td>0.908696</td>\n",
       "      <td>0.424188</td>\n",
       "      <td>0.211116</td>\n",
       "      <td>0.516536</td>\n",
       "      <td>0.477412</td>\n",
       "      <td>54.026519</td>\n",
       "      <td>48.048843</td>\n",
       "    </tr>\n",
       "    <tr>\n",
       "      <th>169</th>\n",
       "      <td>0.482252</td>\n",
       "      <td>2.086505</td>\n",
       "      <td>0.738809</td>\n",
       "      <td>0.564237</td>\n",
       "      <td>0.093866</td>\n",
       "      <td>0.515100</td>\n",
       "      <td>0.493760</td>\n",
       "      <td>54.961603</td>\n",
       "      <td>53.276150</td>\n",
       "    </tr>\n",
       "  </tbody>\n",
       "</table>\n",
       "</div>"
      ],
      "text/plain": [
       "          NSE    log_x4    log_x1    log_x3  asinh_x2        R0        S0  \\\n",
       "165  0.482992  2.079494  0.812588  0.494737  0.140989  0.497908  0.522849   \n",
       "166  0.482560  2.062943  0.781697  0.596623  0.220231  0.527801  0.552285   \n",
       "167  0.482497  2.106522  0.829144  0.412829  0.138130  0.530156  0.593584   \n",
       "168  0.482294  2.081617  0.908696  0.424188  0.211116  0.516536  0.477412   \n",
       "169  0.482252  2.086505  0.738809  0.564237  0.093866  0.515100  0.493760   \n",
       "\n",
       "         alpha  inverse_velocity  \n",
       "165  46.473800         54.568243  \n",
       "166  54.745652         67.971298  \n",
       "167  52.202333         60.017567  \n",
       "168  54.026519         48.048843  \n",
       "169  54.961603         53.276150  "
      ]
     },
     "execution_count": 34,
     "metadata": {},
     "output_type": "execute_result"
    }
   ],
   "source": [
    "d.tail()"
   ]
  },
  {
   "cell_type": "code",
   "execution_count": 35,
   "id": "f6ded3d3-696d-4e4b-96e2-12442c1aa385",
   "metadata": {
    "execution": {
     "iopub.execute_input": "2023-01-05T06:57:53.545572Z",
     "iopub.status.busy": "2023-01-05T06:57:53.545280Z",
     "iopub.status.idle": "2023-01-05T06:57:53.551639Z",
     "shell.execute_reply": "2023-01-05T06:57:53.551310Z"
    }
   },
   "outputs": [
    {
     "data": {
      "text/plain": [
       "               Name      Value       Min         Max\n",
       "0            log_x4   2.083412  0.000000    2.380211\n",
       "1            log_x1   0.817456  0.000000    3.778151\n",
       "2            log_x3   0.543006  0.000000    3.000000\n",
       "3          asinh_x2   0.201668 -3.989327    3.989327\n",
       "4                R0   0.486912  0.000000    1.000000\n",
       "5                S0   0.566229  0.000000    1.000000\n",
       "6             alpha  52.931056  0.001000  100.000000\n",
       "7  inverse_velocity  57.135610  0.001000  100.000000"
      ]
     },
     "execution_count": 35,
     "metadata": {},
     "output_type": "execute_result"
    }
   ],
   "source": [
    "p = sorted_results.get_parameters_at_index(1)\n",
    "p"
   ]
  },
  {
   "cell_type": "code",
   "execution_count": 36,
   "id": "a0a134ac",
   "metadata": {
    "execution": {
     "iopub.execute_input": "2023-01-05T06:57:53.553514Z",
     "iopub.status.busy": "2023-01-05T06:57:53.553355Z",
     "iopub.status.idle": "2023-01-05T06:57:53.741476Z",
     "shell.execute_reply": "2023-01-05T06:57:53.741105Z"
    }
   },
   "outputs": [
    {
     "data": {
      "image/png": "[encoded data removed]",
      "text/plain": [
       "<Figure size 1152x648 with 1 Axes>"
      ]
     },
     "metadata": {
      "needs_background": "light"
     },
     "output_type": "display_data"
    }
   ],
   "source": [
    "p.apply_sys_config(sc)\n",
    "sc.exec_simulation()\n",
    "plot_obs_vs_calc(gauge_flow, sc.get_recorded(var_id))"
   ]
  },
  {
   "cell_type": "markdown",
   "id": "suitable-addition",
   "metadata": {},
   "source": [
    "We can create a subcatchment parameteriser, such that when applied to the whole of the South Esk, only the states of the subareas, links and nodes of the subcatchment are potentially affected."
   ]
  },
  {
   "cell_type": "code",
   "execution_count": 37,
   "id": "66b1720f-65d6-4f7d-9ffb-3c1c8dfee791",
   "metadata": {
    "execution": {
     "iopub.execute_input": "2023-01-05T06:57:53.743515Z",
     "iopub.status.busy": "2023-01-05T06:57:53.743334Z",
     "iopub.status.idle": "2023-01-05T06:57:53.747862Z",
     "shell.execute_reply": "2023-01-05T06:57:53.747497Z"
    }
   },
   "outputs": [
    {
     "data": {
      "text/plain": [
       "{'subarea.34.x2': 0.0,\n",
       " 'subarea.35.x2': 0.0,\n",
       " 'subarea.36.x2': 0.0,\n",
       " 'subarea.37.x2': 0.13603542953576564,\n",
       " 'subarea.38.x2': 0.13603542953576564,\n",
       " 'subarea.39.x2': 0.13603542953576564,\n",
       " 'subarea.40.x2': 0.0}"
      ]
     },
     "execution_count": 37,
     "metadata": {},
     "output_type": "execute_result"
    }
   ],
   "source": [
    "sp = p.subcatchment_parameteriser(sc)\n",
    "sp.apply_sys_config(simulation)\n",
    "simulation.get_state_value(paste0('subarea.', np.arange(34,stop=41), '.x2'))\n",
    "# saIds = get_subarea_ids(simulation)"
   ]
  },
  {
   "cell_type": "code",
   "execution_count": 38,
   "id": "22b141ba-8518-4b7d-9fab-85d44c9ab771",
   "metadata": {
    "execution": {
     "iopub.execute_input": "2023-01-05T06:57:53.749600Z",
     "iopub.status.busy": "2023-01-05T06:57:53.749458Z",
     "iopub.status.idle": "2023-01-05T06:57:53.751551Z",
     "shell.execute_reply": "2023-01-05T06:57:53.751240Z"
    }
   },
   "outputs": [],
   "source": [
    "# TODO\n",
    "# spFile = tempfile()\n",
    "# SaveParameterizer_R(sp, spFile)\n",
    "# # Following fails 2020-06, see https://jira.csiro.au/browse/WIRADA-631 \n",
    "# # sp2 = LoadParameterizer_R(spFile)\n",
    "\n",
    "# if(file.exists(spFile)) { file.remove(spFile) }"
   ]
  },
  {
   "cell_type": "code",
   "execution_count": 39,
   "id": "e7ee42a1-62cd-4f1a-b86f-3348207cef26",
   "metadata": {
    "eval": false,
    "execution": {
     "iopub.execute_input": "2023-01-05T06:57:53.753286Z",
     "iopub.status.busy": "2023-01-05T06:57:53.753029Z",
     "iopub.status.idle": "2023-01-05T06:57:53.759267Z",
     "shell.execute_reply": "2023-01-05T06:57:53.758963Z"
    },
    "tags": [
     "remove_cell"
    ]
   },
   "outputs": [
    {
     "data": {
      "text/html": [
       "<div>\n",
       "<style scoped>\n",
       "    .dataframe tbody tr th:only-of-type {\n",
       "        vertical-align: middle;\n",
       "    }\n",
       "\n",
       "    .dataframe tbody tr th {\n",
       "        vertical-align: top;\n",
       "    }\n",
       "\n",
       "    .dataframe thead th {\n",
       "        text-align: right;\n",
       "    }\n",
       "</style>\n",
       "<table border=\"1\" class=\"dataframe\">\n",
       "  <thead>\n",
       "    <tr style=\"text-align: right;\">\n",
       "      <th></th>\n",
       "      <th>Name</th>\n",
       "      <th>Value</th>\n",
       "      <th>Min</th>\n",
       "      <th>Max</th>\n",
       "    </tr>\n",
       "  </thead>\n",
       "  <tbody>\n",
       "    <tr>\n",
       "      <th>0</th>\n",
       "      <td>log_x4</td>\n",
       "      <td>2.083412</td>\n",
       "      <td>0.000000</td>\n",
       "      <td>2.380211</td>\n",
       "    </tr>\n",
       "    <tr>\n",
       "      <th>1</th>\n",
       "      <td>log_x1</td>\n",
       "      <td>0.817456</td>\n",
       "      <td>0.000000</td>\n",
       "      <td>3.778151</td>\n",
       "    </tr>\n",
       "    <tr>\n",
       "      <th>2</th>\n",
       "      <td>log_x3</td>\n",
       "      <td>0.543006</td>\n",
       "      <td>0.000000</td>\n",
       "      <td>3.000000</td>\n",
       "    </tr>\n",
       "    <tr>\n",
       "      <th>3</th>\n",
       "      <td>asinh_x2</td>\n",
       "      <td>0.201668</td>\n",
       "      <td>-3.989327</td>\n",
       "      <td>3.989327</td>\n",
       "    </tr>\n",
       "    <tr>\n",
       "      <th>4</th>\n",
       "      <td>R0</td>\n",
       "      <td>0.486912</td>\n",
       "      <td>0.000000</td>\n",
       "      <td>1.000000</td>\n",
       "    </tr>\n",
       "    <tr>\n",
       "      <th>5</th>\n",
       "      <td>S0</td>\n",
       "      <td>0.566229</td>\n",
       "      <td>0.000000</td>\n",
       "      <td>1.000000</td>\n",
       "    </tr>\n",
       "    <tr>\n",
       "      <th>6</th>\n",
       "      <td>alpha</td>\n",
       "      <td>52.931056</td>\n",
       "      <td>0.001000</td>\n",
       "      <td>100.000000</td>\n",
       "    </tr>\n",
       "    <tr>\n",
       "      <th>7</th>\n",
       "      <td>inverse_velocity</td>\n",
       "      <td>57.135610</td>\n",
       "      <td>0.001000</td>\n",
       "      <td>100.000000</td>\n",
       "    </tr>\n",
       "  </tbody>\n",
       "</table>\n",
       "</div>"
      ],
      "text/plain": [
       "               Name      Value       Min         Max\n",
       "0            log_x4   2.083412  0.000000    2.380211\n",
       "1            log_x1   0.817456  0.000000    3.778151\n",
       "2            log_x3   0.543006  0.000000    3.000000\n",
       "3          asinh_x2   0.201668 -3.989327    3.989327\n",
       "4                R0   0.486912  0.000000    1.000000\n",
       "5                S0   0.566229  0.000000    1.000000\n",
       "6             alpha  52.931056  0.001000  100.000000\n",
       "7  inverse_velocity  57.135610  0.001000  100.000000"
      ]
     },
     "execution_count": 39,
     "metadata": {},
     "output_type": "execute_result"
    }
   ],
   "source": [
    "p = sorted_results.get_parameters_at_index(1)\n",
    "p.as_dataframe()"
   ]
  },
  {
   "cell_type": "code",
   "execution_count": 40,
   "id": "dcc5a91e-5ad0-4a98-b2b6-dd266da47c3e",
   "metadata": {
    "eval": false,
    "execution": {
     "iopub.execute_input": "2023-01-05T06:57:53.761041Z",
     "iopub.status.busy": "2023-01-05T06:57:53.760882Z",
     "iopub.status.idle": "2023-01-05T06:57:53.763100Z",
     "shell.execute_reply": "2023-01-05T06:57:53.762798Z"
    },
    "tags": [
     "remove_cell"
    ]
   },
   "outputs": [],
   "source": [
    "# swoop(sc, p, param_name, from, to, num=10, var_id) {\n",
    "#   if(missing(from)) { from = GetParameterMinValue_R(p, param_name)}\n",
    "#   if(missing(to))   { to = GetParameterMaxValue_R(p, param_name)}\n",
    "#   oat(sc, p, param_name, from=from, to=to, num=num, var_id) \n",
    "# }\n",
    "\n",
    "# testp(sim, p, ...) {\n",
    "#   q = CloneHypercubeParameterizer_R(p)\n",
    "#   execSimulation(sim)\n",
    "#   params = list(...)\n",
    "#   for(pname in names(params)) {set_parameter_value(q, pname, params[[pname]])}\n",
    "#   plot_obs_vs_calc(gaugeFlow, getRecorded(sim, var_id))\n",
    "# }\n",
    "\n",
    "# flows = swoop(sc, p, 'log_x4', var_id=var_id)\n",
    "\n",
    "# flows = swoop('log_x1')\n",
    "# flows = swoop('Alpha')\n",
    "# flows = merge(flows, gaugeFlow)\n",
    "# zoo::plot.zoo(flows, plot.type='single')\n",
    "# col=c('orange', 'black','blue','red')\n",
    "\n",
    "# f(...) {\n",
    "# params = list(...)\n",
    "# params\n",
    "# set_parameter_value(p, names(params), as.numeric(params))\n",
    "# applySysConfig(p, sc)\n",
    "# execSimulation(sc)\n",
    "# plot_obs_vs_calc(gaugeFlow, getRecorded(sc, var_id))\n",
    "# }"
   ]
  },
  {
   "cell_type": "markdown",
   "id": "liberal-adoption",
   "metadata": {},
   "source": [
    "## Whole of catchment calibration combining point gauges"
   ]
  },
  {
   "cell_type": "code",
   "execution_count": 41,
   "id": "9ea50e8b-fac1-450b-8d03-295a00f972b2",
   "metadata": {
    "execution": {
     "iopub.execute_input": "2023-01-05T06:57:53.764961Z",
     "iopub.status.busy": "2023-01-05T06:57:53.764803Z",
     "iopub.status.idle": "2023-01-05T06:57:53.767422Z",
     "shell.execute_reply": "2023-01-05T06:57:53.767084Z"
    }
   },
   "outputs": [],
   "source": [
    "gauges = c( '92106', '592002', '18311', '93044',    '25',   '181')\n",
    "node_ids = paste0('node.', c('7',   '12',   '25',   '30',   '40',   '43'))\n",
    "node_gauges = OrderedDict([(node_ids[i], gauges[i]) for i in range(len(gauges))])\n",
    "# names(gauges) = node_ids"
   ]
  },
  {
   "cell_type": "code",
   "execution_count": 42,
   "id": "liberal-public",
   "metadata": {
    "execution": {
     "iopub.execute_input": "2023-01-05T06:57:53.769348Z",
     "iopub.status.busy": "2023-01-05T06:57:53.769050Z",
     "iopub.status.idle": "2023-01-05T06:57:53.771267Z",
     "shell.execute_reply": "2023-01-05T06:57:53.770967Z"
    }
   },
   "outputs": [],
   "source": [
    "calibNodes = paste0('node.', [\"7\",\"12\"])\n",
    "\n"
   ]
  },
  {
   "cell_type": "code",
   "execution_count": 43,
   "id": "d42f5f01-39d5-4335-8a07-c0775722ad22",
   "metadata": {
    "execution": {
     "iopub.execute_input": "2023-01-05T06:57:53.773274Z",
     "iopub.status.busy": "2023-01-05T06:57:53.772812Z",
     "iopub.status.idle": "2023-01-05T06:57:53.775919Z",
     "shell.execute_reply": "2023-01-05T06:57:53.775620Z"
    }
   },
   "outputs": [
    {
     "data": {
      "text/plain": [
       "'node.40'"
      ]
     },
     "execution_count": 43,
     "metadata": {},
     "output_type": "execute_result"
    }
   ],
   "source": [
    "element_id = first(sub_cats)[0]\n",
    "element_id"
   ]
  },
  {
   "cell_type": "code",
   "execution_count": 44,
   "id": "f1dd2ffb-b8c6-4543-adfb-c9bf4db5a26b",
   "metadata": {
    "execution": {
     "iopub.execute_input": "2023-01-05T06:57:53.777843Z",
     "iopub.status.busy": "2023-01-05T06:57:53.777529Z",
     "iopub.status.idle": "2023-01-05T06:57:53.780343Z",
     "shell.execute_reply": "2023-01-05T06:57:53.779974Z"
    }
   },
   "outputs": [],
   "source": [
    "gaugeId = [node_gauges[k] for k in calibNodes]\n",
    "gauge_flow = se_flows[gaugeId]"
   ]
  },
  {
   "cell_type": "code",
   "execution_count": 45,
   "id": "29ea3c41-47d1-436f-8c0b-b7d4983616d6",
   "metadata": {
    "execution": {
     "iopub.execute_input": "2023-01-05T06:57:53.781989Z",
     "iopub.status.busy": "2023-01-05T06:57:53.781832Z",
     "iopub.status.idle": "2023-01-05T06:57:53.784557Z",
     "shell.execute_reply": "2023-01-05T06:57:53.784155Z"
    }
   },
   "outputs": [],
   "source": [
    "sc = sub_cats[element_id]\n",
    "parameteriser.apply_sys_config(sc)\n",
    "\n",
    "var_id = paste0(calibNodes, '.OutflowRate')\n",
    "simulation.record_state(var_id)"
   ]
  },
  {
   "cell_type": "code",
   "execution_count": null,
   "id": "57bbf5f6-6468-4060-8ad2-84108ae529bd",
   "metadata": {},
   "outputs": [],
   "source": []
  },
  {
   "cell_type": "code",
   "execution_count": 46,
   "id": "448fc0b9-0ec1-4f05-bf40-9502e5c9bd77",
   "metadata": {
    "execution": {
     "iopub.execute_input": "2023-01-05T06:57:53.786300Z",
     "iopub.status.busy": "2023-01-05T06:57:53.786142Z",
     "iopub.status.idle": "2023-01-05T06:57:53.815387Z",
     "shell.execute_reply": "2023-01-05T06:57:53.814948Z"
    },
    "lines_to_next_cell": 0
   },
   "outputs": [],
   "source": [
    "objectiveId = 'NSE'\n",
    "\n",
    "def create_obj_station(i:int):\n",
    "    obs = as_xarray_series(gauge_flow[[gaugeId[i]]])\n",
    "    return simulation.create_objective(var_id[i], obs, objectiveId, xr_ts_start(se_flows), xr_ts_end(se_flows))\n",
    "\n",
    "objectives = [create_obj_station(i) for i in [0,1]]\n",
    "\n",
    "co = ObjectiveEvaluator.create_composite_objective(objectives, [1.0,1.0], var_id[:2])"
   ]
  },
  {
   "cell_type": "code",
   "execution_count": 47,
   "id": "2c5edff4-e4e4-49ac-b69e-b0c7ad3a70f4",
   "metadata": {
    "execution": {
     "iopub.execute_input": "2023-01-05T06:57:53.817363Z",
     "iopub.status.busy": "2023-01-05T06:57:53.817174Z",
     "iopub.status.idle": "2023-01-05T06:57:53.850395Z",
     "shell.execute_reply": "2023-01-05T06:57:53.850034Z"
    },
    "lines_to_next_cell": 0
   },
   "outputs": [],
   "source": [
    "score = co.get_score(parameteriser) \n",
    "# scoresAsDataFrame(score)"
   ]
  },
  {
   "cell_type": "code",
   "execution_count": 48,
   "id": "8e7d3a8c-70d5-483c-b702-e00ad46070b7",
   "metadata": {
    "execution": {
     "iopub.execute_input": "2023-01-05T06:57:53.852395Z",
     "iopub.status.busy": "2023-01-05T06:57:53.852164Z",
     "iopub.status.idle": "2023-01-05T06:57:53.856355Z",
     "shell.execute_reply": "2023-01-05T06:57:53.855960Z"
    }
   },
   "outputs": [
    {
     "data": {
      "text/plain": [
       "{'scores': {'NSE:1.000000,NSE:1.000000': -255.57587357245515},\n",
       " 'sysconfig':                Name     Value       Min         Max\n",
       " 0            log_x4  0.305422  0.000000    2.380211\n",
       " 1            log_x1  0.506690  0.000000    3.778151\n",
       " 2            log_x3  0.315425  0.000000    3.000000\n",
       " 3          asinh_x2  0.000000 -3.989327    3.989327\n",
       " 4                R0  0.900000  0.000000    1.000000\n",
       " 5                S0  0.900000  0.000000    1.000000\n",
       " 6             alpha  1.000000  0.001000  100.000000\n",
       " 7  inverse_velocity  1.000000  0.001000  100.000000}"
      ]
     },
     "execution_count": 48,
     "metadata": {},
     "output_type": "execute_result"
    }
   ],
   "source": [
    "score"
   ]
  },
  {
   "cell_type": "code",
   "execution_count": null,
   "id": "928e054f-9317-4681-9a62-a0030860260d",
   "metadata": {},
   "outputs": [],
   "source": []
  }
 ],
 "metadata": {
  "jupytext": {
   "cell_metadata_filter": "tags,eval,name,-all",
   "formats": "ipynb,py:percent",
   "main_language": "R"
  },
  "kernelspec": {
   "display_name": "HFC",
   "language": "python",
   "name": "hydrofc"
  },
  "language_info": {
   "codemirror_mode": {
    "name": "ipython",
    "version": 3
   },
   "file_extension": ".py",
   "mimetype": "text/x-python",
   "name": "python",
   "nbconvert_exporter": "python",
   "pygments_lexer": "ipython3",
   "version": "3.9.13"
  }
 },
 "nbformat": 4,
 "nbformat_minor": 5
}
