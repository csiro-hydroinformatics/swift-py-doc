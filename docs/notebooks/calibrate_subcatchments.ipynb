{
 "cells": [
  {
   "cell_type": "markdown",
   "id": "0",
   "metadata": {},
   "source": [
    "# Cascaded calibration of subcatchments defined by multiple gauges"
   ]
  },
  {
   "cell_type": "code",
   "execution_count": 1,
   "id": "1",
   "metadata": {
    "execution": {
     "iopub.execute_input": "2025-05-16T04:15:16.904374Z",
     "iopub.status.busy": "2025-05-16T04:15:16.903760Z",
     "iopub.status.idle": "2025-05-16T04:15:17.343753Z",
     "shell.execute_reply": "2025-05-16T04:15:17.343318Z"
    },
    "tags": []
   },
   "outputs": [
    {
     "name": "stdout",
     "output_type": "stream",
     "text": [
      "This document was generated from a jupyter notebook on 2025-05-16 14:15:17.341877\n",
      "    swift2 2.5.1\n",
      "    uchronia 2.6.2\n"
     ]
    }
   ],
   "source": [
    "from swift2.doc_helper import pkg_versions_info\n",
    "\n",
    "print(pkg_versions_info(\"This document was generated from a jupyter notebook\"))"
   ]
  },
  {
   "cell_type": "markdown",
   "id": "2",
   "metadata": {
    "tags": []
   },
   "source": [
    "## Use case\n",
    "\n",
    "**2021-01: this vignette works structurally, but is confined to overly short (and possibly difficult) data to keep runtime low**\n",
    "\n",
    "This vignette demonstrates how one can calibrate a catchment using multiple gauging points available within this catchment. Instead of setting up a whole-of-catchment calibration definition, it makes sense, at least in a system where subareas above a gauge points do not have a behavior dependent on other catchment processes (meaning mostly, no managed reservoirs). SWIFT offers capabilities to calibrate such subcatchments sequentially, feeding the input flow of upstream and already calibrated subcatchments to other subcatchments, thus cutting down on the complexity and runtime of the overall catchment calibration. "
   ]
  },
  {
   "cell_type": "code",
   "execution_count": 2,
   "id": "3",
   "metadata": {
    "execution": {
     "iopub.execute_input": "2025-05-16T04:15:17.345698Z",
     "iopub.status.busy": "2025-05-16T04:15:17.345373Z",
     "iopub.status.idle": "2025-05-16T04:15:17.348600Z",
     "shell.execute_reply": "2025-05-16T04:15:17.348136Z"
    }
   },
   "outputs": [],
   "source": [
    "import datetime as dt\n",
    "from collections import OrderedDict\n",
    "\n",
    "import numpy as np"
   ]
  },
  {
   "cell_type": "code",
   "execution_count": 3,
   "id": "4",
   "metadata": {
    "execution": {
     "iopub.execute_input": "2025-05-16T04:15:17.349981Z",
     "iopub.status.busy": "2025-05-16T04:15:17.349746Z",
     "iopub.status.idle": "2025-05-16T04:15:17.359442Z",
     "shell.execute_reply": "2025-05-16T04:15:17.358244Z"
    }
   },
   "outputs": [],
   "source": [
    "import swift2.doc_helper as std\n",
    "import swift2.parameteriser as sp"
   ]
  },
  {
   "cell_type": "code",
   "execution_count": 4,
   "id": "5",
   "metadata": {
    "execution": {
     "iopub.execute_input": "2025-05-16T04:15:17.362677Z",
     "iopub.status.busy": "2025-05-16T04:15:17.362332Z",
     "iopub.status.idle": "2025-05-16T04:15:17.993521Z",
     "shell.execute_reply": "2025-05-16T04:15:17.993123Z"
    }
   },
   "outputs": [],
   "source": [
    "from cinterop.timeseries import xr_ts_end, xr_ts_start\n",
    "from swift2.classes import CompositeParameteriser, ObjectiveEvaluator, Simulation\n",
    "from swift2.const import CATCHMENT_FLOWRATE_VARID\n",
    "from swift2.vis import plot_two_series"
   ]
  },
  {
   "cell_type": "code",
   "execution_count": 5,
   "id": "6",
   "metadata": {
    "execution": {
     "iopub.execute_input": "2025-05-16T04:15:17.995074Z",
     "iopub.status.busy": "2025-05-16T04:15:17.994875Z",
     "iopub.status.idle": "2025-05-16T04:15:18.000617Z",
     "shell.execute_reply": "2025-05-16T04:15:18.000230Z"
    }
   },
   "outputs": [],
   "source": [
    "%matplotlib inline"
   ]
  },
  {
   "cell_type": "markdown",
   "id": "7",
   "metadata": {
    "tags": []
   },
   "source": [
    "## Data\n",
    "\n",
    "The sample data that comes with the package contains a model definition for the South Esk catchment, including a short subset of the climate and flow record data."
   ]
  },
  {
   "cell_type": "code",
   "execution_count": 6,
   "id": "8",
   "metadata": {
    "execution": {
     "iopub.execute_input": "2025-05-16T04:15:18.002037Z",
     "iopub.status.busy": "2025-05-16T04:15:18.001844Z",
     "iopub.status.idle": "2025-05-16T04:15:18.140190Z",
     "shell.execute_reply": "2025-05-16T04:15:18.139698Z"
    }
   },
   "outputs": [],
   "source": [
    "model_id = 'GR4J'\n",
    "site_id = 'South_Esk'\n",
    "simulation = std.sample_catchment_model(site_id=site_id, config_id='catchment')\n",
    "simulation = simulation.swap_model('LagAndRoute', 'channel_routing')"
   ]
  },
  {
   "cell_type": "markdown",
   "id": "9",
   "metadata": {},
   "source": [
    "A visual of the catchment structure (note: may not render yet through GitHub)"
   ]
  },
  {
   "cell_type": "code",
   "execution_count": 7,
   "id": "10",
   "metadata": {
    "execution": {
     "iopub.execute_input": "2025-05-16T04:15:18.141730Z",
     "iopub.status.busy": "2025-05-16T04:15:18.141598Z",
     "iopub.status.idle": "2025-05-16T04:15:18.144280Z",
     "shell.execute_reply": "2025-05-16T04:15:18.143804Z"
    }
   },
   "outputs": [],
   "source": [
    "# DiagrammeR(getCatchmentDotGraph(simulation))\n",
    "# TODO...\n",
    "# https://towardsdatascience.com/visualizing-networks-in-python-d70f4cbeb259\n",
    "# https://medium.com/@ludvig.hult/drawing-graphs-with-python-in-2019-bdd42bf9d5db"
   ]
  },
  {
   "cell_type": "code",
   "execution_count": 8,
   "id": "11",
   "metadata": {
    "execution": {
     "iopub.execute_input": "2025-05-16T04:15:18.145559Z",
     "iopub.status.busy": "2025-05-16T04:15:18.145414Z",
     "iopub.status.idle": "2025-05-16T04:15:18.157953Z",
     "shell.execute_reply": "2025-05-16T04:15:18.157443Z"
    }
   },
   "outputs": [],
   "source": [
    "se_climate = std.sample_series(site_id=site_id, var_name='climate')\n",
    "se_flows = std.sample_series(site_id=site_id, var_name='flow')"
   ]
  },
  {
   "cell_type": "code",
   "execution_count": 9,
   "id": "12",
   "metadata": {
    "execution": {
     "iopub.execute_input": "2025-05-16T04:15:18.159268Z",
     "iopub.status.busy": "2025-05-16T04:15:18.159135Z",
     "iopub.status.idle": "2025-05-16T04:15:18.161463Z",
     "shell.execute_reply": "2025-05-16T04:15:18.161179Z"
    }
   },
   "outputs": [],
   "source": [
    "# se_climate[\"subcatchment.5.P\"].plot()"
   ]
  },
  {
   "cell_type": "markdown",
   "id": "13",
   "metadata": {},
   "source": [
    "The names of the climate series is already set to the climate input identifiers of the model simulation, so setting them as inputs is easy:"
   ]
  },
  {
   "cell_type": "code",
   "execution_count": 10,
   "id": "14",
   "metadata": {
    "execution": {
     "iopub.execute_input": "2025-05-16T04:15:18.162702Z",
     "iopub.status.busy": "2025-05-16T04:15:18.162536Z",
     "iopub.status.idle": "2025-05-16T04:15:18.175982Z",
     "shell.execute_reply": "2025-05-16T04:15:18.175300Z"
    }
   },
   "outputs": [
    {
     "data": {
      "text/html": [
       "<div>\n",
       "<style scoped>\n",
       "    .dataframe tbody tr th:only-of-type {\n",
       "        vertical-align: middle;\n",
       "    }\n",
       "\n",
       "    .dataframe tbody tr th {\n",
       "        vertical-align: top;\n",
       "    }\n",
       "\n",
       "    .dataframe thead th {\n",
       "        text-align: right;\n",
       "    }\n",
       "</style>\n",
       "<table border=\"1\" class=\"dataframe\">\n",
       "  <thead>\n",
       "    <tr style=\"text-align: right;\">\n",
       "      <th></th>\n",
       "      <th>subcatchment.1.E</th>\n",
       "      <th>subcatchment.1.P</th>\n",
       "      <th>subcatchment.10.E</th>\n",
       "      <th>subcatchment.10.P</th>\n",
       "      <th>subcatchment.11.E</th>\n",
       "      <th>subcatchment.11.P</th>\n",
       "      <th>subcatchment.12.E</th>\n",
       "      <th>subcatchment.12.P</th>\n",
       "      <th>subcatchment.13.E</th>\n",
       "      <th>subcatchment.13.P</th>\n",
       "      <th>...</th>\n",
       "      <th>subcatchment.5.E</th>\n",
       "      <th>subcatchment.5.P</th>\n",
       "      <th>subcatchment.6.E</th>\n",
       "      <th>subcatchment.6.P</th>\n",
       "      <th>subcatchment.7.E</th>\n",
       "      <th>subcatchment.7.P</th>\n",
       "      <th>subcatchment.8.E</th>\n",
       "      <th>subcatchment.8.P</th>\n",
       "      <th>subcatchment.9.E</th>\n",
       "      <th>subcatchment.9.P</th>\n",
       "    </tr>\n",
       "  </thead>\n",
       "  <tbody>\n",
       "    <tr>\n",
       "      <th>2010-11-01 00:00:00</th>\n",
       "      <td>0.3918</td>\n",
       "      <td>0.0</td>\n",
       "      <td>0.4020</td>\n",
       "      <td>0.0000</td>\n",
       "      <td>0.3978</td>\n",
       "      <td>0.0000</td>\n",
       "      <td>0.4266</td>\n",
       "      <td>0.0000</td>\n",
       "      <td>0.3936</td>\n",
       "      <td>0.0000</td>\n",
       "      <td>...</td>\n",
       "      <td>0.4325</td>\n",
       "      <td>0.0</td>\n",
       "      <td>0.4110</td>\n",
       "      <td>0.0322</td>\n",
       "      <td>0.4247</td>\n",
       "      <td>0.0</td>\n",
       "      <td>0.4377</td>\n",
       "      <td>0.0</td>\n",
       "      <td>0.4337</td>\n",
       "      <td>0.0</td>\n",
       "    </tr>\n",
       "    <tr>\n",
       "      <th>2010-11-01 01:00:00</th>\n",
       "      <td>0.4385</td>\n",
       "      <td>0.0</td>\n",
       "      <td>0.4493</td>\n",
       "      <td>0.0207</td>\n",
       "      <td>0.4446</td>\n",
       "      <td>0.0433</td>\n",
       "      <td>0.4763</td>\n",
       "      <td>0.0179</td>\n",
       "      <td>0.4397</td>\n",
       "      <td>0.0555</td>\n",
       "      <td>...</td>\n",
       "      <td>0.4823</td>\n",
       "      <td>0.0</td>\n",
       "      <td>0.4593</td>\n",
       "      <td>0.0000</td>\n",
       "      <td>0.4746</td>\n",
       "      <td>0.0</td>\n",
       "      <td>0.4892</td>\n",
       "      <td>0.0</td>\n",
       "      <td>0.4841</td>\n",
       "      <td>0.0</td>\n",
       "    </tr>\n",
       "    <tr>\n",
       "      <th>2010-11-01 02:00:00</th>\n",
       "      <td>0.4614</td>\n",
       "      <td>0.0</td>\n",
       "      <td>0.4723</td>\n",
       "      <td>0.0000</td>\n",
       "      <td>0.4671</td>\n",
       "      <td>0.0000</td>\n",
       "      <td>0.5002</td>\n",
       "      <td>0.0000</td>\n",
       "      <td>0.4619</td>\n",
       "      <td>0.0000</td>\n",
       "      <td>...</td>\n",
       "      <td>0.5060</td>\n",
       "      <td>0.0</td>\n",
       "      <td>0.4827</td>\n",
       "      <td>0.0000</td>\n",
       "      <td>0.4987</td>\n",
       "      <td>0.0</td>\n",
       "      <td>0.5143</td>\n",
       "      <td>0.0</td>\n",
       "      <td>0.5084</td>\n",
       "      <td>0.0</td>\n",
       "    </tr>\n",
       "  </tbody>\n",
       "</table>\n",
       "<p>3 rows × 84 columns</p>\n",
       "</div>"
      ],
      "text/plain": [
       "                     subcatchment.1.E  subcatchment.1.P  subcatchment.10.E  \\\n",
       "2010-11-01 00:00:00            0.3918               0.0             0.4020   \n",
       "2010-11-01 01:00:00            0.4385               0.0             0.4493   \n",
       "2010-11-01 02:00:00            0.4614               0.0             0.4723   \n",
       "\n",
       "                     subcatchment.10.P  subcatchment.11.E  subcatchment.11.P  \\\n",
       "2010-11-01 00:00:00             0.0000             0.3978             0.0000   \n",
       "2010-11-01 01:00:00             0.0207             0.4446             0.0433   \n",
       "2010-11-01 02:00:00             0.0000             0.4671             0.0000   \n",
       "\n",
       "                     subcatchment.12.E  subcatchment.12.P  subcatchment.13.E  \\\n",
       "2010-11-01 00:00:00             0.4266             0.0000             0.3936   \n",
       "2010-11-01 01:00:00             0.4763             0.0179             0.4397   \n",
       "2010-11-01 02:00:00             0.5002             0.0000             0.4619   \n",
       "\n",
       "                     subcatchment.13.P  ...  subcatchment.5.E  \\\n",
       "2010-11-01 00:00:00             0.0000  ...            0.4325   \n",
       "2010-11-01 01:00:00             0.0555  ...            0.4823   \n",
       "2010-11-01 02:00:00             0.0000  ...            0.5060   \n",
       "\n",
       "                     subcatchment.5.P  subcatchment.6.E  subcatchment.6.P  \\\n",
       "2010-11-01 00:00:00               0.0            0.4110            0.0322   \n",
       "2010-11-01 01:00:00               0.0            0.4593            0.0000   \n",
       "2010-11-01 02:00:00               0.0            0.4827            0.0000   \n",
       "\n",
       "                     subcatchment.7.E  subcatchment.7.P  subcatchment.8.E  \\\n",
       "2010-11-01 00:00:00            0.4247               0.0            0.4377   \n",
       "2010-11-01 01:00:00            0.4746               0.0            0.4892   \n",
       "2010-11-01 02:00:00            0.4987               0.0            0.5143   \n",
       "\n",
       "                     subcatchment.8.P  subcatchment.9.E  subcatchment.9.P  \n",
       "2010-11-01 00:00:00               0.0            0.4337               0.0  \n",
       "2010-11-01 01:00:00               0.0            0.4841               0.0  \n",
       "2010-11-01 02:00:00               0.0            0.5084               0.0  \n",
       "\n",
       "[3 rows x 84 columns]"
      ]
     },
     "execution_count": 10,
     "metadata": {},
     "output_type": "execute_result"
    }
   ],
   "source": [
    "se_climate.head(3)"
   ]
  },
  {
   "cell_type": "code",
   "execution_count": 11,
   "id": "15",
   "metadata": {
    "execution": {
     "iopub.execute_input": "2025-05-16T04:15:18.177363Z",
     "iopub.status.busy": "2025-05-16T04:15:18.177226Z",
     "iopub.status.idle": "2025-05-16T04:15:18.188819Z",
     "shell.execute_reply": "2025-05-16T04:15:18.188361Z"
    }
   },
   "outputs": [],
   "source": [
    "simulation.play_input(se_climate)\n",
    "simulation.set_simulation_span(xr_ts_start(se_climate), xr_ts_end(se_climate))\n",
    "simulation.set_simulation_time_step('hourly')"
   ]
  },
  {
   "cell_type": "markdown",
   "id": "16",
   "metadata": {},
   "source": [
    "The `doc_helper` submodule has helper functions to configure the gr4j model to such that it is fit to run on hourly data:"
   ]
  },
  {
   "cell_type": "code",
   "execution_count": 12,
   "id": "17",
   "metadata": {
    "execution": {
     "iopub.execute_input": "2025-05-16T04:15:18.190068Z",
     "iopub.status.busy": "2025-05-16T04:15:18.189914Z",
     "iopub.status.idle": "2025-05-16T04:15:18.193062Z",
     "shell.execute_reply": "2025-05-16T04:15:18.192726Z"
    },
    "lines_to_next_cell": 2
   },
   "outputs": [],
   "source": [
    "std.configure_hourly_gr4j(simulation)"
   ]
  },
  {
   "cell_type": "markdown",
   "id": "18",
   "metadata": {},
   "source": [
    "## Parameterisation\n",
    "\n",
    "We define a function creating a realistic feasible parameter space. This is not the main object of this vignette, so we do not describe in details. "
   ]
  },
  {
   "cell_type": "code",
   "execution_count": 13,
   "id": "19",
   "metadata": {
    "execution": {
     "iopub.execute_input": "2025-05-16T04:15:18.194352Z",
     "iopub.status.busy": "2025-05-16T04:15:18.194197Z",
     "iopub.status.idle": "2025-05-16T04:15:18.198187Z",
     "shell.execute_reply": "2025-05-16T04:15:18.197840Z"
    }
   },
   "outputs": [],
   "source": [
    "\n",
    "import swift2.helpers as hlp\n",
    "import swift2.parameteriser as sp\n",
    "from swift2.utils import as_xarray_series, c, paste0, rep\n",
    "\n",
    "\n",
    "def create_meta_parameteriser(simulation:Simulation, ref_area=250, time_span=3600):  \n",
    "    time_span = int(time_span)\n",
    "    parameteriser = std.define_gr4j_scaled_parameter(ref_area, time_span)\n",
    "  \n",
    "    # Let's define _S0_ and _R0_ parameters such that for each GR4J model instance, _S = S0 * x1_ and _R = R0 * x3_\n",
    "    p_states = sp.linear_parameteriser(\n",
    "                      param_name=c(\"S0\",\"R0\"), \n",
    "                      state_name=c(\"S\",\"R\"), \n",
    "                      scaling_var_name=c(\"x1\",\"x3\"),\n",
    "                      min_p_val=c(0.0,0.0), \n",
    "                      max_p_val=c(1.0,1.0), \n",
    "                      value=c(0.9,0.9), \n",
    "                      selector_type='each subarea')\n",
    "  \n",
    "    init_parameteriser = p_states.make_state_init_parameteriser()\n",
    "    parameteriser = sp.concatenate_parameterisers(parameteriser, init_parameteriser)\n",
    "    \n",
    "    hlp.lag_and_route_linear_storage_type(simulation)\n",
    "    hlp.set_reach_lengths_lag_n_route(simulation)\n",
    "\n",
    "    lnrp = hlp.parameteriser_lag_and_route()\n",
    "    parameteriser = CompositeParameteriser.concatenate(parameteriser, lnrp, strategy='')\n",
    "    return parameteriser"
   ]
  },
  {
   "cell_type": "code",
   "execution_count": 14,
   "id": "20",
   "metadata": {
    "execution": {
     "iopub.execute_input": "2025-05-16T04:15:18.199372Z",
     "iopub.status.busy": "2025-05-16T04:15:18.199204Z",
     "iopub.status.idle": "2025-05-16T04:15:18.213393Z",
     "shell.execute_reply": "2025-05-16T04:15:18.212959Z"
    }
   },
   "outputs": [
    {
     "data": {
      "text/html": [
       "<div>\n",
       "<style scoped>\n",
       "    .dataframe tbody tr th:only-of-type {\n",
       "        vertical-align: middle;\n",
       "    }\n",
       "\n",
       "    .dataframe tbody tr th {\n",
       "        vertical-align: top;\n",
       "    }\n",
       "\n",
       "    .dataframe thead th {\n",
       "        text-align: right;\n",
       "    }\n",
       "</style>\n",
       "<table border=\"1\" class=\"dataframe\">\n",
       "  <thead>\n",
       "    <tr style=\"text-align: right;\">\n",
       "      <th></th>\n",
       "      <th>Name</th>\n",
       "      <th>Value</th>\n",
       "      <th>Min</th>\n",
       "      <th>Max</th>\n",
       "    </tr>\n",
       "  </thead>\n",
       "  <tbody>\n",
       "    <tr>\n",
       "      <th>0</th>\n",
       "      <td>log_x4</td>\n",
       "      <td>0.305422</td>\n",
       "      <td>0.000000</td>\n",
       "      <td>2.380211</td>\n",
       "    </tr>\n",
       "    <tr>\n",
       "      <th>1</th>\n",
       "      <td>log_x1</td>\n",
       "      <td>0.506690</td>\n",
       "      <td>0.000000</td>\n",
       "      <td>3.778151</td>\n",
       "    </tr>\n",
       "    <tr>\n",
       "      <th>2</th>\n",
       "      <td>log_x3</td>\n",
       "      <td>0.315425</td>\n",
       "      <td>0.000000</td>\n",
       "      <td>3.000000</td>\n",
       "    </tr>\n",
       "    <tr>\n",
       "      <th>3</th>\n",
       "      <td>asinh_x2</td>\n",
       "      <td>2.637752</td>\n",
       "      <td>-3.989327</td>\n",
       "      <td>3.989327</td>\n",
       "    </tr>\n",
       "    <tr>\n",
       "      <th>4</th>\n",
       "      <td>R0</td>\n",
       "      <td>0.900000</td>\n",
       "      <td>0.000000</td>\n",
       "      <td>1.000000</td>\n",
       "    </tr>\n",
       "    <tr>\n",
       "      <th>5</th>\n",
       "      <td>S0</td>\n",
       "      <td>0.900000</td>\n",
       "      <td>0.000000</td>\n",
       "      <td>1.000000</td>\n",
       "    </tr>\n",
       "    <tr>\n",
       "      <th>6</th>\n",
       "      <td>alpha</td>\n",
       "      <td>1.000000</td>\n",
       "      <td>0.001000</td>\n",
       "      <td>100.000000</td>\n",
       "    </tr>\n",
       "    <tr>\n",
       "      <th>7</th>\n",
       "      <td>inverse_velocity</td>\n",
       "      <td>1.000000</td>\n",
       "      <td>0.001000</td>\n",
       "      <td>100.000000</td>\n",
       "    </tr>\n",
       "  </tbody>\n",
       "</table>\n",
       "</div>"
      ],
      "text/plain": [
       "               Name     Value       Min         Max\n",
       "0            log_x4  0.305422  0.000000    2.380211\n",
       "1            log_x1  0.506690  0.000000    3.778151\n",
       "2            log_x3  0.315425  0.000000    3.000000\n",
       "3          asinh_x2  2.637752 -3.989327    3.989327\n",
       "4                R0  0.900000  0.000000    1.000000\n",
       "5                S0  0.900000  0.000000    1.000000\n",
       "6             alpha  1.000000  0.001000  100.000000\n",
       "7  inverse_velocity  1.000000  0.001000  100.000000"
      ]
     },
     "execution_count": 14,
     "metadata": {},
     "output_type": "execute_result"
    }
   ],
   "source": [
    "parameteriser = create_meta_parameteriser(simulation)\n",
    "parameteriser.as_dataframe()"
   ]
  },
  {
   "cell_type": "markdown",
   "id": "21",
   "metadata": {},
   "source": [
    "Now, checking that a default parameter set works structurally on the simulation:"
   ]
  },
  {
   "cell_type": "code",
   "execution_count": 15,
   "id": "22",
   "metadata": {
    "execution": {
     "iopub.execute_input": "2025-05-16T04:15:18.214751Z",
     "iopub.status.busy": "2025-05-16T04:15:18.214606Z",
     "iopub.status.idle": "2025-05-16T04:15:18.233371Z",
     "shell.execute_reply": "2025-05-16T04:15:18.232798Z"
    }
   },
   "outputs": [],
   "source": [
    "parameteriser.set_parameter_value('asinh_x2', 0)\n",
    "parameteriser.apply_sys_config(simulation)\n",
    "simulation.exec_simulation()"
   ]
  },
  {
   "cell_type": "markdown",
   "id": "23",
   "metadata": {},
   "source": [
    "We are now ready to enter the main topic of this vignette, subsetting the catchment into subcatchments for calibration purposes.\n",
    "\n",
    "## Splitting the catchment in subcatchments\n",
    "\n",
    "The sample gauge data flow contains identifiers that are of course distinct from the network node identifiers. We create a map between them (note - this information used to be in the NodeLink file in swiftv1), and we use these node as splitting points to derive subcatchments"
   ]
  },
  {
   "cell_type": "code",
   "execution_count": 16,
   "id": "24",
   "metadata": {
    "execution": {
     "iopub.execute_input": "2025-05-16T04:15:18.234949Z",
     "iopub.status.busy": "2025-05-16T04:15:18.234790Z",
     "iopub.status.idle": "2025-05-16T04:15:18.237419Z",
     "shell.execute_reply": "2025-05-16T04:15:18.237103Z"
    }
   },
   "outputs": [],
   "source": [
    "gauges = c( '92106', '592002', '18311', '93044',    '25',   '181')\n",
    "node_ids = paste0('node.', c('7',   '12',   '25',   '30',   '40',   '43'))\n",
    "node_gauges = OrderedDict([(node_ids[i], gauges[i]) for i in range(len(gauges))])\n",
    "# names(gauges) = node_ids"
   ]
  },
  {
   "cell_type": "markdown",
   "id": "25",
   "metadata": {},
   "source": [
    "### Test running and recording streamflows"
   ]
  },
  {
   "cell_type": "code",
   "execution_count": 17,
   "id": "26",
   "metadata": {
    "execution": {
     "iopub.execute_input": "2025-05-16T04:15:18.238923Z",
     "iopub.status.busy": "2025-05-16T04:15:18.238754Z",
     "iopub.status.idle": "2025-05-16T04:15:18.244303Z",
     "shell.execute_reply": "2025-05-16T04:15:18.243925Z"
    }
   },
   "outputs": [
    {
     "data": {
      "text/plain": [
       "['node.7.InflowRate',\n",
       " 'node.7.InflowVolume',\n",
       " 'node.7.AdditionalInflowRate',\n",
       " 'node.7.AbstractionDemandRate',\n",
       " 'node.7.AbstractionSuppliedRate',\n",
       " 'node.7.OutflowRate',\n",
       " 'node.7.OutflowVolume']"
      ]
     },
     "execution_count": 17,
     "metadata": {},
     "output_type": "execute_result"
    }
   ],
   "source": [
    "simulation.get_variable_ids(node_ids[0])"
   ]
  },
  {
   "cell_type": "code",
   "execution_count": 18,
   "id": "27",
   "metadata": {
    "execution": {
     "iopub.execute_input": "2025-05-16T04:15:18.245666Z",
     "iopub.status.busy": "2025-05-16T04:15:18.245518Z",
     "iopub.status.idle": "2025-05-16T04:15:18.247627Z",
     "shell.execute_reply": "2025-05-16T04:15:18.247355Z"
    }
   },
   "outputs": [],
   "source": [
    "simulation.record_state(paste0(node_ids, \".OutflowRate\"))"
   ]
  },
  {
   "cell_type": "code",
   "execution_count": 19,
   "id": "28",
   "metadata": {
    "execution": {
     "iopub.execute_input": "2025-05-16T04:15:18.248880Z",
     "iopub.status.busy": "2025-05-16T04:15:18.248658Z",
     "iopub.status.idle": "2025-05-16T04:15:18.265657Z",
     "shell.execute_reply": "2025-05-16T04:15:18.265224Z"
    },
    "lines_to_next_cell": 2
   },
   "outputs": [],
   "source": [
    "simulation.exec_simulation()"
   ]
  },
  {
   "cell_type": "code",
   "execution_count": 20,
   "id": "29",
   "metadata": {
    "execution": {
     "iopub.execute_input": "2025-05-16T04:15:18.267180Z",
     "iopub.status.busy": "2025-05-16T04:15:18.267041Z",
     "iopub.status.idle": "2025-05-16T04:15:18.355633Z",
     "shell.execute_reply": "2025-05-16T04:15:18.355082Z"
    }
   },
   "outputs": [],
   "source": [
    "modelled = simulation.get_all_recorded()"
   ]
  },
  {
   "cell_type": "code",
   "execution_count": 21,
   "id": "30",
   "metadata": {
    "execution": {
     "iopub.execute_input": "2025-05-16T04:15:18.357096Z",
     "iopub.status.busy": "2025-05-16T04:15:18.356956Z",
     "iopub.status.idle": "2025-05-16T04:15:18.367512Z",
     "shell.execute_reply": "2025-05-16T04:15:18.367236Z"
    }
   },
   "outputs": [
    {
     "data": {
      "text/html": [
       "<div><svg style=\"position: absolute; width: 0; height: 0; overflow: hidden\">\n",
       "<defs>\n",
       "<symbol id=\"icon-database\" viewBox=\"0 0 32 32\">\n",
       "<path d=\"M16 0c-8.837 0-16 2.239-16 5v4c0 2.761 7.163 5 16 5s16-2.239 16-5v-4c0-2.761-7.163-5-16-5z\"></path>\n",
       "<path d=\"M16 17c-8.837 0-16-2.239-16-5v6c0 2.761 7.163 5 16 5s16-2.239 16-5v-6c0 2.761-7.163 5-16 5z\"></path>\n",
       "<path d=\"M16 26c-8.837 0-16-2.239-16-5v6c0 2.761 7.163 5 16 5s16-2.239 16-5v-6c0 2.761-7.163 5-16 5z\"></path>\n",
       "</symbol>\n",
       "<symbol id=\"icon-file-text2\" viewBox=\"0 0 32 32\">\n",
       "<path d=\"M28.681 7.159c-0.694-0.947-1.662-2.053-2.724-3.116s-2.169-2.030-3.116-2.724c-1.612-1.182-2.393-1.319-2.841-1.319h-15.5c-1.378 0-2.5 1.121-2.5 2.5v27c0 1.378 1.122 2.5 2.5 2.5h23c1.378 0 2.5-1.122 2.5-2.5v-19.5c0-0.448-0.137-1.23-1.319-2.841zM24.543 5.457c0.959 0.959 1.712 1.825 2.268 2.543h-4.811v-4.811c0.718 0.556 1.584 1.309 2.543 2.268zM28 29.5c0 0.271-0.229 0.5-0.5 0.5h-23c-0.271 0-0.5-0.229-0.5-0.5v-27c0-0.271 0.229-0.5 0.5-0.5 0 0 15.499-0 15.5 0v7c0 0.552 0.448 1 1 1h7v19.5z\"></path>\n",
       "<path d=\"M23 26h-14c-0.552 0-1-0.448-1-1s0.448-1 1-1h14c0.552 0 1 0.448 1 1s-0.448 1-1 1z\"></path>\n",
       "<path d=\"M23 22h-14c-0.552 0-1-0.448-1-1s0.448-1 1-1h14c0.552 0 1 0.448 1 1s-0.448 1-1 1z\"></path>\n",
       "<path d=\"M23 18h-14c-0.552 0-1-0.448-1-1s0.448-1 1-1h14c0.552 0 1 0.448 1 1s-0.448 1-1 1z\"></path>\n",
       "</symbol>\n",
       "</defs>\n",
       "</svg>\n",
       "<style>/* CSS stylesheet for displaying xarray objects in jupyterlab.\n",
       " *\n",
       " */\n",
       "\n",
       ":root {\n",
       "  --xr-font-color0: var(--jp-content-font-color0, rgba(0, 0, 0, 1));\n",
       "  --xr-font-color2: var(--jp-content-font-color2, rgba(0, 0, 0, 0.54));\n",
       "  --xr-font-color3: var(--jp-content-font-color3, rgba(0, 0, 0, 0.38));\n",
       "  --xr-border-color: var(--jp-border-color2, #e0e0e0);\n",
       "  --xr-disabled-color: var(--jp-layout-color3, #bdbdbd);\n",
       "  --xr-background-color: var(--jp-layout-color0, white);\n",
       "  --xr-background-color-row-even: var(--jp-layout-color1, white);\n",
       "  --xr-background-color-row-odd: var(--jp-layout-color2, #eeeeee);\n",
       "}\n",
       "\n",
       "html[theme=\"dark\"],\n",
       "html[data-theme=\"dark\"],\n",
       "body[data-theme=\"dark\"],\n",
       "body.vscode-dark {\n",
       "  --xr-font-color0: rgba(255, 255, 255, 1);\n",
       "  --xr-font-color2: rgba(255, 255, 255, 0.54);\n",
       "  --xr-font-color3: rgba(255, 255, 255, 0.38);\n",
       "  --xr-border-color: #1f1f1f;\n",
       "  --xr-disabled-color: #515151;\n",
       "  --xr-background-color: #111111;\n",
       "  --xr-background-color-row-even: #111111;\n",
       "  --xr-background-color-row-odd: #313131;\n",
       "}\n",
       "\n",
       ".xr-wrap {\n",
       "  display: block !important;\n",
       "  min-width: 300px;\n",
       "  max-width: 700px;\n",
       "}\n",
       "\n",
       ".xr-text-repr-fallback {\n",
       "  /* fallback to plain text repr when CSS is not injected (untrusted notebook) */\n",
       "  display: none;\n",
       "}\n",
       "\n",
       ".xr-header {\n",
       "  padding-top: 6px;\n",
       "  padding-bottom: 6px;\n",
       "  margin-bottom: 4px;\n",
       "  border-bottom: solid 1px var(--xr-border-color);\n",
       "}\n",
       "\n",
       ".xr-header > div,\n",
       ".xr-header > ul {\n",
       "  display: inline;\n",
       "  margin-top: 0;\n",
       "  margin-bottom: 0;\n",
       "}\n",
       "\n",
       ".xr-obj-type,\n",
       ".xr-array-name {\n",
       "  margin-left: 2px;\n",
       "  margin-right: 10px;\n",
       "}\n",
       "\n",
       ".xr-obj-type {\n",
       "  color: var(--xr-font-color2);\n",
       "}\n",
       "\n",
       ".xr-sections {\n",
       "  padding-left: 0 !important;\n",
       "  display: grid;\n",
       "  grid-template-columns: 150px auto auto 1fr 0 20px 0 20px;\n",
       "}\n",
       "\n",
       ".xr-section-item {\n",
       "  display: contents;\n",
       "}\n",
       "\n",
       ".xr-section-item input {\n",
       "  display: inline-block;\n",
       "  opacity: 0;\n",
       "  height: 0;\n",
       "}\n",
       "\n",
       ".xr-section-item input + label {\n",
       "  color: var(--xr-disabled-color);\n",
       "}\n",
       "\n",
       ".xr-section-item input:enabled + label {\n",
       "  cursor: pointer;\n",
       "  color: var(--xr-font-color2);\n",
       "}\n",
       "\n",
       ".xr-section-item input:focus + label {\n",
       "  border: 2px solid var(--xr-font-color0);\n",
       "}\n",
       "\n",
       ".xr-section-item input:enabled + label:hover {\n",
       "  color: var(--xr-font-color0);\n",
       "}\n",
       "\n",
       ".xr-section-summary {\n",
       "  grid-column: 1;\n",
       "  color: var(--xr-font-color2);\n",
       "  font-weight: 500;\n",
       "}\n",
       "\n",
       ".xr-section-summary > span {\n",
       "  display: inline-block;\n",
       "  padding-left: 0.5em;\n",
       "}\n",
       "\n",
       ".xr-section-summary-in:disabled + label {\n",
       "  color: var(--xr-font-color2);\n",
       "}\n",
       "\n",
       ".xr-section-summary-in + label:before {\n",
       "  display: inline-block;\n",
       "  content: \"►\";\n",
       "  font-size: 11px;\n",
       "  width: 15px;\n",
       "  text-align: center;\n",
       "}\n",
       "\n",
       ".xr-section-summary-in:disabled + label:before {\n",
       "  color: var(--xr-disabled-color);\n",
       "}\n",
       "\n",
       ".xr-section-summary-in:checked + label:before {\n",
       "  content: \"▼\";\n",
       "}\n",
       "\n",
       ".xr-section-summary-in:checked + label > span {\n",
       "  display: none;\n",
       "}\n",
       "\n",
       ".xr-section-summary,\n",
       ".xr-section-inline-details {\n",
       "  padding-top: 4px;\n",
       "  padding-bottom: 4px;\n",
       "}\n",
       "\n",
       ".xr-section-inline-details {\n",
       "  grid-column: 2 / -1;\n",
       "}\n",
       "\n",
       ".xr-section-details {\n",
       "  display: none;\n",
       "  grid-column: 1 / -1;\n",
       "  margin-bottom: 5px;\n",
       "}\n",
       "\n",
       ".xr-section-summary-in:checked ~ .xr-section-details {\n",
       "  display: contents;\n",
       "}\n",
       "\n",
       ".xr-array-wrap {\n",
       "  grid-column: 1 / -1;\n",
       "  display: grid;\n",
       "  grid-template-columns: 20px auto;\n",
       "}\n",
       "\n",
       ".xr-array-wrap > label {\n",
       "  grid-column: 1;\n",
       "  vertical-align: top;\n",
       "}\n",
       "\n",
       ".xr-preview {\n",
       "  color: var(--xr-font-color3);\n",
       "}\n",
       "\n",
       ".xr-array-preview,\n",
       ".xr-array-data {\n",
       "  padding: 0 5px !important;\n",
       "  grid-column: 2;\n",
       "}\n",
       "\n",
       ".xr-array-data,\n",
       ".xr-array-in:checked ~ .xr-array-preview {\n",
       "  display: none;\n",
       "}\n",
       "\n",
       ".xr-array-in:checked ~ .xr-array-data,\n",
       ".xr-array-preview {\n",
       "  display: inline-block;\n",
       "}\n",
       "\n",
       ".xr-dim-list {\n",
       "  display: inline-block !important;\n",
       "  list-style: none;\n",
       "  padding: 0 !important;\n",
       "  margin: 0;\n",
       "}\n",
       "\n",
       ".xr-dim-list li {\n",
       "  display: inline-block;\n",
       "  padding: 0;\n",
       "  margin: 0;\n",
       "}\n",
       "\n",
       ".xr-dim-list:before {\n",
       "  content: \"(\";\n",
       "}\n",
       "\n",
       ".xr-dim-list:after {\n",
       "  content: \")\";\n",
       "}\n",
       "\n",
       ".xr-dim-list li:not(:last-child):after {\n",
       "  content: \",\";\n",
       "  padding-right: 5px;\n",
       "}\n",
       "\n",
       ".xr-has-index {\n",
       "  font-weight: bold;\n",
       "}\n",
       "\n",
       ".xr-var-list,\n",
       ".xr-var-item {\n",
       "  display: contents;\n",
       "}\n",
       "\n",
       ".xr-var-item > div,\n",
       ".xr-var-item label,\n",
       ".xr-var-item > .xr-var-name span {\n",
       "  background-color: var(--xr-background-color-row-even);\n",
       "  margin-bottom: 0;\n",
       "}\n",
       "\n",
       ".xr-var-item > .xr-var-name:hover span {\n",
       "  padding-right: 5px;\n",
       "}\n",
       "\n",
       ".xr-var-list > li:nth-child(odd) > div,\n",
       ".xr-var-list > li:nth-child(odd) > label,\n",
       ".xr-var-list > li:nth-child(odd) > .xr-var-name span {\n",
       "  background-color: var(--xr-background-color-row-odd);\n",
       "}\n",
       "\n",
       ".xr-var-name {\n",
       "  grid-column: 1;\n",
       "}\n",
       "\n",
       ".xr-var-dims {\n",
       "  grid-column: 2;\n",
       "}\n",
       "\n",
       ".xr-var-dtype {\n",
       "  grid-column: 3;\n",
       "  text-align: right;\n",
       "  color: var(--xr-font-color2);\n",
       "}\n",
       "\n",
       ".xr-var-preview {\n",
       "  grid-column: 4;\n",
       "}\n",
       "\n",
       ".xr-index-preview {\n",
       "  grid-column: 2 / 5;\n",
       "  color: var(--xr-font-color2);\n",
       "}\n",
       "\n",
       ".xr-var-name,\n",
       ".xr-var-dims,\n",
       ".xr-var-dtype,\n",
       ".xr-preview,\n",
       ".xr-attrs dt {\n",
       "  white-space: nowrap;\n",
       "  overflow: hidden;\n",
       "  text-overflow: ellipsis;\n",
       "  padding-right: 10px;\n",
       "}\n",
       "\n",
       ".xr-var-name:hover,\n",
       ".xr-var-dims:hover,\n",
       ".xr-var-dtype:hover,\n",
       ".xr-attrs dt:hover {\n",
       "  overflow: visible;\n",
       "  width: auto;\n",
       "  z-index: 1;\n",
       "}\n",
       "\n",
       ".xr-var-attrs,\n",
       ".xr-var-data,\n",
       ".xr-index-data {\n",
       "  display: none;\n",
       "  background-color: var(--xr-background-color) !important;\n",
       "  padding-bottom: 5px !important;\n",
       "}\n",
       "\n",
       ".xr-var-attrs-in:checked ~ .xr-var-attrs,\n",
       ".xr-var-data-in:checked ~ .xr-var-data,\n",
       ".xr-index-data-in:checked ~ .xr-index-data {\n",
       "  display: block;\n",
       "}\n",
       "\n",
       ".xr-var-data > table {\n",
       "  float: right;\n",
       "}\n",
       "\n",
       ".xr-var-name span,\n",
       ".xr-var-data,\n",
       ".xr-index-name div,\n",
       ".xr-index-data,\n",
       ".xr-attrs {\n",
       "  padding-left: 25px !important;\n",
       "}\n",
       "\n",
       ".xr-attrs,\n",
       ".xr-var-attrs,\n",
       ".xr-var-data,\n",
       ".xr-index-data {\n",
       "  grid-column: 1 / -1;\n",
       "}\n",
       "\n",
       "dl.xr-attrs {\n",
       "  padding: 0;\n",
       "  margin: 0;\n",
       "  display: grid;\n",
       "  grid-template-columns: 125px auto;\n",
       "}\n",
       "\n",
       ".xr-attrs dt,\n",
       ".xr-attrs dd {\n",
       "  padding: 0;\n",
       "  margin: 0;\n",
       "  float: left;\n",
       "  padding-right: 10px;\n",
       "  width: auto;\n",
       "}\n",
       "\n",
       ".xr-attrs dt {\n",
       "  font-weight: normal;\n",
       "  grid-column: 1;\n",
       "}\n",
       "\n",
       ".xr-attrs dt:hover span {\n",
       "  display: inline-block;\n",
       "  background: var(--xr-background-color);\n",
       "  padding-right: 10px;\n",
       "}\n",
       "\n",
       ".xr-attrs dd {\n",
       "  grid-column: 2;\n",
       "  white-space: pre-wrap;\n",
       "  word-break: break-all;\n",
       "}\n",
       "\n",
       ".xr-icon-database,\n",
       ".xr-icon-file-text2,\n",
       ".xr-no-icon {\n",
       "  display: inline-block;\n",
       "  vertical-align: middle;\n",
       "  width: 1em;\n",
       "  height: 1.5em !important;\n",
       "  stroke-width: 0;\n",
       "  stroke: currentColor;\n",
       "  fill: currentColor;\n",
       "}\n",
       "</style><pre class='xr-text-repr-fallback'>&lt;xarray.DataArray (variable_identifiers: 6, ensemble: 1, time: 480)&gt; Size: 23kB\n",
       "array([[[11.80066449,  7.44947703, 18.42497666, ...,  0.28179863,\n",
       "          0.27663744,  0.27165243]],\n",
       "\n",
       "       [[11.19512081,  6.66918055, 12.49597281, ...,  0.38460207,\n",
       "          0.38065825,  0.37679025]],\n",
       "\n",
       "       [[ 6.83285487, 10.68999615, 17.44945727, ...,  2.26019515,\n",
       "          2.22860765,  2.19794827]],\n",
       "\n",
       "       [[11.86391178, 12.88237054, 11.40568098, ...,  0.13346021,\n",
       "          0.13235124,  0.13125882]],\n",
       "\n",
       "       [[19.862354  , 11.83475444,  8.23442729, ...,  3.61385335,\n",
       "          3.55119926,  3.49124398]],\n",
       "\n",
       "       [[20.9016399 , 23.51593328, 28.95913953, ...,  0.43200931,\n",
       "          0.42719557,  0.42247987]]], shape=(6, 1, 480))\n",
       "Coordinates:\n",
       "  * ensemble              (ensemble) int64 8B 0\n",
       "  * time                  (time) datetime64[ns] 4kB 2010-11-01 ... 2010-11-20...\n",
       "  * variable_identifiers  (variable_identifiers) object 48B &#x27;node.12.OutflowR...</pre><div class='xr-wrap' style='display:none'><div class='xr-header'><div class='xr-obj-type'>xarray.DataArray</div><div class='xr-array-name'></div><ul class='xr-dim-list'><li><span class='xr-has-index'>variable_identifiers</span>: 6</li><li><span class='xr-has-index'>ensemble</span>: 1</li><li><span class='xr-has-index'>time</span>: 480</li></ul></div><ul class='xr-sections'><li class='xr-section-item'><div class='xr-array-wrap'><input id='section-2ef793bf-0333-47cd-ba87-93ab2d62583b' class='xr-array-in' type='checkbox' checked><label for='section-2ef793bf-0333-47cd-ba87-93ab2d62583b' title='Show/hide data repr'><svg class='icon xr-icon-database'><use xlink:href='#icon-database'></use></svg></label><div class='xr-array-preview xr-preview'><span>11.8 7.449 18.42 11.78 8.579 ... 0.4419 0.4369 0.432 0.4272 0.4225</span></div><div class='xr-array-data'><pre>array([[[11.80066449,  7.44947703, 18.42497666, ...,  0.28179863,\n",
       "          0.27663744,  0.27165243]],\n",
       "\n",
       "       [[11.19512081,  6.66918055, 12.49597281, ...,  0.38460207,\n",
       "          0.38065825,  0.37679025]],\n",
       "\n",
       "       [[ 6.83285487, 10.68999615, 17.44945727, ...,  2.26019515,\n",
       "          2.22860765,  2.19794827]],\n",
       "\n",
       "       [[11.86391178, 12.88237054, 11.40568098, ...,  0.13346021,\n",
       "          0.13235124,  0.13125882]],\n",
       "\n",
       "       [[19.862354  , 11.83475444,  8.23442729, ...,  3.61385335,\n",
       "          3.55119926,  3.49124398]],\n",
       "\n",
       "       [[20.9016399 , 23.51593328, 28.95913953, ...,  0.43200931,\n",
       "          0.42719557,  0.42247987]]], shape=(6, 1, 480))</pre></div></div></li><li class='xr-section-item'><input id='section-7bc894c3-c340-4ac6-b69c-6e1575aa917f' class='xr-section-summary-in' type='checkbox'  checked><label for='section-7bc894c3-c340-4ac6-b69c-6e1575aa917f' class='xr-section-summary' >Coordinates: <span>(3)</span></label><div class='xr-section-inline-details'></div><div class='xr-section-details'><ul class='xr-var-list'><li class='xr-var-item'><div class='xr-var-name'><span class='xr-has-index'>ensemble</span></div><div class='xr-var-dims'>(ensemble)</div><div class='xr-var-dtype'>int64</div><div class='xr-var-preview xr-preview'>0</div><input id='attrs-febd6294-e87b-473b-9cb6-59371cb92bd5' class='xr-var-attrs-in' type='checkbox' disabled><label for='attrs-febd6294-e87b-473b-9cb6-59371cb92bd5' title='Show/Hide attributes'><svg class='icon xr-icon-file-text2'><use xlink:href='#icon-file-text2'></use></svg></label><input id='data-6d07389b-abc3-4cab-9a06-a28281595310' class='xr-var-data-in' type='checkbox'><label for='data-6d07389b-abc3-4cab-9a06-a28281595310' title='Show/Hide data repr'><svg class='icon xr-icon-database'><use xlink:href='#icon-database'></use></svg></label><div class='xr-var-attrs'><dl class='xr-attrs'></dl></div><div class='xr-var-data'><pre>array([0])</pre></div></li><li class='xr-var-item'><div class='xr-var-name'><span class='xr-has-index'>time</span></div><div class='xr-var-dims'>(time)</div><div class='xr-var-dtype'>datetime64[ns]</div><div class='xr-var-preview xr-preview'>2010-11-01 ... 2010-11-20T23:00:00</div><input id='attrs-f836164e-b94d-4ada-a795-356cd9165247' class='xr-var-attrs-in' type='checkbox' disabled><label for='attrs-f836164e-b94d-4ada-a795-356cd9165247' title='Show/Hide attributes'><svg class='icon xr-icon-file-text2'><use xlink:href='#icon-file-text2'></use></svg></label><input id='data-e2d8b8bf-6e11-4a3c-9e57-86f7f263791d' class='xr-var-data-in' type='checkbox'><label for='data-e2d8b8bf-6e11-4a3c-9e57-86f7f263791d' title='Show/Hide data repr'><svg class='icon xr-icon-database'><use xlink:href='#icon-database'></use></svg></label><div class='xr-var-attrs'><dl class='xr-attrs'></dl></div><div class='xr-var-data'><pre>array([&#x27;2010-11-01T00:00:00.000000000&#x27;, &#x27;2010-11-01T01:00:00.000000000&#x27;,\n",
       "       &#x27;2010-11-01T02:00:00.000000000&#x27;, ..., &#x27;2010-11-20T21:00:00.000000000&#x27;,\n",
       "       &#x27;2010-11-20T22:00:00.000000000&#x27;, &#x27;2010-11-20T23:00:00.000000000&#x27;],\n",
       "      shape=(480,), dtype=&#x27;datetime64[ns]&#x27;)</pre></div></li><li class='xr-var-item'><div class='xr-var-name'><span class='xr-has-index'>variable_identifiers</span></div><div class='xr-var-dims'>(variable_identifiers)</div><div class='xr-var-dtype'>object</div><div class='xr-var-preview xr-preview'>&#x27;node.12.OutflowRate&#x27; ... &#x27;node....</div><input id='attrs-95721fb6-47e3-4db6-a4b7-1aba72bfb391' class='xr-var-attrs-in' type='checkbox' disabled><label for='attrs-95721fb6-47e3-4db6-a4b7-1aba72bfb391' title='Show/Hide attributes'><svg class='icon xr-icon-file-text2'><use xlink:href='#icon-file-text2'></use></svg></label><input id='data-fe70b8b1-590a-402e-82d6-ac16fdb6c94b' class='xr-var-data-in' type='checkbox'><label for='data-fe70b8b1-590a-402e-82d6-ac16fdb6c94b' title='Show/Hide data repr'><svg class='icon xr-icon-database'><use xlink:href='#icon-database'></use></svg></label><div class='xr-var-attrs'><dl class='xr-attrs'></dl></div><div class='xr-var-data'><pre>array([&#x27;node.12.OutflowRate&#x27;, &#x27;node.25.OutflowRate&#x27;, &#x27;node.30.OutflowRate&#x27;,\n",
       "       &#x27;node.40.OutflowRate&#x27;, &#x27;node.43.OutflowRate&#x27;, &#x27;node.7.OutflowRate&#x27;],\n",
       "      dtype=object)</pre></div></li></ul></div></li><li class='xr-section-item'><input id='section-591d9be1-76b3-46fa-90cc-68b107e4fb99' class='xr-section-summary-in' type='checkbox'  ><label for='section-591d9be1-76b3-46fa-90cc-68b107e4fb99' class='xr-section-summary' >Indexes: <span>(3)</span></label><div class='xr-section-inline-details'></div><div class='xr-section-details'><ul class='xr-var-list'><li class='xr-var-item'><div class='xr-index-name'><div>ensemble</div></div><div class='xr-index-preview'>PandasIndex</div><input type='checkbox' disabled/><label></label><input id='index-97735e3c-69ed-45e4-ace7-7d419662bb55' class='xr-index-data-in' type='checkbox'/><label for='index-97735e3c-69ed-45e4-ace7-7d419662bb55' title='Show/Hide index repr'><svg class='icon xr-icon-database'><use xlink:href='#icon-database'></use></svg></label><div class='xr-index-data'><pre>PandasIndex(Index([0], dtype=&#x27;int64&#x27;, name=&#x27;ensemble&#x27;))</pre></div></li><li class='xr-var-item'><div class='xr-index-name'><div>time</div></div><div class='xr-index-preview'>PandasIndex</div><input type='checkbox' disabled/><label></label><input id='index-c6d07dd6-2321-49de-85fb-13c8d5134142' class='xr-index-data-in' type='checkbox'/><label for='index-c6d07dd6-2321-49de-85fb-13c8d5134142' title='Show/Hide index repr'><svg class='icon xr-icon-database'><use xlink:href='#icon-database'></use></svg></label><div class='xr-index-data'><pre>PandasIndex(DatetimeIndex([&#x27;2010-11-01 00:00:00&#x27;, &#x27;2010-11-01 01:00:00&#x27;,\n",
       "               &#x27;2010-11-01 02:00:00&#x27;, &#x27;2010-11-01 03:00:00&#x27;,\n",
       "               &#x27;2010-11-01 04:00:00&#x27;, &#x27;2010-11-01 05:00:00&#x27;,\n",
       "               &#x27;2010-11-01 06:00:00&#x27;, &#x27;2010-11-01 07:00:00&#x27;,\n",
       "               &#x27;2010-11-01 08:00:00&#x27;, &#x27;2010-11-01 09:00:00&#x27;,\n",
       "               ...\n",
       "               &#x27;2010-11-20 14:00:00&#x27;, &#x27;2010-11-20 15:00:00&#x27;,\n",
       "               &#x27;2010-11-20 16:00:00&#x27;, &#x27;2010-11-20 17:00:00&#x27;,\n",
       "               &#x27;2010-11-20 18:00:00&#x27;, &#x27;2010-11-20 19:00:00&#x27;,\n",
       "               &#x27;2010-11-20 20:00:00&#x27;, &#x27;2010-11-20 21:00:00&#x27;,\n",
       "               &#x27;2010-11-20 22:00:00&#x27;, &#x27;2010-11-20 23:00:00&#x27;],\n",
       "              dtype=&#x27;datetime64[ns]&#x27;, name=&#x27;time&#x27;, length=480, freq=&#x27;h&#x27;))</pre></div></li><li class='xr-var-item'><div class='xr-index-name'><div>variable_identifiers</div></div><div class='xr-index-preview'>PandasIndex</div><input type='checkbox' disabled/><label></label><input id='index-2b2db33e-ba7c-4184-a9ee-4914d0559301' class='xr-index-data-in' type='checkbox'/><label for='index-2b2db33e-ba7c-4184-a9ee-4914d0559301' title='Show/Hide index repr'><svg class='icon xr-icon-database'><use xlink:href='#icon-database'></use></svg></label><div class='xr-index-data'><pre>PandasIndex(Index([&#x27;node.12.OutflowRate&#x27;, &#x27;node.25.OutflowRate&#x27;, &#x27;node.30.OutflowRate&#x27;,\n",
       "       &#x27;node.40.OutflowRate&#x27;, &#x27;node.43.OutflowRate&#x27;, &#x27;node.7.OutflowRate&#x27;],\n",
       "      dtype=&#x27;object&#x27;, name=&#x27;variable_identifiers&#x27;))</pre></div></li></ul></div></li><li class='xr-section-item'><input id='section-14c82b9c-9f5d-4ca0-bab7-cc7ac69b59de' class='xr-section-summary-in' type='checkbox' disabled ><label for='section-14c82b9c-9f5d-4ca0-bab7-cc7ac69b59de' class='xr-section-summary'  title='Expand/collapse section'>Attributes: <span>(0)</span></label><div class='xr-section-inline-details'></div><div class='xr-section-details'><dl class='xr-attrs'></dl></div></li></ul></div></div>"
      ],
      "text/plain": [
       "<xarray.DataArray (variable_identifiers: 6, ensemble: 1, time: 480)> Size: 23kB\n",
       "array([[[11.80066449,  7.44947703, 18.42497666, ...,  0.28179863,\n",
       "          0.27663744,  0.27165243]],\n",
       "\n",
       "       [[11.19512081,  6.66918055, 12.49597281, ...,  0.38460207,\n",
       "          0.38065825,  0.37679025]],\n",
       "\n",
       "       [[ 6.83285487, 10.68999615, 17.44945727, ...,  2.26019515,\n",
       "          2.22860765,  2.19794827]],\n",
       "\n",
       "       [[11.86391178, 12.88237054, 11.40568098, ...,  0.13346021,\n",
       "          0.13235124,  0.13125882]],\n",
       "\n",
       "       [[19.862354  , 11.83475444,  8.23442729, ...,  3.61385335,\n",
       "          3.55119926,  3.49124398]],\n",
       "\n",
       "       [[20.9016399 , 23.51593328, 28.95913953, ...,  0.43200931,\n",
       "          0.42719557,  0.42247987]]], shape=(6, 1, 480))\n",
       "Coordinates:\n",
       "  * ensemble              (ensemble) int64 8B 0\n",
       "  * time                  (time) datetime64[ns] 4kB 2010-11-01 ... 2010-11-20...\n",
       "  * variable_identifiers  (variable_identifiers) object 48B 'node.12.OutflowR..."
      ]
     },
     "execution_count": 21,
     "metadata": {},
     "output_type": "execute_result"
    }
   ],
   "source": [
    "modelled"
   ]
  },
  {
   "cell_type": "code",
   "execution_count": 22,
   "id": "31",
   "metadata": {
    "execution": {
     "iopub.execute_input": "2025-05-16T04:15:18.368771Z",
     "iopub.status.busy": "2025-05-16T04:15:18.368598Z",
     "iopub.status.idle": "2025-05-16T04:15:18.491647Z",
     "shell.execute_reply": "2025-05-16T04:15:18.491090Z"
    }
   },
   "outputs": [
    {
     "data": {
      "text/plain": [
       "[<matplotlib.lines.Line2D at 0x7fe5bf6eb450>]"
      ]
     },
     "execution_count": 22,
     "metadata": {},
     "output_type": "execute_result"
    },
    {
     "data": {
      "image/png": "[encoded data removed]",
      "text/plain": [
       "<Figure size 640x480 with 1 Axes>"
      ]
     },
     "metadata": {},
     "output_type": "display_data"
    }
   ],
   "source": [
    "modelled.sel(variable_identifiers='node.7.OutflowRate').plot()"
   ]
  },
  {
   "cell_type": "code",
   "execution_count": 23,
   "id": "32",
   "metadata": {
    "execution": {
     "iopub.execute_input": "2025-05-16T04:15:18.493277Z",
     "iopub.status.busy": "2025-05-16T04:15:18.493128Z",
     "iopub.status.idle": "2025-05-16T04:15:18.655642Z",
     "shell.execute_reply": "2025-05-16T04:15:18.655018Z"
    }
   },
   "outputs": [
    {
     "data": {
      "text/plain": [
       "<Axes: >"
      ]
     },
     "execution_count": 23,
     "metadata": {},
     "output_type": "execute_result"
    },
    {
     "data": {
      "image/png": "[encoded data removed]",
      "text/plain": [
       "<Figure size 640x480 with 1 Axes>"
      ]
     },
     "metadata": {},
     "output_type": "display_data"
    }
   ],
   "source": [
    "se_flows[gauges[3]].plot()"
   ]
  },
  {
   "cell_type": "code",
   "execution_count": null,
   "id": "33",
   "metadata": {},
   "outputs": [],
   "source": []
  },
  {
   "cell_type": "code",
   "execution_count": 24,
   "id": "34",
   "metadata": {
    "execution": {
     "iopub.execute_input": "2025-05-16T04:15:18.657675Z",
     "iopub.status.busy": "2025-05-16T04:15:18.657349Z",
     "iopub.status.idle": "2025-05-16T04:15:18.681428Z",
     "shell.execute_reply": "2025-05-16T04:15:18.680816Z"
    }
   },
   "outputs": [
    {
     "data": {
      "text/plain": [
       "OrderedDict([('node.40',\n",
       "              Simulation wrapper for a CFFI pointer handle to a native pointer of type id \"MODEL_SIMULATION_PTR\"),\n",
       "             ('node.25',\n",
       "              Simulation wrapper for a CFFI pointer handle to a native pointer of type id \"MODEL_SIMULATION_PTR\"),\n",
       "             ('node.12',\n",
       "              Simulation wrapper for a CFFI pointer handle to a native pointer of type id \"MODEL_SIMULATION_PTR\"),\n",
       "             ('node.7',\n",
       "              Simulation wrapper for a CFFI pointer handle to a native pointer of type id \"MODEL_SIMULATION_PTR\"),\n",
       "             ('node.30',\n",
       "              Simulation wrapper for a CFFI pointer handle to a native pointer of type id \"MODEL_SIMULATION_PTR\"),\n",
       "             ('node.43',\n",
       "              Simulation wrapper for a CFFI pointer handle to a native pointer of type id \"MODEL_SIMULATION_PTR\")])"
      ]
     },
     "execution_count": 24,
     "metadata": {},
     "output_type": "execute_result"
    }
   ],
   "source": [
    "split_element_ids = node_ids\n",
    "sub_cats = simulation.split_to_subcatchments(split_element_ids)\n",
    "sub_cats"
   ]
  },
  {
   "cell_type": "markdown",
   "id": "35",
   "metadata": {},
   "source": [
    "The resulting list of subcatchment simulations is already ordered in an upstream to downstream order by SWIFT.\n",
    "\n",
    "If we are to set up the first step of the sequential calibration:"
   ]
  },
  {
   "cell_type": "code",
   "execution_count": 25,
   "id": "36",
   "metadata": {
    "execution": {
     "iopub.execute_input": "2025-05-16T04:15:18.683115Z",
     "iopub.status.busy": "2025-05-16T04:15:18.682944Z",
     "iopub.status.idle": "2025-05-16T04:15:18.690616Z",
     "shell.execute_reply": "2025-05-16T04:15:18.689942Z"
    }
   },
   "outputs": [
    {
     "data": {
      "text/plain": [
       "{'subareas': {'37': 'Subarea_37', '38': 'Subarea_38', '39': 'Subarea_39'},\n",
       " 'nodes': {'40': 'Node_40', '39': 'Node_39', '38': 'Node_38', '37': 'Node_37'},\n",
       " 'links': {'39': 'Subarea_39', '38': 'Subarea_38', '37': 'Subarea_37'}}"
      ]
     },
     "execution_count": 25,
     "metadata": {},
     "output_type": "execute_result"
    }
   ],
   "source": [
    "sub_cats['node.40'].describe()"
   ]
  },
  {
   "cell_type": "code",
   "execution_count": 26,
   "id": "37",
   "metadata": {
    "execution": {
     "iopub.execute_input": "2025-05-16T04:15:18.692126Z",
     "iopub.status.busy": "2025-05-16T04:15:18.691951Z",
     "iopub.status.idle": "2025-05-16T04:15:18.694644Z",
     "shell.execute_reply": "2025-05-16T04:15:18.694303Z"
    },
    "tags": []
   },
   "outputs": [],
   "source": [
    "def first(d:OrderedDict):\n",
    "    return list(sub_cats.items())[0]  "
   ]
  },
  {
   "cell_type": "code",
   "execution_count": 27,
   "id": "38",
   "metadata": {
    "execution": {
     "iopub.execute_input": "2025-05-16T04:15:18.695855Z",
     "iopub.status.busy": "2025-05-16T04:15:18.695664Z",
     "iopub.status.idle": "2025-05-16T04:15:18.698792Z",
     "shell.execute_reply": "2025-05-16T04:15:18.698308Z"
    }
   },
   "outputs": [
    {
     "data": {
      "text/plain": [
       "'node.40'"
      ]
     },
     "execution_count": 27,
     "metadata": {},
     "output_type": "execute_result"
    }
   ],
   "source": [
    "element_id = first(sub_cats)[0]\n",
    "element_id"
   ]
  },
  {
   "cell_type": "code",
   "execution_count": 28,
   "id": "39",
   "metadata": {
    "execution": {
     "iopub.execute_input": "2025-05-16T04:15:18.700048Z",
     "iopub.status.busy": "2025-05-16T04:15:18.699816Z",
     "iopub.status.idle": "2025-05-16T04:15:18.702917Z",
     "shell.execute_reply": "2025-05-16T04:15:18.702575Z"
    },
    "lines_to_next_cell": 2
   },
   "outputs": [
    {
     "data": {
      "text/plain": [
       "np.str_('25')"
      ]
     },
     "execution_count": 28,
     "metadata": {},
     "output_type": "execute_result"
    }
   ],
   "source": [
    "gaugeId = node_gauges[element_id]\n",
    "gaugeId"
   ]
  },
  {
   "cell_type": "code",
   "execution_count": 29,
   "id": "40",
   "metadata": {
    "execution": {
     "iopub.execute_input": "2025-05-16T04:15:18.704170Z",
     "iopub.status.busy": "2025-05-16T04:15:18.703978Z",
     "iopub.status.idle": "2025-05-16T04:15:18.710285Z",
     "shell.execute_reply": "2025-05-16T04:15:18.709927Z"
    },
    "lines_to_next_cell": 2
   },
   "outputs": [
    {
     "data": {
      "text/html": [
       "<div>\n",
       "<style scoped>\n",
       "    .dataframe tbody tr th:only-of-type {\n",
       "        vertical-align: middle;\n",
       "    }\n",
       "\n",
       "    .dataframe tbody tr th {\n",
       "        vertical-align: top;\n",
       "    }\n",
       "\n",
       "    .dataframe thead th {\n",
       "        text-align: right;\n",
       "    }\n",
       "</style>\n",
       "<table border=\"1\" class=\"dataframe\">\n",
       "  <thead>\n",
       "    <tr style=\"text-align: right;\">\n",
       "      <th></th>\n",
       "      <th>25</th>\n",
       "    </tr>\n",
       "  </thead>\n",
       "  <tbody>\n",
       "    <tr>\n",
       "      <th>2010-11-01 00:00:00</th>\n",
       "      <td>1.229</td>\n",
       "    </tr>\n",
       "    <tr>\n",
       "      <th>2010-11-01 01:00:00</th>\n",
       "      <td>1.259</td>\n",
       "    </tr>\n",
       "    <tr>\n",
       "      <th>2010-11-01 02:00:00</th>\n",
       "      <td>1.280</td>\n",
       "    </tr>\n",
       "    <tr>\n",
       "      <th>2010-11-01 03:00:00</th>\n",
       "      <td>1.291</td>\n",
       "    </tr>\n",
       "    <tr>\n",
       "      <th>2010-11-01 04:00:00</th>\n",
       "      <td>1.296</td>\n",
       "    </tr>\n",
       "  </tbody>\n",
       "</table>\n",
       "</div>"
      ],
      "text/plain": [
       "                        25\n",
       "2010-11-01 00:00:00  1.229\n",
       "2010-11-01 01:00:00  1.259\n",
       "2010-11-01 02:00:00  1.280\n",
       "2010-11-01 03:00:00  1.291\n",
       "2010-11-01 04:00:00  1.296"
      ]
     },
     "execution_count": 29,
     "metadata": {},
     "output_type": "execute_result"
    }
   ],
   "source": [
    "gauge_flow = se_flows[[gaugeId]]\n",
    "gauge_flow.head()"
   ]
  },
  {
   "cell_type": "code",
   "execution_count": 30,
   "id": "41",
   "metadata": {
    "execution": {
     "iopub.execute_input": "2025-05-16T04:15:18.711434Z",
     "iopub.status.busy": "2025-05-16T04:15:18.711288Z",
     "iopub.status.idle": "2025-05-16T04:15:18.714207Z",
     "shell.execute_reply": "2025-05-16T04:15:18.713913Z"
    },
    "lines_to_next_cell": 2
   },
   "outputs": [
    {
     "data": {
      "text/plain": [
       "Simulation wrapper for a CFFI pointer handle to a native pointer of type id \"MODEL_SIMULATION_PTR\""
      ]
     },
     "execution_count": 30,
     "metadata": {},
     "output_type": "execute_result"
    }
   ],
   "source": [
    "sc = sub_cats[element_id]\n",
    "sc"
   ]
  },
  {
   "cell_type": "code",
   "execution_count": 31,
   "id": "42",
   "metadata": {
    "execution": {
     "iopub.execute_input": "2025-05-16T04:15:18.715465Z",
     "iopub.status.busy": "2025-05-16T04:15:18.715178Z",
     "iopub.status.idle": "2025-05-16T04:15:18.717544Z",
     "shell.execute_reply": "2025-05-16T04:15:18.717246Z"
    },
    "lines_to_next_cell": 2
   },
   "outputs": [],
   "source": [
    "parameteriser.apply_sys_config(sc)\n",
    "var_id = CATCHMENT_FLOWRATE_VARID\n",
    "sc.record_state(var_id)"
   ]
  },
  {
   "cell_type": "code",
   "execution_count": 32,
   "id": "43",
   "metadata": {
    "execution": {
     "iopub.execute_input": "2025-05-16T04:15:18.718589Z",
     "iopub.status.busy": "2025-05-16T04:15:18.718417Z",
     "iopub.status.idle": "2025-05-16T04:15:18.720343Z",
     "shell.execute_reply": "2025-05-16T04:15:18.720021Z"
    }
   },
   "outputs": [],
   "source": [
    "# DiagrammeR(getCatchmentDotGraph(sc))"
   ]
  },
  {
   "cell_type": "markdown",
   "id": "44",
   "metadata": {
    "lines_to_next_cell": 2
   },
   "source": [
    "Let's view the default, uncalibrated output "
   ]
  },
  {
   "cell_type": "code",
   "execution_count": 33,
   "id": "45",
   "metadata": {
    "execution": {
     "iopub.execute_input": "2025-05-16T04:15:18.721692Z",
     "iopub.status.busy": "2025-05-16T04:15:18.721543Z",
     "iopub.status.idle": "2025-05-16T04:15:18.725070Z",
     "shell.execute_reply": "2025-05-16T04:15:18.724642Z"
    }
   },
   "outputs": [
    {
     "data": {
      "text/plain": [
       "{'start': datetime.datetime(2010, 11, 1, 0, 0),\n",
       " 'end': datetime.datetime(2010, 11, 20, 23, 0),\n",
       " 'time step': 'hourly'}"
      ]
     },
     "execution_count": 33,
     "metadata": {},
     "output_type": "execute_result"
    }
   ],
   "source": [
    "simulation.get_simulation_span()"
   ]
  },
  {
   "cell_type": "code",
   "execution_count": 34,
   "id": "46",
   "metadata": {
    "execution": {
     "iopub.execute_input": "2025-05-16T04:15:18.726439Z",
     "iopub.status.busy": "2025-05-16T04:15:18.726123Z",
     "iopub.status.idle": "2025-05-16T04:15:18.728566Z",
     "shell.execute_reply": "2025-05-16T04:15:18.728265Z"
    }
   },
   "outputs": [],
   "source": [
    "def plot_obs_vs_calc(obs, calc, ylab=\"streamflow (m3/s)\"):\n",
    "    plot_two_series(obs, calc, start_time = xr_ts_start(obs), end_time = xr_ts_end(obs))"
   ]
  },
  {
   "cell_type": "code",
   "execution_count": 35,
   "id": "47",
   "metadata": {
    "execution": {
     "iopub.execute_input": "2025-05-16T04:15:18.729897Z",
     "iopub.status.busy": "2025-05-16T04:15:18.729713Z",
     "iopub.status.idle": "2025-05-16T04:15:18.732226Z",
     "shell.execute_reply": "2025-05-16T04:15:18.731896Z"
    }
   },
   "outputs": [],
   "source": [
    "gauge_flow = as_xarray_series(gauge_flow)"
   ]
  },
  {
   "cell_type": "code",
   "execution_count": 36,
   "id": "48",
   "metadata": {
    "execution": {
     "iopub.execute_input": "2025-05-16T04:15:18.733697Z",
     "iopub.status.busy": "2025-05-16T04:15:18.733524Z",
     "iopub.status.idle": "2025-05-16T04:15:18.919247Z",
     "shell.execute_reply": "2025-05-16T04:15:18.918742Z"
    }
   },
   "outputs": [
    {
     "data": {
      "image/png": "[encoded data removed]",
      "text/plain": [
       "<Figure size 1600x900 with 1 Axes>"
      ]
     },
     "metadata": {},
     "output_type": "display_data"
    }
   ],
   "source": [
    "sc.exec_simulation()\n",
    "plot_obs_vs_calc(gauge_flow, sc.get_recorded(var_id))"
   ]
  },
  {
   "cell_type": "markdown",
   "id": "49",
   "metadata": {},
   "source": [
    "Now, setting up an objective (NSE) and optimiser:"
   ]
  },
  {
   "cell_type": "code",
   "execution_count": 37,
   "id": "50",
   "metadata": {
    "execution": {
     "iopub.execute_input": "2025-05-16T04:15:18.920870Z",
     "iopub.status.busy": "2025-05-16T04:15:18.920633Z",
     "iopub.status.idle": "2025-05-16T04:15:18.928522Z",
     "shell.execute_reply": "2025-05-16T04:15:18.928041Z"
    }
   },
   "outputs": [],
   "source": [
    "objectiveId = 'NSE'\n",
    "objective = sc.create_objective(var_id, gauge_flow, objectiveId, xr_ts_start(se_flows), xr_ts_end(se_flows))\n",
    "score = objective.get_score(parameteriser)  "
   ]
  },
  {
   "cell_type": "code",
   "execution_count": 38,
   "id": "51",
   "metadata": {
    "execution": {
     "iopub.execute_input": "2025-05-16T04:15:18.931031Z",
     "iopub.status.busy": "2025-05-16T04:15:18.930408Z",
     "iopub.status.idle": "2025-05-16T04:15:18.937165Z",
     "shell.execute_reply": "2025-05-16T04:15:18.936627Z"
    }
   },
   "outputs": [],
   "source": [
    "# termination = getMarginalTermination( tolerance = 1e-04, cutoff_no_improvement = 30, max_hours = 2/60) \n",
    "termination = sp.create_sce_termination_wila('relative standard deviation', c('0.05','0.0167'))\n",
    "sce_params = sp.get_default_sce_parameters()\n",
    "params = parameteriser.as_dataframe()"
   ]
  },
  {
   "cell_type": "code",
   "execution_count": 39,
   "id": "52",
   "metadata": {
    "execution": {
     "iopub.execute_input": "2025-05-16T04:15:18.938904Z",
     "iopub.status.busy": "2025-05-16T04:15:18.938693Z",
     "iopub.status.idle": "2025-05-16T04:15:18.943047Z",
     "shell.execute_reply": "2025-05-16T04:15:18.942525Z"
    }
   },
   "outputs": [
    {
     "data": {
      "text/plain": [
       "8"
      ]
     },
     "execution_count": 39,
     "metadata": {},
     "output_type": "execute_result"
    }
   ],
   "source": [
    "np.count_nonzero(abs(params.Max-params.Min)>0)"
   ]
  },
  {
   "cell_type": "code",
   "execution_count": 40,
   "id": "53",
   "metadata": {
    "execution": {
     "iopub.execute_input": "2025-05-16T04:15:18.944644Z",
     "iopub.status.busy": "2025-05-16T04:15:18.944480Z",
     "iopub.status.idle": "2025-05-16T04:15:18.950699Z",
     "shell.execute_reply": "2025-05-16T04:15:18.950303Z"
    }
   },
   "outputs": [],
   "source": [
    "npars = np.count_nonzero(abs(params.Max-params.Min)>0)\n",
    "sce_params = std.sce_parameter(npars)\n",
    "optimiser = objective.create_sce_optim_swift(termination_criterion = termination, population_initialiser = parameteriser,sce_params = sce_params)\n",
    "calib_logger = optimiser.set_calibration_logger(\"dummy\")"
   ]
  },
  {
   "cell_type": "code",
   "execution_count": 41,
   "id": "54",
   "metadata": {
    "execution": {
     "iopub.execute_input": "2025-05-16T04:15:18.952005Z",
     "iopub.status.busy": "2025-05-16T04:15:18.951883Z",
     "iopub.status.idle": "2025-05-16T04:15:56.561812Z",
     "shell.execute_reply": "2025-05-16T04:15:56.561346Z"
    }
   },
   "outputs": [
    {
     "name": "stdout",
     "output_type": "stream",
     "text": [
      "CPU times: user 4min 15s, sys: 58.6 ms, total: 4min 15s\n",
      "Wall time: 37.6 s\n"
     ]
    }
   ],
   "source": [
    "%%time\n",
    "calib_results = optimiser.execute_optimisation()"
   ]
  },
  {
   "cell_type": "markdown",
   "id": "55",
   "metadata": {},
   "source": [
    "And the resulting hydrograph follows. The NSE score is decent, but the magnitude of the peak is not well represented. We used a uniform value for the routing parameters; having a scaling based on link properties may be a line of enquiry."
   ]
  },
  {
   "cell_type": "code",
   "execution_count": 42,
   "id": "56",
   "metadata": {
    "execution": {
     "iopub.execute_input": "2025-05-16T04:15:56.563164Z",
     "iopub.status.busy": "2025-05-16T04:15:56.563037Z",
     "iopub.status.idle": "2025-05-16T04:15:56.661654Z",
     "shell.execute_reply": "2025-05-16T04:15:56.661196Z"
    }
   },
   "outputs": [
    {
     "data": {
      "text/html": [
       "<div>\n",
       "<style scoped>\n",
       "    .dataframe tbody tr th:only-of-type {\n",
       "        vertical-align: middle;\n",
       "    }\n",
       "\n",
       "    .dataframe tbody tr th {\n",
       "        vertical-align: top;\n",
       "    }\n",
       "\n",
       "    .dataframe thead th {\n",
       "        text-align: right;\n",
       "    }\n",
       "</style>\n",
       "<table border=\"1\" class=\"dataframe\">\n",
       "  <thead>\n",
       "    <tr style=\"text-align: right;\">\n",
       "      <th></th>\n",
       "      <th>NSE</th>\n",
       "      <th>log_x4</th>\n",
       "      <th>log_x1</th>\n",
       "      <th>log_x3</th>\n",
       "      <th>asinh_x2</th>\n",
       "      <th>R0</th>\n",
       "      <th>S0</th>\n",
       "      <th>alpha</th>\n",
       "      <th>inverse_velocity</th>\n",
       "    </tr>\n",
       "  </thead>\n",
       "  <tbody>\n",
       "    <tr>\n",
       "      <th>0</th>\n",
       "      <td>0.494486</td>\n",
       "      <td>2.083412</td>\n",
       "      <td>0.817456</td>\n",
       "      <td>0.543006</td>\n",
       "      <td>0.201668</td>\n",
       "      <td>0.486912</td>\n",
       "      <td>0.566229</td>\n",
       "      <td>52.931056</td>\n",
       "      <td>57.135610</td>\n",
       "    </tr>\n",
       "    <tr>\n",
       "      <th>1</th>\n",
       "      <td>0.494270</td>\n",
       "      <td>2.088946</td>\n",
       "      <td>0.877532</td>\n",
       "      <td>0.480031</td>\n",
       "      <td>0.212400</td>\n",
       "      <td>0.436573</td>\n",
       "      <td>0.525331</td>\n",
       "      <td>53.521435</td>\n",
       "      <td>53.435698</td>\n",
       "    </tr>\n",
       "    <tr>\n",
       "      <th>2</th>\n",
       "      <td>0.494118</td>\n",
       "      <td>2.078820</td>\n",
       "      <td>0.853538</td>\n",
       "      <td>0.527632</td>\n",
       "      <td>0.234605</td>\n",
       "      <td>0.474694</td>\n",
       "      <td>0.510408</td>\n",
       "      <td>48.404811</td>\n",
       "      <td>55.239899</td>\n",
       "    </tr>\n",
       "    <tr>\n",
       "      <th>3</th>\n",
       "      <td>0.493718</td>\n",
       "      <td>2.084039</td>\n",
       "      <td>0.874168</td>\n",
       "      <td>0.521461</td>\n",
       "      <td>0.239327</td>\n",
       "      <td>0.483183</td>\n",
       "      <td>0.534643</td>\n",
       "      <td>52.075063</td>\n",
       "      <td>50.367980</td>\n",
       "    </tr>\n",
       "    <tr>\n",
       "      <th>4</th>\n",
       "      <td>0.493551</td>\n",
       "      <td>2.093115</td>\n",
       "      <td>0.853368</td>\n",
       "      <td>0.481468</td>\n",
       "      <td>0.214864</td>\n",
       "      <td>0.509028</td>\n",
       "      <td>0.536058</td>\n",
       "      <td>53.395207</td>\n",
       "      <td>55.080122</td>\n",
       "    </tr>\n",
       "  </tbody>\n",
       "</table>\n",
       "</div>"
      ],
      "text/plain": [
       "        NSE    log_x4    log_x1    log_x3  asinh_x2        R0        S0  \\\n",
       "0  0.494486  2.083412  0.817456  0.543006  0.201668  0.486912  0.566229   \n",
       "1  0.494270  2.088946  0.877532  0.480031  0.212400  0.436573  0.525331   \n",
       "2  0.494118  2.078820  0.853538  0.527632  0.234605  0.474694  0.510408   \n",
       "3  0.493718  2.084039  0.874168  0.521461  0.239327  0.483183  0.534643   \n",
       "4  0.493551  2.093115  0.853368  0.481468  0.214864  0.509028  0.536058   \n",
       "\n",
       "       alpha  inverse_velocity  \n",
       "0  52.931056         57.135610  \n",
       "1  53.521435         53.435698  \n",
       "2  48.404811         55.239899  \n",
       "3  52.075063         50.367980  \n",
       "4  53.395207         55.080122  "
      ]
     },
     "execution_count": 42,
     "metadata": {},
     "output_type": "execute_result"
    }
   ],
   "source": [
    "sorted_results = calib_results.sort_by_score('NSE')\n",
    "d = sorted_results.as_dataframe()\n",
    "d.head()"
   ]
  },
  {
   "cell_type": "code",
   "execution_count": 43,
   "id": "57",
   "metadata": {
    "execution": {
     "iopub.execute_input": "2025-05-16T04:15:56.662962Z",
     "iopub.status.busy": "2025-05-16T04:15:56.662840Z",
     "iopub.status.idle": "2025-05-16T04:15:56.669691Z",
     "shell.execute_reply": "2025-05-16T04:15:56.669289Z"
    }
   },
   "outputs": [
    {
     "data": {
      "text/html": [
       "<div>\n",
       "<style scoped>\n",
       "    .dataframe tbody tr th:only-of-type {\n",
       "        vertical-align: middle;\n",
       "    }\n",
       "\n",
       "    .dataframe tbody tr th {\n",
       "        vertical-align: top;\n",
       "    }\n",
       "\n",
       "    .dataframe thead th {\n",
       "        text-align: right;\n",
       "    }\n",
       "</style>\n",
       "<table border=\"1\" class=\"dataframe\">\n",
       "  <thead>\n",
       "    <tr style=\"text-align: right;\">\n",
       "      <th></th>\n",
       "      <th>NSE</th>\n",
       "      <th>log_x4</th>\n",
       "      <th>log_x1</th>\n",
       "      <th>log_x3</th>\n",
       "      <th>asinh_x2</th>\n",
       "      <th>R0</th>\n",
       "      <th>S0</th>\n",
       "      <th>alpha</th>\n",
       "      <th>inverse_velocity</th>\n",
       "    </tr>\n",
       "  </thead>\n",
       "  <tbody>\n",
       "    <tr>\n",
       "      <th>165</th>\n",
       "      <td>0.482992</td>\n",
       "      <td>2.079494</td>\n",
       "      <td>0.812588</td>\n",
       "      <td>0.494737</td>\n",
       "      <td>0.140989</td>\n",
       "      <td>0.497908</td>\n",
       "      <td>0.522849</td>\n",
       "      <td>46.473800</td>\n",
       "      <td>54.568243</td>\n",
       "    </tr>\n",
       "    <tr>\n",
       "      <th>166</th>\n",
       "      <td>0.482560</td>\n",
       "      <td>2.062943</td>\n",
       "      <td>0.781697</td>\n",
       "      <td>0.596623</td>\n",
       "      <td>0.220231</td>\n",
       "      <td>0.527801</td>\n",
       "      <td>0.552285</td>\n",
       "      <td>54.745652</td>\n",
       "      <td>67.971298</td>\n",
       "    </tr>\n",
       "    <tr>\n",
       "      <th>167</th>\n",
       "      <td>0.482497</td>\n",
       "      <td>2.106522</td>\n",
       "      <td>0.829144</td>\n",
       "      <td>0.412829</td>\n",
       "      <td>0.138130</td>\n",
       "      <td>0.530156</td>\n",
       "      <td>0.593584</td>\n",
       "      <td>52.202333</td>\n",
       "      <td>60.017567</td>\n",
       "    </tr>\n",
       "    <tr>\n",
       "      <th>168</th>\n",
       "      <td>0.482294</td>\n",
       "      <td>2.081617</td>\n",
       "      <td>0.908696</td>\n",
       "      <td>0.424188</td>\n",
       "      <td>0.211116</td>\n",
       "      <td>0.516536</td>\n",
       "      <td>0.477412</td>\n",
       "      <td>54.026519</td>\n",
       "      <td>48.048843</td>\n",
       "    </tr>\n",
       "    <tr>\n",
       "      <th>169</th>\n",
       "      <td>0.482252</td>\n",
       "      <td>2.086505</td>\n",
       "      <td>0.738809</td>\n",
       "      <td>0.564237</td>\n",
       "      <td>0.093866</td>\n",
       "      <td>0.515100</td>\n",
       "      <td>0.493760</td>\n",
       "      <td>54.961603</td>\n",
       "      <td>53.276150</td>\n",
       "    </tr>\n",
       "  </tbody>\n",
       "</table>\n",
       "</div>"
      ],
      "text/plain": [
       "          NSE    log_x4    log_x1    log_x3  asinh_x2        R0        S0  \\\n",
       "165  0.482992  2.079494  0.812588  0.494737  0.140989  0.497908  0.522849   \n",
       "166  0.482560  2.062943  0.781697  0.596623  0.220231  0.527801  0.552285   \n",
       "167  0.482497  2.106522  0.829144  0.412829  0.138130  0.530156  0.593584   \n",
       "168  0.482294  2.081617  0.908696  0.424188  0.211116  0.516536  0.477412   \n",
       "169  0.482252  2.086505  0.738809  0.564237  0.093866  0.515100  0.493760   \n",
       "\n",
       "         alpha  inverse_velocity  \n",
       "165  46.473800         54.568243  \n",
       "166  54.745652         67.971298  \n",
       "167  52.202333         60.017567  \n",
       "168  54.026519         48.048843  \n",
       "169  54.961603         53.276150  "
      ]
     },
     "execution_count": 43,
     "metadata": {},
     "output_type": "execute_result"
    }
   ],
   "source": [
    "d.tail()"
   ]
  },
  {
   "cell_type": "code",
   "execution_count": 44,
   "id": "58",
   "metadata": {
    "execution": {
     "iopub.execute_input": "2025-05-16T04:15:56.671133Z",
     "iopub.status.busy": "2025-05-16T04:15:56.670855Z",
     "iopub.status.idle": "2025-05-16T04:15:56.675693Z",
     "shell.execute_reply": "2025-05-16T04:15:56.675413Z"
    }
   },
   "outputs": [
    {
     "data": {
      "text/plain": [
       "               Name      Value       Min         Max\n",
       "0            log_x4   2.083412  0.000000    2.380211\n",
       "1            log_x1   0.817456  0.000000    3.778151\n",
       "2            log_x3   0.543006  0.000000    3.000000\n",
       "3          asinh_x2   0.201668 -3.989327    3.989327\n",
       "4                R0   0.486912  0.000000    1.000000\n",
       "5                S0   0.566229  0.000000    1.000000\n",
       "6             alpha  52.931056  0.001000  100.000000\n",
       "7  inverse_velocity  57.135610  0.001000  100.000000"
      ]
     },
     "execution_count": 44,
     "metadata": {},
     "output_type": "execute_result"
    }
   ],
   "source": [
    "p = sorted_results.get_parameters_at_index(1)\n",
    "p"
   ]
  },
  {
   "cell_type": "code",
   "execution_count": 45,
   "id": "59",
   "metadata": {
    "execution": {
     "iopub.execute_input": "2025-05-16T04:15:56.676887Z",
     "iopub.status.busy": "2025-05-16T04:15:56.676689Z",
     "iopub.status.idle": "2025-05-16T04:15:56.863353Z",
     "shell.execute_reply": "2025-05-16T04:15:56.862687Z"
    }
   },
   "outputs": [
    {
     "data": {
      "image/png": "[encoded data removed]",
      "text/plain": [
       "<Figure size 1600x900 with 1 Axes>"
      ]
     },
     "metadata": {},
     "output_type": "display_data"
    }
   ],
   "source": [
    "p.apply_sys_config(sc)\n",
    "sc.exec_simulation()\n",
    "plot_obs_vs_calc(gauge_flow, sc.get_recorded(var_id))"
   ]
  },
  {
   "cell_type": "markdown",
   "id": "60",
   "metadata": {},
   "source": [
    "We can create a subcatchment parameteriser, such that when applied to the whole of the South Esk, only the states of the subareas, links and nodes of the subcatchment are potentially affected."
   ]
  },
  {
   "cell_type": "code",
   "execution_count": 46,
   "id": "61",
   "metadata": {
    "execution": {
     "iopub.execute_input": "2025-05-16T04:15:56.865832Z",
     "iopub.status.busy": "2025-05-16T04:15:56.865583Z",
     "iopub.status.idle": "2025-05-16T04:15:56.871124Z",
     "shell.execute_reply": "2025-05-16T04:15:56.870645Z"
    }
   },
   "outputs": [
    {
     "data": {
      "text/plain": [
       "{'subarea.34.x2': 0.0,\n",
       " 'subarea.35.x2': 0.0,\n",
       " 'subarea.36.x2': 0.0,\n",
       " 'subarea.37.x2': 0.13603542953576564,\n",
       " 'subarea.38.x2': 0.13603542953576564,\n",
       " 'subarea.39.x2': 0.13603542953576564,\n",
       " 'subarea.40.x2': 0.0}"
      ]
     },
     "execution_count": 46,
     "metadata": {},
     "output_type": "execute_result"
    }
   ],
   "source": [
    "sp = p.subcatchment_parameteriser(sc)\n",
    "sp.apply_sys_config(simulation)\n",
    "simulation.get_state_value(paste0('subarea.', np.arange(34,stop=41), '.x2'))\n",
    "# saIds = get_subarea_ids(simulation)"
   ]
  },
  {
   "cell_type": "code",
   "execution_count": 47,
   "id": "62",
   "metadata": {
    "execution": {
     "iopub.execute_input": "2025-05-16T04:15:56.872339Z",
     "iopub.status.busy": "2025-05-16T04:15:56.872210Z",
     "iopub.status.idle": "2025-05-16T04:15:56.874683Z",
     "shell.execute_reply": "2025-05-16T04:15:56.874415Z"
    }
   },
   "outputs": [],
   "source": [
    "# TODO\n",
    "# spFile = tempfile()\n",
    "# SaveParameterizer_R(sp, spFile)\n",
    "# # Following fails 2020-06, see https://jira.csiro.au/browse/WIRADA-631 \n",
    "# # sp2 = LoadParameterizer_R(spFile)\n",
    "\n",
    "# if(file.exists(spFile)) { file.remove(spFile) }"
   ]
  },
  {
   "cell_type": "code",
   "execution_count": 48,
   "id": "63",
   "metadata": {
    "eval": false,
    "execution": {
     "iopub.execute_input": "2025-05-16T04:15:56.875830Z",
     "iopub.status.busy": "2025-05-16T04:15:56.875669Z",
     "iopub.status.idle": "2025-05-16T04:15:56.881196Z",
     "shell.execute_reply": "2025-05-16T04:15:56.880928Z"
    },
    "tags": [
     "remove_cell"
    ]
   },
   "outputs": [
    {
     "data": {
      "text/html": [
       "<div>\n",
       "<style scoped>\n",
       "    .dataframe tbody tr th:only-of-type {\n",
       "        vertical-align: middle;\n",
       "    }\n",
       "\n",
       "    .dataframe tbody tr th {\n",
       "        vertical-align: top;\n",
       "    }\n",
       "\n",
       "    .dataframe thead th {\n",
       "        text-align: right;\n",
       "    }\n",
       "</style>\n",
       "<table border=\"1\" class=\"dataframe\">\n",
       "  <thead>\n",
       "    <tr style=\"text-align: right;\">\n",
       "      <th></th>\n",
       "      <th>Name</th>\n",
       "      <th>Value</th>\n",
       "      <th>Min</th>\n",
       "      <th>Max</th>\n",
       "    </tr>\n",
       "  </thead>\n",
       "  <tbody>\n",
       "    <tr>\n",
       "      <th>0</th>\n",
       "      <td>log_x4</td>\n",
       "      <td>2.083412</td>\n",
       "      <td>0.000000</td>\n",
       "      <td>2.380211</td>\n",
       "    </tr>\n",
       "    <tr>\n",
       "      <th>1</th>\n",
       "      <td>log_x1</td>\n",
       "      <td>0.817456</td>\n",
       "      <td>0.000000</td>\n",
       "      <td>3.778151</td>\n",
       "    </tr>\n",
       "    <tr>\n",
       "      <th>2</th>\n",
       "      <td>log_x3</td>\n",
       "      <td>0.543006</td>\n",
       "      <td>0.000000</td>\n",
       "      <td>3.000000</td>\n",
       "    </tr>\n",
       "    <tr>\n",
       "      <th>3</th>\n",
       "      <td>asinh_x2</td>\n",
       "      <td>0.201668</td>\n",
       "      <td>-3.989327</td>\n",
       "      <td>3.989327</td>\n",
       "    </tr>\n",
       "    <tr>\n",
       "      <th>4</th>\n",
       "      <td>R0</td>\n",
       "      <td>0.486912</td>\n",
       "      <td>0.000000</td>\n",
       "      <td>1.000000</td>\n",
       "    </tr>\n",
       "    <tr>\n",
       "      <th>5</th>\n",
       "      <td>S0</td>\n",
       "      <td>0.566229</td>\n",
       "      <td>0.000000</td>\n",
       "      <td>1.000000</td>\n",
       "    </tr>\n",
       "    <tr>\n",
       "      <th>6</th>\n",
       "      <td>alpha</td>\n",
       "      <td>52.931056</td>\n",
       "      <td>0.001000</td>\n",
       "      <td>100.000000</td>\n",
       "    </tr>\n",
       "    <tr>\n",
       "      <th>7</th>\n",
       "      <td>inverse_velocity</td>\n",
       "      <td>57.135610</td>\n",
       "      <td>0.001000</td>\n",
       "      <td>100.000000</td>\n",
       "    </tr>\n",
       "  </tbody>\n",
       "</table>\n",
       "</div>"
      ],
      "text/plain": [
       "               Name      Value       Min         Max\n",
       "0            log_x4   2.083412  0.000000    2.380211\n",
       "1            log_x1   0.817456  0.000000    3.778151\n",
       "2            log_x3   0.543006  0.000000    3.000000\n",
       "3          asinh_x2   0.201668 -3.989327    3.989327\n",
       "4                R0   0.486912  0.000000    1.000000\n",
       "5                S0   0.566229  0.000000    1.000000\n",
       "6             alpha  52.931056  0.001000  100.000000\n",
       "7  inverse_velocity  57.135610  0.001000  100.000000"
      ]
     },
     "execution_count": 48,
     "metadata": {},
     "output_type": "execute_result"
    }
   ],
   "source": [
    "p = sorted_results.get_parameters_at_index(1)\n",
    "p.as_dataframe()"
   ]
  },
  {
   "cell_type": "code",
   "execution_count": 49,
   "id": "64",
   "metadata": {
    "eval": false,
    "execution": {
     "iopub.execute_input": "2025-05-16T04:15:56.882308Z",
     "iopub.status.busy": "2025-05-16T04:15:56.882172Z",
     "iopub.status.idle": "2025-05-16T04:15:56.884266Z",
     "shell.execute_reply": "2025-05-16T04:15:56.883998Z"
    },
    "tags": [
     "remove_cell"
    ]
   },
   "outputs": [],
   "source": [
    "# swoop(sc, p, param_name, from, to, num=10, var_id) {\n",
    "#   if(missing(from)) { from = GetParameterMinValue_R(p, param_name)}\n",
    "#   if(missing(to))   { to = GetParameterMaxValue_R(p, param_name)}\n",
    "#   oat(sc, p, param_name, from=from, to=to, num=num, var_id) \n",
    "# }\n",
    "\n",
    "# testp(sim, p, ...) {\n",
    "#   q = CloneHypercubeParameterizer_R(p)\n",
    "#   execSimulation(sim)\n",
    "#   params = list(...)\n",
    "#   for(pname in names(params)) {set_parameter_value(q, pname, params[[pname]])}\n",
    "#   plot_obs_vs_calc(gaugeFlow, getRecorded(sim, var_id))\n",
    "# }\n",
    "\n",
    "# flows = swoop(sc, p, 'log_x4', var_id=var_id)\n",
    "\n",
    "# flows = swoop('log_x1')\n",
    "# flows = swoop('Alpha')\n",
    "# flows = merge(flows, gaugeFlow)\n",
    "# zoo::plot.zoo(flows, plot.type='single')\n",
    "# col=c('orange', 'black','blue','red')\n",
    "\n",
    "# f(...) {\n",
    "# params = list(...)\n",
    "# params\n",
    "# set_parameter_value(p, names(params), as.numeric(params))\n",
    "# applySysConfig(p, sc)\n",
    "# execSimulation(sc)\n",
    "# plot_obs_vs_calc(gaugeFlow, getRecorded(sc, var_id))\n",
    "# }"
   ]
  },
  {
   "cell_type": "markdown",
   "id": "65",
   "metadata": {},
   "source": [
    "## Whole of catchment calibration combining point gauges"
   ]
  },
  {
   "cell_type": "code",
   "execution_count": 50,
   "id": "66",
   "metadata": {
    "execution": {
     "iopub.execute_input": "2025-05-16T04:15:56.885488Z",
     "iopub.status.busy": "2025-05-16T04:15:56.885324Z",
     "iopub.status.idle": "2025-05-16T04:15:56.887647Z",
     "shell.execute_reply": "2025-05-16T04:15:56.887376Z"
    }
   },
   "outputs": [],
   "source": [
    "gauges = c( '92106', '592002', '18311', '93044',    '25',   '181')\n",
    "node_ids = paste0('node.', c('7',   '12',   '25',   '30',   '40',   '43'))\n",
    "node_gauges = OrderedDict([(node_ids[i], gauges[i]) for i in range(len(gauges))])\n",
    "# names(gauges) = node_ids"
   ]
  },
  {
   "cell_type": "code",
   "execution_count": 51,
   "id": "67",
   "metadata": {
    "execution": {
     "iopub.execute_input": "2025-05-16T04:15:56.888940Z",
     "iopub.status.busy": "2025-05-16T04:15:56.888672Z",
     "iopub.status.idle": "2025-05-16T04:15:56.890605Z",
     "shell.execute_reply": "2025-05-16T04:15:56.890334Z"
    }
   },
   "outputs": [],
   "source": [
    "calibNodes = paste0('node.', [\"7\",\"12\"])\n",
    "\n"
   ]
  },
  {
   "cell_type": "code",
   "execution_count": 52,
   "id": "68",
   "metadata": {
    "execution": {
     "iopub.execute_input": "2025-05-16T04:15:56.891868Z",
     "iopub.status.busy": "2025-05-16T04:15:56.891597Z",
     "iopub.status.idle": "2025-05-16T04:15:56.894121Z",
     "shell.execute_reply": "2025-05-16T04:15:56.893862Z"
    }
   },
   "outputs": [
    {
     "data": {
      "text/plain": [
       "'node.40'"
      ]
     },
     "execution_count": 52,
     "metadata": {},
     "output_type": "execute_result"
    }
   ],
   "source": [
    "element_id = first(sub_cats)[0]\n",
    "element_id"
   ]
  },
  {
   "cell_type": "code",
   "execution_count": 53,
   "id": "69",
   "metadata": {
    "execution": {
     "iopub.execute_input": "2025-05-16T04:15:56.895329Z",
     "iopub.status.busy": "2025-05-16T04:15:56.895199Z",
     "iopub.status.idle": "2025-05-16T04:15:56.897520Z",
     "shell.execute_reply": "2025-05-16T04:15:56.897232Z"
    }
   },
   "outputs": [],
   "source": [
    "gaugeId = [node_gauges[k] for k in calibNodes]\n",
    "gauge_flow = se_flows[gaugeId]"
   ]
  },
  {
   "cell_type": "code",
   "execution_count": 54,
   "id": "70",
   "metadata": {
    "execution": {
     "iopub.execute_input": "2025-05-16T04:15:56.898706Z",
     "iopub.status.busy": "2025-05-16T04:15:56.898564Z",
     "iopub.status.idle": "2025-05-16T04:15:56.900845Z",
     "shell.execute_reply": "2025-05-16T04:15:56.900520Z"
    }
   },
   "outputs": [],
   "source": [
    "sc = sub_cats[element_id]\n",
    "parameteriser.apply_sys_config(sc)\n",
    "\n",
    "var_id = paste0(calibNodes, '.OutflowRate')\n",
    "simulation.record_state(var_id)"
   ]
  },
  {
   "cell_type": "code",
   "execution_count": null,
   "id": "71",
   "metadata": {},
   "outputs": [],
   "source": []
  },
  {
   "cell_type": "code",
   "execution_count": 55,
   "id": "72",
   "metadata": {
    "execution": {
     "iopub.execute_input": "2025-05-16T04:15:56.902236Z",
     "iopub.status.busy": "2025-05-16T04:15:56.901957Z",
     "iopub.status.idle": "2025-05-16T04:15:56.933939Z",
     "shell.execute_reply": "2025-05-16T04:15:56.933403Z"
    },
    "lines_to_next_cell": 0
   },
   "outputs": [],
   "source": [
    "objectiveId = 'NSE'\n",
    "\n",
    "def create_obj_station(i:int):\n",
    "    obs = as_xarray_series(gauge_flow[[gaugeId[i]]])\n",
    "    return simulation.create_objective(var_id[i], obs, objectiveId, xr_ts_start(se_flows), xr_ts_end(se_flows))\n",
    "\n",
    "objectives = [create_obj_station(i) for i in [0,1]]\n",
    "\n",
    "co = ObjectiveEvaluator.create_composite_objective(objectives, [1.0,1.0], var_id[:2])"
   ]
  },
  {
   "cell_type": "code",
   "execution_count": 56,
   "id": "73",
   "metadata": {
    "execution": {
     "iopub.execute_input": "2025-05-16T04:15:56.935230Z",
     "iopub.status.busy": "2025-05-16T04:15:56.935110Z",
     "iopub.status.idle": "2025-05-16T04:15:56.969156Z",
     "shell.execute_reply": "2025-05-16T04:15:56.968640Z"
    },
    "lines_to_next_cell": 0
   },
   "outputs": [],
   "source": [
    "score = co.get_score(parameteriser) \n",
    "# scoresAsDataFrame(score)"
   ]
  },
  {
   "cell_type": "code",
   "execution_count": 57,
   "id": "74",
   "metadata": {
    "execution": {
     "iopub.execute_input": "2025-05-16T04:15:56.970358Z",
     "iopub.status.busy": "2025-05-16T04:15:56.970241Z",
     "iopub.status.idle": "2025-05-16T04:15:56.974032Z",
     "shell.execute_reply": "2025-05-16T04:15:56.973754Z"
    }
   },
   "outputs": [
    {
     "data": {
      "text/plain": [
       "{'scores': {'NSE:1.000000,NSE:1.000000': -255.57587357245515},\n",
       " 'sysconfig':                Name     Value       Min         Max\n",
       " 0            log_x4  0.305422  0.000000    2.380211\n",
       " 1            log_x1  0.506690  0.000000    3.778151\n",
       " 2            log_x3  0.315425  0.000000    3.000000\n",
       " 3          asinh_x2  0.000000 -3.989327    3.989327\n",
       " 4                R0  0.900000  0.000000    1.000000\n",
       " 5                S0  0.900000  0.000000    1.000000\n",
       " 6             alpha  1.000000  0.001000  100.000000\n",
       " 7  inverse_velocity  1.000000  0.001000  100.000000}"
      ]
     },
     "execution_count": 57,
     "metadata": {},
     "output_type": "execute_result"
    }
   ],
   "source": [
    "score"
   ]
  },
  {
   "cell_type": "code",
   "execution_count": null,
   "id": "75",
   "metadata": {},
   "outputs": [],
   "source": []
  }
 ],
 "metadata": {
  "jupytext": {
   "cell_metadata_filter": "tags,eval,name,-all",
   "formats": "ipynb,py:percent",
   "main_language": "R"
  },
  "kernelspec": {
   "display_name": "hydrofc",
   "language": "python",
   "name": "hydrofc"
  },
  "language_info": {
   "codemirror_mode": {
    "name": "ipython",
    "version": 3
   },
   "file_extension": ".py",
   "mimetype": "text/x-python",
   "name": "python",
   "nbconvert_exporter": "python",
   "pygments_lexer": "ipython3",
   "version": "3.11.11"
  }
 },
 "nbformat": 4,
 "nbformat_minor": 5
}
