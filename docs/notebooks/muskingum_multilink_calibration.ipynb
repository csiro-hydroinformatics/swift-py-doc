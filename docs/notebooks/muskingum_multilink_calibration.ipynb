{
 "cells": [
  {
   "cell_type": "markdown",
   "id": "living-keyboard",
   "metadata": {},
   "source": [
    "# Linear Muskingum channel routing model - constrained subcatchment calibration\n",
    "\n",
    "## Purpose\n",
    "\n",
    "This vignette focuses on explaining how to calibrate the linear version of Muskingum jointly across river reaches, respecting stability constraints across all these reaches. The second part of the document is an indepth explanation of the scheme that is also used as a reference for unit testing swift.\n",
    "\n",
    "## Guidelines for global calibration of Muskingum constrainted parameters"
   ]
  },
  {
   "cell_type": "code",
   "execution_count": 1,
   "id": "altered-valuable",
   "metadata": {
    "execution": {
     "iopub.execute_input": "2023-09-28T06:20:35.064919Z",
     "iopub.status.busy": "2023-09-28T06:20:35.064796Z",
     "iopub.status.idle": "2023-09-28T06:20:35.295603Z",
     "shell.execute_reply": "2023-09-28T06:20:35.295116Z"
    },
    "lines_to_next_cell": 2
   },
   "outputs": [],
   "source": [
    "import xarray as xr\n",
    "import pandas as pd\n",
    "import numpy as np\n",
    "import xarray as xr"
   ]
  },
  {
   "cell_type": "code",
   "execution_count": 2,
   "id": "voluntary-surge",
   "metadata": {
    "execution": {
     "iopub.execute_input": "2023-09-28T06:20:35.297846Z",
     "iopub.status.busy": "2023-09-28T06:20:35.297621Z",
     "iopub.status.idle": "2023-09-28T06:20:35.445780Z",
     "shell.execute_reply": "2023-09-28T06:20:35.445215Z"
    }
   },
   "outputs": [],
   "source": [
    "import swift2"
   ]
  },
  {
   "cell_type": "code",
   "execution_count": 3,
   "id": "described-boutique",
   "metadata": {
    "execution": {
     "iopub.execute_input": "2023-09-28T06:20:35.448028Z",
     "iopub.status.busy": "2023-09-28T06:20:35.447680Z",
     "iopub.status.idle": "2023-09-28T06:20:35.450860Z",
     "shell.execute_reply": "2023-09-28T06:20:35.450079Z"
    }
   },
   "outputs": [],
   "source": [
    "# Only temporary, under construction...\n",
    "import swift2.wrap.swift_wrap_generated as swg\n",
    "import swift2.wrap.swift_wrap_custom as swc"
   ]
  },
  {
   "cell_type": "code",
   "execution_count": 4,
   "id": "matched-responsibility",
   "metadata": {
    "execution": {
     "iopub.execute_input": "2023-09-28T06:20:35.452961Z",
     "iopub.status.busy": "2023-09-28T06:20:35.452533Z",
     "iopub.status.idle": "2023-09-28T06:20:35.463077Z",
     "shell.execute_reply": "2023-09-28T06:20:35.462566Z"
    }
   },
   "outputs": [],
   "source": [
    "from swift2.doc_helper import *\n",
    "\n",
    "from swift2.system import *\n",
    "from swift2.simulation import *\n",
    "from swift2.play_record import *\n",
    "from swift2.utils import *\n",
    "from swift2.parameteriser import *\n",
    "from swift2.statistics import *\n",
    "# from swift2.prototypes import extract_optimisation_log\n",
    "\n",
    "from uchronia.time_series import get_item\n",
    "\n"
   ]
  },
  {
   "cell_type": "code",
   "execution_count": 5,
   "id": "victorian-assumption",
   "metadata": {
    "execution": {
     "iopub.execute_input": "2023-09-28T06:20:35.465005Z",
     "iopub.status.busy": "2023-09-28T06:20:35.464824Z",
     "iopub.status.idle": "2023-09-28T06:20:35.906301Z",
     "shell.execute_reply": "2023-09-28T06:20:35.905831Z"
    }
   },
   "outputs": [],
   "source": [
    "import seaborn as sns\n",
    "import matplotlib.pyplot as plt"
   ]
  },
  {
   "cell_type": "code",
   "execution_count": 6,
   "id": "favorite-exhibition",
   "metadata": {
    "execution": {
     "iopub.execute_input": "2023-09-28T06:20:35.908446Z",
     "iopub.status.busy": "2023-09-28T06:20:35.908163Z",
     "iopub.status.idle": "2023-09-28T06:20:35.911196Z",
     "shell.execute_reply": "2023-09-28T06:20:35.910874Z"
    }
   },
   "outputs": [],
   "source": [
    "from cinterop.timeseries import TIME_DIMNAME, slice_xr_time_series, pd_series_to_xr_series, slice_xr_time_series, pd_series_to_xr_series"
   ]
  },
  {
   "cell_type": "code",
   "execution_count": 7,
   "id": "permanent-employment",
   "metadata": {
    "execution": {
     "iopub.execute_input": "2023-09-28T06:20:35.913056Z",
     "iopub.status.busy": "2023-09-28T06:20:35.912926Z",
     "iopub.status.idle": "2023-09-28T06:20:35.918752Z",
     "shell.execute_reply": "2023-09-28T06:20:35.918456Z"
    }
   },
   "outputs": [],
   "source": [
    "from cinterop.timeseries import xr_ts_start, xr_ts_end\n",
    "import datetime as dt"
   ]
  },
  {
   "cell_type": "code",
   "execution_count": 8,
   "id": "stunning-franklin",
   "metadata": {
    "execution": {
     "iopub.execute_input": "2023-09-28T06:20:35.920727Z",
     "iopub.status.busy": "2023-09-28T06:20:35.920583Z",
     "iopub.status.idle": "2023-09-28T06:20:35.926869Z",
     "shell.execute_reply": "2023-09-28T06:20:35.926541Z"
    }
   },
   "outputs": [],
   "source": [
    "%matplotlib inline"
   ]
  },
  {
   "cell_type": "markdown",
   "id": "loved-dallas",
   "metadata": {},
   "source": [
    "For this example we will use data derived from the South Esk catchment in Tasmania.\n",
    "\n",
    "## Baseline model structure\n",
    "\n",
    "We load and configure the model simulation in the next section, without detailed explanation; please read other introductory vignettes if this is unclear."
   ]
  },
  {
   "cell_type": "code",
   "execution_count": 9,
   "id": "opened-replication",
   "metadata": {
    "execution": {
     "iopub.execute_input": "2023-09-28T06:20:35.928655Z",
     "iopub.status.busy": "2023-09-28T06:20:35.928523Z",
     "iopub.status.idle": "2023-09-28T06:20:36.627178Z",
     "shell.execute_reply": "2023-09-28T06:20:36.626631Z"
    }
   },
   "outputs": [],
   "source": [
    "model_id = 'GR4J'\n",
    "site_id = 'South_Esk'\n",
    "simulation = sample_catchment_model(site_id=site_id, config_id='catchment')\n",
    "simulation = swap_model(simulation, 'MuskingumNonLinear', 'channel_routing')\n",
    "\n",
    "# # revert back to derfautl values as expected from sample simulation..\n",
    "# sc = 1 # reach slope in m/m\n",
    "# n = 1  # default Manning's parameter value for the reach\n",
    "# f = 1  # \"Fudge factor\" to allow for a different range of Alpha values. \n",
    "# oneHour = 1\n",
    "# delt = oneHour\n",
    "\n",
    "se_climate = sample_series(site_id=site_id, var_name='climate')\n",
    "se_flows = sample_series(site_id=site_id, var_name='flow')\n",
    "\n",
    "play_input(simulation, se_climate)\n",
    "set_simulation_span(simulation, xr_ts_start(se_climate), xr_ts_end(se_climate))\n",
    "set_simulation_time_step(simulation, 'hourly')\n",
    "configure_hourly_gr4j(simulation)"
   ]
  },
  {
   "cell_type": "markdown",
   "id": "north-enhancement",
   "metadata": {},
   "source": [
    "We can get a topologic view of the model setup (albeit crowded as this is a fairly large catchment). \n",
    "\n",
    "(Note: may not render yet through GitHub)"
   ]
  },
  {
   "cell_type": "code",
   "execution_count": 10,
   "id": "insured-score",
   "metadata": {
    "execution": {
     "iopub.execute_input": "2023-09-28T06:20:36.630151Z",
     "iopub.status.busy": "2023-09-28T06:20:36.629756Z",
     "iopub.status.idle": "2023-09-28T06:20:36.631921Z",
     "shell.execute_reply": "2023-09-28T06:20:36.631582Z"
    }
   },
   "outputs": [],
   "source": [
    "# TODO:\n",
    "# from graphviz import Digraph\n",
    "# DiagrammeR(GetCatchmentDOTGraph_R(simulation))"
   ]
  },
  {
   "cell_type": "markdown",
   "id": "ranking-seventh",
   "metadata": {},
   "source": [
    "We cookie cut to get a subcatchment near the headwaters."
   ]
  },
  {
   "cell_type": "code",
   "execution_count": 11,
   "id": "painted-invite",
   "metadata": {
    "execution": {
     "iopub.execute_input": "2023-09-28T06:20:36.633695Z",
     "iopub.status.busy": "2023-09-28T06:20:36.633465Z",
     "iopub.status.idle": "2023-09-28T06:20:36.641629Z",
     "shell.execute_reply": "2023-09-28T06:20:36.641331Z"
    }
   },
   "outputs": [
    {
     "data": {
      "text/plain": [
       "Simulation wrapper for a CFFI pointer handle to a native pointer of type id \"MODEL_SIMULATION_PTR\""
      ]
     },
     "execution_count": 11,
     "metadata": {},
     "output_type": "execute_result"
    }
   ],
   "source": [
    "from swift2.model_definitions import *\n",
    "# from graphviz import Digraph\n",
    "\n",
    "subsim = subset_catchment(simulation, 'node.5')\n",
    "subsim"
   ]
  },
  {
   "cell_type": "code",
   "execution_count": 12,
   "id": "dominican-campbell",
   "metadata": {
    "execution": {
     "iopub.execute_input": "2023-09-28T06:20:36.643328Z",
     "iopub.status.busy": "2023-09-28T06:20:36.643103Z",
     "iopub.status.idle": "2023-09-28T06:20:36.645908Z",
     "shell.execute_reply": "2023-09-28T06:20:36.645524Z"
    }
   },
   "outputs": [],
   "source": [
    "dot_graph = swg.GetCatchmentDOTGraph_py(subsim)"
   ]
  },
  {
   "cell_type": "markdown",
   "id": "independent-secretary",
   "metadata": {},
   "source": [
    "We configure the routing scheme to be linear (parameter N set and fixed to 1)"
   ]
  },
  {
   "cell_type": "code",
   "execution_count": 13,
   "id": "employed-drain",
   "metadata": {
    "execution": {
     "iopub.execute_input": "2023-09-28T06:20:36.647682Z",
     "iopub.status.busy": "2023-09-28T06:20:36.647436Z",
     "iopub.status.idle": "2023-09-28T06:20:36.653796Z",
     "shell.execute_reply": "2023-09-28T06:20:36.653482Z"
    }
   },
   "outputs": [],
   "source": [
    "link_ids = mk_full_data_id('link', get_link_ids(subsim))\n",
    "set_state_value(subsim, mk_full_data_id(link_ids, 'N'), rep(1.0, len(link_ids)))"
   ]
  },
  {
   "cell_type": "markdown",
   "id": "opening-collaboration",
   "metadata": {},
   "source": [
    "Let's have a look at the link properties and other default routing parameters"
   ]
  },
  {
   "cell_type": "code",
   "execution_count": 14,
   "id": "frozen-harmony",
   "metadata": {
    "execution": {
     "iopub.execute_input": "2023-09-28T06:20:36.655798Z",
     "iopub.status.busy": "2023-09-28T06:20:36.655372Z",
     "iopub.status.idle": "2023-09-28T06:20:36.658620Z",
     "shell.execute_reply": "2023-09-28T06:20:36.658316Z"
    }
   },
   "outputs": [
    {
     "data": {
      "text/plain": [
       "{'link.1.Length': 6140.0,\n",
       " 'link.1.f': 1.0,\n",
       " 'link.1.ManningsN': 1.0,\n",
       " 'link.1.Slope': 1.0,\n",
       " 'link.1.N': 1.0,\n",
       " 'link.1.X': 0.1,\n",
       " 'link.1.Alpha': 1.0}"
      ]
     },
     "execution_count": 14,
     "metadata": {},
     "output_type": "execute_result"
    }
   ],
   "source": [
    "lnkpnames = ['Length', 'f', 'ManningsN', 'Slope', 'N', 'X', 'Alpha']\n",
    "get_state_value(subsim,mk_full_data_id('link.1', lnkpnames))"
   ]
  },
  {
   "cell_type": "markdown",
   "id": "eleven-mobile",
   "metadata": {},
   "source": [
    "X is between 0 and 0.5, without stability constraints. Setting a default Alpha is... trickier."
   ]
  },
  {
   "cell_type": "code",
   "execution_count": 15,
   "id": "english-kruger",
   "metadata": {
    "execution": {
     "iopub.execute_input": "2023-09-28T06:20:36.660579Z",
     "iopub.status.busy": "2023-09-28T06:20:36.660438Z",
     "iopub.status.idle": "2023-09-28T06:20:36.663066Z",
     "shell.execute_reply": "2023-09-28T06:20:36.662758Z"
    }
   },
   "outputs": [],
   "source": [
    "set_state_value(subsim, mk_full_data_id(link_ids, 'X'), rep(1e-6, len(link_ids)))\n",
    "set_state_value(subsim, mk_full_data_id(link_ids, 'Alpha'), rep(0.0005, len(link_ids)))"
   ]
  },
  {
   "cell_type": "markdown",
   "id": "liberal-oxide",
   "metadata": {},
   "source": [
    "If we look at the subcatchment outflow in this configuration, it is a series of unfeasible values - at least one link was in an unfeasible zone for (Alpha, X)"
   ]
  },
  {
   "cell_type": "code",
   "execution_count": 16,
   "id": "universal-equity",
   "metadata": {
    "execution": {
     "iopub.execute_input": "2023-09-28T06:20:36.664762Z",
     "iopub.status.busy": "2023-09-28T06:20:36.664628Z",
     "iopub.status.idle": "2023-09-28T06:20:36.671506Z",
     "shell.execute_reply": "2023-09-28T06:20:36.670966Z"
    }
   },
   "outputs": [],
   "source": [
    "from swift2.const import CATCHMENT_FLOWRATE_VARID\n",
    "var_id = CATCHMENT_FLOWRATE_VARID\n",
    "catOutflowId = 'subarea.1.OutflowRate'\n",
    "\n",
    "record_state(subsim,var_id)\n",
    "record_state(subsim,catOutflowId)\n",
    "\n",
    "exec_simulation(subsim)\n",
    "someFlow = get_recorded(subsim, var_id)"
   ]
  },
  {
   "cell_type": "code",
   "execution_count": 17,
   "id": "invisible-mercy",
   "metadata": {
    "execution": {
     "iopub.execute_input": "2023-09-28T06:20:36.673545Z",
     "iopub.status.busy": "2023-09-28T06:20:36.673279Z",
     "iopub.status.idle": "2023-09-28T06:20:36.680888Z",
     "shell.execute_reply": "2023-09-28T06:20:36.680560Z"
    }
   },
   "outputs": [
    {
     "data": {
      "text/html": [
       "<div><svg style=\"position: absolute; width: 0; height: 0; overflow: hidden\">\n",
       "<defs>\n",
       "<symbol id=\"icon-database\" viewBox=\"0 0 32 32\">\n",
       "<path d=\"M16 0c-8.837 0-16 2.239-16 5v4c0 2.761 7.163 5 16 5s16-2.239 16-5v-4c0-2.761-7.163-5-16-5z\"></path>\n",
       "<path d=\"M16 17c-8.837 0-16-2.239-16-5v6c0 2.761 7.163 5 16 5s16-2.239 16-5v-6c0 2.761-7.163 5-16 5z\"></path>\n",
       "<path d=\"M16 26c-8.837 0-16-2.239-16-5v6c0 2.761 7.163 5 16 5s16-2.239 16-5v-6c0 2.761-7.163 5-16 5z\"></path>\n",
       "</symbol>\n",
       "<symbol id=\"icon-file-text2\" viewBox=\"0 0 32 32\">\n",
       "<path d=\"M28.681 7.159c-0.694-0.947-1.662-2.053-2.724-3.116s-2.169-2.030-3.116-2.724c-1.612-1.182-2.393-1.319-2.841-1.319h-15.5c-1.378 0-2.5 1.121-2.5 2.5v27c0 1.378 1.122 2.5 2.5 2.5h23c1.378 0 2.5-1.122 2.5-2.5v-19.5c0-0.448-0.137-1.23-1.319-2.841zM24.543 5.457c0.959 0.959 1.712 1.825 2.268 2.543h-4.811v-4.811c0.718 0.556 1.584 1.309 2.543 2.268zM28 29.5c0 0.271-0.229 0.5-0.5 0.5h-23c-0.271 0-0.5-0.229-0.5-0.5v-27c0-0.271 0.229-0.5 0.5-0.5 0 0 15.499-0 15.5 0v7c0 0.552 0.448 1 1 1h7v19.5z\"></path>\n",
       "<path d=\"M23 26h-14c-0.552 0-1-0.448-1-1s0.448-1 1-1h14c0.552 0 1 0.448 1 1s-0.448 1-1 1z\"></path>\n",
       "<path d=\"M23 22h-14c-0.552 0-1-0.448-1-1s0.448-1 1-1h14c0.552 0 1 0.448 1 1s-0.448 1-1 1z\"></path>\n",
       "<path d=\"M23 18h-14c-0.552 0-1-0.448-1-1s0.448-1 1-1h14c0.552 0 1 0.448 1 1s-0.448 1-1 1z\"></path>\n",
       "</symbol>\n",
       "</defs>\n",
       "</svg>\n",
       "<style>/* CSS stylesheet for displaying xarray objects in jupyterlab.\n",
       " *\n",
       " */\n",
       "\n",
       ":root {\n",
       "  --xr-font-color0: var(--jp-content-font-color0, rgba(0, 0, 0, 1));\n",
       "  --xr-font-color2: var(--jp-content-font-color2, rgba(0, 0, 0, 0.54));\n",
       "  --xr-font-color3: var(--jp-content-font-color3, rgba(0, 0, 0, 0.38));\n",
       "  --xr-border-color: var(--jp-border-color2, #e0e0e0);\n",
       "  --xr-disabled-color: var(--jp-layout-color3, #bdbdbd);\n",
       "  --xr-background-color: var(--jp-layout-color0, white);\n",
       "  --xr-background-color-row-even: var(--jp-layout-color1, white);\n",
       "  --xr-background-color-row-odd: var(--jp-layout-color2, #eeeeee);\n",
       "}\n",
       "\n",
       "html[theme=dark],\n",
       "body[data-theme=dark],\n",
       "body.vscode-dark {\n",
       "  --xr-font-color0: rgba(255, 255, 255, 1);\n",
       "  --xr-font-color2: rgba(255, 255, 255, 0.54);\n",
       "  --xr-font-color3: rgba(255, 255, 255, 0.38);\n",
       "  --xr-border-color: #1F1F1F;\n",
       "  --xr-disabled-color: #515151;\n",
       "  --xr-background-color: #111111;\n",
       "  --xr-background-color-row-even: #111111;\n",
       "  --xr-background-color-row-odd: #313131;\n",
       "}\n",
       "\n",
       ".xr-wrap {\n",
       "  display: block !important;\n",
       "  min-width: 300px;\n",
       "  max-width: 700px;\n",
       "}\n",
       "\n",
       ".xr-text-repr-fallback {\n",
       "  /* fallback to plain text repr when CSS is not injected (untrusted notebook) */\n",
       "  display: none;\n",
       "}\n",
       "\n",
       ".xr-header {\n",
       "  padding-top: 6px;\n",
       "  padding-bottom: 6px;\n",
       "  margin-bottom: 4px;\n",
       "  border-bottom: solid 1px var(--xr-border-color);\n",
       "}\n",
       "\n",
       ".xr-header > div,\n",
       ".xr-header > ul {\n",
       "  display: inline;\n",
       "  margin-top: 0;\n",
       "  margin-bottom: 0;\n",
       "}\n",
       "\n",
       ".xr-obj-type,\n",
       ".xr-array-name {\n",
       "  margin-left: 2px;\n",
       "  margin-right: 10px;\n",
       "}\n",
       "\n",
       ".xr-obj-type {\n",
       "  color: var(--xr-font-color2);\n",
       "}\n",
       "\n",
       ".xr-sections {\n",
       "  padding-left: 0 !important;\n",
       "  display: grid;\n",
       "  grid-template-columns: 150px auto auto 1fr 20px 20px;\n",
       "}\n",
       "\n",
       ".xr-section-item {\n",
       "  display: contents;\n",
       "}\n",
       "\n",
       ".xr-section-item input {\n",
       "  display: none;\n",
       "}\n",
       "\n",
       ".xr-section-item input + label {\n",
       "  color: var(--xr-disabled-color);\n",
       "}\n",
       "\n",
       ".xr-section-item input:enabled + label {\n",
       "  cursor: pointer;\n",
       "  color: var(--xr-font-color2);\n",
       "}\n",
       "\n",
       ".xr-section-item input:enabled + label:hover {\n",
       "  color: var(--xr-font-color0);\n",
       "}\n",
       "\n",
       ".xr-section-summary {\n",
       "  grid-column: 1;\n",
       "  color: var(--xr-font-color2);\n",
       "  font-weight: 500;\n",
       "}\n",
       "\n",
       ".xr-section-summary > span {\n",
       "  display: inline-block;\n",
       "  padding-left: 0.5em;\n",
       "}\n",
       "\n",
       ".xr-section-summary-in:disabled + label {\n",
       "  color: var(--xr-font-color2);\n",
       "}\n",
       "\n",
       ".xr-section-summary-in + label:before {\n",
       "  display: inline-block;\n",
       "  content: '►';\n",
       "  font-size: 11px;\n",
       "  width: 15px;\n",
       "  text-align: center;\n",
       "}\n",
       "\n",
       ".xr-section-summary-in:disabled + label:before {\n",
       "  color: var(--xr-disabled-color);\n",
       "}\n",
       "\n",
       ".xr-section-summary-in:checked + label:before {\n",
       "  content: '▼';\n",
       "}\n",
       "\n",
       ".xr-section-summary-in:checked + label > span {\n",
       "  display: none;\n",
       "}\n",
       "\n",
       ".xr-section-summary,\n",
       ".xr-section-inline-details {\n",
       "  padding-top: 4px;\n",
       "  padding-bottom: 4px;\n",
       "}\n",
       "\n",
       ".xr-section-inline-details {\n",
       "  grid-column: 2 / -1;\n",
       "}\n",
       "\n",
       ".xr-section-details {\n",
       "  display: none;\n",
       "  grid-column: 1 / -1;\n",
       "  margin-bottom: 5px;\n",
       "}\n",
       "\n",
       ".xr-section-summary-in:checked ~ .xr-section-details {\n",
       "  display: contents;\n",
       "}\n",
       "\n",
       ".xr-array-wrap {\n",
       "  grid-column: 1 / -1;\n",
       "  display: grid;\n",
       "  grid-template-columns: 20px auto;\n",
       "}\n",
       "\n",
       ".xr-array-wrap > label {\n",
       "  grid-column: 1;\n",
       "  vertical-align: top;\n",
       "}\n",
       "\n",
       ".xr-preview {\n",
       "  color: var(--xr-font-color3);\n",
       "}\n",
       "\n",
       ".xr-array-preview,\n",
       ".xr-array-data {\n",
       "  padding: 0 5px !important;\n",
       "  grid-column: 2;\n",
       "}\n",
       "\n",
       ".xr-array-data,\n",
       ".xr-array-in:checked ~ .xr-array-preview {\n",
       "  display: none;\n",
       "}\n",
       "\n",
       ".xr-array-in:checked ~ .xr-array-data,\n",
       ".xr-array-preview {\n",
       "  display: inline-block;\n",
       "}\n",
       "\n",
       ".xr-dim-list {\n",
       "  display: inline-block !important;\n",
       "  list-style: none;\n",
       "  padding: 0 !important;\n",
       "  margin: 0;\n",
       "}\n",
       "\n",
       ".xr-dim-list li {\n",
       "  display: inline-block;\n",
       "  padding: 0;\n",
       "  margin: 0;\n",
       "}\n",
       "\n",
       ".xr-dim-list:before {\n",
       "  content: '(';\n",
       "}\n",
       "\n",
       ".xr-dim-list:after {\n",
       "  content: ')';\n",
       "}\n",
       "\n",
       ".xr-dim-list li:not(:last-child):after {\n",
       "  content: ',';\n",
       "  padding-right: 5px;\n",
       "}\n",
       "\n",
       ".xr-has-index {\n",
       "  font-weight: bold;\n",
       "}\n",
       "\n",
       ".xr-var-list,\n",
       ".xr-var-item {\n",
       "  display: contents;\n",
       "}\n",
       "\n",
       ".xr-var-item > div,\n",
       ".xr-var-item label,\n",
       ".xr-var-item > .xr-var-name span {\n",
       "  background-color: var(--xr-background-color-row-even);\n",
       "  margin-bottom: 0;\n",
       "}\n",
       "\n",
       ".xr-var-item > .xr-var-name:hover span {\n",
       "  padding-right: 5px;\n",
       "}\n",
       "\n",
       ".xr-var-list > li:nth-child(odd) > div,\n",
       ".xr-var-list > li:nth-child(odd) > label,\n",
       ".xr-var-list > li:nth-child(odd) > .xr-var-name span {\n",
       "  background-color: var(--xr-background-color-row-odd);\n",
       "}\n",
       "\n",
       ".xr-var-name {\n",
       "  grid-column: 1;\n",
       "}\n",
       "\n",
       ".xr-var-dims {\n",
       "  grid-column: 2;\n",
       "}\n",
       "\n",
       ".xr-var-dtype {\n",
       "  grid-column: 3;\n",
       "  text-align: right;\n",
       "  color: var(--xr-font-color2);\n",
       "}\n",
       "\n",
       ".xr-var-preview {\n",
       "  grid-column: 4;\n",
       "}\n",
       "\n",
       ".xr-index-preview {\n",
       "  grid-column: 2 / 5;\n",
       "  color: var(--xr-font-color2);\n",
       "}\n",
       "\n",
       ".xr-var-name,\n",
       ".xr-var-dims,\n",
       ".xr-var-dtype,\n",
       ".xr-preview,\n",
       ".xr-attrs dt {\n",
       "  white-space: nowrap;\n",
       "  overflow: hidden;\n",
       "  text-overflow: ellipsis;\n",
       "  padding-right: 10px;\n",
       "}\n",
       "\n",
       ".xr-var-name:hover,\n",
       ".xr-var-dims:hover,\n",
       ".xr-var-dtype:hover,\n",
       ".xr-attrs dt:hover {\n",
       "  overflow: visible;\n",
       "  width: auto;\n",
       "  z-index: 1;\n",
       "}\n",
       "\n",
       ".xr-var-attrs,\n",
       ".xr-var-data,\n",
       ".xr-index-data {\n",
       "  display: none;\n",
       "  background-color: var(--xr-background-color) !important;\n",
       "  padding-bottom: 5px !important;\n",
       "}\n",
       "\n",
       ".xr-var-attrs-in:checked ~ .xr-var-attrs,\n",
       ".xr-var-data-in:checked ~ .xr-var-data,\n",
       ".xr-index-data-in:checked ~ .xr-index-data {\n",
       "  display: block;\n",
       "}\n",
       "\n",
       ".xr-var-data > table {\n",
       "  float: right;\n",
       "}\n",
       "\n",
       ".xr-var-name span,\n",
       ".xr-var-data,\n",
       ".xr-index-name div,\n",
       ".xr-index-data,\n",
       ".xr-attrs {\n",
       "  padding-left: 25px !important;\n",
       "}\n",
       "\n",
       ".xr-attrs,\n",
       ".xr-var-attrs,\n",
       ".xr-var-data,\n",
       ".xr-index-data {\n",
       "  grid-column: 1 / -1;\n",
       "}\n",
       "\n",
       "dl.xr-attrs {\n",
       "  padding: 0;\n",
       "  margin: 0;\n",
       "  display: grid;\n",
       "  grid-template-columns: 125px auto;\n",
       "}\n",
       "\n",
       ".xr-attrs dt,\n",
       ".xr-attrs dd {\n",
       "  padding: 0;\n",
       "  margin: 0;\n",
       "  float: left;\n",
       "  padding-right: 10px;\n",
       "  width: auto;\n",
       "}\n",
       "\n",
       ".xr-attrs dt {\n",
       "  font-weight: normal;\n",
       "  grid-column: 1;\n",
       "}\n",
       "\n",
       ".xr-attrs dt:hover span {\n",
       "  display: inline-block;\n",
       "  background: var(--xr-background-color);\n",
       "  padding-right: 10px;\n",
       "}\n",
       "\n",
       ".xr-attrs dd {\n",
       "  grid-column: 2;\n",
       "  white-space: pre-wrap;\n",
       "  word-break: break-all;\n",
       "}\n",
       "\n",
       ".xr-icon-database,\n",
       ".xr-icon-file-text2,\n",
       ".xr-no-icon {\n",
       "  display: inline-block;\n",
       "  vertical-align: middle;\n",
       "  width: 1em;\n",
       "  height: 1.5em !important;\n",
       "  stroke-width: 0;\n",
       "  stroke: currentColor;\n",
       "  fill: currentColor;\n",
       "}\n",
       "</style><pre class='xr-text-repr-fallback'>&lt;xarray.DataArray (variable_identifiers: 1, ensemble: 1, time: 5)&gt;\n",
       "array([[[0., 0., 0., 0., 0.]]])\n",
       "Coordinates:\n",
       "  * ensemble              (ensemble) int64 0\n",
       "  * time                  (time) datetime64[ns] 2010-11-01 ... 2010-11-01T04:...\n",
       "  * variable_identifiers  (variable_identifiers) object &#x27;Catchment.Streamflow...</pre><div class='xr-wrap' style='display:none'><div class='xr-header'><div class='xr-obj-type'>xarray.DataArray</div><div class='xr-array-name'></div><ul class='xr-dim-list'><li><span class='xr-has-index'>variable_identifiers</span>: 1</li><li><span class='xr-has-index'>ensemble</span>: 1</li><li><span class='xr-has-index'>time</span>: 5</li></ul></div><ul class='xr-sections'><li class='xr-section-item'><div class='xr-array-wrap'><input id='section-ed77003e-9027-499d-afc7-f632e7f945d0' class='xr-array-in' type='checkbox' checked><label for='section-ed77003e-9027-499d-afc7-f632e7f945d0' title='Show/hide data repr'><svg class='icon xr-icon-database'><use xlink:href='#icon-database'></use></svg></label><div class='xr-array-preview xr-preview'><span>0.0 0.0 0.0 0.0 0.0</span></div><div class='xr-array-data'><pre>array([[[0., 0., 0., 0., 0.]]])</pre></div></div></li><li class='xr-section-item'><input id='section-f9faddda-5542-4526-a2da-696bc39b9cd9' class='xr-section-summary-in' type='checkbox'  checked><label for='section-f9faddda-5542-4526-a2da-696bc39b9cd9' class='xr-section-summary' >Coordinates: <span>(3)</span></label><div class='xr-section-inline-details'></div><div class='xr-section-details'><ul class='xr-var-list'><li class='xr-var-item'><div class='xr-var-name'><span class='xr-has-index'>ensemble</span></div><div class='xr-var-dims'>(ensemble)</div><div class='xr-var-dtype'>int64</div><div class='xr-var-preview xr-preview'>0</div><input id='attrs-86b0720c-1216-4131-95b3-e0620dd20f82' class='xr-var-attrs-in' type='checkbox' disabled><label for='attrs-86b0720c-1216-4131-95b3-e0620dd20f82' title='Show/Hide attributes'><svg class='icon xr-icon-file-text2'><use xlink:href='#icon-file-text2'></use></svg></label><input id='data-c44ac5e4-1468-4179-b8c2-acf83626219f' class='xr-var-data-in' type='checkbox'><label for='data-c44ac5e4-1468-4179-b8c2-acf83626219f' title='Show/Hide data repr'><svg class='icon xr-icon-database'><use xlink:href='#icon-database'></use></svg></label><div class='xr-var-attrs'><dl class='xr-attrs'></dl></div><div class='xr-var-data'><pre>array([0])</pre></div></li><li class='xr-var-item'><div class='xr-var-name'><span class='xr-has-index'>time</span></div><div class='xr-var-dims'>(time)</div><div class='xr-var-dtype'>datetime64[ns]</div><div class='xr-var-preview xr-preview'>2010-11-01 ... 2010-11-01T04:00:00</div><input id='attrs-ebf27750-825d-4be9-b454-092a6e4ee79f' class='xr-var-attrs-in' type='checkbox' disabled><label for='attrs-ebf27750-825d-4be9-b454-092a6e4ee79f' title='Show/Hide attributes'><svg class='icon xr-icon-file-text2'><use xlink:href='#icon-file-text2'></use></svg></label><input id='data-395d0f11-f8ce-4df3-a84d-19ea5f84840c' class='xr-var-data-in' type='checkbox'><label for='data-395d0f11-f8ce-4df3-a84d-19ea5f84840c' title='Show/Hide data repr'><svg class='icon xr-icon-database'><use xlink:href='#icon-database'></use></svg></label><div class='xr-var-attrs'><dl class='xr-attrs'></dl></div><div class='xr-var-data'><pre>array([&#x27;2010-11-01T00:00:00.000000000&#x27;, &#x27;2010-11-01T01:00:00.000000000&#x27;,\n",
       "       &#x27;2010-11-01T02:00:00.000000000&#x27;, &#x27;2010-11-01T03:00:00.000000000&#x27;,\n",
       "       &#x27;2010-11-01T04:00:00.000000000&#x27;], dtype=&#x27;datetime64[ns]&#x27;)</pre></div></li><li class='xr-var-item'><div class='xr-var-name'><span class='xr-has-index'>variable_identifiers</span></div><div class='xr-var-dims'>(variable_identifiers)</div><div class='xr-var-dtype'>object</div><div class='xr-var-preview xr-preview'>&#x27;Catchment.StreamflowRate&#x27;</div><input id='attrs-6f4a940f-153c-4fe9-b72d-a090a05c7f7b' class='xr-var-attrs-in' type='checkbox' disabled><label for='attrs-6f4a940f-153c-4fe9-b72d-a090a05c7f7b' title='Show/Hide attributes'><svg class='icon xr-icon-file-text2'><use xlink:href='#icon-file-text2'></use></svg></label><input id='data-fafe6258-d084-437b-9e26-49810f0382f8' class='xr-var-data-in' type='checkbox'><label for='data-fafe6258-d084-437b-9e26-49810f0382f8' title='Show/Hide data repr'><svg class='icon xr-icon-database'><use xlink:href='#icon-database'></use></svg></label><div class='xr-var-attrs'><dl class='xr-attrs'></dl></div><div class='xr-var-data'><pre>array([&#x27;Catchment.StreamflowRate&#x27;], dtype=object)</pre></div></li></ul></div></li><li class='xr-section-item'><input id='section-bbdc9956-00ac-440b-93fa-35df6121f077' class='xr-section-summary-in' type='checkbox'  ><label for='section-bbdc9956-00ac-440b-93fa-35df6121f077' class='xr-section-summary' >Indexes: <span>(3)</span></label><div class='xr-section-inline-details'></div><div class='xr-section-details'><ul class='xr-var-list'><li class='xr-var-item'><div class='xr-index-name'><div>ensemble</div></div><div class='xr-index-preview'>PandasIndex</div><div></div><input id='index-43a7f10a-20cc-41e9-b812-374df581a999' class='xr-index-data-in' type='checkbox'/><label for='index-43a7f10a-20cc-41e9-b812-374df581a999' title='Show/Hide index repr'><svg class='icon xr-icon-database'><use xlink:href='#icon-database'></use></svg></label><div class='xr-index-data'><pre>PandasIndex(Int64Index([0], dtype=&#x27;int64&#x27;, name=&#x27;ensemble&#x27;))</pre></div></li><li class='xr-var-item'><div class='xr-index-name'><div>time</div></div><div class='xr-index-preview'>PandasIndex</div><div></div><input id='index-542fd703-18fc-4477-8799-8708b4ffeeb9' class='xr-index-data-in' type='checkbox'/><label for='index-542fd703-18fc-4477-8799-8708b4ffeeb9' title='Show/Hide index repr'><svg class='icon xr-icon-database'><use xlink:href='#icon-database'></use></svg></label><div class='xr-index-data'><pre>PandasIndex(DatetimeIndex([&#x27;2010-11-01 00:00:00&#x27;, &#x27;2010-11-01 01:00:00&#x27;,\n",
       "               &#x27;2010-11-01 02:00:00&#x27;, &#x27;2010-11-01 03:00:00&#x27;,\n",
       "               &#x27;2010-11-01 04:00:00&#x27;],\n",
       "              dtype=&#x27;datetime64[ns]&#x27;, name=&#x27;time&#x27;, freq=&#x27;H&#x27;))</pre></div></li><li class='xr-var-item'><div class='xr-index-name'><div>variable_identifiers</div></div><div class='xr-index-preview'>PandasIndex</div><div></div><input id='index-edbf6beb-6f99-4eeb-afd3-a4bb7d9b2f19' class='xr-index-data-in' type='checkbox'/><label for='index-edbf6beb-6f99-4eeb-afd3-a4bb7d9b2f19' title='Show/Hide index repr'><svg class='icon xr-icon-database'><use xlink:href='#icon-database'></use></svg></label><div class='xr-index-data'><pre>PandasIndex(Index([&#x27;Catchment.StreamflowRate&#x27;], dtype=&#x27;object&#x27;, name=&#x27;variable_identifiers&#x27;))</pre></div></li></ul></div></li><li class='xr-section-item'><input id='section-12be6184-3a7e-4d40-ade0-c63007121c9a' class='xr-section-summary-in' type='checkbox' disabled ><label for='section-12be6184-3a7e-4d40-ade0-c63007121c9a' class='xr-section-summary'  title='Expand/collapse section'>Attributes: <span>(0)</span></label><div class='xr-section-inline-details'></div><div class='xr-section-details'><dl class='xr-attrs'></dl></div></li></ul></div></div>"
      ],
      "text/plain": [
       "<xarray.DataArray (variable_identifiers: 1, ensemble: 1, time: 5)>\n",
       "array([[[0., 0., 0., 0., 0.]]])\n",
       "Coordinates:\n",
       "  * ensemble              (ensemble) int64 0\n",
       "  * time                  (time) datetime64[ns] 2010-11-01 ... 2010-11-01T04:...\n",
       "  * variable_identifiers  (variable_identifiers) object 'Catchment.Streamflow..."
      ]
     },
     "execution_count": 17,
     "metadata": {},
     "output_type": "execute_result"
    }
   ],
   "source": [
    "someFlow.head()"
   ]
  },
  {
   "cell_type": "markdown",
   "id": "transsexual-alabama",
   "metadata": {},
   "source": [
    "We can double-check that the subarea does produce runoff yield; the links are where the model does not work yet."
   ]
  },
  {
   "cell_type": "code",
   "execution_count": 18,
   "id": "creative-swaziland",
   "metadata": {
    "execution": {
     "iopub.execute_input": "2023-09-28T06:20:36.682701Z",
     "iopub.status.busy": "2023-09-28T06:20:36.682440Z",
     "iopub.status.idle": "2023-09-28T06:20:36.687369Z",
     "shell.execute_reply": "2023-09-28T06:20:36.686995Z"
    }
   },
   "outputs": [
    {
     "data": {
      "text/plain": [
       "{'node.5.InflowRate': 7.942047038196456e-05,\n",
       " 'node.5.InflowVolume': 0.28591369337507244,\n",
       " 'node.5.AdditionalInflowRate': 0.0,\n",
       " 'node.5.OutflowRate': 7.942047038196456e-05,\n",
       " 'node.5.OutflowVolume': 0.28591369337507244}"
      ]
     },
     "execution_count": 18,
     "metadata": {},
     "output_type": "execute_result"
    }
   ],
   "source": [
    "get_state_value(subsim, get_variable_ids(subsim, 'node.5'))"
   ]
  },
  {
   "cell_type": "code",
   "execution_count": 19,
   "id": "structured-teens",
   "metadata": {
    "execution": {
     "iopub.execute_input": "2023-09-28T06:20:36.689287Z",
     "iopub.status.busy": "2023-09-28T06:20:36.689017Z",
     "iopub.status.idle": "2023-09-28T06:20:36.697636Z",
     "shell.execute_reply": "2023-09-28T06:20:36.697333Z"
    }
   },
   "outputs": [
    {
     "data": {
      "text/html": [
       "<div><svg style=\"position: absolute; width: 0; height: 0; overflow: hidden\">\n",
       "<defs>\n",
       "<symbol id=\"icon-database\" viewBox=\"0 0 32 32\">\n",
       "<path d=\"M16 0c-8.837 0-16 2.239-16 5v4c0 2.761 7.163 5 16 5s16-2.239 16-5v-4c0-2.761-7.163-5-16-5z\"></path>\n",
       "<path d=\"M16 17c-8.837 0-16-2.239-16-5v6c0 2.761 7.163 5 16 5s16-2.239 16-5v-6c0 2.761-7.163 5-16 5z\"></path>\n",
       "<path d=\"M16 26c-8.837 0-16-2.239-16-5v6c0 2.761 7.163 5 16 5s16-2.239 16-5v-6c0 2.761-7.163 5-16 5z\"></path>\n",
       "</symbol>\n",
       "<symbol id=\"icon-file-text2\" viewBox=\"0 0 32 32\">\n",
       "<path d=\"M28.681 7.159c-0.694-0.947-1.662-2.053-2.724-3.116s-2.169-2.030-3.116-2.724c-1.612-1.182-2.393-1.319-2.841-1.319h-15.5c-1.378 0-2.5 1.121-2.5 2.5v27c0 1.378 1.122 2.5 2.5 2.5h23c1.378 0 2.5-1.122 2.5-2.5v-19.5c0-0.448-0.137-1.23-1.319-2.841zM24.543 5.457c0.959 0.959 1.712 1.825 2.268 2.543h-4.811v-4.811c0.718 0.556 1.584 1.309 2.543 2.268zM28 29.5c0 0.271-0.229 0.5-0.5 0.5h-23c-0.271 0-0.5-0.229-0.5-0.5v-27c0-0.271 0.229-0.5 0.5-0.5 0 0 15.499-0 15.5 0v7c0 0.552 0.448 1 1 1h7v19.5z\"></path>\n",
       "<path d=\"M23 26h-14c-0.552 0-1-0.448-1-1s0.448-1 1-1h14c0.552 0 1 0.448 1 1s-0.448 1-1 1z\"></path>\n",
       "<path d=\"M23 22h-14c-0.552 0-1-0.448-1-1s0.448-1 1-1h14c0.552 0 1 0.448 1 1s-0.448 1-1 1z\"></path>\n",
       "<path d=\"M23 18h-14c-0.552 0-1-0.448-1-1s0.448-1 1-1h14c0.552 0 1 0.448 1 1s-0.448 1-1 1z\"></path>\n",
       "</symbol>\n",
       "</defs>\n",
       "</svg>\n",
       "<style>/* CSS stylesheet for displaying xarray objects in jupyterlab.\n",
       " *\n",
       " */\n",
       "\n",
       ":root {\n",
       "  --xr-font-color0: var(--jp-content-font-color0, rgba(0, 0, 0, 1));\n",
       "  --xr-font-color2: var(--jp-content-font-color2, rgba(0, 0, 0, 0.54));\n",
       "  --xr-font-color3: var(--jp-content-font-color3, rgba(0, 0, 0, 0.38));\n",
       "  --xr-border-color: var(--jp-border-color2, #e0e0e0);\n",
       "  --xr-disabled-color: var(--jp-layout-color3, #bdbdbd);\n",
       "  --xr-background-color: var(--jp-layout-color0, white);\n",
       "  --xr-background-color-row-even: var(--jp-layout-color1, white);\n",
       "  --xr-background-color-row-odd: var(--jp-layout-color2, #eeeeee);\n",
       "}\n",
       "\n",
       "html[theme=dark],\n",
       "body[data-theme=dark],\n",
       "body.vscode-dark {\n",
       "  --xr-font-color0: rgba(255, 255, 255, 1);\n",
       "  --xr-font-color2: rgba(255, 255, 255, 0.54);\n",
       "  --xr-font-color3: rgba(255, 255, 255, 0.38);\n",
       "  --xr-border-color: #1F1F1F;\n",
       "  --xr-disabled-color: #515151;\n",
       "  --xr-background-color: #111111;\n",
       "  --xr-background-color-row-even: #111111;\n",
       "  --xr-background-color-row-odd: #313131;\n",
       "}\n",
       "\n",
       ".xr-wrap {\n",
       "  display: block !important;\n",
       "  min-width: 300px;\n",
       "  max-width: 700px;\n",
       "}\n",
       "\n",
       ".xr-text-repr-fallback {\n",
       "  /* fallback to plain text repr when CSS is not injected (untrusted notebook) */\n",
       "  display: none;\n",
       "}\n",
       "\n",
       ".xr-header {\n",
       "  padding-top: 6px;\n",
       "  padding-bottom: 6px;\n",
       "  margin-bottom: 4px;\n",
       "  border-bottom: solid 1px var(--xr-border-color);\n",
       "}\n",
       "\n",
       ".xr-header > div,\n",
       ".xr-header > ul {\n",
       "  display: inline;\n",
       "  margin-top: 0;\n",
       "  margin-bottom: 0;\n",
       "}\n",
       "\n",
       ".xr-obj-type,\n",
       ".xr-array-name {\n",
       "  margin-left: 2px;\n",
       "  margin-right: 10px;\n",
       "}\n",
       "\n",
       ".xr-obj-type {\n",
       "  color: var(--xr-font-color2);\n",
       "}\n",
       "\n",
       ".xr-sections {\n",
       "  padding-left: 0 !important;\n",
       "  display: grid;\n",
       "  grid-template-columns: 150px auto auto 1fr 20px 20px;\n",
       "}\n",
       "\n",
       ".xr-section-item {\n",
       "  display: contents;\n",
       "}\n",
       "\n",
       ".xr-section-item input {\n",
       "  display: none;\n",
       "}\n",
       "\n",
       ".xr-section-item input + label {\n",
       "  color: var(--xr-disabled-color);\n",
       "}\n",
       "\n",
       ".xr-section-item input:enabled + label {\n",
       "  cursor: pointer;\n",
       "  color: var(--xr-font-color2);\n",
       "}\n",
       "\n",
       ".xr-section-item input:enabled + label:hover {\n",
       "  color: var(--xr-font-color0);\n",
       "}\n",
       "\n",
       ".xr-section-summary {\n",
       "  grid-column: 1;\n",
       "  color: var(--xr-font-color2);\n",
       "  font-weight: 500;\n",
       "}\n",
       "\n",
       ".xr-section-summary > span {\n",
       "  display: inline-block;\n",
       "  padding-left: 0.5em;\n",
       "}\n",
       "\n",
       ".xr-section-summary-in:disabled + label {\n",
       "  color: var(--xr-font-color2);\n",
       "}\n",
       "\n",
       ".xr-section-summary-in + label:before {\n",
       "  display: inline-block;\n",
       "  content: '►';\n",
       "  font-size: 11px;\n",
       "  width: 15px;\n",
       "  text-align: center;\n",
       "}\n",
       "\n",
       ".xr-section-summary-in:disabled + label:before {\n",
       "  color: var(--xr-disabled-color);\n",
       "}\n",
       "\n",
       ".xr-section-summary-in:checked + label:before {\n",
       "  content: '▼';\n",
       "}\n",
       "\n",
       ".xr-section-summary-in:checked + label > span {\n",
       "  display: none;\n",
       "}\n",
       "\n",
       ".xr-section-summary,\n",
       ".xr-section-inline-details {\n",
       "  padding-top: 4px;\n",
       "  padding-bottom: 4px;\n",
       "}\n",
       "\n",
       ".xr-section-inline-details {\n",
       "  grid-column: 2 / -1;\n",
       "}\n",
       "\n",
       ".xr-section-details {\n",
       "  display: none;\n",
       "  grid-column: 1 / -1;\n",
       "  margin-bottom: 5px;\n",
       "}\n",
       "\n",
       ".xr-section-summary-in:checked ~ .xr-section-details {\n",
       "  display: contents;\n",
       "}\n",
       "\n",
       ".xr-array-wrap {\n",
       "  grid-column: 1 / -1;\n",
       "  display: grid;\n",
       "  grid-template-columns: 20px auto;\n",
       "}\n",
       "\n",
       ".xr-array-wrap > label {\n",
       "  grid-column: 1;\n",
       "  vertical-align: top;\n",
       "}\n",
       "\n",
       ".xr-preview {\n",
       "  color: var(--xr-font-color3);\n",
       "}\n",
       "\n",
       ".xr-array-preview,\n",
       ".xr-array-data {\n",
       "  padding: 0 5px !important;\n",
       "  grid-column: 2;\n",
       "}\n",
       "\n",
       ".xr-array-data,\n",
       ".xr-array-in:checked ~ .xr-array-preview {\n",
       "  display: none;\n",
       "}\n",
       "\n",
       ".xr-array-in:checked ~ .xr-array-data,\n",
       ".xr-array-preview {\n",
       "  display: inline-block;\n",
       "}\n",
       "\n",
       ".xr-dim-list {\n",
       "  display: inline-block !important;\n",
       "  list-style: none;\n",
       "  padding: 0 !important;\n",
       "  margin: 0;\n",
       "}\n",
       "\n",
       ".xr-dim-list li {\n",
       "  display: inline-block;\n",
       "  padding: 0;\n",
       "  margin: 0;\n",
       "}\n",
       "\n",
       ".xr-dim-list:before {\n",
       "  content: '(';\n",
       "}\n",
       "\n",
       ".xr-dim-list:after {\n",
       "  content: ')';\n",
       "}\n",
       "\n",
       ".xr-dim-list li:not(:last-child):after {\n",
       "  content: ',';\n",
       "  padding-right: 5px;\n",
       "}\n",
       "\n",
       ".xr-has-index {\n",
       "  font-weight: bold;\n",
       "}\n",
       "\n",
       ".xr-var-list,\n",
       ".xr-var-item {\n",
       "  display: contents;\n",
       "}\n",
       "\n",
       ".xr-var-item > div,\n",
       ".xr-var-item label,\n",
       ".xr-var-item > .xr-var-name span {\n",
       "  background-color: var(--xr-background-color-row-even);\n",
       "  margin-bottom: 0;\n",
       "}\n",
       "\n",
       ".xr-var-item > .xr-var-name:hover span {\n",
       "  padding-right: 5px;\n",
       "}\n",
       "\n",
       ".xr-var-list > li:nth-child(odd) > div,\n",
       ".xr-var-list > li:nth-child(odd) > label,\n",
       ".xr-var-list > li:nth-child(odd) > .xr-var-name span {\n",
       "  background-color: var(--xr-background-color-row-odd);\n",
       "}\n",
       "\n",
       ".xr-var-name {\n",
       "  grid-column: 1;\n",
       "}\n",
       "\n",
       ".xr-var-dims {\n",
       "  grid-column: 2;\n",
       "}\n",
       "\n",
       ".xr-var-dtype {\n",
       "  grid-column: 3;\n",
       "  text-align: right;\n",
       "  color: var(--xr-font-color2);\n",
       "}\n",
       "\n",
       ".xr-var-preview {\n",
       "  grid-column: 4;\n",
       "}\n",
       "\n",
       ".xr-index-preview {\n",
       "  grid-column: 2 / 5;\n",
       "  color: var(--xr-font-color2);\n",
       "}\n",
       "\n",
       ".xr-var-name,\n",
       ".xr-var-dims,\n",
       ".xr-var-dtype,\n",
       ".xr-preview,\n",
       ".xr-attrs dt {\n",
       "  white-space: nowrap;\n",
       "  overflow: hidden;\n",
       "  text-overflow: ellipsis;\n",
       "  padding-right: 10px;\n",
       "}\n",
       "\n",
       ".xr-var-name:hover,\n",
       ".xr-var-dims:hover,\n",
       ".xr-var-dtype:hover,\n",
       ".xr-attrs dt:hover {\n",
       "  overflow: visible;\n",
       "  width: auto;\n",
       "  z-index: 1;\n",
       "}\n",
       "\n",
       ".xr-var-attrs,\n",
       ".xr-var-data,\n",
       ".xr-index-data {\n",
       "  display: none;\n",
       "  background-color: var(--xr-background-color) !important;\n",
       "  padding-bottom: 5px !important;\n",
       "}\n",
       "\n",
       ".xr-var-attrs-in:checked ~ .xr-var-attrs,\n",
       ".xr-var-data-in:checked ~ .xr-var-data,\n",
       ".xr-index-data-in:checked ~ .xr-index-data {\n",
       "  display: block;\n",
       "}\n",
       "\n",
       ".xr-var-data > table {\n",
       "  float: right;\n",
       "}\n",
       "\n",
       ".xr-var-name span,\n",
       ".xr-var-data,\n",
       ".xr-index-name div,\n",
       ".xr-index-data,\n",
       ".xr-attrs {\n",
       "  padding-left: 25px !important;\n",
       "}\n",
       "\n",
       ".xr-attrs,\n",
       ".xr-var-attrs,\n",
       ".xr-var-data,\n",
       ".xr-index-data {\n",
       "  grid-column: 1 / -1;\n",
       "}\n",
       "\n",
       "dl.xr-attrs {\n",
       "  padding: 0;\n",
       "  margin: 0;\n",
       "  display: grid;\n",
       "  grid-template-columns: 125px auto;\n",
       "}\n",
       "\n",
       ".xr-attrs dt,\n",
       ".xr-attrs dd {\n",
       "  padding: 0;\n",
       "  margin: 0;\n",
       "  float: left;\n",
       "  padding-right: 10px;\n",
       "  width: auto;\n",
       "}\n",
       "\n",
       ".xr-attrs dt {\n",
       "  font-weight: normal;\n",
       "  grid-column: 1;\n",
       "}\n",
       "\n",
       ".xr-attrs dt:hover span {\n",
       "  display: inline-block;\n",
       "  background: var(--xr-background-color);\n",
       "  padding-right: 10px;\n",
       "}\n",
       "\n",
       ".xr-attrs dd {\n",
       "  grid-column: 2;\n",
       "  white-space: pre-wrap;\n",
       "  word-break: break-all;\n",
       "}\n",
       "\n",
       ".xr-icon-database,\n",
       ".xr-icon-file-text2,\n",
       ".xr-no-icon {\n",
       "  display: inline-block;\n",
       "  vertical-align: middle;\n",
       "  width: 1em;\n",
       "  height: 1.5em !important;\n",
       "  stroke-width: 0;\n",
       "  stroke: currentColor;\n",
       "  fill: currentColor;\n",
       "}\n",
       "</style><pre class='xr-text-repr-fallback'>&lt;xarray.DataArray (variable_identifiers: 1, ensemble: 1, time: 5)&gt;\n",
       "array([[[0., 0., 0., 0., 0.]]])\n",
       "Coordinates:\n",
       "  * ensemble              (ensemble) int64 0\n",
       "  * time                  (time) datetime64[ns] 2010-11-01 ... 2010-11-01T04:...\n",
       "  * variable_identifiers  (variable_identifiers) object &#x27;subarea.1.OutflowRate&#x27;</pre><div class='xr-wrap' style='display:none'><div class='xr-header'><div class='xr-obj-type'>xarray.DataArray</div><div class='xr-array-name'></div><ul class='xr-dim-list'><li><span class='xr-has-index'>variable_identifiers</span>: 1</li><li><span class='xr-has-index'>ensemble</span>: 1</li><li><span class='xr-has-index'>time</span>: 5</li></ul></div><ul class='xr-sections'><li class='xr-section-item'><div class='xr-array-wrap'><input id='section-9d1985aa-5789-4ef0-b7f2-392a48895774' class='xr-array-in' type='checkbox' checked><label for='section-9d1985aa-5789-4ef0-b7f2-392a48895774' title='Show/hide data repr'><svg class='icon xr-icon-database'><use xlink:href='#icon-database'></use></svg></label><div class='xr-array-preview xr-preview'><span>0.0 0.0 0.0 0.0 0.0</span></div><div class='xr-array-data'><pre>array([[[0., 0., 0., 0., 0.]]])</pre></div></div></li><li class='xr-section-item'><input id='section-d6cd80be-e38d-4629-bd75-261f869ce9c5' class='xr-section-summary-in' type='checkbox'  checked><label for='section-d6cd80be-e38d-4629-bd75-261f869ce9c5' class='xr-section-summary' >Coordinates: <span>(3)</span></label><div class='xr-section-inline-details'></div><div class='xr-section-details'><ul class='xr-var-list'><li class='xr-var-item'><div class='xr-var-name'><span class='xr-has-index'>ensemble</span></div><div class='xr-var-dims'>(ensemble)</div><div class='xr-var-dtype'>int64</div><div class='xr-var-preview xr-preview'>0</div><input id='attrs-78839d1d-2960-4114-863c-dcf9319da007' class='xr-var-attrs-in' type='checkbox' disabled><label for='attrs-78839d1d-2960-4114-863c-dcf9319da007' title='Show/Hide attributes'><svg class='icon xr-icon-file-text2'><use xlink:href='#icon-file-text2'></use></svg></label><input id='data-bd0ade6d-8545-480a-a9b1-58e22f5b3a1a' class='xr-var-data-in' type='checkbox'><label for='data-bd0ade6d-8545-480a-a9b1-58e22f5b3a1a' title='Show/Hide data repr'><svg class='icon xr-icon-database'><use xlink:href='#icon-database'></use></svg></label><div class='xr-var-attrs'><dl class='xr-attrs'></dl></div><div class='xr-var-data'><pre>array([0])</pre></div></li><li class='xr-var-item'><div class='xr-var-name'><span class='xr-has-index'>time</span></div><div class='xr-var-dims'>(time)</div><div class='xr-var-dtype'>datetime64[ns]</div><div class='xr-var-preview xr-preview'>2010-11-01 ... 2010-11-01T04:00:00</div><input id='attrs-48a83a1f-400d-434d-bb19-0055a12c4c09' class='xr-var-attrs-in' type='checkbox' disabled><label for='attrs-48a83a1f-400d-434d-bb19-0055a12c4c09' title='Show/Hide attributes'><svg class='icon xr-icon-file-text2'><use xlink:href='#icon-file-text2'></use></svg></label><input id='data-b835bd31-5b8b-41bf-883e-de3c0303f78f' class='xr-var-data-in' type='checkbox'><label for='data-b835bd31-5b8b-41bf-883e-de3c0303f78f' title='Show/Hide data repr'><svg class='icon xr-icon-database'><use xlink:href='#icon-database'></use></svg></label><div class='xr-var-attrs'><dl class='xr-attrs'></dl></div><div class='xr-var-data'><pre>array([&#x27;2010-11-01T00:00:00.000000000&#x27;, &#x27;2010-11-01T01:00:00.000000000&#x27;,\n",
       "       &#x27;2010-11-01T02:00:00.000000000&#x27;, &#x27;2010-11-01T03:00:00.000000000&#x27;,\n",
       "       &#x27;2010-11-01T04:00:00.000000000&#x27;], dtype=&#x27;datetime64[ns]&#x27;)</pre></div></li><li class='xr-var-item'><div class='xr-var-name'><span class='xr-has-index'>variable_identifiers</span></div><div class='xr-var-dims'>(variable_identifiers)</div><div class='xr-var-dtype'>object</div><div class='xr-var-preview xr-preview'>&#x27;subarea.1.OutflowRate&#x27;</div><input id='attrs-8910af66-b08b-4c31-bf49-8c25a3785dc1' class='xr-var-attrs-in' type='checkbox' disabled><label for='attrs-8910af66-b08b-4c31-bf49-8c25a3785dc1' title='Show/Hide attributes'><svg class='icon xr-icon-file-text2'><use xlink:href='#icon-file-text2'></use></svg></label><input id='data-e7a6ddad-aa41-4375-ac1e-5af118a9c802' class='xr-var-data-in' type='checkbox'><label for='data-e7a6ddad-aa41-4375-ac1e-5af118a9c802' title='Show/Hide data repr'><svg class='icon xr-icon-database'><use xlink:href='#icon-database'></use></svg></label><div class='xr-var-attrs'><dl class='xr-attrs'></dl></div><div class='xr-var-data'><pre>array([&#x27;subarea.1.OutflowRate&#x27;], dtype=object)</pre></div></li></ul></div></li><li class='xr-section-item'><input id='section-a9b3f671-affd-4394-88ff-f6fb11e36dff' class='xr-section-summary-in' type='checkbox'  ><label for='section-a9b3f671-affd-4394-88ff-f6fb11e36dff' class='xr-section-summary' >Indexes: <span>(3)</span></label><div class='xr-section-inline-details'></div><div class='xr-section-details'><ul class='xr-var-list'><li class='xr-var-item'><div class='xr-index-name'><div>ensemble</div></div><div class='xr-index-preview'>PandasIndex</div><div></div><input id='index-1e31c11a-a50d-43ea-bf56-fd72a816de3c' class='xr-index-data-in' type='checkbox'/><label for='index-1e31c11a-a50d-43ea-bf56-fd72a816de3c' title='Show/Hide index repr'><svg class='icon xr-icon-database'><use xlink:href='#icon-database'></use></svg></label><div class='xr-index-data'><pre>PandasIndex(Int64Index([0], dtype=&#x27;int64&#x27;, name=&#x27;ensemble&#x27;))</pre></div></li><li class='xr-var-item'><div class='xr-index-name'><div>time</div></div><div class='xr-index-preview'>PandasIndex</div><div></div><input id='index-285338c4-41d8-45cd-b21a-89120dfa8db9' class='xr-index-data-in' type='checkbox'/><label for='index-285338c4-41d8-45cd-b21a-89120dfa8db9' title='Show/Hide index repr'><svg class='icon xr-icon-database'><use xlink:href='#icon-database'></use></svg></label><div class='xr-index-data'><pre>PandasIndex(DatetimeIndex([&#x27;2010-11-01 00:00:00&#x27;, &#x27;2010-11-01 01:00:00&#x27;,\n",
       "               &#x27;2010-11-01 02:00:00&#x27;, &#x27;2010-11-01 03:00:00&#x27;,\n",
       "               &#x27;2010-11-01 04:00:00&#x27;],\n",
       "              dtype=&#x27;datetime64[ns]&#x27;, name=&#x27;time&#x27;, freq=&#x27;H&#x27;))</pre></div></li><li class='xr-var-item'><div class='xr-index-name'><div>variable_identifiers</div></div><div class='xr-index-preview'>PandasIndex</div><div></div><input id='index-057787de-75b5-4d84-83d0-7e64314e2884' class='xr-index-data-in' type='checkbox'/><label for='index-057787de-75b5-4d84-83d0-7e64314e2884' title='Show/Hide index repr'><svg class='icon xr-icon-database'><use xlink:href='#icon-database'></use></svg></label><div class='xr-index-data'><pre>PandasIndex(Index([&#x27;subarea.1.OutflowRate&#x27;], dtype=&#x27;object&#x27;, name=&#x27;variable_identifiers&#x27;))</pre></div></li></ul></div></li><li class='xr-section-item'><input id='section-f7d623d5-3593-42a8-8c38-a0acdb99a361' class='xr-section-summary-in' type='checkbox' disabled ><label for='section-f7d623d5-3593-42a8-8c38-a0acdb99a361' class='xr-section-summary'  title='Expand/collapse section'>Attributes: <span>(0)</span></label><div class='xr-section-inline-details'></div><div class='xr-section-details'><dl class='xr-attrs'></dl></div></li></ul></div></div>"
      ],
      "text/plain": [
       "<xarray.DataArray (variable_identifiers: 1, ensemble: 1, time: 5)>\n",
       "array([[[0., 0., 0., 0., 0.]]])\n",
       "Coordinates:\n",
       "  * ensemble              (ensemble) int64 0\n",
       "  * time                  (time) datetime64[ns] 2010-11-01 ... 2010-11-01T04:...\n",
       "  * variable_identifiers  (variable_identifiers) object 'subarea.1.OutflowRate'"
      ]
     },
     "execution_count": 19,
     "metadata": {},
     "output_type": "execute_result"
    }
   ],
   "source": [
    "get_recorded(subsim, catOutflowId).head()"
   ]
  },
  {
   "cell_type": "markdown",
   "id": "urban-cabinet",
   "metadata": {},
   "source": [
    "So, given that each routing link parameters Alpha and X are subject to constraint that vary depending on 'Length', 'f', 'ManningsN', 'Slope', how do we get a pair (Alpha, X) that globaly respect these constraints? This is not complex science but complicated enough to get wrong.\n",
    "\n",
    "'swift' offers facilities to remove the error prone tedium. First, `feasibleMuskingumBounds` lists the extremas of the feasible (Alpha, X) parameter space."
   ]
  },
  {
   "cell_type": "code",
   "execution_count": 20,
   "id": "banned-window",
   "metadata": {
    "execution": {
     "iopub.execute_input": "2023-09-28T06:20:36.699620Z",
     "iopub.status.busy": "2023-09-28T06:20:36.699318Z",
     "iopub.status.idle": "2023-09-28T06:20:36.706229Z",
     "shell.execute_reply": "2023-09-28T06:20:36.705919Z"
    }
   },
   "outputs": [
    {
     "data": {
      "text/plain": [
       "{'min_alpha': 0.08143322475570032,\n",
       " 'max_x': 0.37382039573820397,\n",
       " 'alpha_for_max_x': 0.13004771187286124}"
      ]
     },
     "execution_count": 20,
     "metadata": {},
     "output_type": "execute_result"
    }
   ],
   "source": [
    "akbounds = feasible_muskingum_bounds(subsim, 1)\n",
    "akbounds"
   ]
  },
  {
   "cell_type": "markdown",
   "id": "supported-draft",
   "metadata": {},
   "source": [
    "The numbers above can play a *crucial* role when setting up an optimiser for this model; more on this soon."
   ]
  },
  {
   "cell_type": "code",
   "execution_count": 21,
   "id": "expressed-sydney",
   "metadata": {
    "execution": {
     "iopub.execute_input": "2023-09-28T06:20:36.708029Z",
     "iopub.status.busy": "2023-09-28T06:20:36.707737Z",
     "iopub.status.idle": "2023-09-28T06:20:36.711745Z",
     "shell.execute_reply": "2023-09-28T06:20:36.711397Z"
    }
   },
   "outputs": [],
   "source": [
    "\n",
    "oneHour = 1\n",
    "\n",
    "pSpecMusk = pd.DataFrame(dict(Name = ['X', 'Alpha'],\n",
    "  Value = [akbounds['max_x'] / 2, akbounds['alpha_for_max_x']],\n",
    "  Min= [1.0E-06, akbounds['min_alpha']],   \n",
    "  Max = [akbounds['max_x'], 1e5]) \n",
    ")\n",
    "\n",
    "# Basic parameteriser\n",
    "def pzm(simulation, pSpecs=pSpecMusk):\n",
    "    akbounds = feasible_muskingum_bounds(simulation, 1)\n",
    "    p_musk = create_parameteriser('generic links',pSpecs)\n",
    "    return p_musk\n",
    "\n",
    "# Wrapper parameteriser, with constraints added around.\n",
    "def pzc(simulation, pSpecs=pSpecMusk):\n",
    "    p_musk = pzm(simulation, pSpecs)\n",
    "    p_musk_c = create_muskingum_param_constraints(p_musk, oneHour, \"Alpha\", \"X\", simulation)\n",
    "    return p_musk_c\n",
    "\n",
    "\n",
    "pp = parameteriser_as_dataframe"
   ]
  },
  {
   "cell_type": "code",
   "execution_count": 22,
   "id": "known-reward",
   "metadata": {
    "execution": {
     "iopub.execute_input": "2023-09-28T06:20:36.713728Z",
     "iopub.status.busy": "2023-09-28T06:20:36.713512Z",
     "iopub.status.idle": "2023-09-28T06:20:36.719785Z",
     "shell.execute_reply": "2023-09-28T06:20:36.719463Z"
    }
   },
   "outputs": [
    {
     "data": {
      "text/html": [
       "<div>\n",
       "<style scoped>\n",
       "    .dataframe tbody tr th:only-of-type {\n",
       "        vertical-align: middle;\n",
       "    }\n",
       "\n",
       "    .dataframe tbody tr th {\n",
       "        vertical-align: top;\n",
       "    }\n",
       "\n",
       "    .dataframe thead th {\n",
       "        text-align: right;\n",
       "    }\n",
       "</style>\n",
       "<table border=\"1\" class=\"dataframe\">\n",
       "  <thead>\n",
       "    <tr style=\"text-align: right;\">\n",
       "      <th></th>\n",
       "      <th>Name</th>\n",
       "      <th>Value</th>\n",
       "      <th>Min</th>\n",
       "      <th>Max</th>\n",
       "    </tr>\n",
       "  </thead>\n",
       "  <tbody>\n",
       "    <tr>\n",
       "      <th>0</th>\n",
       "      <td>X</td>\n",
       "      <td>0.186910</td>\n",
       "      <td>0.000001</td>\n",
       "      <td>0.37382</td>\n",
       "    </tr>\n",
       "    <tr>\n",
       "      <th>1</th>\n",
       "      <td>Alpha</td>\n",
       "      <td>0.130048</td>\n",
       "      <td>0.081433</td>\n",
       "      <td>100000.00000</td>\n",
       "    </tr>\n",
       "  </tbody>\n",
       "</table>\n",
       "</div>"
      ],
      "text/plain": [
       "    Name     Value       Min           Max\n",
       "0      X  0.186910  0.000001       0.37382\n",
       "1  Alpha  0.130048  0.081433  100000.00000"
      ]
     },
     "execution_count": 22,
     "metadata": {},
     "output_type": "execute_result"
    }
   ],
   "source": [
    "pp(pzm(subsim))"
   ]
  },
  {
   "cell_type": "code",
   "execution_count": 23,
   "id": "damaged-shipping",
   "metadata": {
    "execution": {
     "iopub.execute_input": "2023-09-28T06:20:36.721523Z",
     "iopub.status.busy": "2023-09-28T06:20:36.721257Z",
     "iopub.status.idle": "2023-09-28T06:20:36.726386Z",
     "shell.execute_reply": "2023-09-28T06:20:36.726096Z"
    }
   },
   "outputs": [
    {
     "data": {
      "text/html": [
       "<div>\n",
       "<style scoped>\n",
       "    .dataframe tbody tr th:only-of-type {\n",
       "        vertical-align: middle;\n",
       "    }\n",
       "\n",
       "    .dataframe tbody tr th {\n",
       "        vertical-align: top;\n",
       "    }\n",
       "\n",
       "    .dataframe thead th {\n",
       "        text-align: right;\n",
       "    }\n",
       "</style>\n",
       "<table border=\"1\" class=\"dataframe\">\n",
       "  <thead>\n",
       "    <tr style=\"text-align: right;\">\n",
       "      <th></th>\n",
       "      <th>Name</th>\n",
       "      <th>Value</th>\n",
       "      <th>Min</th>\n",
       "      <th>Max</th>\n",
       "    </tr>\n",
       "  </thead>\n",
       "  <tbody>\n",
       "    <tr>\n",
       "      <th>0</th>\n",
       "      <td>X</td>\n",
       "      <td>0.186910</td>\n",
       "      <td>0.000001</td>\n",
       "      <td>0.373820</td>\n",
       "    </tr>\n",
       "    <tr>\n",
       "      <th>1</th>\n",
       "      <td>Alpha</td>\n",
       "      <td>0.130048</td>\n",
       "      <td>0.100153</td>\n",
       "      <td>0.260095</td>\n",
       "    </tr>\n",
       "  </tbody>\n",
       "</table>\n",
       "</div>"
      ],
      "text/plain": [
       "    Name     Value       Min       Max\n",
       "0      X  0.186910  0.000001  0.373820\n",
       "1  Alpha  0.130048  0.100153  0.260095"
      ]
     },
     "execution_count": 23,
     "metadata": {},
     "output_type": "execute_result"
    }
   ],
   "source": [
    "p = pzc(subsim)\n",
    "pp(p)"
   ]
  },
  {
   "cell_type": "markdown",
   "id": "renewable-archive",
   "metadata": {},
   "source": [
    "Let's get a trace of the subcatchment outflow, as a synthetic data to calibrated against."
   ]
  },
  {
   "cell_type": "code",
   "execution_count": 24,
   "id": "governing-surfing",
   "metadata": {
    "execution": {
     "iopub.execute_input": "2023-09-28T06:20:36.728238Z",
     "iopub.status.busy": "2023-09-28T06:20:36.728016Z",
     "iopub.status.idle": "2023-09-28T06:20:36.733096Z",
     "shell.execute_reply": "2023-09-28T06:20:36.732779Z"
    }
   },
   "outputs": [],
   "source": [
    "apply_sys_config(p, subsim)\n",
    "exec_simulation(subsim)\n",
    "someFlow = get_recorded(subsim, var_id)"
   ]
  },
  {
   "cell_type": "code",
   "execution_count": 25,
   "id": "speaking-seminar",
   "metadata": {
    "execution": {
     "iopub.execute_input": "2023-09-28T06:20:36.734769Z",
     "iopub.status.busy": "2023-09-28T06:20:36.734551Z",
     "iopub.status.idle": "2023-09-28T06:20:36.739493Z",
     "shell.execute_reply": "2023-09-28T06:20:36.739198Z"
    }
   },
   "outputs": [
    {
     "data": {
      "text/plain": [
       "count    4.800000e+02\n",
       "mean     6.164971e-03\n",
       "std      2.694368e-02\n",
       "min      0.000000e+00\n",
       "25%      8.691205e-07\n",
       "50%      8.687524e-05\n",
       "75%      6.349944e-04\n",
       "max      2.682614e-01\n",
       "dtype: float64"
      ]
     },
     "execution_count": 25,
     "metadata": {},
     "output_type": "execute_result"
    }
   ],
   "source": [
    "someFlow.to_series().describe()"
   ]
  },
  {
   "cell_type": "markdown",
   "id": "brutal-study",
   "metadata": {},
   "source": [
    "We do now get a valid outflow since (Alpha-K) respects feasibility constraints on all links."
   ]
  },
  {
   "cell_type": "code",
   "execution_count": 26,
   "id": "cubic-orange",
   "metadata": {
    "execution": {
     "iopub.execute_input": "2023-09-28T06:20:36.741275Z",
     "iopub.status.busy": "2023-09-28T06:20:36.741054Z",
     "iopub.status.idle": "2023-09-28T06:20:36.874472Z",
     "shell.execute_reply": "2023-09-28T06:20:36.873997Z"
    }
   },
   "outputs": [
    {
     "data": {
      "image/png": "[encoded data removed]",
      "text/plain": [
       "<Figure size 640x480 with 1 Axes>"
      ]
     },
     "metadata": {},
     "output_type": "display_data"
    }
   ],
   "source": [
    "someFlow.plot();"
   ]
  },
  {
   "cell_type": "markdown",
   "id": "simplified-standard",
   "metadata": {},
   "source": [
    "## Setting up calibration"
   ]
  },
  {
   "cell_type": "code",
   "execution_count": 27,
   "id": "editorial-memorabilia",
   "metadata": {
    "execution": {
     "iopub.execute_input": "2023-09-28T06:20:36.876846Z",
     "iopub.status.busy": "2023-09-28T06:20:36.876695Z",
     "iopub.status.idle": "2023-09-28T06:20:36.884214Z",
     "shell.execute_reply": "2023-09-28T06:20:36.883887Z"
    }
   },
   "outputs": [
    {
     "data": {
      "text/html": [
       "<div>\n",
       "<style scoped>\n",
       "    .dataframe tbody tr th:only-of-type {\n",
       "        vertical-align: middle;\n",
       "    }\n",
       "\n",
       "    .dataframe tbody tr th {\n",
       "        vertical-align: top;\n",
       "    }\n",
       "\n",
       "    .dataframe thead th {\n",
       "        text-align: right;\n",
       "    }\n",
       "</style>\n",
       "<table border=\"1\" class=\"dataframe\">\n",
       "  <thead>\n",
       "    <tr style=\"text-align: right;\">\n",
       "      <th></th>\n",
       "      <th>Name</th>\n",
       "      <th>Value</th>\n",
       "      <th>Min</th>\n",
       "      <th>Max</th>\n",
       "    </tr>\n",
       "  </thead>\n",
       "  <tbody>\n",
       "    <tr>\n",
       "      <th>0</th>\n",
       "      <td>X</td>\n",
       "      <td>0.000001</td>\n",
       "      <td>0.000001</td>\n",
       "      <td>0.373820</td>\n",
       "    </tr>\n",
       "    <tr>\n",
       "      <th>1</th>\n",
       "      <td>Alpha</td>\n",
       "      <td>0.130048</td>\n",
       "      <td>0.081433</td>\n",
       "      <td>48614.487117</td>\n",
       "    </tr>\n",
       "  </tbody>\n",
       "</table>\n",
       "</div>"
      ],
      "text/plain": [
       "    Name     Value       Min           Max\n",
       "0      X  0.000001  0.000001      0.373820\n",
       "1  Alpha  0.130048  0.081433  48614.487117"
      ]
     },
     "execution_count": 27,
     "metadata": {},
     "output_type": "execute_result"
    }
   ],
   "source": [
    "def c(*args):\n",
    "    return np.array([x for x in args])\n",
    "\n",
    "pSpecMaxBounds = pd.DataFrame(dict(\n",
    "  Name =  c('X',     'Alpha'),\n",
    "  Value = c(1.0E-6, akbounds['alpha_for_max_x']), # IMPORTANT to use these values.\n",
    "  Min=    c(1.0E-6, akbounds['min_alpha']),   \n",
    "  Max =   c(akbounds['max_x'], 1e6), # Alpha_max can get very large. \n",
    ")\n",
    "                             )\n",
    "pp(pzc(subsim, pSpecMaxBounds))"
   ]
  },
  {
   "cell_type": "markdown",
   "id": "pleasant-digit",
   "metadata": {},
   "source": [
    "If we were to use another (X, Alpha) point e.g. X=0.1869102, the feasible bounds for Alpha change drastically. If an optimiser samples this for an initial population of points (SCE), this is unnecessarily restrictive for Alpha. Many hydrological calibration schemes were designed without consideration on feasible space that are not hypercubes."
   ]
  },
  {
   "cell_type": "code",
   "execution_count": 28,
   "id": "computational-trace",
   "metadata": {
    "execution": {
     "iopub.execute_input": "2023-09-28T06:20:36.886189Z",
     "iopub.status.busy": "2023-09-28T06:20:36.885941Z",
     "iopub.status.idle": "2023-09-28T06:20:36.896607Z",
     "shell.execute_reply": "2023-09-28T06:20:36.896175Z"
    }
   },
   "outputs": [
    {
     "data": {
      "text/html": [
       "<div>\n",
       "<style scoped>\n",
       "    .dataframe tbody tr th:only-of-type {\n",
       "        vertical-align: middle;\n",
       "    }\n",
       "\n",
       "    .dataframe tbody tr th {\n",
       "        vertical-align: top;\n",
       "    }\n",
       "\n",
       "    .dataframe thead th {\n",
       "        text-align: right;\n",
       "    }\n",
       "</style>\n",
       "<table border=\"1\" class=\"dataframe\">\n",
       "  <thead>\n",
       "    <tr style=\"text-align: right;\">\n",
       "      <th></th>\n",
       "      <th>Name</th>\n",
       "      <th>Value</th>\n",
       "      <th>Min</th>\n",
       "      <th>Max</th>\n",
       "    </tr>\n",
       "  </thead>\n",
       "  <tbody>\n",
       "    <tr>\n",
       "      <th>0</th>\n",
       "      <td>X</td>\n",
       "      <td>0.186910</td>\n",
       "      <td>0.000001</td>\n",
       "      <td>0.373820</td>\n",
       "    </tr>\n",
       "    <tr>\n",
       "      <th>1</th>\n",
       "      <td>Alpha</td>\n",
       "      <td>0.130048</td>\n",
       "      <td>0.100153</td>\n",
       "      <td>0.260095</td>\n",
       "    </tr>\n",
       "  </tbody>\n",
       "</table>\n",
       "</div>"
      ],
      "text/plain": [
       "    Name     Value       Min       Max\n",
       "0      X  0.186910  0.000001  0.373820\n",
       "1  Alpha  0.130048  0.100153  0.260095"
      ]
     },
     "execution_count": 28,
     "metadata": {},
     "output_type": "execute_result"
    }
   ],
   "source": [
    "pp(pzc(subsim, pSpecMusk))"
   ]
  },
  {
   "cell_type": "markdown",
   "id": "controlled-writer",
   "metadata": {},
   "source": [
    "While calibrating in the (Alpha,X) space is possible, perhaps preferable in some cases, (1/Alpha,X) has a triangular shaped feasibility region that may be easier to handle for optimisers that work with geometric transformation in the parameter space (SCE). Swift can add this on top of the constrained calibration:"
   ]
  },
  {
   "cell_type": "code",
   "execution_count": 29,
   "id": "competitive-musician",
   "metadata": {
    "execution": {
     "iopub.execute_input": "2023-09-28T06:20:36.898993Z",
     "iopub.status.busy": "2023-09-28T06:20:36.898735Z",
     "iopub.status.idle": "2023-09-28T06:20:36.905658Z",
     "shell.execute_reply": "2023-09-28T06:20:36.905357Z"
    }
   },
   "outputs": [
    {
     "data": {
      "text/html": [
       "<div>\n",
       "<style scoped>\n",
       "    .dataframe tbody tr th:only-of-type {\n",
       "        vertical-align: middle;\n",
       "    }\n",
       "\n",
       "    .dataframe tbody tr th {\n",
       "        vertical-align: top;\n",
       "    }\n",
       "\n",
       "    .dataframe thead th {\n",
       "        text-align: right;\n",
       "    }\n",
       "</style>\n",
       "<table border=\"1\" class=\"dataframe\">\n",
       "  <thead>\n",
       "    <tr style=\"text-align: right;\">\n",
       "      <th></th>\n",
       "      <th>Name</th>\n",
       "      <th>Value</th>\n",
       "      <th>Min</th>\n",
       "      <th>Max</th>\n",
       "    </tr>\n",
       "  </thead>\n",
       "  <tbody>\n",
       "    <tr>\n",
       "      <th>0</th>\n",
       "      <td>inv_alpha</td>\n",
       "      <td>7.689486</td>\n",
       "      <td>0.000021</td>\n",
       "      <td>12.279988</td>\n",
       "    </tr>\n",
       "    <tr>\n",
       "      <th>1</th>\n",
       "      <td>X</td>\n",
       "      <td>0.000001</td>\n",
       "      <td>0.000001</td>\n",
       "      <td>0.373820</td>\n",
       "    </tr>\n",
       "  </tbody>\n",
       "</table>\n",
       "</div>"
      ],
      "text/plain": [
       "        Name     Value       Min        Max\n",
       "0  inv_alpha  7.689486  0.000021  12.279988\n",
       "1          X  0.000001  0.000001   0.373820"
      ]
     },
     "execution_count": 29,
     "metadata": {},
     "output_type": "execute_result"
    }
   ],
   "source": [
    "# (X, 1/Alpha) parametrizer with dynamically constrained min/max bounds.\n",
    "def pzer_inv(simulation, pSpecs=pSpecMusk):\n",
    "    p_musk_c = pzc(simulation, pSpecs)\n",
    "    p_musk_inv_a = wrap_transform(p_musk_c)\n",
    "    add_transform(p_musk_inv_a, 'inv_alpha', 'Alpha', '1/x')\n",
    "    return p_musk_inv_a\n",
    "\n",
    "p = pzer_inv(subsim, pSpecMaxBounds)\n",
    "pp(p)"
   ]
  },
  {
   "cell_type": "markdown",
   "id": "selected-revolution",
   "metadata": {},
   "source": [
    "We check that backtransforming to (Alpha-X) works:"
   ]
  },
  {
   "cell_type": "code",
   "execution_count": 30,
   "id": "legal-belize",
   "metadata": {
    "execution": {
     "iopub.execute_input": "2023-09-28T06:20:36.907287Z",
     "iopub.status.busy": "2023-09-28T06:20:36.907074Z",
     "iopub.status.idle": "2023-09-28T06:20:36.913016Z",
     "shell.execute_reply": "2023-09-28T06:20:36.912705Z"
    }
   },
   "outputs": [
    {
     "data": {
      "text/html": [
       "<div>\n",
       "<style scoped>\n",
       "    .dataframe tbody tr th:only-of-type {\n",
       "        vertical-align: middle;\n",
       "    }\n",
       "\n",
       "    .dataframe tbody tr th {\n",
       "        vertical-align: top;\n",
       "    }\n",
       "\n",
       "    .dataframe thead th {\n",
       "        text-align: right;\n",
       "    }\n",
       "</style>\n",
       "<table border=\"1\" class=\"dataframe\">\n",
       "  <thead>\n",
       "    <tr style=\"text-align: right;\">\n",
       "      <th></th>\n",
       "      <th>Name</th>\n",
       "      <th>Value</th>\n",
       "      <th>Min</th>\n",
       "      <th>Max</th>\n",
       "    </tr>\n",
       "  </thead>\n",
       "  <tbody>\n",
       "    <tr>\n",
       "      <th>0</th>\n",
       "      <td>X</td>\n",
       "      <td>0.000001</td>\n",
       "      <td>0.000001</td>\n",
       "      <td>0.373820</td>\n",
       "    </tr>\n",
       "    <tr>\n",
       "      <th>1</th>\n",
       "      <td>Alpha</td>\n",
       "      <td>0.130048</td>\n",
       "      <td>0.081433</td>\n",
       "      <td>48614.487117</td>\n",
       "    </tr>\n",
       "  </tbody>\n",
       "</table>\n",
       "</div>"
      ],
      "text/plain": [
       "    Name     Value       Min           Max\n",
       "0      X  0.000001  0.000001      0.373820\n",
       "1  Alpha  0.130048  0.081433  48614.487117"
      ]
     },
     "execution_count": 30,
     "metadata": {},
     "output_type": "execute_result"
    }
   ],
   "source": [
    "pp(backtransform(p))"
   ]
  },
  {
   "cell_type": "code",
   "execution_count": 31,
   "id": "studied-complex",
   "metadata": {
    "execution": {
     "iopub.execute_input": "2023-09-28T06:20:36.914658Z",
     "iopub.status.busy": "2023-09-28T06:20:36.914432Z",
     "iopub.status.idle": "2023-09-28T06:20:36.916656Z",
     "shell.execute_reply": "2023-09-28T06:20:36.916321Z"
    }
   },
   "outputs": [],
   "source": [
    "someFlow = someFlow.squeeze()"
   ]
  },
  {
   "cell_type": "code",
   "execution_count": 32,
   "id": "periodic-bernard",
   "metadata": {
    "eval": true,
    "execution": {
     "iopub.execute_input": "2023-09-28T06:20:36.918461Z",
     "iopub.status.busy": "2023-09-28T06:20:36.918245Z",
     "iopub.status.idle": "2023-09-28T06:20:36.921029Z",
     "shell.execute_reply": "2023-09-28T06:20:36.920734Z"
    }
   },
   "outputs": [],
   "source": [
    "objectiveId = 'NSE'\n",
    "objective = create_objective(subsim, var_id, someFlow, objectiveId, xr_ts_start(someFlow), xr_ts_end(someFlow))"
   ]
  },
  {
   "cell_type": "code",
   "execution_count": 33,
   "id": "important-constant",
   "metadata": {
    "execution": {
     "iopub.execute_input": "2023-09-28T06:20:36.922845Z",
     "iopub.status.busy": "2023-09-28T06:20:36.922629Z",
     "iopub.status.idle": "2023-09-28T06:20:36.927960Z",
     "shell.execute_reply": "2023-09-28T06:20:36.927586Z"
    },
    "lines_to_next_cell": 2
   },
   "outputs": [
    {
     "data": {
      "text/plain": [
       "{'scores': {'NSE': 0.9997748469565144},\n",
       " 'sysconfig':         Name     Value       Min        Max\n",
       " 0  inv_alpha  7.689486  0.000021  12.279988\n",
       " 1          X  0.000001  0.000001   0.373820}"
      ]
     },
     "execution_count": 33,
     "metadata": {},
     "output_type": "execute_result"
    }
   ],
   "source": [
    "score = get_score(objective,p)  \n",
    "score"
   ]
  },
  {
   "cell_type": "code",
   "execution_count": 34,
   "id": "thorough-picnic",
   "metadata": {
    "execution": {
     "iopub.execute_input": "2023-09-28T06:20:36.929638Z",
     "iopub.status.busy": "2023-09-28T06:20:36.929413Z",
     "iopub.status.idle": "2023-09-28T06:20:36.936541Z",
     "shell.execute_reply": "2023-09-28T06:20:36.936233Z"
    }
   },
   "outputs": [],
   "source": [
    "#termination = swift::CreateSceMaxRuntimeTerminationWila_R(1/60)\n",
    "termination = create_sce_termination_wila('relative standard deviation', c('0.001','0.0167'))\n",
    "npars = 2\n",
    "sce_params = sce_parameter(npars)\n",
    "optimiser = create_sce_optim_swift(objective,termination_criterion = termination, population_initialiser = p,sce_params = sce_params)\n",
    "calib_logger = set_calibration_logger(optimiser,\"dummy\")"
   ]
  },
  {
   "cell_type": "code",
   "execution_count": 35,
   "id": "turned-insurance",
   "metadata": {
    "execution": {
     "iopub.execute_input": "2023-09-28T06:20:36.938214Z",
     "iopub.status.busy": "2023-09-28T06:20:36.937994Z",
     "iopub.status.idle": "2023-09-28T06:20:37.027639Z",
     "shell.execute_reply": "2023-09-28T06:20:37.027197Z"
    }
   },
   "outputs": [
    {
     "name": "stdout",
     "output_type": "stream",
     "text": [
      "CPU times: user 271 ms, sys: 9.14 ms, total: 280 ms\n",
      "Wall time: 86.8 ms\n"
     ]
    }
   ],
   "source": [
    "%%time\n",
    "calib_results = execute_optimisation(optimiser)"
   ]
  },
  {
   "cell_type": "code",
   "execution_count": 36,
   "id": "experienced-jason",
   "metadata": {
    "execution": {
     "iopub.execute_input": "2023-09-28T06:20:37.029481Z",
     "iopub.status.busy": "2023-09-28T06:20:37.029218Z",
     "iopub.status.idle": "2023-09-28T06:20:37.036507Z",
     "shell.execute_reply": "2023-09-28T06:20:37.035964Z"
    },
    "lines_to_next_cell": 2
   },
   "outputs": [],
   "source": [
    "opt_log = optimiser.extract_optimisation_log(fitness_name = \"NSE\")"
   ]
  },
  {
   "cell_type": "code",
   "execution_count": 37,
   "id": "d01fe9cc-eb30-4829-b307-afaddc701f13",
   "metadata": {
    "execution": {
     "iopub.execute_input": "2023-09-28T06:20:37.038252Z",
     "iopub.status.busy": "2023-09-28T06:20:37.038031Z",
     "iopub.status.idle": "2023-09-28T06:20:37.047329Z",
     "shell.execute_reply": "2023-09-28T06:20:37.047019Z"
    }
   },
   "outputs": [
    {
     "data": {
      "text/html": [
       "<div>\n",
       "<style scoped>\n",
       "    .dataframe tbody tr th:only-of-type {\n",
       "        vertical-align: middle;\n",
       "    }\n",
       "\n",
       "    .dataframe tbody tr th {\n",
       "        vertical-align: top;\n",
       "    }\n",
       "\n",
       "    .dataframe thead th {\n",
       "        text-align: right;\n",
       "    }\n",
       "</style>\n",
       "<table border=\"1\" class=\"dataframe\">\n",
       "  <thead>\n",
       "    <tr style=\"text-align: right;\">\n",
       "      <th></th>\n",
       "      <th>Category</th>\n",
       "      <th>CurrentShuffle</th>\n",
       "      <th>Message</th>\n",
       "      <th>NSE</th>\n",
       "      <th>X</th>\n",
       "      <th>inv_alpha</th>\n",
       "      <th>PointNumber</th>\n",
       "    </tr>\n",
       "  </thead>\n",
       "  <tbody>\n",
       "    <tr>\n",
       "      <th>0</th>\n",
       "      <td>Initial Population</td>\n",
       "      <td></td>\n",
       "      <td>Initial Population</td>\n",
       "      <td>0.999286</td>\n",
       "      <td>0.330241</td>\n",
       "      <td>11.636989</td>\n",
       "      <td>1</td>\n",
       "    </tr>\n",
       "    <tr>\n",
       "      <th>1</th>\n",
       "      <td>Initial Population</td>\n",
       "      <td></td>\n",
       "      <td>Initial Population</td>\n",
       "      <td>0.979734</td>\n",
       "      <td>0.251643</td>\n",
       "      <td>0.752518</td>\n",
       "      <td>2</td>\n",
       "    </tr>\n",
       "    <tr>\n",
       "      <th>2</th>\n",
       "      <td>Initial Population</td>\n",
       "      <td></td>\n",
       "      <td>Initial Population</td>\n",
       "      <td>0.993863</td>\n",
       "      <td>0.141551</td>\n",
       "      <td>2.133362</td>\n",
       "      <td>3</td>\n",
       "    </tr>\n",
       "    <tr>\n",
       "      <th>3</th>\n",
       "      <td>Initial Population</td>\n",
       "      <td></td>\n",
       "      <td>Initial Population</td>\n",
       "      <td>0.999939</td>\n",
       "      <td>0.149201</td>\n",
       "      <td>8.721001</td>\n",
       "      <td>4</td>\n",
       "    </tr>\n",
       "    <tr>\n",
       "      <th>4</th>\n",
       "      <td>Initial Population</td>\n",
       "      <td></td>\n",
       "      <td>Initial Population</td>\n",
       "      <td>0.995707</td>\n",
       "      <td>0.142863</td>\n",
       "      <td>2.626987</td>\n",
       "      <td>5</td>\n",
       "    </tr>\n",
       "    <tr>\n",
       "      <th>...</th>\n",
       "      <td>...</td>\n",
       "      <td>...</td>\n",
       "      <td>...</td>\n",
       "      <td>...</td>\n",
       "      <td>...</td>\n",
       "      <td>...</td>\n",
       "      <td>...</td>\n",
       "    </tr>\n",
       "    <tr>\n",
       "      <th>1117</th>\n",
       "      <td>Shuffling No 6</td>\n",
       "      <td></td>\n",
       "      <td>Shuffling No 6</td>\n",
       "      <td>1.000000</td>\n",
       "      <td>0.186814</td>\n",
       "      <td>7.690154</td>\n",
       "      <td>1118</td>\n",
       "    </tr>\n",
       "    <tr>\n",
       "      <th>1118</th>\n",
       "      <td>Shuffling No 6</td>\n",
       "      <td></td>\n",
       "      <td>Shuffling No 6</td>\n",
       "      <td>1.000000</td>\n",
       "      <td>0.186973</td>\n",
       "      <td>7.686830</td>\n",
       "      <td>1119</td>\n",
       "    </tr>\n",
       "    <tr>\n",
       "      <th>1119</th>\n",
       "      <td>Shuffling No 6</td>\n",
       "      <td></td>\n",
       "      <td>Shuffling No 6</td>\n",
       "      <td>1.000000</td>\n",
       "      <td>0.186925</td>\n",
       "      <td>7.690300</td>\n",
       "      <td>1120</td>\n",
       "    </tr>\n",
       "    <tr>\n",
       "      <th>1120</th>\n",
       "      <td>Shuffling No 6</td>\n",
       "      <td></td>\n",
       "      <td>Shuffling No 6</td>\n",
       "      <td>1.000000</td>\n",
       "      <td>0.187077</td>\n",
       "      <td>7.691259</td>\n",
       "      <td>1121</td>\n",
       "    </tr>\n",
       "    <tr>\n",
       "      <th>1121</th>\n",
       "      <td>Shuffling No 6</td>\n",
       "      <td></td>\n",
       "      <td>Shuffling No 6</td>\n",
       "      <td>1.000000</td>\n",
       "      <td>0.186800</td>\n",
       "      <td>7.694139</td>\n",
       "      <td>1122</td>\n",
       "    </tr>\n",
       "  </tbody>\n",
       "</table>\n",
       "<p>140 rows × 7 columns</p>\n",
       "</div>"
      ],
      "text/plain": [
       "                Category CurrentShuffle             Message       NSE  \\\n",
       "0     Initial Population                 Initial Population  0.999286   \n",
       "1     Initial Population                 Initial Population  0.979734   \n",
       "2     Initial Population                 Initial Population  0.993863   \n",
       "3     Initial Population                 Initial Population  0.999939   \n",
       "4     Initial Population                 Initial Population  0.995707   \n",
       "...                  ...            ...                 ...       ...   \n",
       "1117      Shuffling No 6                     Shuffling No 6  1.000000   \n",
       "1118      Shuffling No 6                     Shuffling No 6  1.000000   \n",
       "1119      Shuffling No 6                     Shuffling No 6  1.000000   \n",
       "1120      Shuffling No 6                     Shuffling No 6  1.000000   \n",
       "1121      Shuffling No 6                     Shuffling No 6  1.000000   \n",
       "\n",
       "             X  inv_alpha  PointNumber  \n",
       "0     0.330241  11.636989            1  \n",
       "1     0.251643   0.752518            2  \n",
       "2     0.141551   2.133362            3  \n",
       "3     0.149201   8.721001            4  \n",
       "4     0.142863   2.626987            5  \n",
       "...        ...        ...          ...  \n",
       "1117  0.186814   7.690154         1118  \n",
       "1118  0.186973   7.686830         1119  \n",
       "1119  0.186925   7.690300         1120  \n",
       "1120  0.187077   7.691259         1121  \n",
       "1121  0.186800   7.694139         1122  \n",
       "\n",
       "[140 rows x 7 columns]"
      ]
     },
     "execution_count": 37,
     "metadata": {},
     "output_type": "execute_result"
    }
   ],
   "source": [
    "from swift2.vis import OptimisationPlots\n",
    "shuffleLogs = opt_log.subset_by_message(pattern = \"Initial.*|Shuffling.*\") \n",
    "shuffleLogs.data"
   ]
  },
  {
   "cell_type": "code",
   "execution_count": 38,
   "id": "2cd3f092-957a-4960-9480-98aaea056276",
   "metadata": {
    "execution": {
     "iopub.execute_input": "2023-09-28T06:20:37.049092Z",
     "iopub.status.busy": "2023-09-28T06:20:37.048876Z",
     "iopub.status.idle": "2023-09-28T06:20:39.725379Z",
     "shell.execute_reply": "2023-09-28T06:20:39.724901Z"
    }
   },
   "outputs": [
    {
     "data": {
      "image/png": "[encoded data removed]",
      "text/plain": [
       "<Figure size 1000x800 with 8 Axes>"
      ]
     },
     "metadata": {},
     "output_type": "display_data"
    }
   ],
   "source": [
    "v = OptimisationPlots(shuffleLogs)\n",
    "g = v.shuffles('X', 'inv_alpha', obj_lims = [0.0,1.0])\n",
    "plt.gcf().set_size_inches(10,8)"
   ]
  },
  {
   "cell_type": "code",
   "execution_count": 39,
   "id": "middle-warrior",
   "metadata": {
    "execution": {
     "iopub.execute_input": "2023-09-28T06:20:39.727291Z",
     "iopub.status.busy": "2023-09-28T06:20:39.727095Z",
     "iopub.status.idle": "2023-09-28T06:20:39.736283Z",
     "shell.execute_reply": "2023-09-28T06:20:39.735919Z"
    },
    "lines_to_next_cell": 0
   },
   "outputs": [
    {
     "data": {
      "text/html": [
       "<div>\n",
       "<style scoped>\n",
       "    .dataframe tbody tr th:only-of-type {\n",
       "        vertical-align: middle;\n",
       "    }\n",
       "\n",
       "    .dataframe tbody tr th {\n",
       "        vertical-align: top;\n",
       "    }\n",
       "\n",
       "    .dataframe thead th {\n",
       "        text-align: right;\n",
       "    }\n",
       "</style>\n",
       "<table border=\"1\" class=\"dataframe\">\n",
       "  <thead>\n",
       "    <tr style=\"text-align: right;\">\n",
       "      <th></th>\n",
       "      <th>NSE</th>\n",
       "      <th>inv_alpha</th>\n",
       "      <th>X</th>\n",
       "    </tr>\n",
       "  </thead>\n",
       "  <tbody>\n",
       "    <tr>\n",
       "      <th>0</th>\n",
       "      <td>1.0</td>\n",
       "      <td>7.689032</td>\n",
       "      <td>0.186874</td>\n",
       "    </tr>\n",
       "    <tr>\n",
       "      <th>1</th>\n",
       "      <td>1.0</td>\n",
       "      <td>7.690300</td>\n",
       "      <td>0.186925</td>\n",
       "    </tr>\n",
       "    <tr>\n",
       "      <th>2</th>\n",
       "      <td>1.0</td>\n",
       "      <td>7.690382</td>\n",
       "      <td>0.186887</td>\n",
       "    </tr>\n",
       "    <tr>\n",
       "      <th>3</th>\n",
       "      <td>1.0</td>\n",
       "      <td>7.690224</td>\n",
       "      <td>0.186842</td>\n",
       "    </tr>\n",
       "    <tr>\n",
       "      <th>4</th>\n",
       "      <td>1.0</td>\n",
       "      <td>7.689243</td>\n",
       "      <td>0.186813</td>\n",
       "    </tr>\n",
       "  </tbody>\n",
       "</table>\n",
       "</div>"
      ],
      "text/plain": [
       "   NSE  inv_alpha         X\n",
       "0  1.0   7.689032  0.186874\n",
       "1  1.0   7.690300  0.186925\n",
       "2  1.0   7.690382  0.186887\n",
       "3  1.0   7.690224  0.186842\n",
       "4  1.0   7.689243  0.186813"
      ]
     },
     "execution_count": 39,
     "metadata": {},
     "output_type": "execute_result"
    }
   ],
   "source": [
    "sortedResults = sort_by_score(calib_results, 'NSE')\n",
    "scores_as_dataframe(sortedResults).head()"
   ]
  },
  {
   "cell_type": "code",
   "execution_count": 40,
   "id": "distinguished-paris",
   "metadata": {
    "execution": {
     "iopub.execute_input": "2023-09-28T06:20:39.738820Z",
     "iopub.status.busy": "2023-09-28T06:20:39.737991Z",
     "iopub.status.idle": "2023-09-28T06:20:39.745438Z",
     "shell.execute_reply": "2023-09-28T06:20:39.745120Z"
    }
   },
   "outputs": [
    {
     "data": {
      "text/html": [
       "<div>\n",
       "<style scoped>\n",
       "    .dataframe tbody tr th:only-of-type {\n",
       "        vertical-align: middle;\n",
       "    }\n",
       "\n",
       "    .dataframe tbody tr th {\n",
       "        vertical-align: top;\n",
       "    }\n",
       "\n",
       "    .dataframe thead th {\n",
       "        text-align: right;\n",
       "    }\n",
       "</style>\n",
       "<table border=\"1\" class=\"dataframe\">\n",
       "  <thead>\n",
       "    <tr style=\"text-align: right;\">\n",
       "      <th></th>\n",
       "      <th>Name</th>\n",
       "      <th>Value</th>\n",
       "      <th>Min</th>\n",
       "      <th>Max</th>\n",
       "    </tr>\n",
       "  </thead>\n",
       "  <tbody>\n",
       "    <tr>\n",
       "      <th>0</th>\n",
       "      <td>inv_alpha</td>\n",
       "      <td>7.689032</td>\n",
       "      <td>3.844007</td>\n",
       "      <td>9.985182</td>\n",
       "    </tr>\n",
       "    <tr>\n",
       "      <th>1</th>\n",
       "      <td>X</td>\n",
       "      <td>0.186874</td>\n",
       "      <td>0.000001</td>\n",
       "      <td>0.373798</td>\n",
       "    </tr>\n",
       "  </tbody>\n",
       "</table>\n",
       "</div>"
      ],
      "text/plain": [
       "        Name     Value       Min       Max\n",
       "0  inv_alpha  7.689032  3.844007  9.985182\n",
       "1          X  0.186874  0.000001  0.373798"
      ]
     },
     "execution_count": 40,
     "metadata": {},
     "output_type": "execute_result"
    }
   ],
   "source": [
    "q = get_best_score(calib_results, 'NSE', False)\n",
    "q = swg.GetSystemConfigurationWila_py(q)\n",
    "pp(q)"
   ]
  },
  {
   "cell_type": "code",
   "execution_count": 41,
   "id": "pending-transcript",
   "metadata": {
    "execution": {
     "iopub.execute_input": "2023-09-28T06:20:39.747456Z",
     "iopub.status.busy": "2023-09-28T06:20:39.747175Z",
     "iopub.status.idle": "2023-09-28T06:20:39.754280Z",
     "shell.execute_reply": "2023-09-28T06:20:39.753771Z"
    }
   },
   "outputs": [
    {
     "data": {
      "text/html": [
       "<div>\n",
       "<style scoped>\n",
       "    .dataframe tbody tr th:only-of-type {\n",
       "        vertical-align: middle;\n",
       "    }\n",
       "\n",
       "    .dataframe tbody tr th {\n",
       "        vertical-align: top;\n",
       "    }\n",
       "\n",
       "    .dataframe thead th {\n",
       "        text-align: right;\n",
       "    }\n",
       "</style>\n",
       "<table border=\"1\" class=\"dataframe\">\n",
       "  <thead>\n",
       "    <tr style=\"text-align: right;\">\n",
       "      <th></th>\n",
       "      <th>Name</th>\n",
       "      <th>Value</th>\n",
       "      <th>Min</th>\n",
       "      <th>Max</th>\n",
       "    </tr>\n",
       "  </thead>\n",
       "  <tbody>\n",
       "    <tr>\n",
       "      <th>0</th>\n",
       "      <td>X</td>\n",
       "      <td>0.186874</td>\n",
       "      <td>0.000001</td>\n",
       "      <td>0.373798</td>\n",
       "    </tr>\n",
       "    <tr>\n",
       "      <th>1</th>\n",
       "      <td>Alpha</td>\n",
       "      <td>0.130055</td>\n",
       "      <td>0.100148</td>\n",
       "      <td>0.260145</td>\n",
       "    </tr>\n",
       "  </tbody>\n",
       "</table>\n",
       "</div>"
      ],
      "text/plain": [
       "    Name     Value       Min       Max\n",
       "0      X  0.186874  0.000001  0.373798\n",
       "1  Alpha  0.130055  0.100148  0.260145"
      ]
     },
     "execution_count": 41,
     "metadata": {},
     "output_type": "execute_result"
    }
   ],
   "source": [
    "pp(backtransform(q))"
   ]
  },
  {
   "cell_type": "markdown",
   "id": "earlier-bradford",
   "metadata": {},
   "source": [
    "## Seeding the optimisation point population with restrictive constraint bounds\n",
    "\n",
    "This section is a *counter-example*. Do not do this.\n",
    "\n",
    "Say, instead of seeding with alpha set to alpha_for_x_max (0.37382040) we instead use a value close to its global minimum, 0.083:"
   ]
  },
  {
   "cell_type": "code",
   "execution_count": 42,
   "id": "hundred-wiring",
   "metadata": {
    "execution": {
     "iopub.execute_input": "2023-09-28T06:20:39.756726Z",
     "iopub.status.busy": "2023-09-28T06:20:39.756507Z",
     "iopub.status.idle": "2023-09-28T06:20:39.759706Z",
     "shell.execute_reply": "2023-09-28T06:20:39.759085Z"
    },
    "lines_to_next_cell": 0
   },
   "outputs": [],
   "source": [
    "pSpecRestrictiveBounds = pSpecMaxBounds\n",
    "\n",
    "pSpecRestrictiveBounds.loc[pSpecRestrictiveBounds.Name == 'Alpha', 'Value'] = 0.083"
   ]
  },
  {
   "cell_type": "code",
   "execution_count": 43,
   "id": "naval-subcommittee",
   "metadata": {
    "execution": {
     "iopub.execute_input": "2023-09-28T06:20:39.761944Z",
     "iopub.status.busy": "2023-09-28T06:20:39.761654Z",
     "iopub.status.idle": "2023-09-28T06:20:39.767827Z",
     "shell.execute_reply": "2023-09-28T06:20:39.767446Z"
    },
    "lines_to_next_cell": 0
   },
   "outputs": [
    {
     "data": {
      "text/html": [
       "<div>\n",
       "<style scoped>\n",
       "    .dataframe tbody tr th:only-of-type {\n",
       "        vertical-align: middle;\n",
       "    }\n",
       "\n",
       "    .dataframe tbody tr th {\n",
       "        vertical-align: top;\n",
       "    }\n",
       "\n",
       "    .dataframe thead th {\n",
       "        text-align: right;\n",
       "    }\n",
       "</style>\n",
       "<table border=\"1\" class=\"dataframe\">\n",
       "  <thead>\n",
       "    <tr style=\"text-align: right;\">\n",
       "      <th></th>\n",
       "      <th>Name</th>\n",
       "      <th>Value</th>\n",
       "      <th>Min</th>\n",
       "      <th>Max</th>\n",
       "    </tr>\n",
       "  </thead>\n",
       "  <tbody>\n",
       "    <tr>\n",
       "      <th>0</th>\n",
       "      <td>X</td>\n",
       "      <td>0.000001</td>\n",
       "      <td>0.000001</td>\n",
       "      <td>0.37382</td>\n",
       "    </tr>\n",
       "    <tr>\n",
       "      <th>1</th>\n",
       "      <td>Alpha</td>\n",
       "      <td>0.083000</td>\n",
       "      <td>0.081433</td>\n",
       "      <td>1000000.00000</td>\n",
       "    </tr>\n",
       "  </tbody>\n",
       "</table>\n",
       "</div>"
      ],
      "text/plain": [
       "    Name     Value       Min            Max\n",
       "0      X  0.000001  0.000001        0.37382\n",
       "1  Alpha  0.083000  0.081433  1000000.00000"
      ]
     },
     "execution_count": 43,
     "metadata": {},
     "output_type": "execute_result"
    }
   ],
   "source": [
    "pSpecRestrictiveBounds"
   ]
  },
  {
   "cell_type": "code",
   "execution_count": 44,
   "id": "brazilian-interstate",
   "metadata": {
    "execution": {
     "iopub.execute_input": "2023-09-28T06:20:39.770210Z",
     "iopub.status.busy": "2023-09-28T06:20:39.769742Z",
     "iopub.status.idle": "2023-09-28T06:20:39.776833Z",
     "shell.execute_reply": "2023-09-28T06:20:39.776498Z"
    }
   },
   "outputs": [
    {
     "data": {
      "text/html": [
       "<div>\n",
       "<style scoped>\n",
       "    .dataframe tbody tr th:only-of-type {\n",
       "        vertical-align: middle;\n",
       "    }\n",
       "\n",
       "    .dataframe tbody tr th {\n",
       "        vertical-align: top;\n",
       "    }\n",
       "\n",
       "    .dataframe thead th {\n",
       "        text-align: right;\n",
       "    }\n",
       "</style>\n",
       "<table border=\"1\" class=\"dataframe\">\n",
       "  <thead>\n",
       "    <tr style=\"text-align: right;\">\n",
       "      <th></th>\n",
       "      <th>Name</th>\n",
       "      <th>Value</th>\n",
       "      <th>Min</th>\n",
       "      <th>Max</th>\n",
       "    </tr>\n",
       "  </thead>\n",
       "  <tbody>\n",
       "    <tr>\n",
       "      <th>0</th>\n",
       "      <td>inv_alpha</td>\n",
       "      <td>12.048193</td>\n",
       "      <td>0.000021</td>\n",
       "      <td>12.279988</td>\n",
       "    </tr>\n",
       "    <tr>\n",
       "      <th>1</th>\n",
       "      <td>X</td>\n",
       "      <td>0.000001</td>\n",
       "      <td>0.000001</td>\n",
       "      <td>0.018877</td>\n",
       "    </tr>\n",
       "  </tbody>\n",
       "</table>\n",
       "</div>"
      ],
      "text/plain": [
       "        Name      Value       Min        Max\n",
       "0  inv_alpha  12.048193  0.000021  12.279988\n",
       "1          X   0.000001  0.000001   0.018877"
      ]
     },
     "execution_count": 44,
     "metadata": {},
     "output_type": "execute_result"
    }
   ],
   "source": [
    "p = pzer_inv(subsim, pSpecRestrictiveBounds)\n",
    "pp(p)"
   ]
  },
  {
   "cell_type": "markdown",
   "id": "integral-commissioner",
   "metadata": {},
   "source": [
    "X is now much more constrained in its feasible range, and initializing a population fails to cover large sections of the feasible triangle. If used in the optimiser (uniform random sampling)\n"
   ]
  },
  {
   "cell_type": "code",
   "execution_count": 45,
   "id": "promising-threshold",
   "metadata": {
    "execution": {
     "iopub.execute_input": "2023-09-28T06:20:39.778842Z",
     "iopub.status.busy": "2023-09-28T06:20:39.778545Z",
     "iopub.status.idle": "2023-09-28T06:20:39.897350Z",
     "shell.execute_reply": "2023-09-28T06:20:39.896801Z"
    }
   },
   "outputs": [],
   "source": [
    "termination = create_sce_termination_wila('relative standard deviation', c('0.001','0.0167'))\n",
    "sce_params = get_default_sce_parameters()\n",
    "npars = 2\n",
    "sce_params = sce_parameter(npars)\n",
    "optimiser = create_sce_optim_swift(objective,termination_criterion = termination, population_initialiser = p,sce_params = sce_params)\n",
    "calib_logger = set_calibration_logger(optimiser,\"dummy\")\n",
    "calib_results = execute_optimisation(optimiser)"
   ]
  },
  {
   "cell_type": "code",
   "execution_count": 46,
   "id": "indian-instruction",
   "metadata": {
    "execution": {
     "iopub.execute_input": "2023-09-28T06:20:39.899902Z",
     "iopub.status.busy": "2023-09-28T06:20:39.899669Z",
     "iopub.status.idle": "2023-09-28T06:20:39.907831Z",
     "shell.execute_reply": "2023-09-28T06:20:39.907395Z"
    },
    "lines_to_next_cell": 0
   },
   "outputs": [],
   "source": [
    "opt_log = extract_optimisation_log(optimiser, fitness_name = \"NSE\")"
   ]
  },
  {
   "cell_type": "code",
   "execution_count": 47,
   "id": "subtle-ending",
   "metadata": {
    "execution": {
     "iopub.execute_input": "2023-09-28T06:20:39.910401Z",
     "iopub.status.busy": "2023-09-28T06:20:39.910130Z",
     "iopub.status.idle": "2023-09-28T06:20:39.915241Z",
     "shell.execute_reply": "2023-09-28T06:20:39.914759Z"
    }
   },
   "outputs": [],
   "source": [
    "shuffleLogs = opt_log.subset_by_message(pattern = \"Initial.*|Shuffling.*\") "
   ]
  },
  {
   "cell_type": "code",
   "execution_count": 48,
   "id": "d9d786b4-146d-4d5b-9795-26e95f1c12f7",
   "metadata": {
    "execution": {
     "iopub.execute_input": "2023-09-28T06:20:39.917343Z",
     "iopub.status.busy": "2023-09-28T06:20:39.917001Z",
     "iopub.status.idle": "2023-09-28T06:20:43.159421Z",
     "shell.execute_reply": "2023-09-28T06:20:43.158969Z"
    }
   },
   "outputs": [
    {
     "data": {
      "image/png": "[encoded data removed]",
      "text/plain": [
       "<Figure size 1000x800 with 9 Axes>"
      ]
     },
     "metadata": {},
     "output_type": "display_data"
    }
   ],
   "source": [
    "v = OptimisationPlots(shuffleLogs)\n",
    "g = v.shuffles('X', 'inv_alpha', obj_lims = [0.0,1.0])\n",
    "plt.gcf().set_size_inches(10,8)"
   ]
  },
  {
   "cell_type": "code",
   "execution_count": 49,
   "id": "dominant-crash",
   "metadata": {
    "execution": {
     "iopub.execute_input": "2023-09-28T06:20:43.161375Z",
     "iopub.status.busy": "2023-09-28T06:20:43.161150Z",
     "iopub.status.idle": "2023-09-28T06:20:43.163420Z",
     "shell.execute_reply": "2023-09-28T06:20:43.163101Z"
    },
    "lines_to_next_cell": 0
   },
   "outputs": [],
   "source": [
    "# shuffleLogs = mhplot::subsetByCategory(opt_log$data, pattern = \"Initial.*|Shuffling.*\") \n",
    "# mhplot::plotShuffles(shuffleLogs, 'X', 'inv_alpha', obj_lims = (0:1))"
   ]
  },
  {
   "cell_type": "markdown",
   "id": "every-carroll",
   "metadata": {},
   "source": [
    "SCE does manage to converge towards the optimum, but it takes a larger number of iterations. Anecdotally, we observed cases where the calibration does fail to go near the optimum, when interplaying with a convergence criterion configured for \"leniency\".\n",
    "\n",
    "# Detailed explanation and unit test design\n",
    "\n",
    "See other document [muskingum_multilink_calibration_explanation.ipynb](./muskingum_multilink_calibration_explanation.ipynb)\n"
   ]
  }
 ],
 "metadata": {
  "jupytext": {
   "cell_metadata_filter": "tags,eval,name,-all",
   "formats": "ipynb,py:percent",
   "main_language": "R"
  },
  "kernelspec": {
   "display_name": "HFC",
   "language": "python",
   "name": "hydrofc"
  },
  "language_info": {
   "codemirror_mode": {
    "name": "ipython",
    "version": 3
   },
   "file_extension": ".py",
   "mimetype": "text/x-python",
   "name": "python",
   "nbconvert_exporter": "python",
   "pygments_lexer": "ipython3",
   "version": "3.9.15"
  }
 },
 "nbformat": 4,
 "nbformat_minor": 5
}
