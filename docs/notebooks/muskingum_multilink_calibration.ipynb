{
 "cells": [
  {
   "cell_type": "markdown",
   "id": "0",
   "metadata": {},
   "source": [
    "# Linear Muskingum channel routing model - constrained subcatchment calibration\n",
    "\n",
    "## Purpose\n",
    "\n",
    "This vignette focuses on explaining how to calibrate the linear version of Muskingum jointly across river reaches, respecting stability constraints across all these reaches. The second part of the document is an indepth explanation of the scheme that is also used as a reference for unit testing swift."
   ]
  },
  {
   "cell_type": "code",
   "execution_count": null,
   "id": "1",
   "metadata": {
    "tags": []
   },
   "outputs": [],
   "source": [
    "from swift2.doc_helper import pkg_versions_info\n",
    "\n",
    "print(pkg_versions_info(\"This document was generated from a jupyter notebook\"))"
   ]
  },
  {
   "cell_type": "markdown",
   "id": "2",
   "metadata": {},
   "source": [
    "## Guidelines for global calibration of Muskingum constrainted parameters"
   ]
  },
  {
   "cell_type": "code",
   "execution_count": null,
   "id": "3",
   "metadata": {},
   "outputs": [],
   "source": [
    "import datetime as dt\n",
    "\n",
    "import matplotlib.pyplot as plt\n",
    "import numpy as np\n",
    "import pandas as pd"
   ]
  },
  {
   "cell_type": "code",
   "execution_count": null,
   "id": "4",
   "metadata": {},
   "outputs": [],
   "source": [
    "import seaborn as sns"
   ]
  },
  {
   "cell_type": "code",
   "execution_count": null,
   "id": "5",
   "metadata": {},
   "outputs": [],
   "source": [
    "import swift2\n",
    "import swift2.wrap.swift_wrap_custom as swc"
   ]
  },
  {
   "cell_type": "code",
   "execution_count": null,
   "id": "6",
   "metadata": {},
   "outputs": [],
   "source": [
    "# Only temporary, under construction...\n",
    "import swift2.wrap.swift_wrap_generated as swg\n",
    "import xarray as xr"
   ]
  },
  {
   "cell_type": "code",
   "execution_count": null,
   "id": "7",
   "metadata": {
    "lines_to_next_cell": 0
   },
   "outputs": [],
   "source": []
  },
  {
   "cell_type": "code",
   "execution_count": null,
   "id": "8",
   "metadata": {},
   "outputs": [],
   "source": [
    "from cinterop.timeseries import (\n",
    "    TIME_DIMNAME,\n",
    "    pd_series_to_xr_series,\n",
    "    slice_xr_time_series,\n",
    "    xr_ts_end,\n",
    "    xr_ts_start,\n",
    ")"
   ]
  },
  {
   "cell_type": "code",
   "execution_count": null,
   "id": "9",
   "metadata": {},
   "outputs": [],
   "source": [
    "from swift2.doc_helper import *\n",
    "from swift2.parameteriser import *\n",
    "from swift2.play_record import *\n",
    "from swift2.simulation import *\n",
    "from swift2.statistics import *\n",
    "from swift2.system import *\n",
    "from swift2.utils import *\n",
    "\n",
    "# from swift2.prototypes import extract_optimisation_log\n",
    "from uchronia.time_series import get_item"
   ]
  },
  {
   "cell_type": "code",
   "execution_count": null,
   "id": "10",
   "metadata": {},
   "outputs": [],
   "source": [
    "%matplotlib inline"
   ]
  },
  {
   "cell_type": "markdown",
   "id": "11",
   "metadata": {},
   "source": [
    "For this example we will use data derived from the South Esk catchment in Tasmania.\n",
    "\n",
    "## Baseline model structure\n",
    "\n",
    "We load and configure the model simulation in the next section, without detailed explanation; please read other introductory vignettes if this is unclear."
   ]
  },
  {
   "cell_type": "code",
   "execution_count": null,
   "id": "12",
   "metadata": {},
   "outputs": [],
   "source": [
    "model_id = 'GR4J'\n",
    "site_id = 'South_Esk'\n",
    "simulation = sample_catchment_model(site_id=site_id, config_id='catchment')\n",
    "simulation = swap_model(simulation, 'MuskingumNonLinear', 'channel_routing')\n",
    "\n",
    "# # revert back to derfautl values as expected from sample simulation..\n",
    "# sc = 1 # reach slope in m/m\n",
    "# n = 1  # default Manning's parameter value for the reach\n",
    "# f = 1  # \"Fudge factor\" to allow for a different range of Alpha values. \n",
    "# oneHour = 1\n",
    "# delt = oneHour\n",
    "\n",
    "se_climate = sample_series(site_id=site_id, var_name='climate')\n",
    "se_flows = sample_series(site_id=site_id, var_name='flow')\n",
    "\n",
    "play_input(simulation, se_climate)\n",
    "set_simulation_span(simulation, xr_ts_start(se_climate), xr_ts_end(se_climate))\n",
    "set_simulation_time_step(simulation, 'hourly')\n",
    "configure_hourly_gr4j(simulation)"
   ]
  },
  {
   "cell_type": "markdown",
   "id": "13",
   "metadata": {},
   "source": [
    "We can get a topologic view of the model setup (albeit crowded as this is a fairly large catchment). \n",
    "\n",
    "(Note: may not render yet through GitHub)"
   ]
  },
  {
   "cell_type": "code",
   "execution_count": null,
   "id": "14",
   "metadata": {},
   "outputs": [],
   "source": [
    "# TODO:\n",
    "# from graphviz import Digraph\n",
    "# DiagrammeR(GetCatchmentDOTGraph_R(simulation))"
   ]
  },
  {
   "cell_type": "markdown",
   "id": "15",
   "metadata": {},
   "source": [
    "We cookie cut to get a subcatchment near the headwaters."
   ]
  },
  {
   "cell_type": "code",
   "execution_count": null,
   "id": "16",
   "metadata": {},
   "outputs": [],
   "source": [
    "from swift2.model_definitions import *\n",
    "\n",
    "# from graphviz import Digraph\n",
    "\n",
    "subsim = subset_catchment(simulation, 'node.5')\n",
    "subsim"
   ]
  },
  {
   "cell_type": "code",
   "execution_count": null,
   "id": "17",
   "metadata": {},
   "outputs": [],
   "source": [
    "dot_graph = swg.GetCatchmentDOTGraph_py(subsim)"
   ]
  },
  {
   "cell_type": "markdown",
   "id": "18",
   "metadata": {},
   "source": [
    "We configure the routing scheme to be linear (parameter N set and fixed to 1)"
   ]
  },
  {
   "cell_type": "code",
   "execution_count": null,
   "id": "19",
   "metadata": {},
   "outputs": [],
   "source": [
    "link_ids = mk_full_data_id('link', get_link_ids(subsim))\n",
    "set_state_value(subsim, mk_full_data_id(link_ids, 'N'), rep(1.0, len(link_ids)))"
   ]
  },
  {
   "cell_type": "markdown",
   "id": "20",
   "metadata": {},
   "source": [
    "Let's have a look at the link properties and other default routing parameters"
   ]
  },
  {
   "cell_type": "code",
   "execution_count": null,
   "id": "21",
   "metadata": {},
   "outputs": [],
   "source": [
    "lnkpnames = ['Length', 'f', 'ManningsN', 'Slope', 'N', 'X', 'Alpha']\n",
    "get_state_value(subsim,mk_full_data_id('link.1', lnkpnames))"
   ]
  },
  {
   "cell_type": "markdown",
   "id": "22",
   "metadata": {},
   "source": [
    "X is between 0 and 0.5, without stability constraints. Setting a default Alpha is... trickier."
   ]
  },
  {
   "cell_type": "code",
   "execution_count": null,
   "id": "23",
   "metadata": {},
   "outputs": [],
   "source": [
    "set_state_value(subsim, mk_full_data_id(link_ids, 'X'), rep(1e-6, len(link_ids)))\n",
    "set_state_value(subsim, mk_full_data_id(link_ids, 'Alpha'), rep(0.0005, len(link_ids)))"
   ]
  },
  {
   "cell_type": "markdown",
   "id": "24",
   "metadata": {},
   "source": [
    "If we look at the subcatchment outflow in this configuration, it is a series of unfeasible values - at least one link was in an unfeasible zone for (Alpha, X)"
   ]
  },
  {
   "cell_type": "code",
   "execution_count": null,
   "id": "25",
   "metadata": {},
   "outputs": [],
   "source": [
    "from swift2.const import CATCHMENT_FLOWRATE_VARID\n",
    "\n",
    "var_id = CATCHMENT_FLOWRATE_VARID\n",
    "catOutflowId = 'subarea.1.OutflowRate'\n",
    "\n",
    "record_state(subsim,var_id)\n",
    "record_state(subsim,catOutflowId)\n",
    "\n",
    "exec_simulation(subsim)\n",
    "someFlow = get_recorded(subsim, var_id)"
   ]
  },
  {
   "cell_type": "code",
   "execution_count": null,
   "id": "26",
   "metadata": {},
   "outputs": [],
   "source": [
    "someFlow.head()"
   ]
  },
  {
   "cell_type": "markdown",
   "id": "27",
   "metadata": {},
   "source": [
    "We can double-check that the subarea does produce runoff yield; the links are where the model does not work yet."
   ]
  },
  {
   "cell_type": "code",
   "execution_count": null,
   "id": "28",
   "metadata": {},
   "outputs": [],
   "source": [
    "get_state_value(subsim, get_variable_ids(subsim, 'node.5'))"
   ]
  },
  {
   "cell_type": "code",
   "execution_count": null,
   "id": "29",
   "metadata": {},
   "outputs": [],
   "source": [
    "get_recorded(subsim, catOutflowId).head()"
   ]
  },
  {
   "cell_type": "markdown",
   "id": "30",
   "metadata": {},
   "source": [
    "So, given that each routing link parameters Alpha and X are subject to constraint that vary depending on 'Length', 'f', 'ManningsN', 'Slope', how do we get a pair (Alpha, X) that globaly respect these constraints? This is not complex science but complicated enough to get wrong.\n",
    "\n",
    "'swift' offers facilities to remove the error prone tedium. First, `feasibleMuskingumBounds` lists the extremas of the feasible (Alpha, X) parameter space."
   ]
  },
  {
   "cell_type": "code",
   "execution_count": null,
   "id": "31",
   "metadata": {},
   "outputs": [],
   "source": [
    "akbounds = feasible_muskingum_bounds(subsim, 1)\n",
    "akbounds"
   ]
  },
  {
   "cell_type": "markdown",
   "id": "32",
   "metadata": {},
   "source": [
    "The numbers above can play a *crucial* role when setting up an optimiser for this model; more on this soon."
   ]
  },
  {
   "cell_type": "code",
   "execution_count": null,
   "id": "33",
   "metadata": {},
   "outputs": [],
   "source": [
    "\n",
    "oneHour = 1\n",
    "\n",
    "pSpecMusk = pd.DataFrame(dict(Name = ['X', 'Alpha'],\n",
    "  Value = [akbounds['max_x'] / 2, akbounds['alpha_for_max_x']],\n",
    "  Min= [1.0E-06, akbounds['min_alpha']],   \n",
    "  Max = [akbounds['max_x'], 1e5]) \n",
    ")\n",
    "\n",
    "# Basic parameteriser\n",
    "def pzm(simulation, pSpecs=pSpecMusk):\n",
    "    akbounds = feasible_muskingum_bounds(simulation, 1)\n",
    "    p_musk = create_parameteriser('generic links',pSpecs)\n",
    "    return p_musk\n",
    "\n",
    "# Wrapper parameteriser, with constraints added around.\n",
    "def pzc(simulation, pSpecs=pSpecMusk):\n",
    "    p_musk = pzm(simulation, pSpecs)\n",
    "    p_musk_c = create_muskingum_param_constraints(p_musk, oneHour, \"Alpha\", \"X\", simulation)\n",
    "    return p_musk_c\n",
    "\n",
    "\n",
    "pp = parameteriser_as_dataframe"
   ]
  },
  {
   "cell_type": "code",
   "execution_count": null,
   "id": "34",
   "metadata": {},
   "outputs": [],
   "source": [
    "pp(pzm(subsim))"
   ]
  },
  {
   "cell_type": "code",
   "execution_count": null,
   "id": "35",
   "metadata": {},
   "outputs": [],
   "source": [
    "p = pzc(subsim)\n",
    "pp(p)"
   ]
  },
  {
   "cell_type": "markdown",
   "id": "36",
   "metadata": {},
   "source": [
    "Let's get a trace of the subcatchment outflow, as a synthetic data to calibrated against."
   ]
  },
  {
   "cell_type": "code",
   "execution_count": null,
   "id": "37",
   "metadata": {},
   "outputs": [],
   "source": [
    "apply_sys_config(p, subsim)\n",
    "exec_simulation(subsim)\n",
    "someFlow = get_recorded(subsim, var_id)"
   ]
  },
  {
   "cell_type": "code",
   "execution_count": null,
   "id": "38",
   "metadata": {},
   "outputs": [],
   "source": [
    "someFlow.to_series().describe()"
   ]
  },
  {
   "cell_type": "markdown",
   "id": "39",
   "metadata": {},
   "source": [
    "We do now get a valid outflow since (Alpha-K) respects feasibility constraints on all links."
   ]
  },
  {
   "cell_type": "code",
   "execution_count": null,
   "id": "40",
   "metadata": {},
   "outputs": [],
   "source": [
    "someFlow.plot();"
   ]
  },
  {
   "cell_type": "markdown",
   "id": "41",
   "metadata": {},
   "source": [
    "## Setting up calibration"
   ]
  },
  {
   "cell_type": "code",
   "execution_count": null,
   "id": "42",
   "metadata": {},
   "outputs": [],
   "source": [
    "def c(*args):\n",
    "    return np.array([x for x in args])\n",
    "\n",
    "pSpecMaxBounds = pd.DataFrame(dict(\n",
    "  Name =  c('X',     'Alpha'),\n",
    "  Value = c(1.0E-6, akbounds['alpha_for_max_x']), # IMPORTANT to use these values.\n",
    "  Min=    c(1.0E-6, akbounds['min_alpha']),   \n",
    "  Max =   c(akbounds['max_x'], 1e6), # Alpha_max can get very large. \n",
    ")\n",
    "                             )\n",
    "pp(pzc(subsim, pSpecMaxBounds))"
   ]
  },
  {
   "cell_type": "markdown",
   "id": "43",
   "metadata": {},
   "source": [
    "If we were to use another (X, Alpha) point e.g. X=0.1869102, the feasible bounds for Alpha change drastically. If an optimiser samples this for an initial population of points (SCE), this is unnecessarily restrictive for Alpha. Many hydrological calibration schemes were designed without consideration on feasible space that are not hypercubes."
   ]
  },
  {
   "cell_type": "code",
   "execution_count": null,
   "id": "44",
   "metadata": {},
   "outputs": [],
   "source": [
    "pp(pzc(subsim, pSpecMusk))"
   ]
  },
  {
   "cell_type": "markdown",
   "id": "45",
   "metadata": {},
   "source": [
    "While calibrating in the (Alpha,X) space is possible, perhaps preferable in some cases, (1/Alpha,X) has a triangular shaped feasibility region that may be easier to handle for optimisers that work with geometric transformation in the parameter space (SCE). Swift can add this on top of the constrained calibration:"
   ]
  },
  {
   "cell_type": "code",
   "execution_count": null,
   "id": "46",
   "metadata": {},
   "outputs": [],
   "source": [
    "# (X, 1/Alpha) parametrizer with dynamically constrained min/max bounds.\n",
    "def pzer_inv(simulation, pSpecs=pSpecMusk):\n",
    "    p_musk_c = pzc(simulation, pSpecs)\n",
    "    p_musk_inv_a = wrap_transform(p_musk_c)\n",
    "    add_transform(p_musk_inv_a, 'inv_alpha', 'Alpha', '1/x')\n",
    "    return p_musk_inv_a\n",
    "\n",
    "p = pzer_inv(subsim, pSpecMaxBounds)\n",
    "pp(p)"
   ]
  },
  {
   "cell_type": "markdown",
   "id": "47",
   "metadata": {},
   "source": [
    "We check that backtransforming to (Alpha-X) works:"
   ]
  },
  {
   "cell_type": "code",
   "execution_count": null,
   "id": "48",
   "metadata": {},
   "outputs": [],
   "source": [
    "pp(backtransform(p))"
   ]
  },
  {
   "cell_type": "code",
   "execution_count": null,
   "id": "49",
   "metadata": {},
   "outputs": [],
   "source": [
    "someFlow = someFlow.squeeze()"
   ]
  },
  {
   "cell_type": "code",
   "execution_count": null,
   "id": "50",
   "metadata": {
    "eval": true
   },
   "outputs": [],
   "source": [
    "objectiveId = 'NSE'\n",
    "objective = create_objective(subsim, var_id, someFlow, objectiveId, xr_ts_start(someFlow), xr_ts_end(someFlow))"
   ]
  },
  {
   "cell_type": "code",
   "execution_count": null,
   "id": "51",
   "metadata": {
    "lines_to_next_cell": 2
   },
   "outputs": [],
   "source": [
    "score = get_score(objective,p)  \n",
    "score"
   ]
  },
  {
   "cell_type": "code",
   "execution_count": null,
   "id": "52",
   "metadata": {},
   "outputs": [],
   "source": [
    "#termination = swift::CreateSceMaxRuntimeTerminationWila_R(1/60)\n",
    "termination = create_sce_termination_wila('relative standard deviation', c('0.001','0.0167'))\n",
    "npars = 2\n",
    "sce_params = sce_parameter(npars)\n",
    "optimiser = create_sce_optim_swift(objective,termination_criterion = termination, population_initialiser = p,sce_params = sce_params)\n",
    "calib_logger = set_calibration_logger(optimiser,\"dummy\")"
   ]
  },
  {
   "cell_type": "code",
   "execution_count": null,
   "id": "53",
   "metadata": {},
   "outputs": [],
   "source": [
    "%%time\n",
    "calib_results = execute_optimisation(optimiser)"
   ]
  },
  {
   "cell_type": "code",
   "execution_count": null,
   "id": "54",
   "metadata": {
    "lines_to_next_cell": 2
   },
   "outputs": [],
   "source": [
    "opt_log = optimiser.extract_optimisation_log(fitness_name = \"NSE\")"
   ]
  },
  {
   "cell_type": "code",
   "execution_count": null,
   "id": "55",
   "metadata": {},
   "outputs": [],
   "source": [
    "from swift2.vis import OptimisationPlots\n",
    "\n",
    "shuffleLogs = opt_log.subset_by_message(pattern = \"Initial.*|Shuffling.*\") \n",
    "shuffleLogs.data"
   ]
  },
  {
   "cell_type": "code",
   "execution_count": null,
   "id": "56",
   "metadata": {},
   "outputs": [],
   "source": [
    "v = OptimisationPlots(shuffleLogs)\n",
    "g = v.shuffles('X', 'inv_alpha', obj_lims = [0.0,1.0])\n",
    "plt.gcf().set_size_inches(10,8)"
   ]
  },
  {
   "cell_type": "code",
   "execution_count": null,
   "id": "57",
   "metadata": {
    "lines_to_next_cell": 0
   },
   "outputs": [],
   "source": [
    "sortedResults = sort_by_score(calib_results, 'NSE')\n",
    "scores_as_dataframe(sortedResults).head()"
   ]
  },
  {
   "cell_type": "code",
   "execution_count": null,
   "id": "58",
   "metadata": {},
   "outputs": [],
   "source": [
    "q = get_best_score(calib_results, 'NSE', False)\n",
    "q = swg.GetSystemConfigurationWila_py(q)\n",
    "pp(q)"
   ]
  },
  {
   "cell_type": "code",
   "execution_count": null,
   "id": "59",
   "metadata": {},
   "outputs": [],
   "source": [
    "pp(backtransform(q))"
   ]
  },
  {
   "cell_type": "markdown",
   "id": "60",
   "metadata": {},
   "source": [
    "## Seeding the optimisation point population with restrictive constraint bounds\n",
    "\n",
    "This section is a *counter-example*. Do not do this.\n",
    "\n",
    "Say, instead of seeding with alpha set to alpha_for_x_max (0.37382040) we instead use a value close to its global minimum, 0.083:"
   ]
  },
  {
   "cell_type": "code",
   "execution_count": null,
   "id": "61",
   "metadata": {
    "lines_to_next_cell": 0
   },
   "outputs": [],
   "source": [
    "pSpecRestrictiveBounds = pSpecMaxBounds\n",
    "\n",
    "pSpecRestrictiveBounds.loc[pSpecRestrictiveBounds.Name == 'Alpha', 'Value'] = 0.083"
   ]
  },
  {
   "cell_type": "code",
   "execution_count": null,
   "id": "62",
   "metadata": {
    "lines_to_next_cell": 0
   },
   "outputs": [],
   "source": [
    "pSpecRestrictiveBounds"
   ]
  },
  {
   "cell_type": "code",
   "execution_count": null,
   "id": "63",
   "metadata": {},
   "outputs": [],
   "source": [
    "p = pzer_inv(subsim, pSpecRestrictiveBounds)\n",
    "pp(p)"
   ]
  },
  {
   "cell_type": "markdown",
   "id": "64",
   "metadata": {},
   "source": [
    "X is now much more constrained in its feasible range, and initializing a population fails to cover large sections of the feasible triangle. If used in the optimiser (uniform random sampling)\n"
   ]
  },
  {
   "cell_type": "code",
   "execution_count": null,
   "id": "65",
   "metadata": {},
   "outputs": [],
   "source": [
    "termination = create_sce_termination_wila('relative standard deviation', c('0.001','0.0167'))\n",
    "sce_params = get_default_sce_parameters()\n",
    "npars = 2\n",
    "sce_params = sce_parameter(npars)\n",
    "optimiser = create_sce_optim_swift(objective,termination_criterion = termination, population_initialiser = p,sce_params = sce_params)\n",
    "calib_logger = set_calibration_logger(optimiser,\"dummy\")\n",
    "calib_results = execute_optimisation(optimiser)"
   ]
  },
  {
   "cell_type": "code",
   "execution_count": null,
   "id": "66",
   "metadata": {
    "lines_to_next_cell": 0
   },
   "outputs": [],
   "source": [
    "opt_log = extract_optimisation_log(optimiser, fitness_name = \"NSE\")"
   ]
  },
  {
   "cell_type": "code",
   "execution_count": null,
   "id": "67",
   "metadata": {},
   "outputs": [],
   "source": [
    "shuffleLogs = opt_log.subset_by_message(pattern = \"Initial.*|Shuffling.*\") "
   ]
  },
  {
   "cell_type": "code",
   "execution_count": null,
   "id": "68",
   "metadata": {},
   "outputs": [],
   "source": [
    "v = OptimisationPlots(shuffleLogs)\n",
    "g = v.shuffles('X', 'inv_alpha', obj_lims = [0.0,1.0])\n",
    "plt.gcf().set_size_inches(10,8)"
   ]
  },
  {
   "cell_type": "code",
   "execution_count": null,
   "id": "69",
   "metadata": {
    "lines_to_next_cell": 0
   },
   "outputs": [],
   "source": [
    "# shuffleLogs = mhplot::subsetByCategory(opt_log$data, pattern = \"Initial.*|Shuffling.*\") \n",
    "# mhplot::plotShuffles(shuffleLogs, 'X', 'inv_alpha', obj_lims = (0:1))"
   ]
  },
  {
   "cell_type": "markdown",
   "id": "70",
   "metadata": {},
   "source": [
    "SCE does manage to converge towards the optimum, but it takes a larger number of iterations. Anecdotally, we observed cases where the calibration does fail to go near the optimum, when interplaying with a convergence criterion configured for \"leniency\".\n",
    "\n",
    "# Detailed explanation and unit test design\n",
    "\n",
    "See other document [muskingum_multilink_calibration_explanation.ipynb](./muskingum_multilink_calibration_explanation.ipynb)\n"
   ]
  }
 ],
 "metadata": {
  "jupytext": {
   "cell_metadata_filter": "tags,eval,name,-all",
   "formats": "ipynb,py:percent",
   "main_language": "R"
  },
  "kernelspec": {
   "display_name": "hydrofc",
   "language": "python",
   "name": "hydrofc"
  },
  "language_info": {
   "codemirror_mode": {
    "name": "ipython",
    "version": 3
   },
   "file_extension": ".py",
   "mimetype": "text/x-python",
   "name": "python",
   "nbconvert_exporter": "python",
   "pygments_lexer": "ipython3",
   "version": "3.11.11"
  }
 },
 "nbformat": 4,
 "nbformat_minor": 5
}
