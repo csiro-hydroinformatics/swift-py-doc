{
 "cells": [
  {
   "cell_type": "markdown",
   "id": "involved-plastic",
   "metadata": {},
   "source": [
    "# Ensemble SWIFT model runs"
   ]
  },
  {
   "cell_type": "markdown",
   "id": "developmental-publication",
   "metadata": {},
   "source": [
    "## About this document\n",
    "\n",
    "This document was generated from an R markdown file on `r as.character(Sys.time())`.\n",
    "\n",
    "## Elaboration"
   ]
  },
  {
   "cell_type": "code",
   "execution_count": 1,
   "id": "enhanced-chuck",
   "metadata": {
    "execution": {
     "iopub.execute_input": "2023-08-06T07:01:55.746853Z",
     "iopub.status.busy": "2023-08-06T07:01:55.746504Z",
     "iopub.status.idle": "2023-08-06T07:01:56.201546Z",
     "shell.execute_reply": "2023-08-06T07:01:56.201030Z"
    },
    "lines_to_next_cell": 2
   },
   "outputs": [],
   "source": [
    "import pandas as pd\n",
    "import numpy as np\n",
    "import swift2\n",
    "from swift2.simulation import get_subarea_ids\n",
    "from swift2.utils import mk_full_data_id, paste0\n",
    "import xarray as xr"
   ]
  },
  {
   "cell_type": "code",
   "execution_count": 2,
   "id": "legendary-maldives",
   "metadata": {
    "execution": {
     "iopub.execute_input": "2023-08-06T07:01:56.204049Z",
     "iopub.status.busy": "2023-08-06T07:01:56.203765Z",
     "iopub.status.idle": "2023-08-06T07:01:56.209466Z",
     "shell.execute_reply": "2023-08-06T07:01:56.209081Z"
    }
   },
   "outputs": [],
   "source": [
    "import swift2.doc_helper as std\n",
    "import swift2.parameteriser as sp"
   ]
  },
  {
   "cell_type": "code",
   "execution_count": 3,
   "id": "capable-cholesterol",
   "metadata": {
    "execution": {
     "iopub.execute_input": "2023-08-06T07:01:56.211430Z",
     "iopub.status.busy": "2023-08-06T07:01:56.211149Z",
     "iopub.status.idle": "2023-08-06T07:01:56.214684Z",
     "shell.execute_reply": "2023-08-06T07:01:56.214305Z"
    }
   },
   "outputs": [],
   "source": [
    "from swift2.const import CATCHMENT_FLOWRATE_VARID"
   ]
  },
  {
   "cell_type": "code",
   "execution_count": 4,
   "id": "parallel-portable",
   "metadata": {
    "execution": {
     "iopub.execute_input": "2023-08-06T07:01:56.216518Z",
     "iopub.status.busy": "2023-08-06T07:01:56.216225Z",
     "iopub.status.idle": "2023-08-06T07:01:56.435188Z",
     "shell.execute_reply": "2023-08-06T07:01:56.434608Z"
    }
   },
   "outputs": [],
   "source": [
    "import matplotlib.pyplot as plt"
   ]
  },
  {
   "cell_type": "code",
   "execution_count": 5,
   "id": "black-gathering",
   "metadata": {
    "execution": {
     "iopub.execute_input": "2023-08-06T07:01:56.437266Z",
     "iopub.status.busy": "2023-08-06T07:01:56.437064Z",
     "iopub.status.idle": "2023-08-06T07:01:56.443481Z",
     "shell.execute_reply": "2023-08-06T07:01:56.443037Z"
    }
   },
   "outputs": [],
   "source": [
    "%matplotlib inline"
   ]
  },
  {
   "cell_type": "markdown",
   "id": "modular-blank",
   "metadata": {},
   "source": [
    "Let's create a test catchment with a few subareas "
   ]
  },
  {
   "cell_type": "code",
   "execution_count": 6,
   "id": "israeli-shuttle",
   "metadata": {
    "execution": {
     "iopub.execute_input": "2023-08-06T07:01:56.446021Z",
     "iopub.status.busy": "2023-08-06T07:01:56.445839Z",
     "iopub.status.idle": "2023-08-06T07:01:56.448483Z",
     "shell.execute_reply": "2023-08-06T07:01:56.448160Z"
    }
   },
   "outputs": [],
   "source": [
    "runoff_model='GR4J'"
   ]
  },
  {
   "cell_type": "code",
   "execution_count": 7,
   "id": "recent-district",
   "metadata": {
    "execution": {
     "iopub.execute_input": "2023-08-06T07:01:56.450753Z",
     "iopub.status.busy": "2023-08-06T07:01:56.450406Z",
     "iopub.status.idle": "2023-08-06T07:01:56.453546Z",
     "shell.execute_reply": "2023-08-06T07:01:56.453236Z"
    }
   },
   "outputs": [],
   "source": [
    "node_ids=paste0('n', [i+1 for i in range(6)])\n",
    "link_ids = paste0('lnk', [i+1 for i in range(5)])\n",
    "node_names = paste0(node_ids, '_name')\n",
    "link_names = paste0(link_ids, '_name')\n",
    "from_node = paste0('n', [2,5,4,3,1])\n",
    "to_node = paste0('n', [6,2,2,4,4])\n",
    "areas_km2 = np.array([1.2, 2.3, 4.4, 2.2, 1.5])"
   ]
  },
  {
   "cell_type": "code",
   "execution_count": 8,
   "id": "worldwide-construction",
   "metadata": {
    "execution": {
     "iopub.execute_input": "2023-08-06T07:01:56.455185Z",
     "iopub.status.busy": "2023-08-06T07:01:56.455052Z",
     "iopub.status.idle": "2023-08-06T07:01:56.465365Z",
     "shell.execute_reply": "2023-08-06T07:01:56.465050Z"
    }
   },
   "outputs": [],
   "source": [
    "simulation = std.create_catchment(node_ids, node_names, link_ids, link_names, from_node, to_node, runoff_model, areas_km2)"
   ]
  },
  {
   "cell_type": "markdown",
   "id": "breeding-gambling",
   "metadata": {},
   "source": [
    "the package `uchronia` includes facilities to access time series from a \"library\", akin to what you would do to manage books."
   ]
  },
  {
   "cell_type": "code",
   "execution_count": 9,
   "id": "nearby-liberal",
   "metadata": {
    "execution": {
     "iopub.execute_input": "2023-08-06T07:01:56.467165Z",
     "iopub.status.busy": "2023-08-06T07:01:56.467037Z",
     "iopub.status.idle": "2023-08-06T07:01:56.469433Z",
     "shell.execute_reply": "2023-08-06T07:01:56.469097Z"
    }
   },
   "outputs": [],
   "source": [
    "import uchronia.sample_data as usd"
   ]
  },
  {
   "cell_type": "code",
   "execution_count": 10,
   "id": "ad538444-fe2d-45f2-92b7-c3467685d4cb",
   "metadata": {
    "execution": {
     "iopub.execute_input": "2023-08-06T07:01:56.471070Z",
     "iopub.status.busy": "2023-08-06T07:01:56.470883Z",
     "iopub.status.idle": "2023-08-06T07:01:56.473049Z",
     "shell.execute_reply": "2023-08-06T07:01:56.472640Z"
    }
   },
   "outputs": [],
   "source": [
    "import os\n",
    "os.environ['SWIFT_TEST_DIR'] = os.path.expanduser('~/data/documentation') "
   ]
  },
  {
   "cell_type": "code",
   "execution_count": 11,
   "id": "unlike-wound",
   "metadata": {
    "execution": {
     "iopub.execute_input": "2023-08-06T07:01:56.474728Z",
     "iopub.status.busy": "2023-08-06T07:01:56.474544Z",
     "iopub.status.idle": "2023-08-06T07:01:56.477933Z",
     "shell.execute_reply": "2023-08-06T07:01:56.477529Z"
    }
   },
   "outputs": [
    {
     "data": {
      "text/plain": [
       "'/home/per202/data/documentation/UpperMurray'"
      ]
     },
     "execution_count": 11,
     "metadata": {},
     "output_type": "execute_result"
    }
   ],
   "source": [
    "doc_data_path = usd.sample_data_dir()\n",
    "data_path = os.path.join(doc_data_path, 'UpperMurray')\n",
    "data_path"
   ]
  },
  {
   "cell_type": "code",
   "execution_count": 12,
   "id": "destroyed-austria",
   "metadata": {
    "execution": {
     "iopub.execute_input": "2023-08-06T07:01:56.479817Z",
     "iopub.status.busy": "2023-08-06T07:01:56.479688Z",
     "iopub.status.idle": "2023-08-06T07:01:56.544338Z",
     "shell.execute_reply": "2023-08-06T07:01:56.543817Z"
    }
   },
   "outputs": [],
   "source": [
    "data_library = usd.sample_time_series_library('upper murray')"
   ]
  },
  {
   "cell_type": "code",
   "execution_count": 13,
   "id": "hearing-installation",
   "metadata": {
    "execution": {
     "iopub.execute_input": "2023-08-06T07:01:56.546532Z",
     "iopub.status.busy": "2023-08-06T07:01:56.546388Z",
     "iopub.status.idle": "2023-08-06T07:01:56.549762Z",
     "shell.execute_reply": "2023-08-06T07:01:56.549349Z"
    }
   },
   "outputs": [
    {
     "data": {
      "text/plain": [
       "CFFI pointer handle to a native pointer of type id \"ENSEMBLE_DATA_SET_PTR\""
      ]
     },
     "execution_count": 13,
     "metadata": {},
     "output_type": "execute_result"
    }
   ],
   "source": [
    "data_library"
   ]
  },
  {
   "cell_type": "code",
   "execution_count": 14,
   "id": "united-farmer",
   "metadata": {
    "execution": {
     "iopub.execute_input": "2023-08-06T07:01:56.551472Z",
     "iopub.status.busy": "2023-08-06T07:01:56.551312Z",
     "iopub.status.idle": "2023-08-06T07:01:56.556445Z",
     "shell.execute_reply": "2023-08-06T07:01:56.556040Z"
    }
   },
   "outputs": [],
   "source": [
    "from uchronia.data_set import get_dataset_ids, datasets_summaries\n",
    "\n",
    "data_ids = get_dataset_ids(data_library)"
   ]
  },
  {
   "cell_type": "code",
   "execution_count": 15,
   "id": "elder-nicaragua",
   "metadata": {
    "execution": {
     "iopub.execute_input": "2023-08-06T07:01:56.558285Z",
     "iopub.status.busy": "2023-08-06T07:01:56.558009Z",
     "iopub.status.idle": "2023-08-06T07:01:56.561260Z",
     "shell.execute_reply": "2023-08-06T07:01:56.560876Z"
    }
   },
   "outputs": [
    {
     "data": {
      "text/plain": [
       "['variable name: pet_der, identifier: 1, start: 1989-12-31T00:00:00, end: 2012-12-30T00:00:00, time length: 8401, time step: daily',\n",
       " 'variable name: pet_der, identifier: 1, start: 1988-12-31T00:00:00, end: 2012-12-30T00:00:00, time length: 8766, time step: daily',\n",
       " 'variable name: rain_der, identifier: 1, start: 1989-12-31T13:00:00, end: 2012-10-31T12:00:00, time length: 200160, time step: hourly',\n",
       " 'variable name: rain_fcast_ens, identifier: 1, index: 0, start: 2010-08-01T21:00:00, end: 2010-08-06T21:00:00, time length: 5, time step: <not yet supported>']"
      ]
     },
     "execution_count": 15,
     "metadata": {},
     "output_type": "execute_result"
    }
   ],
   "source": [
    "datasets_summaries(data_library)"
   ]
  },
  {
   "cell_type": "markdown",
   "id": "toxic-sphere",
   "metadata": {},
   "source": [
    "The sample catchment structure is obviously not the real \"Upper Murray\". For the sake of a didactic example, let's set the same inputs across all the subareas."
   ]
  },
  {
   "cell_type": "code",
   "execution_count": 16,
   "id": "relevant-onion",
   "metadata": {
    "execution": {
     "iopub.execute_input": "2023-08-06T07:01:56.563174Z",
     "iopub.status.busy": "2023-08-06T07:01:56.562903Z",
     "iopub.status.idle": "2023-08-06T07:01:56.569074Z",
     "shell.execute_reply": "2023-08-06T07:01:56.568633Z"
    }
   },
   "outputs": [
    {
     "data": {
      "text/plain": [
       "(['subarea.lnk1.P',\n",
       "  'subarea.lnk2.P',\n",
       "  'subarea.lnk3.P',\n",
       "  'subarea.lnk4.P',\n",
       "  'subarea.lnk5.P'],\n",
       " ['subarea.lnk1.E',\n",
       "  'subarea.lnk2.E',\n",
       "  'subarea.lnk3.E',\n",
       "  'subarea.lnk4.E',\n",
       "  'subarea.lnk5.E'])"
      ]
     },
     "execution_count": 16,
     "metadata": {},
     "output_type": "execute_result"
    }
   ],
   "source": [
    "precip_ids = mk_full_data_id( 'subarea', get_subarea_ids(simulation), 'P')\n",
    "evapIds = mk_full_data_id( 'subarea', get_subarea_ids(simulation), 'E')\n",
    "precip_ids, evapIds"
   ]
  },
  {
   "cell_type": "code",
   "execution_count": 17,
   "id": "common-academy",
   "metadata": {
    "execution": {
     "iopub.execute_input": "2023-08-06T07:01:56.570862Z",
     "iopub.status.busy": "2023-08-06T07:01:56.570634Z",
     "iopub.status.idle": "2023-08-06T07:01:56.630434Z",
     "shell.execute_reply": "2023-08-06T07:01:56.629883Z"
    }
   },
   "outputs": [],
   "source": [
    "def _rep(x): return np.repeat(x, len(precip_ids))\n",
    "simulation.play_inputs(data_library, precip_ids, _rep('rain_obs'), _rep(''))\n",
    "simulation.play_inputs(data_library, evapIds, _rep('pet_obs'), _rep('daily_to_hourly'))\n",
    "# And the flow rate we will record\n",
    "outflowId = CATCHMENT_FLOWRATE_VARID"
   ]
  },
  {
   "cell_type": "markdown",
   "id": "communist-november",
   "metadata": {},
   "source": [
    "Given the information from the input data, let's define a suitable simulation time span. NOTE and TODO: hourly information may not have been shown above yet."
   ]
  },
  {
   "cell_type": "code",
   "execution_count": 18,
   "id": "auburn-burden",
   "metadata": {
    "execution": {
     "iopub.execute_input": "2023-08-06T07:01:56.632649Z",
     "iopub.status.busy": "2023-08-06T07:01:56.632503Z",
     "iopub.status.idle": "2023-08-06T07:01:56.635328Z",
     "shell.execute_reply": "2023-08-06T07:01:56.635000Z"
    }
   },
   "outputs": [],
   "source": [
    "from cinterop.timeseries import as_timestamp\n",
    " \n",
    "s = as_timestamp('2007-01-01')\n",
    "e = as_timestamp('2010-08-01 20')\n",
    "sHot = as_timestamp('2010-08-01 21')\n",
    "eHot = as_timestamp('2010-08-05 21')"
   ]
  },
  {
   "cell_type": "markdown",
   "id": "greenhouse-sixth",
   "metadata": {},
   "source": [
    "First, before demonstrating ensemble forecasting simulations, let's demonstrate how we can get a snapshot of the model states at a point in time and restore it later on, hot-starting further simulation."
   ]
  },
  {
   "cell_type": "code",
   "execution_count": 19,
   "id": "psychological-samba",
   "metadata": {
    "execution": {
     "iopub.execute_input": "2023-08-06T07:01:56.637063Z",
     "iopub.status.busy": "2023-08-06T07:01:56.636933Z",
     "iopub.status.idle": "2023-08-06T07:01:56.686611Z",
     "shell.execute_reply": "2023-08-06T07:01:56.686071Z"
    }
   },
   "outputs": [],
   "source": [
    "simulation.set_simulation_span(start=s, end=eHot)\n",
    "simulation.record_state(outflowId)\n",
    "simulation.exec_simulation()\n",
    "baseline = simulation.get_recorded(outflowId)"
   ]
  },
  {
   "cell_type": "code",
   "execution_count": 20,
   "id": "inside-circular",
   "metadata": {
    "execution": {
     "iopub.execute_input": "2023-08-06T07:01:56.688629Z",
     "iopub.status.busy": "2023-08-06T07:01:56.688496Z",
     "iopub.status.idle": "2023-08-06T07:01:56.692281Z",
     "shell.execute_reply": "2023-08-06T07:01:56.691779Z"
    }
   },
   "outputs": [],
   "source": [
    "baseline = baseline.squeeze(drop=True).sel(time = slice(sHot, eHot))"
   ]
  },
  {
   "cell_type": "code",
   "execution_count": 21,
   "id": "suffering-killer",
   "metadata": {
    "execution": {
     "iopub.execute_input": "2023-08-06T07:01:56.694700Z",
     "iopub.status.busy": "2023-08-06T07:01:56.694282Z",
     "iopub.status.idle": "2023-08-06T07:01:56.736608Z",
     "shell.execute_reply": "2023-08-06T07:01:56.736088Z"
    }
   },
   "outputs": [],
   "source": [
    "simulation.set_simulation_span(start=s, end=e)\n",
    "simulation.exec_simulation()\n",
    "snapshot = simulation.snapshot_state()"
   ]
  },
  {
   "cell_type": "markdown",
   "id": "mobile-western",
   "metadata": {},
   "source": [
    "We can execute a simulation over the new time span, but requesting model states to NOT be reset. If we compare with a simulation where, as per default, the states are reset before the first time step, we notice a difference:"
   ]
  },
  {
   "cell_type": "code",
   "execution_count": 22,
   "id": "pharmaceutical-chapel",
   "metadata": {
    "execution": {
     "iopub.execute_input": "2023-08-06T07:01:56.738968Z",
     "iopub.status.busy": "2023-08-06T07:01:56.738714Z",
     "iopub.status.idle": "2023-08-06T07:01:56.747171Z",
     "shell.execute_reply": "2023-08-06T07:01:56.746815Z"
    }
   },
   "outputs": [],
   "source": [
    "simulation.set_simulation_span(start=sHot, end=eHot)\n",
    "simulation.exec_simulation(reset_initial_states = False)\n",
    "noReset = simulation.get_recorded(outflowId)\n",
    "simulation.exec_simulation(reset_initial_states = True)\n",
    "withReset = simulation.get_recorded(outflowId)"
   ]
  },
  {
   "cell_type": "code",
   "execution_count": 23,
   "id": "external-bridges",
   "metadata": {
    "execution": {
     "iopub.execute_input": "2023-08-06T07:01:56.749034Z",
     "iopub.status.busy": "2023-08-06T07:01:56.748868Z",
     "iopub.status.idle": "2023-08-06T07:01:56.753814Z",
     "shell.execute_reply": "2023-08-06T07:01:56.753409Z"
    }
   },
   "outputs": [],
   "source": [
    "noReset = noReset.squeeze(drop=True)\n",
    "\n",
    "x = xr.concat([noReset,withReset], dim=pd.Index(['no reset','reset'], name='scenario')).squeeze(drop=True)"
   ]
  },
  {
   "cell_type": "code",
   "execution_count": 24,
   "id": "headed-shaft",
   "metadata": {
    "execution": {
     "iopub.execute_input": "2023-08-06T07:01:56.755701Z",
     "iopub.status.busy": "2023-08-06T07:01:56.755422Z",
     "iopub.status.idle": "2023-08-06T07:01:56.948189Z",
     "shell.execute_reply": "2023-08-06T07:01:56.947725Z"
    }
   },
   "outputs": [
    {
     "data": {
      "image/png": "[encoded data removed]",
      "text/plain": [
       "<Figure size 1600x900 with 1 Axes>"
      ]
     },
     "metadata": {},
     "output_type": "display_data"
    }
   ],
   "source": [
    "#zoo::plot.zoo(x, plot.type='single', col=c('blue','red'), ylab=\"Outflow m3/s\", main=\"Outflows with/without state resets\")\n",
    "# TODO: see whether waa figures are appropriate\n",
    "fig, ax = plt.subplots(figsize=(16,9))\n",
    "ax.plot(x.time.values, x.sel(scenario='no reset'), linewidth=2, label='No reset')\n",
    "ax.plot(x.time.values, x.sel(scenario='reset'), linewidth=2, label='Reset')\n",
    "ax.legend()\n",
    "plt.show()"
   ]
  },
  {
   "cell_type": "markdown",
   "id": "roman-artwork",
   "metadata": {},
   "source": [
    "Now let'd ready the simulation to do ensemble forecasts. We define a list `inputMap` such that keys are the names of ensemble forecast time series found in `data_library` and the values is one or more of the model properties found in the simulation. In this instance we use the same series for all model precipitation inputs in `precip_ids` "
   ]
  },
  {
   "cell_type": "code",
   "execution_count": 25,
   "id": "excellent-fence",
   "metadata": {
    "execution": {
     "iopub.execute_input": "2023-08-06T07:01:56.950089Z",
     "iopub.status.busy": "2023-08-06T07:01:56.949922Z",
     "iopub.status.idle": "2023-08-06T07:01:56.952898Z",
     "shell.execute_reply": "2023-08-06T07:01:56.952587Z"
    }
   },
   "outputs": [],
   "source": [
    "simulation.reset_model_states()\n",
    "simulation.set_states(snapshot)"
   ]
  },
  {
   "cell_type": "code",
   "execution_count": 26,
   "id": "prepared-definition",
   "metadata": {
    "execution": {
     "iopub.execute_input": "2023-08-06T07:01:56.954892Z",
     "iopub.status.busy": "2023-08-06T07:01:56.954517Z",
     "iopub.status.idle": "2023-08-06T07:01:56.961524Z",
     "shell.execute_reply": "2023-08-06T07:01:56.960963Z"
    }
   },
   "outputs": [],
   "source": [
    "inputMap = {'rain_fcast_ens':precip_ids}"
   ]
  },
  {
   "cell_type": "code",
   "execution_count": 27,
   "id": "material-server",
   "metadata": {
    "execution": {
     "iopub.execute_input": "2023-08-06T07:01:56.963568Z",
     "iopub.status.busy": "2023-08-06T07:01:56.963357Z",
     "iopub.status.idle": "2023-08-06T07:01:57.058019Z",
     "shell.execute_reply": "2023-08-06T07:01:57.057440Z"
    }
   },
   "outputs": [],
   "source": [
    "ems = simulation.create_ensemble_forecast_simulation(data_library, start=sHot, end=eHot, input_map=inputMap, lead_time=(24*2+23), ensemble_size=100, n_time_steps_between_forecasts=24)"
   ]
  },
  {
   "cell_type": "code",
   "execution_count": 28,
   "id": "better-violin",
   "metadata": {
    "execution": {
     "iopub.execute_input": "2023-08-06T07:01:57.060037Z",
     "iopub.status.busy": "2023-08-06T07:01:57.059900Z",
     "iopub.status.idle": "2023-08-06T07:01:57.063254Z",
     "shell.execute_reply": "2023-08-06T07:01:57.062939Z"
    }
   },
   "outputs": [
    {
     "data": {
      "text/plain": [
       "{'start': datetime.datetime(2010, 8, 1, 21, 0),\n",
       " 'end': datetime.datetime(2010, 8, 4, 21, 0),\n",
       " 'time step': 'hourly'}"
      ]
     },
     "execution_count": 28,
     "metadata": {},
     "output_type": "execute_result"
    }
   ],
   "source": [
    "ems.get_simulation_span()"
   ]
  },
  {
   "cell_type": "code",
   "execution_count": 29,
   "id": "alert-holly",
   "metadata": {
    "execution": {
     "iopub.execute_input": "2023-08-06T07:01:57.065044Z",
     "iopub.status.busy": "2023-08-06T07:01:57.064832Z",
     "iopub.status.idle": "2023-08-06T07:01:57.154649Z",
     "shell.execute_reply": "2023-08-06T07:01:57.154098Z"
    }
   },
   "outputs": [],
   "source": [
    "import swift2.play_record as spr\n",
    "ems.record_state(outflowId)\n",
    "ems.exec_simulation()\n",
    "forecasts = ems.get_recorded_ensemble_forecast(outflowId)"
   ]
  },
  {
   "cell_type": "code",
   "execution_count": 30,
   "id": "51de80ca-4a6d-4866-96cc-74652b05dd8b",
   "metadata": {
    "execution": {
     "iopub.execute_input": "2023-08-06T07:01:57.157115Z",
     "iopub.status.busy": "2023-08-06T07:01:57.156930Z",
     "iopub.status.idle": "2023-08-06T07:01:57.160784Z",
     "shell.execute_reply": "2023-08-06T07:01:57.160445Z"
    }
   },
   "outputs": [
    {
     "data": {
      "text/plain": [
       "uchronia.classes.EnsembleForecastTimeSeries"
      ]
     },
     "execution_count": 30,
     "metadata": {},
     "output_type": "execute_result"
    }
   ],
   "source": [
    "type(forecasts)"
   ]
  },
  {
   "cell_type": "code",
   "execution_count": 31,
   "id": "presidential-ownership",
   "metadata": {
    "execution": {
     "iopub.execute_input": "2023-08-06T07:01:57.162653Z",
     "iopub.status.busy": "2023-08-06T07:01:57.162480Z",
     "iopub.status.idle": "2023-08-06T07:01:57.167524Z",
     "shell.execute_reply": "2023-08-06T07:01:57.167015Z"
    }
   },
   "outputs": [],
   "source": [
    "flow_forecasts = forecasts[0]"
   ]
  },
  {
   "cell_type": "code",
   "execution_count": 32,
   "id": "promotional-stations",
   "metadata": {
    "execution": {
     "iopub.execute_input": "2023-08-06T07:01:57.169380Z",
     "iopub.status.busy": "2023-08-06T07:01:57.169223Z",
     "iopub.status.idle": "2023-08-06T07:01:57.179015Z",
     "shell.execute_reply": "2023-08-06T07:01:57.178547Z"
    }
   },
   "outputs": [
    {
     "data": {
      "text/html": [
       "<div><svg style=\"position: absolute; width: 0; height: 0; overflow: hidden\">\n",
       "<defs>\n",
       "<symbol id=\"icon-database\" viewBox=\"0 0 32 32\">\n",
       "<path d=\"M16 0c-8.837 0-16 2.239-16 5v4c0 2.761 7.163 5 16 5s16-2.239 16-5v-4c0-2.761-7.163-5-16-5z\"></path>\n",
       "<path d=\"M16 17c-8.837 0-16-2.239-16-5v6c0 2.761 7.163 5 16 5s16-2.239 16-5v-6c0 2.761-7.163 5-16 5z\"></path>\n",
       "<path d=\"M16 26c-8.837 0-16-2.239-16-5v6c0 2.761 7.163 5 16 5s16-2.239 16-5v-6c0 2.761-7.163 5-16 5z\"></path>\n",
       "</symbol>\n",
       "<symbol id=\"icon-file-text2\" viewBox=\"0 0 32 32\">\n",
       "<path d=\"M28.681 7.159c-0.694-0.947-1.662-2.053-2.724-3.116s-2.169-2.030-3.116-2.724c-1.612-1.182-2.393-1.319-2.841-1.319h-15.5c-1.378 0-2.5 1.121-2.5 2.5v27c0 1.378 1.122 2.5 2.5 2.5h23c1.378 0 2.5-1.122 2.5-2.5v-19.5c0-0.448-0.137-1.23-1.319-2.841zM24.543 5.457c0.959 0.959 1.712 1.825 2.268 2.543h-4.811v-4.811c0.718 0.556 1.584 1.309 2.543 2.268zM28 29.5c0 0.271-0.229 0.5-0.5 0.5h-23c-0.271 0-0.5-0.229-0.5-0.5v-27c0-0.271 0.229-0.5 0.5-0.5 0 0 15.499-0 15.5 0v7c0 0.552 0.448 1 1 1h7v19.5z\"></path>\n",
       "<path d=\"M23 26h-14c-0.552 0-1-0.448-1-1s0.448-1 1-1h14c0.552 0 1 0.448 1 1s-0.448 1-1 1z\"></path>\n",
       "<path d=\"M23 22h-14c-0.552 0-1-0.448-1-1s0.448-1 1-1h14c0.552 0 1 0.448 1 1s-0.448 1-1 1z\"></path>\n",
       "<path d=\"M23 18h-14c-0.552 0-1-0.448-1-1s0.448-1 1-1h14c0.552 0 1 0.448 1 1s-0.448 1-1 1z\"></path>\n",
       "</symbol>\n",
       "</defs>\n",
       "</svg>\n",
       "<style>/* CSS stylesheet for displaying xarray objects in jupyterlab.\n",
       " *\n",
       " */\n",
       "\n",
       ":root {\n",
       "  --xr-font-color0: var(--jp-content-font-color0, rgba(0, 0, 0, 1));\n",
       "  --xr-font-color2: var(--jp-content-font-color2, rgba(0, 0, 0, 0.54));\n",
       "  --xr-font-color3: var(--jp-content-font-color3, rgba(0, 0, 0, 0.38));\n",
       "  --xr-border-color: var(--jp-border-color2, #e0e0e0);\n",
       "  --xr-disabled-color: var(--jp-layout-color3, #bdbdbd);\n",
       "  --xr-background-color: var(--jp-layout-color0, white);\n",
       "  --xr-background-color-row-even: var(--jp-layout-color1, white);\n",
       "  --xr-background-color-row-odd: var(--jp-layout-color2, #eeeeee);\n",
       "}\n",
       "\n",
       "html[theme=dark],\n",
       "body[data-theme=dark],\n",
       "body.vscode-dark {\n",
       "  --xr-font-color0: rgba(255, 255, 255, 1);\n",
       "  --xr-font-color2: rgba(255, 255, 255, 0.54);\n",
       "  --xr-font-color3: rgba(255, 255, 255, 0.38);\n",
       "  --xr-border-color: #1F1F1F;\n",
       "  --xr-disabled-color: #515151;\n",
       "  --xr-background-color: #111111;\n",
       "  --xr-background-color-row-even: #111111;\n",
       "  --xr-background-color-row-odd: #313131;\n",
       "}\n",
       "\n",
       ".xr-wrap {\n",
       "  display: block !important;\n",
       "  min-width: 300px;\n",
       "  max-width: 700px;\n",
       "}\n",
       "\n",
       ".xr-text-repr-fallback {\n",
       "  /* fallback to plain text repr when CSS is not injected (untrusted notebook) */\n",
       "  display: none;\n",
       "}\n",
       "\n",
       ".xr-header {\n",
       "  padding-top: 6px;\n",
       "  padding-bottom: 6px;\n",
       "  margin-bottom: 4px;\n",
       "  border-bottom: solid 1px var(--xr-border-color);\n",
       "}\n",
       "\n",
       ".xr-header > div,\n",
       ".xr-header > ul {\n",
       "  display: inline;\n",
       "  margin-top: 0;\n",
       "  margin-bottom: 0;\n",
       "}\n",
       "\n",
       ".xr-obj-type,\n",
       ".xr-array-name {\n",
       "  margin-left: 2px;\n",
       "  margin-right: 10px;\n",
       "}\n",
       "\n",
       ".xr-obj-type {\n",
       "  color: var(--xr-font-color2);\n",
       "}\n",
       "\n",
       ".xr-sections {\n",
       "  padding-left: 0 !important;\n",
       "  display: grid;\n",
       "  grid-template-columns: 150px auto auto 1fr 20px 20px;\n",
       "}\n",
       "\n",
       ".xr-section-item {\n",
       "  display: contents;\n",
       "}\n",
       "\n",
       ".xr-section-item input {\n",
       "  display: none;\n",
       "}\n",
       "\n",
       ".xr-section-item input + label {\n",
       "  color: var(--xr-disabled-color);\n",
       "}\n",
       "\n",
       ".xr-section-item input:enabled + label {\n",
       "  cursor: pointer;\n",
       "  color: var(--xr-font-color2);\n",
       "}\n",
       "\n",
       ".xr-section-item input:enabled + label:hover {\n",
       "  color: var(--xr-font-color0);\n",
       "}\n",
       "\n",
       ".xr-section-summary {\n",
       "  grid-column: 1;\n",
       "  color: var(--xr-font-color2);\n",
       "  font-weight: 500;\n",
       "}\n",
       "\n",
       ".xr-section-summary > span {\n",
       "  display: inline-block;\n",
       "  padding-left: 0.5em;\n",
       "}\n",
       "\n",
       ".xr-section-summary-in:disabled + label {\n",
       "  color: var(--xr-font-color2);\n",
       "}\n",
       "\n",
       ".xr-section-summary-in + label:before {\n",
       "  display: inline-block;\n",
       "  content: '►';\n",
       "  font-size: 11px;\n",
       "  width: 15px;\n",
       "  text-align: center;\n",
       "}\n",
       "\n",
       ".xr-section-summary-in:disabled + label:before {\n",
       "  color: var(--xr-disabled-color);\n",
       "}\n",
       "\n",
       ".xr-section-summary-in:checked + label:before {\n",
       "  content: '▼';\n",
       "}\n",
       "\n",
       ".xr-section-summary-in:checked + label > span {\n",
       "  display: none;\n",
       "}\n",
       "\n",
       ".xr-section-summary,\n",
       ".xr-section-inline-details {\n",
       "  padding-top: 4px;\n",
       "  padding-bottom: 4px;\n",
       "}\n",
       "\n",
       ".xr-section-inline-details {\n",
       "  grid-column: 2 / -1;\n",
       "}\n",
       "\n",
       ".xr-section-details {\n",
       "  display: none;\n",
       "  grid-column: 1 / -1;\n",
       "  margin-bottom: 5px;\n",
       "}\n",
       "\n",
       ".xr-section-summary-in:checked ~ .xr-section-details {\n",
       "  display: contents;\n",
       "}\n",
       "\n",
       ".xr-array-wrap {\n",
       "  grid-column: 1 / -1;\n",
       "  display: grid;\n",
       "  grid-template-columns: 20px auto;\n",
       "}\n",
       "\n",
       ".xr-array-wrap > label {\n",
       "  grid-column: 1;\n",
       "  vertical-align: top;\n",
       "}\n",
       "\n",
       ".xr-preview {\n",
       "  color: var(--xr-font-color3);\n",
       "}\n",
       "\n",
       ".xr-array-preview,\n",
       ".xr-array-data {\n",
       "  padding: 0 5px !important;\n",
       "  grid-column: 2;\n",
       "}\n",
       "\n",
       ".xr-array-data,\n",
       ".xr-array-in:checked ~ .xr-array-preview {\n",
       "  display: none;\n",
       "}\n",
       "\n",
       ".xr-array-in:checked ~ .xr-array-data,\n",
       ".xr-array-preview {\n",
       "  display: inline-block;\n",
       "}\n",
       "\n",
       ".xr-dim-list {\n",
       "  display: inline-block !important;\n",
       "  list-style: none;\n",
       "  padding: 0 !important;\n",
       "  margin: 0;\n",
       "}\n",
       "\n",
       ".xr-dim-list li {\n",
       "  display: inline-block;\n",
       "  padding: 0;\n",
       "  margin: 0;\n",
       "}\n",
       "\n",
       ".xr-dim-list:before {\n",
       "  content: '(';\n",
       "}\n",
       "\n",
       ".xr-dim-list:after {\n",
       "  content: ')';\n",
       "}\n",
       "\n",
       ".xr-dim-list li:not(:last-child):after {\n",
       "  content: ',';\n",
       "  padding-right: 5px;\n",
       "}\n",
       "\n",
       ".xr-has-index {\n",
       "  font-weight: bold;\n",
       "}\n",
       "\n",
       ".xr-var-list,\n",
       ".xr-var-item {\n",
       "  display: contents;\n",
       "}\n",
       "\n",
       ".xr-var-item > div,\n",
       ".xr-var-item label,\n",
       ".xr-var-item > .xr-var-name span {\n",
       "  background-color: var(--xr-background-color-row-even);\n",
       "  margin-bottom: 0;\n",
       "}\n",
       "\n",
       ".xr-var-item > .xr-var-name:hover span {\n",
       "  padding-right: 5px;\n",
       "}\n",
       "\n",
       ".xr-var-list > li:nth-child(odd) > div,\n",
       ".xr-var-list > li:nth-child(odd) > label,\n",
       ".xr-var-list > li:nth-child(odd) > .xr-var-name span {\n",
       "  background-color: var(--xr-background-color-row-odd);\n",
       "}\n",
       "\n",
       ".xr-var-name {\n",
       "  grid-column: 1;\n",
       "}\n",
       "\n",
       ".xr-var-dims {\n",
       "  grid-column: 2;\n",
       "}\n",
       "\n",
       ".xr-var-dtype {\n",
       "  grid-column: 3;\n",
       "  text-align: right;\n",
       "  color: var(--xr-font-color2);\n",
       "}\n",
       "\n",
       ".xr-var-preview {\n",
       "  grid-column: 4;\n",
       "}\n",
       "\n",
       ".xr-index-preview {\n",
       "  grid-column: 2 / 5;\n",
       "  color: var(--xr-font-color2);\n",
       "}\n",
       "\n",
       ".xr-var-name,\n",
       ".xr-var-dims,\n",
       ".xr-var-dtype,\n",
       ".xr-preview,\n",
       ".xr-attrs dt {\n",
       "  white-space: nowrap;\n",
       "  overflow: hidden;\n",
       "  text-overflow: ellipsis;\n",
       "  padding-right: 10px;\n",
       "}\n",
       "\n",
       ".xr-var-name:hover,\n",
       ".xr-var-dims:hover,\n",
       ".xr-var-dtype:hover,\n",
       ".xr-attrs dt:hover {\n",
       "  overflow: visible;\n",
       "  width: auto;\n",
       "  z-index: 1;\n",
       "}\n",
       "\n",
       ".xr-var-attrs,\n",
       ".xr-var-data,\n",
       ".xr-index-data {\n",
       "  display: none;\n",
       "  background-color: var(--xr-background-color) !important;\n",
       "  padding-bottom: 5px !important;\n",
       "}\n",
       "\n",
       ".xr-var-attrs-in:checked ~ .xr-var-attrs,\n",
       ".xr-var-data-in:checked ~ .xr-var-data,\n",
       ".xr-index-data-in:checked ~ .xr-index-data {\n",
       "  display: block;\n",
       "}\n",
       "\n",
       ".xr-var-data > table {\n",
       "  float: right;\n",
       "}\n",
       "\n",
       ".xr-var-name span,\n",
       ".xr-var-data,\n",
       ".xr-index-name div,\n",
       ".xr-index-data,\n",
       ".xr-attrs {\n",
       "  padding-left: 25px !important;\n",
       "}\n",
       "\n",
       ".xr-attrs,\n",
       ".xr-var-attrs,\n",
       ".xr-var-data,\n",
       ".xr-index-data {\n",
       "  grid-column: 1 / -1;\n",
       "}\n",
       "\n",
       "dl.xr-attrs {\n",
       "  padding: 0;\n",
       "  margin: 0;\n",
       "  display: grid;\n",
       "  grid-template-columns: 125px auto;\n",
       "}\n",
       "\n",
       ".xr-attrs dt,\n",
       ".xr-attrs dd {\n",
       "  padding: 0;\n",
       "  margin: 0;\n",
       "  float: left;\n",
       "  padding-right: 10px;\n",
       "  width: auto;\n",
       "}\n",
       "\n",
       ".xr-attrs dt {\n",
       "  font-weight: normal;\n",
       "  grid-column: 1;\n",
       "}\n",
       "\n",
       ".xr-attrs dt:hover span {\n",
       "  display: inline-block;\n",
       "  background: var(--xr-background-color);\n",
       "  padding-right: 10px;\n",
       "}\n",
       "\n",
       ".xr-attrs dd {\n",
       "  grid-column: 2;\n",
       "  white-space: pre-wrap;\n",
       "  word-break: break-all;\n",
       "}\n",
       "\n",
       ".xr-icon-database,\n",
       ".xr-icon-file-text2,\n",
       ".xr-no-icon {\n",
       "  display: inline-block;\n",
       "  vertical-align: middle;\n",
       "  width: 1em;\n",
       "  height: 1.5em !important;\n",
       "  stroke-width: 0;\n",
       "  stroke: currentColor;\n",
       "  fill: currentColor;\n",
       "}\n",
       "</style><pre class='xr-text-repr-fallback'>&lt;xarray.DataArray (ensemble: 100, time: 71)&gt;\n",
       "array([[0.8898914 , 0.97225084, 1.05916427, ..., 0.76254716, 0.6787237 ,\n",
       "        0.6702664 ],\n",
       "       [0.63547795, 0.62744525, 0.61985413, ..., 0.47899561, 0.48934704,\n",
       "        0.49825249],\n",
       "       [0.62397353, 0.61255692, 0.60179053, ..., 0.41359509, 0.4271383 ,\n",
       "        0.43487164],\n",
       "       ...,\n",
       "       [0.61988133, 0.6072754 , 0.59540094, ..., 0.48367713, 0.47991112,\n",
       "        0.47624805],\n",
       "       [0.61967395, 0.60698496, 0.59505003, ..., 0.46636062, 0.46183589,\n",
       "        0.45746333],\n",
       "       [0.61967228, 0.60698117, 0.59504373, ..., 0.34924574, 0.34735597,\n",
       "        0.34549876]])\n",
       "Coordinates:\n",
       "  * ensemble  (ensemble) int64 0 1 2 3 4 5 6 7 8 ... 91 92 93 94 95 96 97 98 99\n",
       "  * time      (time) datetime64[ns] 2010-08-01T22:00:00 ... 2010-08-04T20:00:00</pre><div class='xr-wrap' style='display:none'><div class='xr-header'><div class='xr-obj-type'>xarray.DataArray</div><div class='xr-array-name'></div><ul class='xr-dim-list'><li><span class='xr-has-index'>ensemble</span>: 100</li><li><span class='xr-has-index'>time</span>: 71</li></ul></div><ul class='xr-sections'><li class='xr-section-item'><div class='xr-array-wrap'><input id='section-14c60a5d-eb06-4f8b-b99f-3b2ff9cd8f71' class='xr-array-in' type='checkbox' checked><label for='section-14c60a5d-eb06-4f8b-b99f-3b2ff9cd8f71' title='Show/hide data repr'><svg class='icon xr-icon-database'><use xlink:href='#icon-database'></use></svg></label><div class='xr-array-preview xr-preview'><span>0.8899 0.9723 1.059 1.522 1.817 ... 0.3531 0.3512 0.3492 0.3474 0.3455</span></div><div class='xr-array-data'><pre>array([[0.8898914 , 0.97225084, 1.05916427, ..., 0.76254716, 0.6787237 ,\n",
       "        0.6702664 ],\n",
       "       [0.63547795, 0.62744525, 0.61985413, ..., 0.47899561, 0.48934704,\n",
       "        0.49825249],\n",
       "       [0.62397353, 0.61255692, 0.60179053, ..., 0.41359509, 0.4271383 ,\n",
       "        0.43487164],\n",
       "       ...,\n",
       "       [0.61988133, 0.6072754 , 0.59540094, ..., 0.48367713, 0.47991112,\n",
       "        0.47624805],\n",
       "       [0.61967395, 0.60698496, 0.59505003, ..., 0.46636062, 0.46183589,\n",
       "        0.45746333],\n",
       "       [0.61967228, 0.60698117, 0.59504373, ..., 0.34924574, 0.34735597,\n",
       "        0.34549876]])</pre></div></div></li><li class='xr-section-item'><input id='section-30975f9e-07dc-486c-9587-323989d3e33e' class='xr-section-summary-in' type='checkbox'  checked><label for='section-30975f9e-07dc-486c-9587-323989d3e33e' class='xr-section-summary' >Coordinates: <span>(2)</span></label><div class='xr-section-inline-details'></div><div class='xr-section-details'><ul class='xr-var-list'><li class='xr-var-item'><div class='xr-var-name'><span class='xr-has-index'>ensemble</span></div><div class='xr-var-dims'>(ensemble)</div><div class='xr-var-dtype'>int64</div><div class='xr-var-preview xr-preview'>0 1 2 3 4 5 6 ... 94 95 96 97 98 99</div><input id='attrs-b223024f-0a68-48e3-92fa-f0d52bc54fa5' class='xr-var-attrs-in' type='checkbox' disabled><label for='attrs-b223024f-0a68-48e3-92fa-f0d52bc54fa5' title='Show/Hide attributes'><svg class='icon xr-icon-file-text2'><use xlink:href='#icon-file-text2'></use></svg></label><input id='data-214bd4dd-20a0-44fe-8738-71dcad4a5fe9' class='xr-var-data-in' type='checkbox'><label for='data-214bd4dd-20a0-44fe-8738-71dcad4a5fe9' title='Show/Hide data repr'><svg class='icon xr-icon-database'><use xlink:href='#icon-database'></use></svg></label><div class='xr-var-attrs'><dl class='xr-attrs'></dl></div><div class='xr-var-data'><pre>array([ 0,  1,  2,  3,  4,  5,  6,  7,  8,  9, 10, 11, 12, 13, 14, 15, 16, 17,\n",
       "       18, 19, 20, 21, 22, 23, 24, 25, 26, 27, 28, 29, 30, 31, 32, 33, 34, 35,\n",
       "       36, 37, 38, 39, 40, 41, 42, 43, 44, 45, 46, 47, 48, 49, 50, 51, 52, 53,\n",
       "       54, 55, 56, 57, 58, 59, 60, 61, 62, 63, 64, 65, 66, 67, 68, 69, 70, 71,\n",
       "       72, 73, 74, 75, 76, 77, 78, 79, 80, 81, 82, 83, 84, 85, 86, 87, 88, 89,\n",
       "       90, 91, 92, 93, 94, 95, 96, 97, 98, 99])</pre></div></li><li class='xr-var-item'><div class='xr-var-name'><span class='xr-has-index'>time</span></div><div class='xr-var-dims'>(time)</div><div class='xr-var-dtype'>datetime64[ns]</div><div class='xr-var-preview xr-preview'>2010-08-01T22:00:00 ... 2010-08-...</div><input id='attrs-a0bc657a-68d9-4d88-8c52-d106cc4d6988' class='xr-var-attrs-in' type='checkbox' disabled><label for='attrs-a0bc657a-68d9-4d88-8c52-d106cc4d6988' title='Show/Hide attributes'><svg class='icon xr-icon-file-text2'><use xlink:href='#icon-file-text2'></use></svg></label><input id='data-5097ac62-0fed-4fde-8234-975c42e59356' class='xr-var-data-in' type='checkbox'><label for='data-5097ac62-0fed-4fde-8234-975c42e59356' title='Show/Hide data repr'><svg class='icon xr-icon-database'><use xlink:href='#icon-database'></use></svg></label><div class='xr-var-attrs'><dl class='xr-attrs'></dl></div><div class='xr-var-data'><pre>array([&#x27;2010-08-01T22:00:00.000000000&#x27;, &#x27;2010-08-01T23:00:00.000000000&#x27;,\n",
       "       &#x27;2010-08-02T00:00:00.000000000&#x27;, &#x27;2010-08-02T01:00:00.000000000&#x27;,\n",
       "       &#x27;2010-08-02T02:00:00.000000000&#x27;, &#x27;2010-08-02T03:00:00.000000000&#x27;,\n",
       "       &#x27;2010-08-02T04:00:00.000000000&#x27;, &#x27;2010-08-02T05:00:00.000000000&#x27;,\n",
       "       &#x27;2010-08-02T06:00:00.000000000&#x27;, &#x27;2010-08-02T07:00:00.000000000&#x27;,\n",
       "       &#x27;2010-08-02T08:00:00.000000000&#x27;, &#x27;2010-08-02T09:00:00.000000000&#x27;,\n",
       "       &#x27;2010-08-02T10:00:00.000000000&#x27;, &#x27;2010-08-02T11:00:00.000000000&#x27;,\n",
       "       &#x27;2010-08-02T12:00:00.000000000&#x27;, &#x27;2010-08-02T13:00:00.000000000&#x27;,\n",
       "       &#x27;2010-08-02T14:00:00.000000000&#x27;, &#x27;2010-08-02T15:00:00.000000000&#x27;,\n",
       "       &#x27;2010-08-02T16:00:00.000000000&#x27;, &#x27;2010-08-02T17:00:00.000000000&#x27;,\n",
       "       &#x27;2010-08-02T18:00:00.000000000&#x27;, &#x27;2010-08-02T19:00:00.000000000&#x27;,\n",
       "       &#x27;2010-08-02T20:00:00.000000000&#x27;, &#x27;2010-08-02T21:00:00.000000000&#x27;,\n",
       "       &#x27;2010-08-02T22:00:00.000000000&#x27;, &#x27;2010-08-02T23:00:00.000000000&#x27;,\n",
       "       &#x27;2010-08-03T00:00:00.000000000&#x27;, &#x27;2010-08-03T01:00:00.000000000&#x27;,\n",
       "       &#x27;2010-08-03T02:00:00.000000000&#x27;, &#x27;2010-08-03T03:00:00.000000000&#x27;,\n",
       "       &#x27;2010-08-03T04:00:00.000000000&#x27;, &#x27;2010-08-03T05:00:00.000000000&#x27;,\n",
       "       &#x27;2010-08-03T06:00:00.000000000&#x27;, &#x27;2010-08-03T07:00:00.000000000&#x27;,\n",
       "       &#x27;2010-08-03T08:00:00.000000000&#x27;, &#x27;2010-08-03T09:00:00.000000000&#x27;,\n",
       "       &#x27;2010-08-03T10:00:00.000000000&#x27;, &#x27;2010-08-03T11:00:00.000000000&#x27;,\n",
       "       &#x27;2010-08-03T12:00:00.000000000&#x27;, &#x27;2010-08-03T13:00:00.000000000&#x27;,\n",
       "       &#x27;2010-08-03T14:00:00.000000000&#x27;, &#x27;2010-08-03T15:00:00.000000000&#x27;,\n",
       "       &#x27;2010-08-03T16:00:00.000000000&#x27;, &#x27;2010-08-03T17:00:00.000000000&#x27;,\n",
       "       &#x27;2010-08-03T18:00:00.000000000&#x27;, &#x27;2010-08-03T19:00:00.000000000&#x27;,\n",
       "       &#x27;2010-08-03T20:00:00.000000000&#x27;, &#x27;2010-08-03T21:00:00.000000000&#x27;,\n",
       "       &#x27;2010-08-03T22:00:00.000000000&#x27;, &#x27;2010-08-03T23:00:00.000000000&#x27;,\n",
       "       &#x27;2010-08-04T00:00:00.000000000&#x27;, &#x27;2010-08-04T01:00:00.000000000&#x27;,\n",
       "       &#x27;2010-08-04T02:00:00.000000000&#x27;, &#x27;2010-08-04T03:00:00.000000000&#x27;,\n",
       "       &#x27;2010-08-04T04:00:00.000000000&#x27;, &#x27;2010-08-04T05:00:00.000000000&#x27;,\n",
       "       &#x27;2010-08-04T06:00:00.000000000&#x27;, &#x27;2010-08-04T07:00:00.000000000&#x27;,\n",
       "       &#x27;2010-08-04T08:00:00.000000000&#x27;, &#x27;2010-08-04T09:00:00.000000000&#x27;,\n",
       "       &#x27;2010-08-04T10:00:00.000000000&#x27;, &#x27;2010-08-04T11:00:00.000000000&#x27;,\n",
       "       &#x27;2010-08-04T12:00:00.000000000&#x27;, &#x27;2010-08-04T13:00:00.000000000&#x27;,\n",
       "       &#x27;2010-08-04T14:00:00.000000000&#x27;, &#x27;2010-08-04T15:00:00.000000000&#x27;,\n",
       "       &#x27;2010-08-04T16:00:00.000000000&#x27;, &#x27;2010-08-04T17:00:00.000000000&#x27;,\n",
       "       &#x27;2010-08-04T18:00:00.000000000&#x27;, &#x27;2010-08-04T19:00:00.000000000&#x27;,\n",
       "       &#x27;2010-08-04T20:00:00.000000000&#x27;], dtype=&#x27;datetime64[ns]&#x27;)</pre></div></li></ul></div></li><li class='xr-section-item'><input id='section-71e48c09-584e-46e1-94f4-adde2c5982be' class='xr-section-summary-in' type='checkbox'  ><label for='section-71e48c09-584e-46e1-94f4-adde2c5982be' class='xr-section-summary' >Indexes: <span>(2)</span></label><div class='xr-section-inline-details'></div><div class='xr-section-details'><ul class='xr-var-list'><li class='xr-var-item'><div class='xr-index-name'><div>ensemble</div></div><div class='xr-index-preview'>PandasIndex</div><div></div><input id='index-d31af508-fd1b-4204-bb3f-8f5510f690f9' class='xr-index-data-in' type='checkbox'/><label for='index-d31af508-fd1b-4204-bb3f-8f5510f690f9' title='Show/Hide index repr'><svg class='icon xr-icon-database'><use xlink:href='#icon-database'></use></svg></label><div class='xr-index-data'><pre>PandasIndex(Index([ 0,  1,  2,  3,  4,  5,  6,  7,  8,  9, 10, 11, 12, 13, 14, 15, 16, 17,\n",
       "       18, 19, 20, 21, 22, 23, 24, 25, 26, 27, 28, 29, 30, 31, 32, 33, 34, 35,\n",
       "       36, 37, 38, 39, 40, 41, 42, 43, 44, 45, 46, 47, 48, 49, 50, 51, 52, 53,\n",
       "       54, 55, 56, 57, 58, 59, 60, 61, 62, 63, 64, 65, 66, 67, 68, 69, 70, 71,\n",
       "       72, 73, 74, 75, 76, 77, 78, 79, 80, 81, 82, 83, 84, 85, 86, 87, 88, 89,\n",
       "       90, 91, 92, 93, 94, 95, 96, 97, 98, 99],\n",
       "      dtype=&#x27;int64&#x27;, name=&#x27;ensemble&#x27;))</pre></div></li><li class='xr-var-item'><div class='xr-index-name'><div>time</div></div><div class='xr-index-preview'>PandasIndex</div><div></div><input id='index-ebafc595-49ea-4d9f-a1ec-862063183d99' class='xr-index-data-in' type='checkbox'/><label for='index-ebafc595-49ea-4d9f-a1ec-862063183d99' title='Show/Hide index repr'><svg class='icon xr-icon-database'><use xlink:href='#icon-database'></use></svg></label><div class='xr-index-data'><pre>PandasIndex(DatetimeIndex([&#x27;2010-08-01 22:00:00&#x27;, &#x27;2010-08-01 23:00:00&#x27;,\n",
       "               &#x27;2010-08-02 00:00:00&#x27;, &#x27;2010-08-02 01:00:00&#x27;,\n",
       "               &#x27;2010-08-02 02:00:00&#x27;, &#x27;2010-08-02 03:00:00&#x27;,\n",
       "               &#x27;2010-08-02 04:00:00&#x27;, &#x27;2010-08-02 05:00:00&#x27;,\n",
       "               &#x27;2010-08-02 06:00:00&#x27;, &#x27;2010-08-02 07:00:00&#x27;,\n",
       "               &#x27;2010-08-02 08:00:00&#x27;, &#x27;2010-08-02 09:00:00&#x27;,\n",
       "               &#x27;2010-08-02 10:00:00&#x27;, &#x27;2010-08-02 11:00:00&#x27;,\n",
       "               &#x27;2010-08-02 12:00:00&#x27;, &#x27;2010-08-02 13:00:00&#x27;,\n",
       "               &#x27;2010-08-02 14:00:00&#x27;, &#x27;2010-08-02 15:00:00&#x27;,\n",
       "               &#x27;2010-08-02 16:00:00&#x27;, &#x27;2010-08-02 17:00:00&#x27;,\n",
       "               &#x27;2010-08-02 18:00:00&#x27;, &#x27;2010-08-02 19:00:00&#x27;,\n",
       "               &#x27;2010-08-02 20:00:00&#x27;, &#x27;2010-08-02 21:00:00&#x27;,\n",
       "               &#x27;2010-08-02 22:00:00&#x27;, &#x27;2010-08-02 23:00:00&#x27;,\n",
       "               &#x27;2010-08-03 00:00:00&#x27;, &#x27;2010-08-03 01:00:00&#x27;,\n",
       "               &#x27;2010-08-03 02:00:00&#x27;, &#x27;2010-08-03 03:00:00&#x27;,\n",
       "               &#x27;2010-08-03 04:00:00&#x27;, &#x27;2010-08-03 05:00:00&#x27;,\n",
       "               &#x27;2010-08-03 06:00:00&#x27;, &#x27;2010-08-03 07:00:00&#x27;,\n",
       "               &#x27;2010-08-03 08:00:00&#x27;, &#x27;2010-08-03 09:00:00&#x27;,\n",
       "               &#x27;2010-08-03 10:00:00&#x27;, &#x27;2010-08-03 11:00:00&#x27;,\n",
       "               &#x27;2010-08-03 12:00:00&#x27;, &#x27;2010-08-03 13:00:00&#x27;,\n",
       "               &#x27;2010-08-03 14:00:00&#x27;, &#x27;2010-08-03 15:00:00&#x27;,\n",
       "               &#x27;2010-08-03 16:00:00&#x27;, &#x27;2010-08-03 17:00:00&#x27;,\n",
       "               &#x27;2010-08-03 18:00:00&#x27;, &#x27;2010-08-03 19:00:00&#x27;,\n",
       "               &#x27;2010-08-03 20:00:00&#x27;, &#x27;2010-08-03 21:00:00&#x27;,\n",
       "               &#x27;2010-08-03 22:00:00&#x27;, &#x27;2010-08-03 23:00:00&#x27;,\n",
       "               &#x27;2010-08-04 00:00:00&#x27;, &#x27;2010-08-04 01:00:00&#x27;,\n",
       "               &#x27;2010-08-04 02:00:00&#x27;, &#x27;2010-08-04 03:00:00&#x27;,\n",
       "               &#x27;2010-08-04 04:00:00&#x27;, &#x27;2010-08-04 05:00:00&#x27;,\n",
       "               &#x27;2010-08-04 06:00:00&#x27;, &#x27;2010-08-04 07:00:00&#x27;,\n",
       "               &#x27;2010-08-04 08:00:00&#x27;, &#x27;2010-08-04 09:00:00&#x27;,\n",
       "               &#x27;2010-08-04 10:00:00&#x27;, &#x27;2010-08-04 11:00:00&#x27;,\n",
       "               &#x27;2010-08-04 12:00:00&#x27;, &#x27;2010-08-04 13:00:00&#x27;,\n",
       "               &#x27;2010-08-04 14:00:00&#x27;, &#x27;2010-08-04 15:00:00&#x27;,\n",
       "               &#x27;2010-08-04 16:00:00&#x27;, &#x27;2010-08-04 17:00:00&#x27;,\n",
       "               &#x27;2010-08-04 18:00:00&#x27;, &#x27;2010-08-04 19:00:00&#x27;,\n",
       "               &#x27;2010-08-04 20:00:00&#x27;],\n",
       "              dtype=&#x27;datetime64[ns]&#x27;, name=&#x27;time&#x27;, freq=&#x27;H&#x27;))</pre></div></li></ul></div></li><li class='xr-section-item'><input id='section-2543e87e-c9fc-42d5-939e-6f25340fdd2c' class='xr-section-summary-in' type='checkbox' disabled ><label for='section-2543e87e-c9fc-42d5-939e-6f25340fdd2c' class='xr-section-summary'  title='Expand/collapse section'>Attributes: <span>(0)</span></label><div class='xr-section-inline-details'></div><div class='xr-section-details'><dl class='xr-attrs'></dl></div></li></ul></div></div>"
      ],
      "text/plain": [
       "<xarray.DataArray (ensemble: 100, time: 71)>\n",
       "array([[0.8898914 , 0.97225084, 1.05916427, ..., 0.76254716, 0.6787237 ,\n",
       "        0.6702664 ],\n",
       "       [0.63547795, 0.62744525, 0.61985413, ..., 0.47899561, 0.48934704,\n",
       "        0.49825249],\n",
       "       [0.62397353, 0.61255692, 0.60179053, ..., 0.41359509, 0.4271383 ,\n",
       "        0.43487164],\n",
       "       ...,\n",
       "       [0.61988133, 0.6072754 , 0.59540094, ..., 0.48367713, 0.47991112,\n",
       "        0.47624805],\n",
       "       [0.61967395, 0.60698496, 0.59505003, ..., 0.46636062, 0.46183589,\n",
       "        0.45746333],\n",
       "       [0.61967228, 0.60698117, 0.59504373, ..., 0.34924574, 0.34735597,\n",
       "        0.34549876]])\n",
       "Coordinates:\n",
       "  * ensemble  (ensemble) int64 0 1 2 3 4 5 6 7 8 ... 91 92 93 94 95 96 97 98 99\n",
       "  * time      (time) datetime64[ns] 2010-08-01T22:00:00 ... 2010-08-04T20:00:00"
      ]
     },
     "execution_count": 32,
     "metadata": {},
     "output_type": "execute_result"
    }
   ],
   "source": [
    "flow_forecasts"
   ]
  },
  {
   "cell_type": "code",
   "execution_count": 33,
   "id": "cultural-utility",
   "metadata": {
    "execution": {
     "iopub.execute_input": "2023-08-06T07:01:57.180965Z",
     "iopub.status.busy": "2023-08-06T07:01:57.180773Z",
     "iopub.status.idle": "2023-08-06T07:01:57.194416Z",
     "shell.execute_reply": "2023-08-06T07:01:57.194002Z"
    }
   },
   "outputs": [],
   "source": [
    "q = flow_forecasts.quantile([0.05, .25, .5, .75, 0.95], 'ensemble')"
   ]
  },
  {
   "cell_type": "code",
   "execution_count": 34,
   "id": "improving-toronto",
   "metadata": {
    "execution": {
     "iopub.execute_input": "2023-08-06T07:01:57.197219Z",
     "iopub.status.busy": "2023-08-06T07:01:57.196884Z",
     "iopub.status.idle": "2023-08-06T07:01:57.387489Z",
     "shell.execute_reply": "2023-08-06T07:01:57.387064Z"
    }
   },
   "outputs": [
    {
     "data": {
      "image/png": "[encoded data removed]",
      "text/plain": [
       "<Figure size 1600x900 with 1 Axes>"
      ]
     },
     "metadata": {},
     "output_type": "display_data"
    }
   ],
   "source": [
    "fig, ax = plt.subplots(figsize=(16,9))\n",
    "ax.fill_between(q.time.values, q.sel(quantile=0.05), q.sel(quantile=0.95), alpha=0.3, label='Perc. 50-95')\n",
    "ax.fill_between(q.time.values, q.sel(quantile=0.25), q.sel(quantile=.75), alpha=0.5, label='Perc. 25-75')\n",
    "ax._get_lines.get_next_color()  # Hack to get different line\n",
    "ax.plot(q.time.values, q.sel(quantile=.5), linewidth=2, label='Median')\n",
    "ax.legend()\n",
    "plt.show()"
   ]
  },
  {
   "cell_type": "code",
   "execution_count": null,
   "id": "unsigned-bacteria",
   "metadata": {},
   "outputs": [],
   "source": []
  },
  {
   "cell_type": "code",
   "execution_count": null,
   "id": "bd5d1f96-c170-42a0-aa9d-7c52ff514be3",
   "metadata": {},
   "outputs": [],
   "source": []
  }
 ],
 "metadata": {
  "jupytext": {
   "cell_metadata_filter": "tags,eval,name,-all",
   "formats": "ipynb,py:percent",
   "main_language": "R"
  },
  "kernelspec": {
   "display_name": "HFC",
   "language": "python",
   "name": "hydrofc"
  },
  "language_info": {
   "codemirror_mode": {
    "name": "ipython",
    "version": 3
   },
   "file_extension": ".py",
   "mimetype": "text/x-python",
   "name": "python",
   "nbconvert_exporter": "python",
   "pygments_lexer": "ipython3",
   "version": "3.9.16"
  }
 },
 "nbformat": 4,
 "nbformat_minor": 5
}
