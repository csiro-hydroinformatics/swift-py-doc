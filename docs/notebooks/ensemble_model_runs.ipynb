{
 "cells": [
  {
   "cell_type": "markdown",
   "id": "0",
   "metadata": {},
   "source": [
    "# Ensemble SWIFT model runs"
   ]
  },
  {
   "cell_type": "markdown",
   "id": "1",
   "metadata": {},
   "source": [
    "## About this document\n",
    "\n",
    "This document was generated from an R markdown file on `r as.character(Sys.time())`.\n",
    "\n",
    "## Elaboration"
   ]
  },
  {
   "cell_type": "code",
   "execution_count": 1,
   "id": "2",
   "metadata": {
    "execution": {
     "iopub.execute_input": "2025-02-17T03:58:46.201591Z",
     "iopub.status.busy": "2025-02-17T03:58:46.200944Z",
     "iopub.status.idle": "2025-02-17T03:58:46.680650Z",
     "shell.execute_reply": "2025-02-17T03:58:46.680101Z"
    },
    "lines_to_next_cell": 2
   },
   "outputs": [],
   "source": [
    "import pandas as pd\n",
    "import numpy as np\n",
    "import swift2\n",
    "from swift2.simulation import get_subarea_ids\n",
    "from swift2.utils import mk_full_data_id, paste0\n",
    "import xarray as xr"
   ]
  },
  {
   "cell_type": "code",
   "execution_count": 2,
   "id": "3",
   "metadata": {
    "execution": {
     "iopub.execute_input": "2025-02-17T03:58:46.682522Z",
     "iopub.status.busy": "2025-02-17T03:58:46.682210Z",
     "iopub.status.idle": "2025-02-17T03:58:46.699061Z",
     "shell.execute_reply": "2025-02-17T03:58:46.698554Z"
    }
   },
   "outputs": [],
   "source": [
    "import swift2.doc_helper as std\n",
    "import swift2.parameteriser as sp"
   ]
  },
  {
   "cell_type": "code",
   "execution_count": 3,
   "id": "4",
   "metadata": {
    "execution": {
     "iopub.execute_input": "2025-02-17T03:58:46.700817Z",
     "iopub.status.busy": "2025-02-17T03:58:46.700616Z",
     "iopub.status.idle": "2025-02-17T03:58:46.703106Z",
     "shell.execute_reply": "2025-02-17T03:58:46.702777Z"
    }
   },
   "outputs": [],
   "source": [
    "from swift2.const import CATCHMENT_FLOWRATE_VARID"
   ]
  },
  {
   "cell_type": "code",
   "execution_count": 4,
   "id": "5",
   "metadata": {
    "execution": {
     "iopub.execute_input": "2025-02-17T03:58:46.704872Z",
     "iopub.status.busy": "2025-02-17T03:58:46.704590Z",
     "iopub.status.idle": "2025-02-17T03:58:46.995024Z",
     "shell.execute_reply": "2025-02-17T03:58:46.994480Z"
    }
   },
   "outputs": [],
   "source": [
    "import matplotlib.pyplot as plt"
   ]
  },
  {
   "cell_type": "code",
   "execution_count": 5,
   "id": "6",
   "metadata": {
    "execution": {
     "iopub.execute_input": "2025-02-17T03:58:46.997026Z",
     "iopub.status.busy": "2025-02-17T03:58:46.996731Z",
     "iopub.status.idle": "2025-02-17T03:58:47.005011Z",
     "shell.execute_reply": "2025-02-17T03:58:47.004402Z"
    }
   },
   "outputs": [],
   "source": [
    "%matplotlib inline"
   ]
  },
  {
   "cell_type": "markdown",
   "id": "7",
   "metadata": {},
   "source": [
    "Let's create a test catchment with a few subareas "
   ]
  },
  {
   "cell_type": "code",
   "execution_count": 6,
   "id": "8",
   "metadata": {
    "execution": {
     "iopub.execute_input": "2025-02-17T03:58:47.007063Z",
     "iopub.status.busy": "2025-02-17T03:58:47.006658Z",
     "iopub.status.idle": "2025-02-17T03:58:47.009683Z",
     "shell.execute_reply": "2025-02-17T03:58:47.008795Z"
    }
   },
   "outputs": [],
   "source": [
    "runoff_model='GR4J'"
   ]
  },
  {
   "cell_type": "code",
   "execution_count": 7,
   "id": "9",
   "metadata": {
    "execution": {
     "iopub.execute_input": "2025-02-17T03:58:47.011988Z",
     "iopub.status.busy": "2025-02-17T03:58:47.011651Z",
     "iopub.status.idle": "2025-02-17T03:58:47.015040Z",
     "shell.execute_reply": "2025-02-17T03:58:47.014651Z"
    }
   },
   "outputs": [],
   "source": [
    "node_ids=paste0('n', [i+1 for i in range(6)])\n",
    "link_ids = paste0('lnk', [i+1 for i in range(5)])\n",
    "node_names = paste0(node_ids, '_name')\n",
    "link_names = paste0(link_ids, '_name')\n",
    "from_node = paste0('n', [2,5,4,3,1])\n",
    "to_node = paste0('n', [6,2,2,4,4])\n",
    "areas_km2 = np.array([1.2, 2.3, 4.4, 2.2, 1.5])"
   ]
  },
  {
   "cell_type": "code",
   "execution_count": 8,
   "id": "10",
   "metadata": {
    "execution": {
     "iopub.execute_input": "2025-02-17T03:58:47.016559Z",
     "iopub.status.busy": "2025-02-17T03:58:47.016298Z",
     "iopub.status.idle": "2025-02-17T03:58:47.028736Z",
     "shell.execute_reply": "2025-02-17T03:58:47.028325Z"
    }
   },
   "outputs": [],
   "source": [
    "simulation = std.create_catchment(node_ids, node_names, link_ids, link_names, from_node, to_node, runoff_model, areas_km2)"
   ]
  },
  {
   "cell_type": "markdown",
   "id": "11",
   "metadata": {},
   "source": [
    "the package `uchronia` includes facilities to access time series from a \"library\", akin to what you would do to manage books."
   ]
  },
  {
   "cell_type": "code",
   "execution_count": 9,
   "id": "12",
   "metadata": {
    "execution": {
     "iopub.execute_input": "2025-02-17T03:58:47.030570Z",
     "iopub.status.busy": "2025-02-17T03:58:47.030159Z",
     "iopub.status.idle": "2025-02-17T03:58:47.033158Z",
     "shell.execute_reply": "2025-02-17T03:58:47.032691Z"
    }
   },
   "outputs": [],
   "source": [
    "import uchronia.sample_data as usd"
   ]
  },
  {
   "cell_type": "code",
   "execution_count": 10,
   "id": "13",
   "metadata": {
    "execution": {
     "iopub.execute_input": "2025-02-17T03:58:47.035320Z",
     "iopub.status.busy": "2025-02-17T03:58:47.035004Z",
     "iopub.status.idle": "2025-02-17T03:58:47.037602Z",
     "shell.execute_reply": "2025-02-17T03:58:47.037074Z"
    }
   },
   "outputs": [],
   "source": [
    "import os\n",
    "os.environ['SWIFT_TEST_DIR'] = os.path.expanduser('~/data/documentation') "
   ]
  },
  {
   "cell_type": "code",
   "execution_count": 11,
   "id": "14",
   "metadata": {
    "execution": {
     "iopub.execute_input": "2025-02-17T03:58:47.039106Z",
     "iopub.status.busy": "2025-02-17T03:58:47.038917Z",
     "iopub.status.idle": "2025-02-17T03:58:47.042836Z",
     "shell.execute_reply": "2025-02-17T03:58:47.042366Z"
    }
   },
   "outputs": [
    {
     "data": {
      "text/plain": [
       "'/home/per202/data/documentation/UpperMurray'"
      ]
     },
     "execution_count": 11,
     "metadata": {},
     "output_type": "execute_result"
    }
   ],
   "source": [
    "doc_data_path = usd.sample_data_dir()\n",
    "data_path = os.path.join(doc_data_path, 'UpperMurray')\n",
    "data_path"
   ]
  },
  {
   "cell_type": "code",
   "execution_count": 12,
   "id": "15",
   "metadata": {
    "execution": {
     "iopub.execute_input": "2025-02-17T03:58:47.044620Z",
     "iopub.status.busy": "2025-02-17T03:58:47.044268Z",
     "iopub.status.idle": "2025-02-17T03:58:47.101960Z",
     "shell.execute_reply": "2025-02-17T03:58:47.101373Z"
    }
   },
   "outputs": [],
   "source": [
    "data_library = usd.sample_time_series_library('upper murray')"
   ]
  },
  {
   "cell_type": "code",
   "execution_count": 13,
   "id": "16",
   "metadata": {
    "execution": {
     "iopub.execute_input": "2025-02-17T03:58:47.104561Z",
     "iopub.status.busy": "2025-02-17T03:58:47.104235Z",
     "iopub.status.idle": "2025-02-17T03:58:47.107707Z",
     "shell.execute_reply": "2025-02-17T03:58:47.107219Z"
    }
   },
   "outputs": [
    {
     "data": {
      "text/plain": [
       "CFFI pointer handle to a native pointer of type id \"ENSEMBLE_DATA_SET_PTR\""
      ]
     },
     "execution_count": 13,
     "metadata": {},
     "output_type": "execute_result"
    }
   ],
   "source": [
    "data_library"
   ]
  },
  {
   "cell_type": "code",
   "execution_count": 14,
   "id": "17",
   "metadata": {
    "execution": {
     "iopub.execute_input": "2025-02-17T03:58:47.110345Z",
     "iopub.status.busy": "2025-02-17T03:58:47.109787Z",
     "iopub.status.idle": "2025-02-17T03:58:47.115390Z",
     "shell.execute_reply": "2025-02-17T03:58:47.115047Z"
    }
   },
   "outputs": [],
   "source": [
    "from uchronia.data_set import get_dataset_ids, datasets_summaries\n",
    "\n",
    "data_ids = get_dataset_ids(data_library)"
   ]
  },
  {
   "cell_type": "code",
   "execution_count": 15,
   "id": "18",
   "metadata": {
    "execution": {
     "iopub.execute_input": "2025-02-17T03:58:47.117140Z",
     "iopub.status.busy": "2025-02-17T03:58:47.116877Z",
     "iopub.status.idle": "2025-02-17T03:58:47.119877Z",
     "shell.execute_reply": "2025-02-17T03:58:47.119543Z"
    }
   },
   "outputs": [
    {
     "data": {
      "text/plain": [
       "['variable name: pet_der, identifier: 1, start: 1989-12-31T00:00:00, end: 2012-12-30T00:00:00, time length: 8401, time step: daily',\n",
       " 'variable name: pet_der, identifier: 1, start: 1988-12-31T00:00:00, end: 2012-12-30T00:00:00, time length: 8766, time step: daily',\n",
       " 'variable name: rain_der, identifier: 1, start: 1989-12-31T13:00:00, end: 2012-10-31T12:00:00, time length: 200160, time step: hourly',\n",
       " 'variable name: rain_fcast_ens, identifier: 1, index: 0, start: 2010-08-01T21:00:00, end: 2010-08-06T21:00:00, time length: 5, time step: <not yet supported>']"
      ]
     },
     "execution_count": 15,
     "metadata": {},
     "output_type": "execute_result"
    }
   ],
   "source": [
    "datasets_summaries(data_library)"
   ]
  },
  {
   "cell_type": "markdown",
   "id": "19",
   "metadata": {},
   "source": [
    "The sample catchment structure is obviously not the real \"Upper Murray\". For the sake of a didactic example, let's set the same inputs across all the subareas."
   ]
  },
  {
   "cell_type": "code",
   "execution_count": 16,
   "id": "20",
   "metadata": {
    "execution": {
     "iopub.execute_input": "2025-02-17T03:58:47.121696Z",
     "iopub.status.busy": "2025-02-17T03:58:47.121456Z",
     "iopub.status.idle": "2025-02-17T03:58:47.127939Z",
     "shell.execute_reply": "2025-02-17T03:58:47.127544Z"
    }
   },
   "outputs": [
    {
     "data": {
      "text/plain": [
       "(['subarea.lnk1.P',\n",
       "  'subarea.lnk2.P',\n",
       "  'subarea.lnk3.P',\n",
       "  'subarea.lnk4.P',\n",
       "  'subarea.lnk5.P'],\n",
       " ['subarea.lnk1.E',\n",
       "  'subarea.lnk2.E',\n",
       "  'subarea.lnk3.E',\n",
       "  'subarea.lnk4.E',\n",
       "  'subarea.lnk5.E'])"
      ]
     },
     "execution_count": 16,
     "metadata": {},
     "output_type": "execute_result"
    }
   ],
   "source": [
    "precip_ids = mk_full_data_id( 'subarea', get_subarea_ids(simulation), 'P')\n",
    "evapIds = mk_full_data_id( 'subarea', get_subarea_ids(simulation), 'E')\n",
    "precip_ids, evapIds"
   ]
  },
  {
   "cell_type": "code",
   "execution_count": 17,
   "id": "21",
   "metadata": {
    "execution": {
     "iopub.execute_input": "2025-02-17T03:58:47.129425Z",
     "iopub.status.busy": "2025-02-17T03:58:47.129120Z",
     "iopub.status.idle": "2025-02-17T03:58:47.195489Z",
     "shell.execute_reply": "2025-02-17T03:58:47.194879Z"
    }
   },
   "outputs": [],
   "source": [
    "def _rep(x): return np.repeat(x, len(precip_ids))\n",
    "simulation.play_inputs(data_library, precip_ids, _rep('rain_obs'), _rep(''))\n",
    "simulation.play_inputs(data_library, evapIds, _rep('pet_obs'), _rep('daily_to_hourly'))\n",
    "# And the flow rate we will record\n",
    "outflowId = CATCHMENT_FLOWRATE_VARID"
   ]
  },
  {
   "cell_type": "markdown",
   "id": "22",
   "metadata": {},
   "source": [
    "Given the information from the input data, let's define a suitable simulation time span. NOTE and TODO: hourly information may not have been shown above yet."
   ]
  },
  {
   "cell_type": "code",
   "execution_count": 18,
   "id": "23",
   "metadata": {
    "execution": {
     "iopub.execute_input": "2025-02-17T03:58:47.197086Z",
     "iopub.status.busy": "2025-02-17T03:58:47.196824Z",
     "iopub.status.idle": "2025-02-17T03:58:47.199379Z",
     "shell.execute_reply": "2025-02-17T03:58:47.198930Z"
    }
   },
   "outputs": [],
   "source": [
    "from cinterop.timeseries import as_timestamp\n",
    " \n",
    "s = as_timestamp('2007-01-01')\n",
    "e = as_timestamp('2010-08-01 20')\n",
    "sHot = as_timestamp('2010-08-01 21')\n",
    "eHot = as_timestamp('2010-08-05 21')"
   ]
  },
  {
   "cell_type": "markdown",
   "id": "24",
   "metadata": {},
   "source": [
    "First, before demonstrating ensemble forecasting simulations, let's demonstrate how we can get a snapshot of the model states at a point in time and restore it later on, hot-starting further simulation."
   ]
  },
  {
   "cell_type": "code",
   "execution_count": 19,
   "id": "25",
   "metadata": {
    "execution": {
     "iopub.execute_input": "2025-02-17T03:58:47.200857Z",
     "iopub.status.busy": "2025-02-17T03:58:47.200579Z",
     "iopub.status.idle": "2025-02-17T03:58:47.257061Z",
     "shell.execute_reply": "2025-02-17T03:58:47.256614Z"
    }
   },
   "outputs": [],
   "source": [
    "simulation.set_simulation_span(start=s, end=eHot)\n",
    "simulation.record_state(outflowId)\n",
    "simulation.exec_simulation()\n",
    "baseline = simulation.get_recorded(outflowId)"
   ]
  },
  {
   "cell_type": "code",
   "execution_count": 20,
   "id": "26",
   "metadata": {
    "execution": {
     "iopub.execute_input": "2025-02-17T03:58:47.258990Z",
     "iopub.status.busy": "2025-02-17T03:58:47.258767Z",
     "iopub.status.idle": "2025-02-17T03:58:47.263013Z",
     "shell.execute_reply": "2025-02-17T03:58:47.262451Z"
    }
   },
   "outputs": [],
   "source": [
    "baseline = baseline.squeeze(drop=True).sel(time = slice(sHot, eHot))"
   ]
  },
  {
   "cell_type": "code",
   "execution_count": 21,
   "id": "27",
   "metadata": {
    "execution": {
     "iopub.execute_input": "2025-02-17T03:58:47.264330Z",
     "iopub.status.busy": "2025-02-17T03:58:47.264175Z",
     "iopub.status.idle": "2025-02-17T03:58:47.310596Z",
     "shell.execute_reply": "2025-02-17T03:58:47.309771Z"
    }
   },
   "outputs": [],
   "source": [
    "simulation.set_simulation_span(start=s, end=e)\n",
    "simulation.exec_simulation()\n",
    "snapshot = simulation.snapshot_state()"
   ]
  },
  {
   "cell_type": "markdown",
   "id": "28",
   "metadata": {},
   "source": [
    "We can execute a simulation over the new time span, but requesting model states to NOT be reset. If we compare with a simulation where, as per default, the states are reset before the first time step, we notice a difference:"
   ]
  },
  {
   "cell_type": "code",
   "execution_count": 22,
   "id": "29",
   "metadata": {
    "execution": {
     "iopub.execute_input": "2025-02-17T03:58:47.312376Z",
     "iopub.status.busy": "2025-02-17T03:58:47.312196Z",
     "iopub.status.idle": "2025-02-17T03:58:47.319888Z",
     "shell.execute_reply": "2025-02-17T03:58:47.319351Z"
    }
   },
   "outputs": [],
   "source": [
    "simulation.set_simulation_span(start=sHot, end=eHot)\n",
    "simulation.exec_simulation(reset_initial_states = False)\n",
    "noReset = simulation.get_recorded(outflowId)\n",
    "simulation.exec_simulation(reset_initial_states = True)\n",
    "withReset = simulation.get_recorded(outflowId)"
   ]
  },
  {
   "cell_type": "code",
   "execution_count": 23,
   "id": "30",
   "metadata": {
    "execution": {
     "iopub.execute_input": "2025-02-17T03:58:47.321485Z",
     "iopub.status.busy": "2025-02-17T03:58:47.321349Z",
     "iopub.status.idle": "2025-02-17T03:58:47.326421Z",
     "shell.execute_reply": "2025-02-17T03:58:47.325640Z"
    }
   },
   "outputs": [],
   "source": [
    "noReset = noReset.squeeze(drop=True)\n",
    "\n",
    "x = xr.concat([noReset,withReset], dim=pd.Index(['no reset','reset'], name='scenario')).squeeze(drop=True)"
   ]
  },
  {
   "cell_type": "code",
   "execution_count": 24,
   "id": "31",
   "metadata": {
    "execution": {
     "iopub.execute_input": "2025-02-17T03:58:47.328310Z",
     "iopub.status.busy": "2025-02-17T03:58:47.328117Z",
     "iopub.status.idle": "2025-02-17T03:58:47.478668Z",
     "shell.execute_reply": "2025-02-17T03:58:47.478174Z"
    }
   },
   "outputs": [
    {
     "data": {
      "image/png": "[encoded data removed]",
      "text/plain": [
       "<Figure size 1600x900 with 1 Axes>"
      ]
     },
     "metadata": {},
     "output_type": "display_data"
    }
   ],
   "source": [
    "#zoo::plot.zoo(x, plot.type='single', col=c('blue','red'), ylab=\"Outflow m3/s\", main=\"Outflows with/without state resets\")\n",
    "# TODO: see whether waa figures are appropriate\n",
    "fig, ax = plt.subplots(figsize=(16,9))\n",
    "ax.plot(x.time.values, x.sel(scenario='no reset'), linewidth=2, label='No reset')\n",
    "ax.plot(x.time.values, x.sel(scenario='reset'), linewidth=2, label='Reset')\n",
    "ax.legend()\n",
    "plt.show()"
   ]
  },
  {
   "cell_type": "markdown",
   "id": "32",
   "metadata": {},
   "source": [
    "Now let'd ready the simulation to do ensemble forecasts. We define a list `inputMap` such that keys are the names of ensemble forecast time series found in `data_library` and the values is one or more of the model properties found in the simulation. In this instance we use the same series for all model precipitation inputs in `precip_ids` "
   ]
  },
  {
   "cell_type": "code",
   "execution_count": 25,
   "id": "33",
   "metadata": {
    "execution": {
     "iopub.execute_input": "2025-02-17T03:58:47.480182Z",
     "iopub.status.busy": "2025-02-17T03:58:47.480043Z",
     "iopub.status.idle": "2025-02-17T03:58:47.482922Z",
     "shell.execute_reply": "2025-02-17T03:58:47.482143Z"
    }
   },
   "outputs": [],
   "source": [
    "simulation.reset_model_states()\n",
    "simulation.set_states(snapshot)"
   ]
  },
  {
   "cell_type": "code",
   "execution_count": 26,
   "id": "34",
   "metadata": {
    "execution": {
     "iopub.execute_input": "2025-02-17T03:58:47.484304Z",
     "iopub.status.busy": "2025-02-17T03:58:47.484169Z",
     "iopub.status.idle": "2025-02-17T03:58:47.491854Z",
     "shell.execute_reply": "2025-02-17T03:58:47.491368Z"
    }
   },
   "outputs": [],
   "source": [
    "inputMap = {'rain_fcast_ens':precip_ids}"
   ]
  },
  {
   "cell_type": "code",
   "execution_count": 27,
   "id": "35",
   "metadata": {
    "execution": {
     "iopub.execute_input": "2025-02-17T03:58:47.494207Z",
     "iopub.status.busy": "2025-02-17T03:58:47.493966Z",
     "iopub.status.idle": "2025-02-17T03:58:47.651834Z",
     "shell.execute_reply": "2025-02-17T03:58:47.651297Z"
    }
   },
   "outputs": [],
   "source": [
    "ems = simulation.create_ensemble_forecast_simulation(data_library, start=sHot, end=eHot, input_map=inputMap, lead_time=(24*2+23), ensemble_size=100, n_time_steps_between_forecasts=24)"
   ]
  },
  {
   "cell_type": "code",
   "execution_count": 28,
   "id": "36",
   "metadata": {
    "execution": {
     "iopub.execute_input": "2025-02-17T03:58:47.653850Z",
     "iopub.status.busy": "2025-02-17T03:58:47.653463Z",
     "iopub.status.idle": "2025-02-17T03:58:47.657663Z",
     "shell.execute_reply": "2025-02-17T03:58:47.657383Z"
    }
   },
   "outputs": [
    {
     "data": {
      "text/plain": [
       "{'start': datetime.datetime(2010, 8, 1, 21, 0),\n",
       " 'end': datetime.datetime(2010, 8, 4, 21, 0),\n",
       " 'time step': 'hourly'}"
      ]
     },
     "execution_count": 28,
     "metadata": {},
     "output_type": "execute_result"
    }
   ],
   "source": [
    "ems.get_simulation_span()"
   ]
  },
  {
   "cell_type": "code",
   "execution_count": 29,
   "id": "37",
   "metadata": {
    "execution": {
     "iopub.execute_input": "2025-02-17T03:58:47.659139Z",
     "iopub.status.busy": "2025-02-17T03:58:47.658834Z",
     "iopub.status.idle": "2025-02-17T03:58:47.762423Z",
     "shell.execute_reply": "2025-02-17T03:58:47.761917Z"
    }
   },
   "outputs": [],
   "source": [
    "import swift2.play_record as spr\n",
    "ems.record_state(outflowId)\n",
    "ems.exec_simulation()\n",
    "forecasts = ems.get_recorded_ensemble_forecast(outflowId)"
   ]
  },
  {
   "cell_type": "code",
   "execution_count": 30,
   "id": "38",
   "metadata": {
    "execution": {
     "iopub.execute_input": "2025-02-17T03:58:47.764027Z",
     "iopub.status.busy": "2025-02-17T03:58:47.763817Z",
     "iopub.status.idle": "2025-02-17T03:58:47.767094Z",
     "shell.execute_reply": "2025-02-17T03:58:47.766804Z"
    }
   },
   "outputs": [
    {
     "data": {
      "text/plain": [
       "uchronia.classes.EnsembleForecastTimeSeries"
      ]
     },
     "execution_count": 30,
     "metadata": {},
     "output_type": "execute_result"
    }
   ],
   "source": [
    "type(forecasts)"
   ]
  },
  {
   "cell_type": "code",
   "execution_count": 31,
   "id": "39",
   "metadata": {
    "execution": {
     "iopub.execute_input": "2025-02-17T03:58:47.768237Z",
     "iopub.status.busy": "2025-02-17T03:58:47.768107Z",
     "iopub.status.idle": "2025-02-17T03:58:47.778503Z",
     "shell.execute_reply": "2025-02-17T03:58:47.778168Z"
    }
   },
   "outputs": [],
   "source": [
    "flow_forecasts = forecasts[0]"
   ]
  },
  {
   "cell_type": "code",
   "execution_count": 32,
   "id": "40",
   "metadata": {
    "execution": {
     "iopub.execute_input": "2025-02-17T03:58:47.780039Z",
     "iopub.status.busy": "2025-02-17T03:58:47.779852Z",
     "iopub.status.idle": "2025-02-17T03:58:47.791457Z",
     "shell.execute_reply": "2025-02-17T03:58:47.791101Z"
    }
   },
   "outputs": [
    {
     "data": {
      "text/html": [
       "<div><svg style=\"position: absolute; width: 0; height: 0; overflow: hidden\">\n",
       "<defs>\n",
       "<symbol id=\"icon-database\" viewBox=\"0 0 32 32\">\n",
       "<path d=\"M16 0c-8.837 0-16 2.239-16 5v4c0 2.761 7.163 5 16 5s16-2.239 16-5v-4c0-2.761-7.163-5-16-5z\"></path>\n",
       "<path d=\"M16 17c-8.837 0-16-2.239-16-5v6c0 2.761 7.163 5 16 5s16-2.239 16-5v-6c0 2.761-7.163 5-16 5z\"></path>\n",
       "<path d=\"M16 26c-8.837 0-16-2.239-16-5v6c0 2.761 7.163 5 16 5s16-2.239 16-5v-6c0 2.761-7.163 5-16 5z\"></path>\n",
       "</symbol>\n",
       "<symbol id=\"icon-file-text2\" viewBox=\"0 0 32 32\">\n",
       "<path d=\"M28.681 7.159c-0.694-0.947-1.662-2.053-2.724-3.116s-2.169-2.030-3.116-2.724c-1.612-1.182-2.393-1.319-2.841-1.319h-15.5c-1.378 0-2.5 1.121-2.5 2.5v27c0 1.378 1.122 2.5 2.5 2.5h23c1.378 0 2.5-1.122 2.5-2.5v-19.5c0-0.448-0.137-1.23-1.319-2.841zM24.543 5.457c0.959 0.959 1.712 1.825 2.268 2.543h-4.811v-4.811c0.718 0.556 1.584 1.309 2.543 2.268zM28 29.5c0 0.271-0.229 0.5-0.5 0.5h-23c-0.271 0-0.5-0.229-0.5-0.5v-27c0-0.271 0.229-0.5 0.5-0.5 0 0 15.499-0 15.5 0v7c0 0.552 0.448 1 1 1h7v19.5z\"></path>\n",
       "<path d=\"M23 26h-14c-0.552 0-1-0.448-1-1s0.448-1 1-1h14c0.552 0 1 0.448 1 1s-0.448 1-1 1z\"></path>\n",
       "<path d=\"M23 22h-14c-0.552 0-1-0.448-1-1s0.448-1 1-1h14c0.552 0 1 0.448 1 1s-0.448 1-1 1z\"></path>\n",
       "<path d=\"M23 18h-14c-0.552 0-1-0.448-1-1s0.448-1 1-1h14c0.552 0 1 0.448 1 1s-0.448 1-1 1z\"></path>\n",
       "</symbol>\n",
       "</defs>\n",
       "</svg>\n",
       "<style>/* CSS stylesheet for displaying xarray objects in jupyterlab.\n",
       " *\n",
       " */\n",
       "\n",
       ":root {\n",
       "  --xr-font-color0: var(--jp-content-font-color0, rgba(0, 0, 0, 1));\n",
       "  --xr-font-color2: var(--jp-content-font-color2, rgba(0, 0, 0, 0.54));\n",
       "  --xr-font-color3: var(--jp-content-font-color3, rgba(0, 0, 0, 0.38));\n",
       "  --xr-border-color: var(--jp-border-color2, #e0e0e0);\n",
       "  --xr-disabled-color: var(--jp-layout-color3, #bdbdbd);\n",
       "  --xr-background-color: var(--jp-layout-color0, white);\n",
       "  --xr-background-color-row-even: var(--jp-layout-color1, white);\n",
       "  --xr-background-color-row-odd: var(--jp-layout-color2, #eeeeee);\n",
       "}\n",
       "\n",
       "html[theme=dark],\n",
       "html[data-theme=dark],\n",
       "body[data-theme=dark],\n",
       "body.vscode-dark {\n",
       "  --xr-font-color0: rgba(255, 255, 255, 1);\n",
       "  --xr-font-color2: rgba(255, 255, 255, 0.54);\n",
       "  --xr-font-color3: rgba(255, 255, 255, 0.38);\n",
       "  --xr-border-color: #1F1F1F;\n",
       "  --xr-disabled-color: #515151;\n",
       "  --xr-background-color: #111111;\n",
       "  --xr-background-color-row-even: #111111;\n",
       "  --xr-background-color-row-odd: #313131;\n",
       "}\n",
       "\n",
       ".xr-wrap {\n",
       "  display: block !important;\n",
       "  min-width: 300px;\n",
       "  max-width: 700px;\n",
       "}\n",
       "\n",
       ".xr-text-repr-fallback {\n",
       "  /* fallback to plain text repr when CSS is not injected (untrusted notebook) */\n",
       "  display: none;\n",
       "}\n",
       "\n",
       ".xr-header {\n",
       "  padding-top: 6px;\n",
       "  padding-bottom: 6px;\n",
       "  margin-bottom: 4px;\n",
       "  border-bottom: solid 1px var(--xr-border-color);\n",
       "}\n",
       "\n",
       ".xr-header > div,\n",
       ".xr-header > ul {\n",
       "  display: inline;\n",
       "  margin-top: 0;\n",
       "  margin-bottom: 0;\n",
       "}\n",
       "\n",
       ".xr-obj-type,\n",
       ".xr-array-name {\n",
       "  margin-left: 2px;\n",
       "  margin-right: 10px;\n",
       "}\n",
       "\n",
       ".xr-obj-type {\n",
       "  color: var(--xr-font-color2);\n",
       "}\n",
       "\n",
       ".xr-sections {\n",
       "  padding-left: 0 !important;\n",
       "  display: grid;\n",
       "  grid-template-columns: 150px auto auto 1fr 0 20px 0 20px;\n",
       "}\n",
       "\n",
       ".xr-section-item {\n",
       "  display: contents;\n",
       "}\n",
       "\n",
       ".xr-section-item input {\n",
       "  display: inline-block;\n",
       "  opacity: 0;\n",
       "}\n",
       "\n",
       ".xr-section-item input + label {\n",
       "  color: var(--xr-disabled-color);\n",
       "}\n",
       "\n",
       ".xr-section-item input:enabled + label {\n",
       "  cursor: pointer;\n",
       "  color: var(--xr-font-color2);\n",
       "}\n",
       "\n",
       ".xr-section-item input:focus + label {\n",
       "  border: 2px solid var(--xr-font-color0);\n",
       "}\n",
       "\n",
       ".xr-section-item input:enabled + label:hover {\n",
       "  color: var(--xr-font-color0);\n",
       "}\n",
       "\n",
       ".xr-section-summary {\n",
       "  grid-column: 1;\n",
       "  color: var(--xr-font-color2);\n",
       "  font-weight: 500;\n",
       "}\n",
       "\n",
       ".xr-section-summary > span {\n",
       "  display: inline-block;\n",
       "  padding-left: 0.5em;\n",
       "}\n",
       "\n",
       ".xr-section-summary-in:disabled + label {\n",
       "  color: var(--xr-font-color2);\n",
       "}\n",
       "\n",
       ".xr-section-summary-in + label:before {\n",
       "  display: inline-block;\n",
       "  content: '►';\n",
       "  font-size: 11px;\n",
       "  width: 15px;\n",
       "  text-align: center;\n",
       "}\n",
       "\n",
       ".xr-section-summary-in:disabled + label:before {\n",
       "  color: var(--xr-disabled-color);\n",
       "}\n",
       "\n",
       ".xr-section-summary-in:checked + label:before {\n",
       "  content: '▼';\n",
       "}\n",
       "\n",
       ".xr-section-summary-in:checked + label > span {\n",
       "  display: none;\n",
       "}\n",
       "\n",
       ".xr-section-summary,\n",
       ".xr-section-inline-details {\n",
       "  padding-top: 4px;\n",
       "  padding-bottom: 4px;\n",
       "}\n",
       "\n",
       ".xr-section-inline-details {\n",
       "  grid-column: 2 / -1;\n",
       "}\n",
       "\n",
       ".xr-section-details {\n",
       "  display: none;\n",
       "  grid-column: 1 / -1;\n",
       "  margin-bottom: 5px;\n",
       "}\n",
       "\n",
       ".xr-section-summary-in:checked ~ .xr-section-details {\n",
       "  display: contents;\n",
       "}\n",
       "\n",
       ".xr-array-wrap {\n",
       "  grid-column: 1 / -1;\n",
       "  display: grid;\n",
       "  grid-template-columns: 20px auto;\n",
       "}\n",
       "\n",
       ".xr-array-wrap > label {\n",
       "  grid-column: 1;\n",
       "  vertical-align: top;\n",
       "}\n",
       "\n",
       ".xr-preview {\n",
       "  color: var(--xr-font-color3);\n",
       "}\n",
       "\n",
       ".xr-array-preview,\n",
       ".xr-array-data {\n",
       "  padding: 0 5px !important;\n",
       "  grid-column: 2;\n",
       "}\n",
       "\n",
       ".xr-array-data,\n",
       ".xr-array-in:checked ~ .xr-array-preview {\n",
       "  display: none;\n",
       "}\n",
       "\n",
       ".xr-array-in:checked ~ .xr-array-data,\n",
       ".xr-array-preview {\n",
       "  display: inline-block;\n",
       "}\n",
       "\n",
       ".xr-dim-list {\n",
       "  display: inline-block !important;\n",
       "  list-style: none;\n",
       "  padding: 0 !important;\n",
       "  margin: 0;\n",
       "}\n",
       "\n",
       ".xr-dim-list li {\n",
       "  display: inline-block;\n",
       "  padding: 0;\n",
       "  margin: 0;\n",
       "}\n",
       "\n",
       ".xr-dim-list:before {\n",
       "  content: '(';\n",
       "}\n",
       "\n",
       ".xr-dim-list:after {\n",
       "  content: ')';\n",
       "}\n",
       "\n",
       ".xr-dim-list li:not(:last-child):after {\n",
       "  content: ',';\n",
       "  padding-right: 5px;\n",
       "}\n",
       "\n",
       ".xr-has-index {\n",
       "  font-weight: bold;\n",
       "}\n",
       "\n",
       ".xr-var-list,\n",
       ".xr-var-item {\n",
       "  display: contents;\n",
       "}\n",
       "\n",
       ".xr-var-item > div,\n",
       ".xr-var-item label,\n",
       ".xr-var-item > .xr-var-name span {\n",
       "  background-color: var(--xr-background-color-row-even);\n",
       "  margin-bottom: 0;\n",
       "}\n",
       "\n",
       ".xr-var-item > .xr-var-name:hover span {\n",
       "  padding-right: 5px;\n",
       "}\n",
       "\n",
       ".xr-var-list > li:nth-child(odd) > div,\n",
       ".xr-var-list > li:nth-child(odd) > label,\n",
       ".xr-var-list > li:nth-child(odd) > .xr-var-name span {\n",
       "  background-color: var(--xr-background-color-row-odd);\n",
       "}\n",
       "\n",
       ".xr-var-name {\n",
       "  grid-column: 1;\n",
       "}\n",
       "\n",
       ".xr-var-dims {\n",
       "  grid-column: 2;\n",
       "}\n",
       "\n",
       ".xr-var-dtype {\n",
       "  grid-column: 3;\n",
       "  text-align: right;\n",
       "  color: var(--xr-font-color2);\n",
       "}\n",
       "\n",
       ".xr-var-preview {\n",
       "  grid-column: 4;\n",
       "}\n",
       "\n",
       ".xr-index-preview {\n",
       "  grid-column: 2 / 5;\n",
       "  color: var(--xr-font-color2);\n",
       "}\n",
       "\n",
       ".xr-var-name,\n",
       ".xr-var-dims,\n",
       ".xr-var-dtype,\n",
       ".xr-preview,\n",
       ".xr-attrs dt {\n",
       "  white-space: nowrap;\n",
       "  overflow: hidden;\n",
       "  text-overflow: ellipsis;\n",
       "  padding-right: 10px;\n",
       "}\n",
       "\n",
       ".xr-var-name:hover,\n",
       ".xr-var-dims:hover,\n",
       ".xr-var-dtype:hover,\n",
       ".xr-attrs dt:hover {\n",
       "  overflow: visible;\n",
       "  width: auto;\n",
       "  z-index: 1;\n",
       "}\n",
       "\n",
       ".xr-var-attrs,\n",
       ".xr-var-data,\n",
       ".xr-index-data {\n",
       "  display: none;\n",
       "  background-color: var(--xr-background-color) !important;\n",
       "  padding-bottom: 5px !important;\n",
       "}\n",
       "\n",
       ".xr-var-attrs-in:checked ~ .xr-var-attrs,\n",
       ".xr-var-data-in:checked ~ .xr-var-data,\n",
       ".xr-index-data-in:checked ~ .xr-index-data {\n",
       "  display: block;\n",
       "}\n",
       "\n",
       ".xr-var-data > table {\n",
       "  float: right;\n",
       "}\n",
       "\n",
       ".xr-var-name span,\n",
       ".xr-var-data,\n",
       ".xr-index-name div,\n",
       ".xr-index-data,\n",
       ".xr-attrs {\n",
       "  padding-left: 25px !important;\n",
       "}\n",
       "\n",
       ".xr-attrs,\n",
       ".xr-var-attrs,\n",
       ".xr-var-data,\n",
       ".xr-index-data {\n",
       "  grid-column: 1 / -1;\n",
       "}\n",
       "\n",
       "dl.xr-attrs {\n",
       "  padding: 0;\n",
       "  margin: 0;\n",
       "  display: grid;\n",
       "  grid-template-columns: 125px auto;\n",
       "}\n",
       "\n",
       ".xr-attrs dt,\n",
       ".xr-attrs dd {\n",
       "  padding: 0;\n",
       "  margin: 0;\n",
       "  float: left;\n",
       "  padding-right: 10px;\n",
       "  width: auto;\n",
       "}\n",
       "\n",
       ".xr-attrs dt {\n",
       "  font-weight: normal;\n",
       "  grid-column: 1;\n",
       "}\n",
       "\n",
       ".xr-attrs dt:hover span {\n",
       "  display: inline-block;\n",
       "  background: var(--xr-background-color);\n",
       "  padding-right: 10px;\n",
       "}\n",
       "\n",
       ".xr-attrs dd {\n",
       "  grid-column: 2;\n",
       "  white-space: pre-wrap;\n",
       "  word-break: break-all;\n",
       "}\n",
       "\n",
       ".xr-icon-database,\n",
       ".xr-icon-file-text2,\n",
       ".xr-no-icon {\n",
       "  display: inline-block;\n",
       "  vertical-align: middle;\n",
       "  width: 1em;\n",
       "  height: 1.5em !important;\n",
       "  stroke-width: 0;\n",
       "  stroke: currentColor;\n",
       "  fill: currentColor;\n",
       "}\n",
       "</style><pre class='xr-text-repr-fallback'>&lt;xarray.DataArray (ensemble: 100, time: 71)&gt; Size: 57kB\n",
       "array([[0.8898914 , 0.97225084, 1.05916427, ..., 0.76254716, 0.6787237 ,\n",
       "        0.6702664 ],\n",
       "       [0.63547795, 0.62744525, 0.61985413, ..., 0.47899561, 0.48934704,\n",
       "        0.49825249],\n",
       "       [0.62397353, 0.61255692, 0.60179053, ..., 0.41359509, 0.4271383 ,\n",
       "        0.43487164],\n",
       "       ...,\n",
       "       [0.61988133, 0.6072754 , 0.59540094, ..., 0.48367713, 0.47991112,\n",
       "        0.47624805],\n",
       "       [0.61967395, 0.60698496, 0.59505003, ..., 0.46636062, 0.46183589,\n",
       "        0.45746333],\n",
       "       [0.61967228, 0.60698117, 0.59504373, ..., 0.34924574, 0.34735597,\n",
       "        0.34549876]], shape=(100, 71))\n",
       "Coordinates:\n",
       "  * ensemble  (ensemble) int64 800B 0 1 2 3 4 5 6 7 ... 92 93 94 95 96 97 98 99\n",
       "  * time      (time) datetime64[ns] 568B 2010-08-01T22:00:00 ... 2010-08-04T2...</pre><div class='xr-wrap' style='display:none'><div class='xr-header'><div class='xr-obj-type'>xarray.DataArray</div><div class='xr-array-name'></div><ul class='xr-dim-list'><li><span class='xr-has-index'>ensemble</span>: 100</li><li><span class='xr-has-index'>time</span>: 71</li></ul></div><ul class='xr-sections'><li class='xr-section-item'><div class='xr-array-wrap'><input id='section-b17ae0ce-4e07-4d1f-b661-7152ec035f47' class='xr-array-in' type='checkbox' checked><label for='section-b17ae0ce-4e07-4d1f-b661-7152ec035f47' title='Show/hide data repr'><svg class='icon xr-icon-database'><use xlink:href='#icon-database'></use></svg></label><div class='xr-array-preview xr-preview'><span>0.8899 0.9723 1.059 1.522 1.817 ... 0.3531 0.3512 0.3492 0.3474 0.3455</span></div><div class='xr-array-data'><pre>array([[0.8898914 , 0.97225084, 1.05916427, ..., 0.76254716, 0.6787237 ,\n",
       "        0.6702664 ],\n",
       "       [0.63547795, 0.62744525, 0.61985413, ..., 0.47899561, 0.48934704,\n",
       "        0.49825249],\n",
       "       [0.62397353, 0.61255692, 0.60179053, ..., 0.41359509, 0.4271383 ,\n",
       "        0.43487164],\n",
       "       ...,\n",
       "       [0.61988133, 0.6072754 , 0.59540094, ..., 0.48367713, 0.47991112,\n",
       "        0.47624805],\n",
       "       [0.61967395, 0.60698496, 0.59505003, ..., 0.46636062, 0.46183589,\n",
       "        0.45746333],\n",
       "       [0.61967228, 0.60698117, 0.59504373, ..., 0.34924574, 0.34735597,\n",
       "        0.34549876]], shape=(100, 71))</pre></div></div></li><li class='xr-section-item'><input id='section-cecb53d8-5067-4140-9a32-e4a44f3e5219' class='xr-section-summary-in' type='checkbox'  checked><label for='section-cecb53d8-5067-4140-9a32-e4a44f3e5219' class='xr-section-summary' >Coordinates: <span>(2)</span></label><div class='xr-section-inline-details'></div><div class='xr-section-details'><ul class='xr-var-list'><li class='xr-var-item'><div class='xr-var-name'><span class='xr-has-index'>ensemble</span></div><div class='xr-var-dims'>(ensemble)</div><div class='xr-var-dtype'>int64</div><div class='xr-var-preview xr-preview'>0 1 2 3 4 5 6 ... 94 95 96 97 98 99</div><input id='attrs-5a1a8437-33ab-41ae-8844-dbe341e5b26c' class='xr-var-attrs-in' type='checkbox' disabled><label for='attrs-5a1a8437-33ab-41ae-8844-dbe341e5b26c' title='Show/Hide attributes'><svg class='icon xr-icon-file-text2'><use xlink:href='#icon-file-text2'></use></svg></label><input id='data-b3172ecb-89b7-4bc0-b3fe-6ade5433cbc5' class='xr-var-data-in' type='checkbox'><label for='data-b3172ecb-89b7-4bc0-b3fe-6ade5433cbc5' title='Show/Hide data repr'><svg class='icon xr-icon-database'><use xlink:href='#icon-database'></use></svg></label><div class='xr-var-attrs'><dl class='xr-attrs'></dl></div><div class='xr-var-data'><pre>array([ 0,  1,  2,  3,  4,  5,  6,  7,  8,  9, 10, 11, 12, 13, 14, 15, 16, 17,\n",
       "       18, 19, 20, 21, 22, 23, 24, 25, 26, 27, 28, 29, 30, 31, 32, 33, 34, 35,\n",
       "       36, 37, 38, 39, 40, 41, 42, 43, 44, 45, 46, 47, 48, 49, 50, 51, 52, 53,\n",
       "       54, 55, 56, 57, 58, 59, 60, 61, 62, 63, 64, 65, 66, 67, 68, 69, 70, 71,\n",
       "       72, 73, 74, 75, 76, 77, 78, 79, 80, 81, 82, 83, 84, 85, 86, 87, 88, 89,\n",
       "       90, 91, 92, 93, 94, 95, 96, 97, 98, 99])</pre></div></li><li class='xr-var-item'><div class='xr-var-name'><span class='xr-has-index'>time</span></div><div class='xr-var-dims'>(time)</div><div class='xr-var-dtype'>datetime64[ns]</div><div class='xr-var-preview xr-preview'>2010-08-01T22:00:00 ... 2010-08-...</div><input id='attrs-bc5c0f86-d82c-48c1-9d31-38410aba7440' class='xr-var-attrs-in' type='checkbox' disabled><label for='attrs-bc5c0f86-d82c-48c1-9d31-38410aba7440' title='Show/Hide attributes'><svg class='icon xr-icon-file-text2'><use xlink:href='#icon-file-text2'></use></svg></label><input id='data-6a17289e-a12c-40fe-8774-af8349847f49' class='xr-var-data-in' type='checkbox'><label for='data-6a17289e-a12c-40fe-8774-af8349847f49' title='Show/Hide data repr'><svg class='icon xr-icon-database'><use xlink:href='#icon-database'></use></svg></label><div class='xr-var-attrs'><dl class='xr-attrs'></dl></div><div class='xr-var-data'><pre>array([&#x27;2010-08-01T22:00:00.000000000&#x27;, &#x27;2010-08-01T23:00:00.000000000&#x27;,\n",
       "       &#x27;2010-08-02T00:00:00.000000000&#x27;, &#x27;2010-08-02T01:00:00.000000000&#x27;,\n",
       "       &#x27;2010-08-02T02:00:00.000000000&#x27;, &#x27;2010-08-02T03:00:00.000000000&#x27;,\n",
       "       &#x27;2010-08-02T04:00:00.000000000&#x27;, &#x27;2010-08-02T05:00:00.000000000&#x27;,\n",
       "       &#x27;2010-08-02T06:00:00.000000000&#x27;, &#x27;2010-08-02T07:00:00.000000000&#x27;,\n",
       "       &#x27;2010-08-02T08:00:00.000000000&#x27;, &#x27;2010-08-02T09:00:00.000000000&#x27;,\n",
       "       &#x27;2010-08-02T10:00:00.000000000&#x27;, &#x27;2010-08-02T11:00:00.000000000&#x27;,\n",
       "       &#x27;2010-08-02T12:00:00.000000000&#x27;, &#x27;2010-08-02T13:00:00.000000000&#x27;,\n",
       "       &#x27;2010-08-02T14:00:00.000000000&#x27;, &#x27;2010-08-02T15:00:00.000000000&#x27;,\n",
       "       &#x27;2010-08-02T16:00:00.000000000&#x27;, &#x27;2010-08-02T17:00:00.000000000&#x27;,\n",
       "       &#x27;2010-08-02T18:00:00.000000000&#x27;, &#x27;2010-08-02T19:00:00.000000000&#x27;,\n",
       "       &#x27;2010-08-02T20:00:00.000000000&#x27;, &#x27;2010-08-02T21:00:00.000000000&#x27;,\n",
       "       &#x27;2010-08-02T22:00:00.000000000&#x27;, &#x27;2010-08-02T23:00:00.000000000&#x27;,\n",
       "       &#x27;2010-08-03T00:00:00.000000000&#x27;, &#x27;2010-08-03T01:00:00.000000000&#x27;,\n",
       "       &#x27;2010-08-03T02:00:00.000000000&#x27;, &#x27;2010-08-03T03:00:00.000000000&#x27;,\n",
       "       &#x27;2010-08-03T04:00:00.000000000&#x27;, &#x27;2010-08-03T05:00:00.000000000&#x27;,\n",
       "       &#x27;2010-08-03T06:00:00.000000000&#x27;, &#x27;2010-08-03T07:00:00.000000000&#x27;,\n",
       "       &#x27;2010-08-03T08:00:00.000000000&#x27;, &#x27;2010-08-03T09:00:00.000000000&#x27;,\n",
       "       &#x27;2010-08-03T10:00:00.000000000&#x27;, &#x27;2010-08-03T11:00:00.000000000&#x27;,\n",
       "       &#x27;2010-08-03T12:00:00.000000000&#x27;, &#x27;2010-08-03T13:00:00.000000000&#x27;,\n",
       "       &#x27;2010-08-03T14:00:00.000000000&#x27;, &#x27;2010-08-03T15:00:00.000000000&#x27;,\n",
       "       &#x27;2010-08-03T16:00:00.000000000&#x27;, &#x27;2010-08-03T17:00:00.000000000&#x27;,\n",
       "       &#x27;2010-08-03T18:00:00.000000000&#x27;, &#x27;2010-08-03T19:00:00.000000000&#x27;,\n",
       "       &#x27;2010-08-03T20:00:00.000000000&#x27;, &#x27;2010-08-03T21:00:00.000000000&#x27;,\n",
       "       &#x27;2010-08-03T22:00:00.000000000&#x27;, &#x27;2010-08-03T23:00:00.000000000&#x27;,\n",
       "       &#x27;2010-08-04T00:00:00.000000000&#x27;, &#x27;2010-08-04T01:00:00.000000000&#x27;,\n",
       "       &#x27;2010-08-04T02:00:00.000000000&#x27;, &#x27;2010-08-04T03:00:00.000000000&#x27;,\n",
       "       &#x27;2010-08-04T04:00:00.000000000&#x27;, &#x27;2010-08-04T05:00:00.000000000&#x27;,\n",
       "       &#x27;2010-08-04T06:00:00.000000000&#x27;, &#x27;2010-08-04T07:00:00.000000000&#x27;,\n",
       "       &#x27;2010-08-04T08:00:00.000000000&#x27;, &#x27;2010-08-04T09:00:00.000000000&#x27;,\n",
       "       &#x27;2010-08-04T10:00:00.000000000&#x27;, &#x27;2010-08-04T11:00:00.000000000&#x27;,\n",
       "       &#x27;2010-08-04T12:00:00.000000000&#x27;, &#x27;2010-08-04T13:00:00.000000000&#x27;,\n",
       "       &#x27;2010-08-04T14:00:00.000000000&#x27;, &#x27;2010-08-04T15:00:00.000000000&#x27;,\n",
       "       &#x27;2010-08-04T16:00:00.000000000&#x27;, &#x27;2010-08-04T17:00:00.000000000&#x27;,\n",
       "       &#x27;2010-08-04T18:00:00.000000000&#x27;, &#x27;2010-08-04T19:00:00.000000000&#x27;,\n",
       "       &#x27;2010-08-04T20:00:00.000000000&#x27;], dtype=&#x27;datetime64[ns]&#x27;)</pre></div></li></ul></div></li><li class='xr-section-item'><input id='section-649255d5-14c9-44cd-94ea-6165428923b6' class='xr-section-summary-in' type='checkbox'  ><label for='section-649255d5-14c9-44cd-94ea-6165428923b6' class='xr-section-summary' >Indexes: <span>(2)</span></label><div class='xr-section-inline-details'></div><div class='xr-section-details'><ul class='xr-var-list'><li class='xr-var-item'><div class='xr-index-name'><div>ensemble</div></div><div class='xr-index-preview'>PandasIndex</div><div></div><input id='index-2761b743-cabd-4b56-9895-d19da93be7e2' class='xr-index-data-in' type='checkbox'/><label for='index-2761b743-cabd-4b56-9895-d19da93be7e2' title='Show/Hide index repr'><svg class='icon xr-icon-database'><use xlink:href='#icon-database'></use></svg></label><div class='xr-index-data'><pre>PandasIndex(Index([ 0,  1,  2,  3,  4,  5,  6,  7,  8,  9, 10, 11, 12, 13, 14, 15, 16, 17,\n",
       "       18, 19, 20, 21, 22, 23, 24, 25, 26, 27, 28, 29, 30, 31, 32, 33, 34, 35,\n",
       "       36, 37, 38, 39, 40, 41, 42, 43, 44, 45, 46, 47, 48, 49, 50, 51, 52, 53,\n",
       "       54, 55, 56, 57, 58, 59, 60, 61, 62, 63, 64, 65, 66, 67, 68, 69, 70, 71,\n",
       "       72, 73, 74, 75, 76, 77, 78, 79, 80, 81, 82, 83, 84, 85, 86, 87, 88, 89,\n",
       "       90, 91, 92, 93, 94, 95, 96, 97, 98, 99],\n",
       "      dtype=&#x27;int64&#x27;, name=&#x27;ensemble&#x27;))</pre></div></li><li class='xr-var-item'><div class='xr-index-name'><div>time</div></div><div class='xr-index-preview'>PandasIndex</div><div></div><input id='index-de2876f6-4d22-4858-a11c-42ea3e6d9f53' class='xr-index-data-in' type='checkbox'/><label for='index-de2876f6-4d22-4858-a11c-42ea3e6d9f53' title='Show/Hide index repr'><svg class='icon xr-icon-database'><use xlink:href='#icon-database'></use></svg></label><div class='xr-index-data'><pre>PandasIndex(DatetimeIndex([&#x27;2010-08-01 22:00:00&#x27;, &#x27;2010-08-01 23:00:00&#x27;,\n",
       "               &#x27;2010-08-02 00:00:00&#x27;, &#x27;2010-08-02 01:00:00&#x27;,\n",
       "               &#x27;2010-08-02 02:00:00&#x27;, &#x27;2010-08-02 03:00:00&#x27;,\n",
       "               &#x27;2010-08-02 04:00:00&#x27;, &#x27;2010-08-02 05:00:00&#x27;,\n",
       "               &#x27;2010-08-02 06:00:00&#x27;, &#x27;2010-08-02 07:00:00&#x27;,\n",
       "               &#x27;2010-08-02 08:00:00&#x27;, &#x27;2010-08-02 09:00:00&#x27;,\n",
       "               &#x27;2010-08-02 10:00:00&#x27;, &#x27;2010-08-02 11:00:00&#x27;,\n",
       "               &#x27;2010-08-02 12:00:00&#x27;, &#x27;2010-08-02 13:00:00&#x27;,\n",
       "               &#x27;2010-08-02 14:00:00&#x27;, &#x27;2010-08-02 15:00:00&#x27;,\n",
       "               &#x27;2010-08-02 16:00:00&#x27;, &#x27;2010-08-02 17:00:00&#x27;,\n",
       "               &#x27;2010-08-02 18:00:00&#x27;, &#x27;2010-08-02 19:00:00&#x27;,\n",
       "               &#x27;2010-08-02 20:00:00&#x27;, &#x27;2010-08-02 21:00:00&#x27;,\n",
       "               &#x27;2010-08-02 22:00:00&#x27;, &#x27;2010-08-02 23:00:00&#x27;,\n",
       "               &#x27;2010-08-03 00:00:00&#x27;, &#x27;2010-08-03 01:00:00&#x27;,\n",
       "               &#x27;2010-08-03 02:00:00&#x27;, &#x27;2010-08-03 03:00:00&#x27;,\n",
       "               &#x27;2010-08-03 04:00:00&#x27;, &#x27;2010-08-03 05:00:00&#x27;,\n",
       "               &#x27;2010-08-03 06:00:00&#x27;, &#x27;2010-08-03 07:00:00&#x27;,\n",
       "               &#x27;2010-08-03 08:00:00&#x27;, &#x27;2010-08-03 09:00:00&#x27;,\n",
       "               &#x27;2010-08-03 10:00:00&#x27;, &#x27;2010-08-03 11:00:00&#x27;,\n",
       "               &#x27;2010-08-03 12:00:00&#x27;, &#x27;2010-08-03 13:00:00&#x27;,\n",
       "               &#x27;2010-08-03 14:00:00&#x27;, &#x27;2010-08-03 15:00:00&#x27;,\n",
       "               &#x27;2010-08-03 16:00:00&#x27;, &#x27;2010-08-03 17:00:00&#x27;,\n",
       "               &#x27;2010-08-03 18:00:00&#x27;, &#x27;2010-08-03 19:00:00&#x27;,\n",
       "               &#x27;2010-08-03 20:00:00&#x27;, &#x27;2010-08-03 21:00:00&#x27;,\n",
       "               &#x27;2010-08-03 22:00:00&#x27;, &#x27;2010-08-03 23:00:00&#x27;,\n",
       "               &#x27;2010-08-04 00:00:00&#x27;, &#x27;2010-08-04 01:00:00&#x27;,\n",
       "               &#x27;2010-08-04 02:00:00&#x27;, &#x27;2010-08-04 03:00:00&#x27;,\n",
       "               &#x27;2010-08-04 04:00:00&#x27;, &#x27;2010-08-04 05:00:00&#x27;,\n",
       "               &#x27;2010-08-04 06:00:00&#x27;, &#x27;2010-08-04 07:00:00&#x27;,\n",
       "               &#x27;2010-08-04 08:00:00&#x27;, &#x27;2010-08-04 09:00:00&#x27;,\n",
       "               &#x27;2010-08-04 10:00:00&#x27;, &#x27;2010-08-04 11:00:00&#x27;,\n",
       "               &#x27;2010-08-04 12:00:00&#x27;, &#x27;2010-08-04 13:00:00&#x27;,\n",
       "               &#x27;2010-08-04 14:00:00&#x27;, &#x27;2010-08-04 15:00:00&#x27;,\n",
       "               &#x27;2010-08-04 16:00:00&#x27;, &#x27;2010-08-04 17:00:00&#x27;,\n",
       "               &#x27;2010-08-04 18:00:00&#x27;, &#x27;2010-08-04 19:00:00&#x27;,\n",
       "               &#x27;2010-08-04 20:00:00&#x27;],\n",
       "              dtype=&#x27;datetime64[ns]&#x27;, name=&#x27;time&#x27;, freq=&#x27;h&#x27;))</pre></div></li></ul></div></li><li class='xr-section-item'><input id='section-ced1490b-64f2-483a-af6a-b36f27d5a3df' class='xr-section-summary-in' type='checkbox' disabled ><label for='section-ced1490b-64f2-483a-af6a-b36f27d5a3df' class='xr-section-summary'  title='Expand/collapse section'>Attributes: <span>(0)</span></label><div class='xr-section-inline-details'></div><div class='xr-section-details'><dl class='xr-attrs'></dl></div></li></ul></div></div>"
      ],
      "text/plain": [
       "<xarray.DataArray (ensemble: 100, time: 71)> Size: 57kB\n",
       "array([[0.8898914 , 0.97225084, 1.05916427, ..., 0.76254716, 0.6787237 ,\n",
       "        0.6702664 ],\n",
       "       [0.63547795, 0.62744525, 0.61985413, ..., 0.47899561, 0.48934704,\n",
       "        0.49825249],\n",
       "       [0.62397353, 0.61255692, 0.60179053, ..., 0.41359509, 0.4271383 ,\n",
       "        0.43487164],\n",
       "       ...,\n",
       "       [0.61988133, 0.6072754 , 0.59540094, ..., 0.48367713, 0.47991112,\n",
       "        0.47624805],\n",
       "       [0.61967395, 0.60698496, 0.59505003, ..., 0.46636062, 0.46183589,\n",
       "        0.45746333],\n",
       "       [0.61967228, 0.60698117, 0.59504373, ..., 0.34924574, 0.34735597,\n",
       "        0.34549876]], shape=(100, 71))\n",
       "Coordinates:\n",
       "  * ensemble  (ensemble) int64 800B 0 1 2 3 4 5 6 7 ... 92 93 94 95 96 97 98 99\n",
       "  * time      (time) datetime64[ns] 568B 2010-08-01T22:00:00 ... 2010-08-04T2..."
      ]
     },
     "execution_count": 32,
     "metadata": {},
     "output_type": "execute_result"
    }
   ],
   "source": [
    "flow_forecasts"
   ]
  },
  {
   "cell_type": "code",
   "execution_count": 33,
   "id": "41",
   "metadata": {
    "execution": {
     "iopub.execute_input": "2025-02-17T03:58:47.792924Z",
     "iopub.status.busy": "2025-02-17T03:58:47.792569Z",
     "iopub.status.idle": "2025-02-17T03:58:47.801354Z",
     "shell.execute_reply": "2025-02-17T03:58:47.800953Z"
    }
   },
   "outputs": [],
   "source": [
    "q = flow_forecasts.quantile([0.05, .25, .5, .75, 0.95], 'ensemble')"
   ]
  },
  {
   "cell_type": "code",
   "execution_count": 34,
   "id": "42",
   "metadata": {
    "execution": {
     "iopub.execute_input": "2025-02-17T03:58:47.803520Z",
     "iopub.status.busy": "2025-02-17T03:58:47.803232Z",
     "iopub.status.idle": "2025-02-17T03:58:47.952300Z",
     "shell.execute_reply": "2025-02-17T03:58:47.951622Z"
    }
   },
   "outputs": [
    {
     "data": {
      "image/png": "[encoded data removed]",
      "text/plain": [
       "<Figure size 1600x900 with 1 Axes>"
      ]
     },
     "metadata": {},
     "output_type": "display_data"
    }
   ],
   "source": [
    "fig, ax = plt.subplots(figsize=(16,9))\n",
    "ax.fill_between(q.time.values, q.sel(quantile=0.05), q.sel(quantile=0.95), alpha=0.3, label='Perc. 50-95')\n",
    "ax.fill_between(q.time.values, q.sel(quantile=0.25), q.sel(quantile=.75), alpha=0.5, label='Perc. 25-75')\n",
    "ax._get_lines.get_next_color()  # Hack to get different line\n",
    "ax.plot(q.time.values, q.sel(quantile=.5), linewidth=2, label='Median')\n",
    "ax.legend()\n",
    "plt.show()"
   ]
  },
  {
   "cell_type": "code",
   "execution_count": null,
   "id": "43",
   "metadata": {},
   "outputs": [],
   "source": []
  },
  {
   "cell_type": "code",
   "execution_count": null,
   "id": "44",
   "metadata": {},
   "outputs": [],
   "source": []
  }
 ],
 "metadata": {
  "jupytext": {
   "cell_metadata_filter": "tags,eval,name,-all",
   "formats": "ipynb,py:percent",
   "main_language": "R"
  },
  "kernelspec": {
   "display_name": "hydrofc",
   "language": "python",
   "name": "hydrofc"
  },
  "language_info": {
   "codemirror_mode": {
    "name": "ipython",
    "version": 3
   },
   "file_extension": ".py",
   "mimetype": "text/x-python",
   "name": "python",
   "nbconvert_exporter": "python",
   "pygments_lexer": "ipython3",
   "version": "3.11.11"
  }
 },
 "nbformat": 4,
 "nbformat_minor": 5
}
